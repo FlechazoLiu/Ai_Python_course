{
 "cells": [
  {
   "metadata": {},
   "cell_type": "code",
   "outputs": [],
   "execution_count": null,
   "source": "",
   "id": "d2915719dc623599"
  },
  {
   "metadata": {},
   "cell_type": "markdown",
   "source": [
    "# 前言\n",
    "本套笔记是笔者在2025年上半年学习中国人民大学**人工智能与Python程序设计课**的课堂笔记整理,主要内容是老师上课讲述的内容,其中与\"Python_Self_Learning\"重复的部分均已略去,主要保留了课堂上的一些拓展知识,例子,习题练习以及大作业,以这些为材料,笔者形成的思考与总结.笔者建议读者将本笔记与\"Python_Self_Learning\"结合学习,达到最好的效果.若需要短时间速成,则只参考\"Python_Self_Learning\"即可.本笔记不保证知识体系的完整性及连贯性,注重拓展与延伸."
   ],
   "id": "92ef6792f517f3b6"
  }
 ],
 "metadata": {
  "kernelspec": {
   "display_name": "Python 3",
   "language": "python",
   "name": "python3"
  },
  "language_info": {
   "codemirror_mode": {
    "name": "ipython",
    "version": 2
   },
   "file_extension": ".py",
   "mimetype": "text/x-python",
   "name": "python",
   "nbconvert_exporter": "python",
   "pygments_lexer": "ipython2",
   "version": "2.7.6"
  }
 },
 "nbformat": 4,
 "nbformat_minor": 5
}
