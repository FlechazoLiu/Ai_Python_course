{
 "cells": [
  {
   "metadata": {},
   "cell_type": "code",
   "outputs": [],
   "execution_count": null,
   "source": "",
   "id": "6ad87e8361c04219"
  },
  {
   "metadata": {},
   "cell_type": "markdown",
   "source": "",
   "id": "d094a2b89336723b"
  },
  {
   "metadata": {},
   "cell_type": "markdown",
   "source": "## 温度转换",
   "id": "df97e98cc8de4d87"
  },
  {
   "metadata": {
    "ExecuteTime": {
     "end_time": "2025-03-17T04:39:51.338892Z",
     "start_time": "2025-03-17T04:39:45.980742Z"
    }
   },
   "cell_type": "code",
   "source": [
    "TempStr = input(\"请输入带有符号的温度值:\")\n",
    "if TempStr[-1] in {'F',\"f\"}:\n",
    "    C = (eval(TempStr[:-1])-32)/1.8\n",
    "    print(\"转化后的温度:{:.2f}C\".format(C))   #字符串格式化\n",
    "    #完整语法结构： { [字段名] : [格式规则] }\n",
    "elif TempStr[-1] in {'C',\"c\"}:\n",
    "    F = (eval(TempStr[:-1]) * 1.8) + 32\n",
    "    print(\"转换后的温度是:{:.2f}F\".format(F))\n",
    "else:\n",
    "    print(\"输入格式错误!\")"
   ],
   "id": "dd55541488fc8531",
   "outputs": [
    {
     "name": "stdout",
     "output_type": "stream",
     "text": [
      "转换后的温度是:77.00F\n"
     ]
    }
   ],
   "execution_count": 3
  },
  {
   "metadata": {},
   "cell_type": "markdown",
   "source": [
    "## 程序的格式框架\n",
    "Python语言采用严格的“缩进”来表明程序的格式框架。\n",
    "缩进指每一行代码开始前的空白区域，建议用Tab键表示缩进\n",
    "1个缩进=4个空格\n",
    "用以在Python中标明代码的层次关系\n",
    "缩进是Python语言中表明程序框架的唯一手段\n",
    "其它语言如C和Java用大括号{ }表示\n",
    "缩进可以有多层，以表示更复杂的逻辑关系\n",
    "\n",
    "\n",
    "Python的注释以#号开头，#号之后一直到一行末尾的所有字符，都是注释的一部分，Python解释器将忽略它们，不予执行。\n",
    "多行注释以 ’’’开头和结尾（做大段地说明）\n",
    "\n"
   ],
   "id": "d4545f8975c51a2d"
  },
  {
   "metadata": {
    "ExecuteTime": {
     "end_time": "2025-03-17T04:48:54.610111Z",
     "start_time": "2025-03-17T04:48:54.604969Z"
    }
   },
   "cell_type": "code",
   "source": [
    "word = \"hola\"\n",
    "num = 5.88\n",
    "print(\"%s, there are %d people and %d seats!\" % (word, num, num))\n",
    "# 可以通过%选择要输出的变量,并控制格式."
   ],
   "id": "c97740cebaaafd9e",
   "outputs": [
    {
     "name": "stdout",
     "output_type": "stream",
     "text": [
      "hola, there are 5 people and 5 seats!\n"
     ]
    }
   ],
   "execution_count": 7
  },
  {
   "metadata": {},
   "cell_type": "markdown",
   "source": [
    "## turtle库\n",
    "\n",
    "### 构建画板\n",
    "t.setup(width=_CFG[\"width\"], height=_CFG[\"height\"], startx=_CFG[\"leftright\"],  starty=_CFG[\"topbottom\"])\n",
    "设置主窗口的大小和位置。\n",
    "width -- 默认为屏幕的 50%\n",
    "height -- 默认为屏幕的 75%\n",
    "startx -- 表示初始位置距离屏幕左边缘多少像素\n",
    "starty -- 表示初始位置距离屏幕上边缘多少像素\n",
    "\n",
    "### 画笔控制\n",
    "t.penup()：提笔，不留笔迹\n",
    "t.pendown()：下笔，开始画\n",
    "t.pensize(width)：画笔宽度\n",
    "t.pencolor( )：画笔颜色\n",
    "- 颜色值 RBG t.pencolor(0.63, 0.13, 0.94)\n",
    "\n",
    "### 画笔运动\n",
    "t.fd(d) 海龟前进distance指定的距离，方向为海龟的朝向。\n",
    "t.circle(radius, extent=None) 绘制一个radius指定半径的圆，圆心在海龟左边radius个单位；extent为一个夹角，用来决定绘制圆的一部分\n",
    "\n",
    "### 方向控制\n",
    "turtle.seth(to_angle) 设置海龟的朝向为 to_angle\n",
    "turtle.left (angle ) 海龟向左转\n",
    "turtle.right (angle) 海龟向右转  \n",
    "\n"
   ],
   "id": "b4cef0731b9e253d"
  }
 ],
 "metadata": {
  "kernelspec": {
   "display_name": "Python 3",
   "language": "python",
   "name": "python3"
  },
  "language_info": {
   "codemirror_mode": {
    "name": "ipython",
    "version": 2
   },
   "file_extension": ".py",
   "mimetype": "text/x-python",
   "name": "python",
   "nbconvert_exporter": "python",
   "pygments_lexer": "ipython2",
   "version": "2.7.6"
  }
 },
 "nbformat": 4,
 "nbformat_minor": 5
}
