{
 "cells": [
  {
   "metadata": {},
   "cell_type": "code",
   "outputs": [],
   "execution_count": null,
   "source": "",
   "id": "8511ca65272afeb5"
  },
  {
   "metadata": {},
   "cell_type": "markdown",
   "source": [
    "## 浮点数\n",
    "带有小数点及小数位的数\n",
    "Python语言中对浮点数的表示存在限制\n",
    "- 数值范围存在限制（上溢出，overflow）\n",
    "- 小数精度也存在限制（下溢出，underflow）\n",
    "\n",
    "这种限制与在不同计算机系统有关\n",
    "\n",
    "科学计数法：使用字母“e”或者“E”作为幂的符号，以10为基数\n",
    "科学计数法含义： a E b = a * 10b\n",
    "\n",
    "## 复数\n",
    "与数学中复数的概念一致\n",
    "𝑎 + 𝑏𝑗,   𝑗=√(−1)\n",
    "𝑎: 实部，𝑏：虚部\n",
    "z.real ：获取实部\n",
    "z.imag：获取虚部\n",
    "\n",
    "## 数字类型的操作\n",
    "不同数字类型之间可以进行混合运算，运算后生成结果为最宽类型\n",
    "- “/”总是返回浮点数\n",
    "\n",
    "\n",
    "\n",
    "\n"
   ],
   "id": "b9adb9afac7aefe8"
  },
  {
   "metadata": {
    "ExecuteTime": {
     "end_time": "2025-03-17T05:03:04.329027Z",
     "start_time": "2025-03-17T05:03:04.317326Z"
    }
   },
   "cell_type": "code",
   "source": "1 / 2",
   "id": "a4c0b9dd18d9c53",
   "outputs": [
    {
     "data": {
      "text/plain": [
       "0.5"
      ]
     },
     "execution_count": 1,
     "metadata": {},
     "output_type": "execute_result"
    }
   ],
   "execution_count": 1
  },
  {
   "metadata": {
    "ExecuteTime": {
     "end_time": "2025-03-17T05:03:09.066034Z",
     "start_time": "2025-03-17T05:03:09.059838Z"
    }
   },
   "cell_type": "code",
   "source": "4 / 2",
   "id": "c8629682ee814ae0",
   "outputs": [
    {
     "data": {
      "text/plain": [
       "2.0"
      ]
     },
     "execution_count": 2,
     "metadata": {},
     "output_type": "execute_result"
    }
   ],
   "execution_count": 2
  },
  {
   "metadata": {
    "ExecuteTime": {
     "end_time": "2025-03-17T05:04:21.760171Z",
     "start_time": "2025-03-17T05:04:21.755129Z"
    }
   },
   "cell_type": "code",
   "source": [
    "print(divmod(5,3))      # 带余除法,返回商和余数\n",
    "print(abs(-2))"
   ],
   "id": "ba0a5e9a95e83b43",
   "outputs": [
    {
     "name": "stdout",
     "output_type": "stream",
     "text": [
      "(1, 2)\n",
      "2\n"
     ]
    }
   ],
   "execution_count": 3
  },
  {
   "metadata": {},
   "cell_type": "markdown",
   "source": [
    "## math库\n",
    "![库中函数](./pictures/math_1.jpg)\n",
    "![库中函数](./pictures/math_2.jpg)\n",
    "![库中函数](./pictures/math_3.jpg)\n",
    "![库中函数](./pictures/math_4.jpg)"
   ],
   "id": "c15ffc4a4a121d02"
  },
  {
   "metadata": {},
   "cell_type": "markdown",
   "source": [
    "## 运算符优先级\n",
    "优先级顺序：\n",
    "括号：( )\n",
    "一元运算：+ ，-\n",
    "幂次：**\n",
    "算术运算：* ，/ ，%，//\n",
    "算术运算：+ ，-\n",
    "比较运算：== ， !=，  <>   <=   >=\n",
    "逻辑非：not\n",
    "逻辑与：and\n",
    "逻辑或：or\n",
    "赋值运算：=, *=, /=,+=,-=,%=,//=\n"
   ],
   "id": "d2b68fe6a1570497"
  },
  {
   "metadata": {},
   "cell_type": "markdown",
   "source": [
    "## format 更加高级的用法：格式控制\n",
    "槽的内部样式如下：{<参数序号>: <格式控制标记>}\n",
    "参数序号表示从第几个参数中取值\n",
    "格式控制标记用来控制参数显示时的格式，包括：\n",
    "- <填充><对齐><宽度>,<.精度><类型>6个字段\n",
    "- 字段都是可选的，可以组合使用\n"
   ],
   "id": "76139529c8742e5"
  },
  {
   "metadata": {
    "ExecuteTime": {
     "end_time": "2025-03-17T05:19:08.170767Z",
     "start_time": "2025-03-17T05:19:08.165968Z"
    }
   },
   "cell_type": "code",
   "source": [
    "pattern = \"{0:*^20,.2f}这个数字实现了所有的{1:->10s}\"\n",
    "string = pattern.format(11000,\"格式化\")\n",
    "print(string)"
   ],
   "id": "137b4fd88bf6a483",
   "outputs": [
    {
     "name": "stdout",
     "output_type": "stream",
     "text": [
      "*****11,000.00******这个数字实现了所有的-------格式化\n"
     ]
    }
   ],
   "execution_count": 10
  },
  {
   "metadata": {},
   "cell_type": "markdown",
   "source": "## 实现动态刷新的进度条",
   "id": "190af2a38d7f86cf"
  },
  {
   "metadata": {
    "ExecuteTime": {
     "end_time": "2025-03-17T05:29:16.632684Z",
     "start_time": "2025-03-17T05:29:05.620767Z"
    }
   },
   "cell_type": "code",
   "source": [
    "import time\n",
    "scale = 10\n",
    "print(\"{:-^30}\".format(\"执行开始\"))\n",
    "for i in range(scale + 1):\n",
    "    a = \"**\" * i\n",
    "    b = \"..\" * (scale - i)\n",
    "    c = (i / scale) * 100\n",
    "    print(\"\\r{0:3.0f}%[{1}->{2}]\".format(c, a, b),end = '')\n",
    "    time.sleep(1)\n",
    "print(\"\\n{:-^30}\".format(\"执行结束\"))"
   ],
   "id": "ad7b8714f8fd2055",
   "outputs": [
    {
     "name": "stdout",
     "output_type": "stream",
     "text": [
      "-------------执行开始-------------\n",
      "100%[********************->]\n",
      "-------------执行结束-------------\n"
     ]
    }
   ],
   "execution_count": 26
  },
  {
   "metadata": {},
   "cell_type": "markdown",
   "source": "## 异常处理\n",
   "id": "2b8953da898b4983"
  },
  {
   "metadata": {
    "ExecuteTime": {
     "end_time": "2025-03-17T05:48:58.533003Z",
     "start_time": "2025-03-17T05:48:56.551869Z"
    }
   },
   "cell_type": "code",
   "source": [
    "try:\n",
    "    num = eval(input(\"请输入一个整数:\"))\n",
    "    print(num ** 2)\n",
    "except:         # 捕捉所有异常\n",
    "    print(\"输入的不是一个整数\")"
   ],
   "id": "eb32c054facc15cf",
   "outputs": [
    {
     "name": "stdout",
     "output_type": "stream",
     "text": [
      "输入的不是一个整数\n"
     ]
    }
   ],
   "execution_count": 31
  },
  {
   "metadata": {
    "ExecuteTime": {
     "end_time": "2025-03-17T05:50:15.402428Z",
     "start_time": "2025-03-17T05:50:12.813434Z"
    }
   },
   "cell_type": "code",
   "source": [
    "try:\n",
    "    num = eval(input('请输入一个整数'))\n",
    "    print(num ** 2)\n",
    "except NameError:           # 捕捉特定类型的异常\n",
    "    print(\"输入的不是一个整数\")"
   ],
   "id": "2bc7b38dbd2a93ed",
   "outputs": [
    {
     "name": "stdout",
     "output_type": "stream",
     "text": [
      "输入的不是一个整数\n"
     ]
    }
   ],
   "execution_count": 32
  },
  {
   "metadata": {},
   "cell_type": "markdown",
   "source": [
    "高级使用:\n",
    "try:\n",
    "-     <正常程序块>\n",
    "except:\n",
    "-     <发生异常执行>\n",
    "else:\n",
    "-     <不发生异常执行>\n",
    "finally:\n",
    "-     <一定执行>"
   ],
   "id": "93d63fb2747c61aa"
  },
  {
   "metadata": {},
   "cell_type": "markdown",
   "source": "## 各种方法求圆周率",
   "id": "3337dc4f0be25505"
  },
  {
   "metadata": {
    "ExecuteTime": {
     "end_time": "2025-03-17T06:30:14.829995Z",
     "start_time": "2025-03-17T06:30:08.369626Z"
    }
   },
   "cell_type": "code",
   "source": [
    "import random\n",
    "import math\n",
    "def leibniz(rounds):\n",
    "    s = 0\n",
    "    r = 1\n",
    "    for i in range(rounds):\n",
    "        s = s + 1 / (2 * i + 1) * r\n",
    "        r = - r\n",
    "    print( 4 * s )\n",
    "\n",
    "def Monte_Carlo(rounds):\n",
    "    hits = 0\n",
    "    for i in range(1, rounds + 1):\n",
    "        x,y = random.random(), random.random()\n",
    "        r = math.sqrt(x * x + y * y)\n",
    "        if r < 1:\n",
    "            hits += 1\n",
    "    print(4 * hits / rounds )\n",
    "\n",
    "def Nilakantha(rounds):\n",
    "    s = 3\n",
    "    r = 1\n",
    "    for i in range(1, rounds + 2):\n",
    "        s += 4 / (2*i * (2*i + 1) * (2*i + 2)) * r\n",
    "        r = - r\n",
    "    print(s)\n",
    "def func(choice,p):\n",
    "    if choice == 1:\n",
    "        f = leibniz\n",
    "    elif choice == 2:\n",
    "        f = Monte_Carlo\n",
    "    elif choice == 3:\n",
    "        f = Nilakantha\n",
    "    f(p)\n",
    "\n",
    "\n",
    "choice = int(input(\"Which method do you use(1 for leibniz/2 for Monte Carlo/3 for Nilakantha):\"))\n",
    "p = int(input(\"How many rounds do you want:\"))\n",
    "print(\"pi is around \",end=\"\")\n",
    "\n",
    "func(choice,p)"
   ],
   "id": "c1e11da91cd79866",
   "outputs": [
    {
     "name": "stdout",
     "output_type": "stream",
     "text": [
      "pi is around 3.13888\n"
     ]
    }
   ],
   "execution_count": 38
  },
  {
   "metadata": {},
   "cell_type": "markdown",
   "source": [
    "## random库\n",
    "random 模块方法如下：\n",
    "\n",
    "方法\t描述\n",
    "- seed()\t初始化随机数生成器\n",
    "- getrandbits(k)\t返回具有 k 个随机比特位的非负 Python 整数。 此方法随 MersenneTwister 生成器一起提供，其他一些生成器也可能将其作为 API 的可选部分提供。 在可能的情况下，getrandbits() 会启用 randrange() 来处理任意大的区间。\n",
    "- randrange()\t从 range(start, stop, step) 返回一个随机选择的元素。\n",
    "- randint(a, b)\t返回随机整数 N 满足 a <= N <= b。\n",
    "- choice(seq)\t从非空序列 seq 返回一个随机元素。 如果 seq 为空，则引发 IndexError。\n",
    "- shuffle(x)\t将序列 x 随机打乱位置。\n",
    "- sample(population, k, *, counts=None)\t返回从总体序列或集合中选择的唯一元素的 k 长度列表。 用于无重复的随机抽样。\n",
    "- random()\t返回 [0.0, 1.0) 范围内的下一个随机浮点数。\n",
    "- uniform(a,b)\t返回一个随机浮点数 N ，当 a <= b 时 a <= N <= b ，当 b < a 时 b <= N <= a 。\n",
    "\n",
    "\n",
    "以下暂不要求掌握:\n",
    "- triangular(low, high, mode)\t返回一个随机浮点数 N ，使得 low <= N <= high 并在这些边界之间使用指定的 mode 。 low 和 high 边界默认为零和一。 mode 参数默认为边界之间的中点，给出对称分布。\n",
    "- betavariate(alpha, beta)\tBeta 分布。 参数的条件是 alpha > 0 和 beta > 0。 返回值的范围介于 0 和 1 之间。\n",
    "- expovariate(lambd)\t指数分布。 lambd 是 1.0 除以所需的平均值，它应该是非零的。\n",
    "- gammavariate()\tGamma 分布（ 不是伽马函数） 参数的条件是 alpha > 0 和 beta > 0。\n",
    "- gauss(mu, sigma)\t正态分布，也称高斯分布。 mu 为平均值，而 sigma 为标准差。 此函数要稍快于下面所定义的 normalvariate() 函数。\n",
    "- lognormvariate(mu, sigma)\t对数正态分布。 如果你采用这个分布的自然对数，你将得到一个正态分布，平均值为 mu 和标准差为 sigma 。 mu 可以是任何值，sigma 必须大于零。\n",
    "- normalvariate(mu, sigma)\t正态分布。 mu 是平均值，sigma 是标准差。\n",
    "- vonmisesvariate(mu, kappa)\t冯·米塞斯分布。 mu 是平均角度，以弧度表示，介于0和 2*pi 之间，kappa 是浓度参数，必须大于或等于零。 如果 kappa 等于零，则该分布在 0 到 2*pi 的范围内减小到均匀的随机角度。\n",
    "- paretovariate(alpha)\t帕累托分布。 alpha 是形状参数。\n",
    "- weibullvariate(alpha, beta)\t威布尔分布。 alpha 是比例参数，beta 是形状参数。\n"
   ],
   "id": "c6ff0aae80188939"
  },
  {
   "metadata": {
    "ExecuteTime": {
     "end_time": "2025-03-17T11:44:11.406735Z",
     "start_time": "2025-03-17T11:44:11.400683Z"
    }
   },
   "cell_type": "code",
   "source": [
    "import random\n",
    "random.random()"
   ],
   "id": "6cbc4a8cda874cb3",
   "outputs": [
    {
     "data": {
      "text/plain": [
       "0.9801931241316181"
      ]
     },
     "execution_count": 25,
     "metadata": {},
     "output_type": "execute_result"
    }
   ],
   "execution_count": 25
  }
 ],
 "metadata": {
  "kernelspec": {
   "display_name": "Python 3",
   "language": "python",
   "name": "python3"
  },
  "language_info": {
   "codemirror_mode": {
    "name": "ipython",
    "version": 2
   },
   "file_extension": ".py",
   "mimetype": "text/x-python",
   "name": "python",
   "nbconvert_exporter": "python",
   "pygments_lexer": "ipython2",
   "version": "2.7.6"
  }
 },
 "nbformat": 4,
 "nbformat_minor": 5
}
