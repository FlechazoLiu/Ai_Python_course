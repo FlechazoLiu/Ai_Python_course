{
 "cells": [
  {
   "metadata": {},
   "cell_type": "code",
   "outputs": [],
   "execution_count": null,
   "source": "",
   "id": "c5c55fe7e91d57ad"
  },
  {
   "metadata": {},
   "cell_type": "markdown",
   "source": [
    "## lambda函数\n",
    "lambda保留字：用来定义一种特殊的函数——匿名函数，又称lambda函数。\n",
    "\n",
    "匿名函数并非没有名字，而是将函数名作为函数结果返回：\n",
    "<函数名> = lambda <参数列表>: <表达式>\n",
    "\n",
    "lambda函数与正常函数一样，等价于下面形式\n",
    "```Python\n",
    "def <函数名>(<参数列表>):\n",
    "    return <表达式>\n",
    "```\n"
   ],
   "id": "dc1693416002fd82"
  },
  {
   "metadata": {
    "ExecuteTime": {
     "end_time": "2025-03-17T11:49:43.942851Z",
     "start_time": "2025-03-17T11:49:43.938224Z"
    }
   },
   "cell_type": "code",
   "source": [
    "f = lambda x, y: x ** y\n",
    "print(type(f))\n",
    "print(f(2,3))"
   ],
   "id": "e55df81b8d61528e",
   "outputs": [
    {
     "name": "stdout",
     "output_type": "stream",
     "text": [
      "<class 'function'>\n",
      "8\n"
     ]
    }
   ],
   "execution_count": 2
  },
  {
   "metadata": {
    "ExecuteTime": {
     "end_time": "2025-03-17T11:50:51.011378Z",
     "start_time": "2025-03-17T11:50:51.006717Z"
    }
   },
   "cell_type": "code",
   "source": [
    "def f():\n",
    "    g()\n",
    "def g():\n",
    "    print(\"This is g\")\n",
    "f()"
   ],
   "id": "f6343260c014e352",
   "outputs": [
    {
     "name": "stdout",
     "output_type": "stream",
     "text": [
      "This is g\n"
     ]
    }
   ],
   "execution_count": 3
  },
  {
   "metadata": {},
   "cell_type": "markdown",
   "source": [
    "这段代码反映了Python的 **运行时名字解析（动态绑定）** 特性，具体表现为：\n",
    "\n",
    "---\n",
    "\n",
    "### 一、核心特点：**后定义函数可被前定义函数调用**\n",
    "```python\n",
    "def f():    # 此时g尚未定义\n",
    "    g()     # 但函数体中的g在调用时才解析\n",
    "\n",
    "def g():    # g的定义在f之后\n",
    "    print(\"This is g\")\n",
    "\n",
    "f()         # 执行时g已存在 → 正常调用\n",
    "```\n",
    "\n",
    "---\n",
    "\n",
    "### 二、原理分析\n",
    "1. **函数定义顺序无关性**\n",
    "   Python的函数体代码在 **定义时不会执行**，只有在 **调用时才会执行**。当`f()`被调用时，解释器才会解析`g()`，而此时`g`已经被定义。\n",
    "\n",
    "2. **名字解析机制**\n",
    "   Python使用 **动态名字查找（dynamic name lookup）**：\n",
    "   - 在`f`被调用时，才会在当前作用域链中查找`g`\n",
    "   - 此时`g`已存在于全局命名空间 → 调用成功\n",
    "\n",
    "3. **对比静态语言**\n",
    "   如C语言要求前向声明：\n",
    "   ```c\n",
    "   void g(); // 必须前置声明\n",
    "   void f() { g(); }\n",
    "   void g() { printf(\"This is g\"); }\n",
    "   ```\n",
    "\n",
    "---\n",
    "\n",
    "### 三、潜在风险验证\n",
    "若`g`未定义时调用`f`，会触发 **NameError**：\n",
    "```python\n",
    "def f():\n",
    "    g()  # 此时g未定义\n",
    "\n",
    "f()     # 报错 NameError: name 'g' is not defined\n",
    "```\n",
    "\n",
    "---\n",
    "\n",
    "### 四、深层机制\n",
    "1. **字节码验证**\n",
    "   通过`dis`模块查看`f`的字节码：\n",
    "   ```python\n",
    "   import dis\n",
    "   dis.dis(f)\n",
    "   ```\n",
    "   输出关键部分：\n",
    "   ```\n",
    "   2 LOAD_GLOBAL              0 (g)  # 运行时动态查找全局g\n",
    "   4 CALL_FUNCTION            0\n",
    "   ```\n",
    "   证明`g`的查找发生在 **函数执行时**，而非定义时。\n",
    "\n",
    "2. **作用域链规则**\n",
    "   Python按照 LEGB 规则查找变量：\n",
    "   - **L**ocal → **E**nclosing → **G**lobal → **B**uilt-in\n",
    "   - 本案例中`g`属于全局（Global）作用域\n",
    "\n",
    "---\n",
    "\n",
    "### 五、典型应用场景\n",
    "1. **相互递归调用**\n",
    "   ```python\n",
    "   def f(n):\n",
    "       if n>0: g(n-1)  # 调用后定义的g\n",
    "\n",
    "   def g(n):\n",
    "       if n>0: f(n-1)  # 调用先定义的f\n",
    "   ```\n",
    "\n",
    "2. **插件式架构**\n",
    "   ```python\n",
    "   def process_data():\n",
    "       plugin()  # 具体实现在后续定义\n",
    "\n",
    "   # 根据需求动态加载插件\n",
    "   if use_plugin_A:\n",
    "       def plugin(): ...\n",
    "   else:\n",
    "       def plugin(): ...\n",
    "   ```\n",
    "\n",
    "---\n",
    "\n",
    "### 六、总结对比\n",
    "| 特性                | Python          | C/Java等静态语言  |\n",
    "|---------------------|-----------------|------------------|\n",
    "| 函数定义顺序         | 无关            | 必须前向声明     |\n",
    "| 名字解析时机         | 运行时动态解析  | 编译时静态检查   |\n",
    "| 函数体执行时机       | 调用时执行      | 编译时生成指令   |\n",
    "| 错误检测             | 运行时NameError | 编译时报错       |\n",
    "\n",
    "这种设计让Python具有更强的灵活性，但也要求开发者更注意 **执行时序** 和 **作用域管理**。"
   ],
   "id": "aa3bf397c0582f69"
  },
  {
   "metadata": {},
   "cell_type": "markdown",
   "source": [
    "# 可选参数\n",
    "在定义函数时，有些参数可以存在默认值\n",
    "函数被调用时，如果没有传入对应的参数值，则使用函数定义时的默认值代替\n",
    "可选参数必须定义在非可选参数后面\n"
   ],
   "id": "d5165d718ac80da3"
  },
  {
   "metadata": {
    "ExecuteTime": {
     "end_time": "2025-03-17T11:55:46.966696Z",
     "start_time": "2025-03-17T11:55:46.961297Z"
    }
   },
   "cell_type": "code",
   "source": [
    "def ask(name,q=\"How are you?\"):\n",
    "    print(q,name,\"?\")\n",
    "ask(\"James\")"
   ],
   "id": "cf85bfb99dad10ae",
   "outputs": [
    {
     "name": "stdout",
     "output_type": "stream",
     "text": [
      "How are you? James ?\n"
     ]
    }
   ],
   "execution_count": 5
  },
  {
   "metadata": {
    "ExecuteTime": {
     "end_time": "2025-03-17T11:56:06.163464Z",
     "start_time": "2025-03-17T11:56:06.157570Z"
    }
   },
   "cell_type": "code",
   "source": [
    "def ask(q=\"How are you?\",name):\n",
    "    print(q,name,\"?\")\n",
    "ask(\"James\")"
   ],
   "id": "98a92b8bf0d8bcf0",
   "outputs": [
    {
     "ename": "SyntaxError",
     "evalue": "parameter without a default follows parameter with a default (1024585901.py, line 1)",
     "output_type": "error",
     "traceback": [
      "\u001B[1;36m  Cell \u001B[1;32mIn[6], line 1\u001B[1;36m\u001B[0m\n\u001B[1;33m    def ask(q=\"How are you?\",name):\u001B[0m\n\u001B[1;37m                             ^\u001B[0m\n\u001B[1;31mSyntaxError\u001B[0m\u001B[1;31m:\u001B[0m parameter without a default follows parameter with a default\n"
     ]
    }
   ],
   "execution_count": 6
  },
  {
   "metadata": {},
   "cell_type": "markdown",
   "source": [
    "## Python解释器是如何在函数内找到变量对应的值的？\n",
    "- 首先在局部变量中查找\n",
    "- 若找不到，则到上一级代码块中查找\n",
    "- 最后会找到在没有缩进的代码块中定义的全局变量\n",
    "- 若在函数内对变量进行赋值操作，则默认该变量是一个局部变量\n",
    "- 使用global语句，可以改变赋值操作的默认行为，不生成局部变量\n",
    "- 这样在函数内部就可以通过赋值语句更改全局变量的值了\n",
    "- 产生新问题：一个变量可以既是全局变量又是局部变量？\n",
    "- Python禁止了这种行为，抛出UnboundLocalError异常\n"
   ],
   "id": "25908dfbd4da6a3d"
  },
  {
   "metadata": {
    "ExecuteTime": {
     "end_time": "2025-03-17T12:02:52.702528Z",
     "start_time": "2025-03-17T12:02:52.674083Z"
    }
   },
   "cell_type": "code",
   "source": [
    "name = \"James\"\n",
    "def f():\n",
    "    print(name)         # 这里是全局变量\n",
    "    name = 'O.Henry'        # 试图创建局部变量\n",
    "f()"
   ],
   "id": "f84a68e3fdb76e71",
   "outputs": [
    {
     "ename": "UnboundLocalError",
     "evalue": "cannot access local variable 'name' where it is not associated with a value",
     "output_type": "error",
     "traceback": [
      "\u001B[1;31m---------------------------------------------------------------------------\u001B[0m",
      "\u001B[1;31mUnboundLocalError\u001B[0m                         Traceback (most recent call last)",
      "Cell \u001B[1;32mIn[11], line 5\u001B[0m\n\u001B[0;32m      3\u001B[0m     \u001B[38;5;28mprint\u001B[39m(name)         \u001B[38;5;66;03m# 这里是全局变量\u001B[39;00m\n\u001B[0;32m      4\u001B[0m     name \u001B[38;5;241m=\u001B[39m \u001B[38;5;124m'\u001B[39m\u001B[38;5;124mO.Henry\u001B[39m\u001B[38;5;124m'\u001B[39m        \u001B[38;5;66;03m# 试图创建局部变量\u001B[39;00m\n\u001B[1;32m----> 5\u001B[0m f()\n",
      "Cell \u001B[1;32mIn[11], line 3\u001B[0m, in \u001B[0;36mf\u001B[1;34m()\u001B[0m\n\u001B[0;32m      2\u001B[0m \u001B[38;5;28;01mdef\u001B[39;00m \u001B[38;5;21mf\u001B[39m():\n\u001B[1;32m----> 3\u001B[0m     \u001B[38;5;28mprint\u001B[39m(name)         \u001B[38;5;66;03m# 这里是全局变量\u001B[39;00m\n\u001B[0;32m      4\u001B[0m     name \u001B[38;5;241m=\u001B[39m \u001B[38;5;124m'\u001B[39m\u001B[38;5;124mO.Henry\u001B[39m\u001B[38;5;124m'\u001B[39m\n",
      "\u001B[1;31mUnboundLocalError\u001B[0m: cannot access local variable 'name' where it is not associated with a value"
     ]
    }
   ],
   "execution_count": 11
  },
  {
   "metadata": {},
   "cell_type": "markdown",
   "source": [
    "## datetime库概述\n",
    "以不同格式显示日期和时间是程序中最常用到的功能。Python提供了一个处理时间的标准函数库datetime，它提供了一系列由简单到复杂的时间处理方法。datetime库可以从系统中获得时间，并以用户选择的格式输出。\n",
    "datetime库以类的方式提供多种日期和时间表达方式：\n",
    "- datetime.date：日期表示类，可以表示年、月、日等\n",
    "- datetime.time：时间表示类，可以表示小时、分钟、秒、毫秒等\n",
    "- datetime.datetime：日期和时间表示的类，功能覆盖date和time类\n",
    "- datetime.timedelta：时间间隔有关的类\n",
    "- datetime.tzinfo：与时区有关的信息表示类\n",
    "\n",
    "from datetime import datetime\n",
    "使用datetime.now()获得当前日期和时间对象，使用方法如下：\n",
    "         ```datetime.now()```\n",
    "作用：返回一个datetime类型，表示当前的日期和时间，精确到微秒\n",
    "\n",
    "\n"
   ],
   "id": "1711662273971fbe"
  },
  {
   "metadata": {
    "ExecuteTime": {
     "end_time": "2025-03-17T12:09:11.034104Z",
     "start_time": "2025-03-17T12:09:11.027860Z"
    }
   },
   "cell_type": "code",
   "source": [
    "from datetime import datetime           # 前一个是模块名,后一个是类名,这里仅导入类名\n",
    "# import datetime      这是导入全部模块\n",
    "datetime.now()"
   ],
   "id": "dac9318337bc8a5d",
   "outputs": [
    {
     "data": {
      "text/plain": [
       "datetime.datetime(2025, 3, 17, 20, 9, 11, 31073)"
      ]
     },
     "execution_count": 23,
     "metadata": {},
     "output_type": "execute_result"
    }
   ],
   "execution_count": 23
  },
  {
   "metadata": {
    "ExecuteTime": {
     "end_time": "2025-03-17T12:15:11.960504Z",
     "start_time": "2025-03-17T12:15:11.953293Z"
    }
   },
   "cell_type": "code",
   "source": [
    "someday = datetime(2025, 3, 14, hour=23, minute=15,second=30,microsecond=20)\n",
    "# 使用datetime()构造一个日期和时间对象\n",
    "someday"
   ],
   "id": "52c45e711e0a3546",
   "outputs": [
    {
     "data": {
      "text/plain": [
       "datetime.datetime(2025, 3, 14, 23, 15, 30, 20)"
      ]
     },
     "execution_count": 32,
     "metadata": {},
     "output_type": "execute_result"
    }
   ],
   "execution_count": 32
  },
  {
   "metadata": {
    "ExecuteTime": {
     "end_time": "2025-03-17T12:11:10.161775Z",
     "start_time": "2025-03-17T12:11:10.156205Z"
    }
   },
   "cell_type": "code",
   "source": [
    "# 为了区别datetime库名，采用上例中的someday代替生成的datetime对象\n",
    "someday.min     # 返回最小时间对象datetime.datetime(1, 1, 1, 0, 0)\n",
    "# 第一个datetime指模块名,第二个指类名"
   ],
   "id": "e44ee354dcc1e642",
   "outputs": [
    {
     "data": {
      "text/plain": [
       "datetime.datetime(1, 1, 1, 0, 0)"
      ]
     },
     "execution_count": 26,
     "metadata": {},
     "output_type": "execute_result"
    }
   ],
   "execution_count": 26
  },
  {
   "metadata": {
    "ExecuteTime": {
     "end_time": "2025-03-17T12:12:21.694330Z",
     "start_time": "2025-03-17T12:12:21.687827Z"
    }
   },
   "cell_type": "code",
   "source": "someday.max",
   "id": "110f66c150ef8183",
   "outputs": [
    {
     "data": {
      "text/plain": [
       "datetime.datetime(9999, 12, 31, 23, 59, 59, 999999)"
      ]
     },
     "execution_count": 27,
     "metadata": {},
     "output_type": "execute_result"
    }
   ],
   "execution_count": 27
  },
  {
   "metadata": {
    "ExecuteTime": {
     "end_time": "2025-03-17T12:15:15.142603Z",
     "start_time": "2025-03-17T12:15:15.136422Z"
    }
   },
   "cell_type": "code",
   "source": [
    "print(someday.year)\n",
    "print(someday.month)\n",
    "print(someday.day)\n",
    "print(someday.hour)\n",
    "print(someday.minute)\n",
    "print(someday.second)\n",
    "print(someday.microsecond)\n",
    "\n",
    "print(someday.weekday())            # 从0开始数,少用         # 返回星期\n",
    "print(someday.isoweekday())         # 从1开始数,符合习惯\n",
    "print(someday.isoformat())"
   ],
   "id": "8051b88fc21e4859",
   "outputs": [
    {
     "name": "stdout",
     "output_type": "stream",
     "text": [
      "2025\n",
      "3\n",
      "14\n",
      "23\n",
      "15\n",
      "30\n",
      "20\n",
      "4\n",
      "5\n",
      "2025-03-14T23:15:30.000020\n"
     ]
    }
   ],
   "execution_count": 33
  },
  {
   "metadata": {},
   "cell_type": "markdown",
   "source": [
    "strftime()格式化控制符\n",
    " ![strftime()格式化控制符\n",
    "](pictures/datetime_strftime.jpg)"
   ],
   "id": "963ad15d5aae5dc0"
  },
  {
   "metadata": {
    "ExecuteTime": {
     "end_time": "2025-03-17T12:27:42.489698Z",
     "start_time": "2025-03-17T12:27:42.484099Z"
    }
   },
   "cell_type": "code",
   "source": "someday.strftime(\"%Y-%b-%d: %A\")            # 高度自定义",
   "id": "a47eee1702e9a7ed",
   "outputs": [
    {
     "data": {
      "text/plain": [
       "'2025-Mar-14: Friday'"
      ]
     },
     "execution_count": 36,
     "metadata": {},
     "output_type": "execute_result"
    }
   ],
   "execution_count": 36
  },
  {
   "metadata": {},
   "cell_type": "markdown",
   "source": "strftime()格式化字符串的数字左侧会自动补零，上述格式也可以与print()的格式化函数一起使用",
   "id": "688e7e489d93333c"
  },
  {
   "metadata": {
    "ExecuteTime": {
     "end_time": "2025-03-17T12:29:49.527312Z",
     "start_time": "2025-03-17T12:29:49.520199Z"
    }
   },
   "cell_type": "code",
   "source": [
    "anotherday = datetime(2025, 3, 1, hour=23, minute=1,second=8,microsecond=20)\n",
    "anotherday.strftime(\"%Y-%m-%d: %A\")"
   ],
   "id": "2f16e4e00d25bbad",
   "outputs": [
    {
     "data": {
      "text/plain": [
       "'2025-03-01: Saturday'"
      ]
     },
     "execution_count": 39,
     "metadata": {},
     "output_type": "execute_result"
    }
   ],
   "execution_count": 39
  },
  {
   "metadata": {
    "ExecuteTime": {
     "end_time": "2025-03-17T12:33:03.069125Z",
     "start_time": "2025-03-17T12:33:03.064291Z"
    }
   },
   "cell_type": "code",
   "source": "print(\"今天是{0:%Y}年{0:%m}月{0:%d}日.\".format(anotherday))        # 只有一个元素(datetime类的实例),转义方式不同",
   "id": "eb58c0aec9359386",
   "outputs": [
    {
     "name": "stdout",
     "output_type": "stream",
     "text": [
      "今天是2025年03月01日.\n"
     ]
    }
   ],
   "execution_count": 41
  },
  {
   "metadata": {},
   "cell_type": "markdown",
   "source": [
    "## 数码管绘制\n",
    "七段数码管（seven-segment indicator）由7段数码管拼接而成，每段有亮或不亮两种情况，改进型的七段数码管还包括一个小数点位置\n",
    "七段数码管能形成2^7=128种不同状态，其中部分状态能够显示易于人们理解的数字或字母含义，因此被广泛使用\n",
    "\n",
    "![](pictures/数码管.jpg)\n"
   ],
   "id": "79d5474aa11a7a09"
  },
  {
   "metadata": {
    "ExecuteTime": {
     "end_time": "2025-03-17T13:27:00.190101Z",
     "start_time": "2025-03-17T13:26:30.071800Z"
    }
   },
   "cell_type": "code",
   "source": [
    "# 仅仅实现最简单的形式,无点号,无年月日的中文,未设置颜色粗细等等,请你改进\n",
    "# 你也可以有自己的思路!\n",
    "from turtle import *\n",
    "from datetime import datetime\n",
    "def drawLine():\n",
    "    forward(50)\n",
    "    left(90)\n",
    "\n",
    "def drawNumber(num):\n",
    "    draw_ls = [1] * 7\n",
    "    draw_ls[0] = 0 if num in [0,1,7] else 1\n",
    "    draw_ls[1] = 0 if num in [5,6] else 1\n",
    "    draw_ls[2] = 0 if num in [1,4] else 1\n",
    "    draw_ls[3] = 0 if num in [1,2,3,7] else 1\n",
    "    draw_ls[4] = 0 if num in [1,3,4,5,7,9] else 1\n",
    "    draw_ls[5] = 0 if num in [1,4,7,9] else 1\n",
    "    draw_ls[6] = 0 if num in [2] else 1\n",
    "    # print(draw_ls)\n",
    "    for i in range(7):\n",
    "        if i == 4:\n",
    "            right(90)\n",
    "        pendown() if draw_ls[i] else penup()\n",
    "        drawLine()\n",
    "\n",
    "    penup()\n",
    "    left(180)\n",
    "    forward(30)\n",
    "\n",
    "def get_time():\n",
    "    now = datetime.now()\n",
    "    now_ls = now.strftime(\"%Y%m%d\")\n",
    "    now_ls = [int(c) for c in now_ls]\n",
    "    return now_ls\n",
    "\n",
    "def draw(now_ls):\n",
    "    width, height = 800, 600\n",
    "    setup(width=width, height=height)\n",
    "    penup()\n",
    "    goto(-(width/2-100),0)\n",
    "    pendown()\n",
    "\n",
    "    for i in now_ls:\n",
    "        drawNumber(i)\n",
    "\n",
    "    penup()\n",
    "\n",
    "\n",
    "now = get_time()\n",
    "draw(now)\n",
    "mainloop()"
   ],
   "id": "3b6a3d1c2863c016",
   "outputs": [],
   "execution_count": 2
  },
  {
   "metadata": {},
   "cell_type": "markdown",
   "source": [
    "## 代码复用与模块化设计\n",
    "模块化设计一般有两个基本要求：\n",
    "- 紧耦合：尽可能合理划分功能块，功能块内部耦合紧密；\n",
    "- 松耦合：模块间关系尽可能简单，功能块之间耦合度低。\n",
    "\n",
    "使用函数只是模块化设计的必要非充分条件，根据计算需求合理划分函数十分重要。一般来说，完成特定功能或被经常复用的一组语句应该采用函数来封装，并尽可能减少函数间参数和返回值的数量。\n"
   ],
   "id": "6dfcf9509277ec48"
  },
  {
   "metadata": {},
   "cell_type": "markdown",
   "source": [
    "## 递归\n",
    "### 字符串反转"
   ],
   "id": "d46df0b3e6d61824"
  },
  {
   "metadata": {
    "ExecuteTime": {
     "end_time": "2025-03-17T13:33:49.081958Z",
     "start_time": "2025-03-17T13:33:40.526929Z"
    }
   },
   "cell_type": "code",
   "source": [
    "def reverse(s):\n",
    "    if len(s) == 0:\n",
    "        return ''\n",
    "    else:\n",
    "        return reverse(s[1:]) + s[0]\n",
    "\n",
    "print(reverse(input(\"请输入需要反转的字符串:\")))"
   ],
   "id": "488d6f28c18fcc16",
   "outputs": [
    {
     "name": "stdout",
     "output_type": "stream",
     "text": [
      "院学学数学大民人国中\n"
     ]
    }
   ],
   "execution_count": 6
  },
  {
   "metadata": {},
   "cell_type": "markdown",
   "source": [
    "### 科赫曲线绘制\n",
    "- 正整数n代表科赫曲线的阶数，表示生成科赫曲线过程的操作次数。科赫曲线初始化阶数为0，表示一个长度为L的直线。对于直线L，将其等分为三段，中间一段用边长为L/3的等边三角形的两个边替代，得到1阶科赫曲线，它包含四条线段。进一步对每条线段重复同样的操作后得到2阶科赫曲线。继续重复同样的操作n次可以得到n阶科赫曲线。\n",
    "- 科赫曲线属于分形几何分支，它的绘制过程体现了递归思想.\n",
    "\n",
    "![](pictures/科赫曲线.png)"
   ],
   "id": "cb755dfa55b0981b"
  },
  {
   "metadata": {},
   "cell_type": "code",
   "outputs": [],
   "execution_count": null,
   "source": [
    "from turtle import *\n",
    "\n",
    "def koch(dim,length):\n",
    "    if dim == 0:\n",
    "        forward(length)\n",
    "    else:\n",
    "        koch(dim-1,length/3)\n",
    "        left(60)\n",
    "        koch(dim-1,length/3)\n",
    "        right(120)\n",
    "        koch(dim-1,length/3)\n",
    "        left(60)\n",
    "        koch(dim-1,length/3)\n",
    "\n",
    "def draw():\n",
    "    w, h = 800, 800\n",
    "    n = eval(input(\"你要生成科赫曲线的迭代阶数:\"))\n",
    "    setup(w,h)\n",
    "    penup()\n",
    "    speed(10)\n",
    "    goto(-(w/2-100),w/5)\n",
    "    pendown()\n",
    "\n",
    "    koch(n,w-200)\n",
    "    right(120)\n",
    "    koch(n,w-200)\n",
    "    right(120)\n",
    "    koch(n,w-200)\n",
    "\n",
    "\n",
    "    mainloop()\n",
    "\n",
    "draw()"
   ],
   "id": "b54a1ea6a9f7fc0c"
  },
  {
   "metadata": {},
   "cell_type": "markdown",
   "source": "![](pictures/科赫曲线_5阶.png)",
   "id": "fa1ad38ee6802490"
  },
  {
   "metadata": {},
   "cell_type": "markdown",
   "source": [
    "## 集合类型\n",
    "- 集合类型与数学中集合的概念一致，即包含0个或多个数据项的无序组合。集合中元素不可重复，元素类型只能是固定数据类型，例如：整数、浮点数、字符串、元组等。列表、字典和集合类型本身都是可变数据类型，不能作为集合的元素出现。\n",
    "- 由于集合是无序组合，它没有索引和位置的概念，不能分片，集合中元素可以动态增加或删除。集合用大括号（{}）表示，可以用赋值语句生成一个集合。\n",
    "- 由于集合元素是无序的，集合的打印效果与定义顺序可以不一致。\n",
    "- 由于集合元素独一无二，使用集合类型能够过滤掉重复元素。set(x)函数可以用于生成集合。\n",
    "\n"
   ],
   "id": "7f83ae64f021ffde"
  },
  {
   "metadata": {
    "ExecuteTime": {
     "end_time": "2025-03-17T13:56:44.481017Z",
     "start_time": "2025-03-17T13:56:44.473912Z"
    }
   },
   "cell_type": "code",
   "source": [
    "ls = [1,2,3,4,5,6,6,3,2,4,1,2,3,9,0,5,3,2,2,1]\n",
    "ls_f = set(ls)\n",
    "ls_f"
   ],
   "id": "d5b2edef9f4cbe3a",
   "outputs": [
    {
     "data": {
      "text/plain": [
       "{0, 1, 2, 3, 4, 5, 6, 9}"
      ]
     },
     "execution_count": 8,
     "metadata": {},
     "output_type": "execute_result"
    }
   ],
   "execution_count": 8
  },
  {
   "metadata": {},
   "cell_type": "markdown",
   "source": [
    "![](pictures/集合操作符.png)\n",
    "![](pictures/集合的方法.png)\n",
    "\n",
    "集合类型主要用于三个场景：成员关系测试、元素去重和删除数据项。\n",
    "## 列表类型\n",
    "列表可以同时使用正向递增序号和反向递减序号，可以采用标准的比较操作符（<、<=、==、!=、>=、>）进行比较，列表的比较实际上是单个数据项的逐个比较。\n",
    "列表必须通过显式的数据赋值才能生成，简单将一个列表赋值给另一个列表不会生成新的列表对象。\n",
    "\n",
    "## Jieba库\n",
    "- 英文单词间有空格：split()分词\n",
    "- jieba是Python中一个重要的第三方中文分词函数库\n",
    "```import jieba```\n",
    "- jieba库是第三方库，不是安装包自带，需要通过pip指令安装\n",
    "```pip install jieba # pip3 install jieba```\n",
    "\n",
    "![](pictures/jieba.png)\n"
   ],
   "id": "944bc920d9be8462"
  },
  {
   "metadata": {
    "ExecuteTime": {
     "end_time": "2025-03-17T14:12:02.371998Z",
     "start_time": "2025-03-17T14:12:02.365926Z"
    }
   },
   "cell_type": "code",
   "source": [
    "import jieba\n",
    "jieba.lcut(\"中华人民共和国是一个伟大的国家!\")"
   ],
   "id": "fa3ddec941a576a5",
   "outputs": [
    {
     "data": {
      "text/plain": [
       "['中华人民共和国', '是', '一个', '伟大', '的', '国家', '!']"
      ]
     },
     "execution_count": 10,
     "metadata": {},
     "output_type": "execute_result"
    }
   ],
   "execution_count": 10
  },
  {
   "metadata": {
    "ExecuteTime": {
     "end_time": "2025-03-17T14:12:32.326518Z",
     "start_time": "2025-03-17T14:12:32.318884Z"
    }
   },
   "cell_type": "code",
   "source": "jieba.lcut(\"中华人民共和国是一个伟大的国家!\",cut_all=True)",
   "id": "3e91c97348b354e3",
   "outputs": [
    {
     "data": {
      "text/plain": [
       "['中华',\n",
       " '中华人民',\n",
       " '中华人民共和国',\n",
       " '华人',\n",
       " '人民',\n",
       " '人民共和国',\n",
       " '共和',\n",
       " '共和国',\n",
       " '国是',\n",
       " '一个',\n",
       " '伟大',\n",
       " '的',\n",
       " '国家',\n",
       " '!']"
      ]
     },
     "execution_count": 11,
     "metadata": {},
     "output_type": "execute_result"
    }
   ],
   "execution_count": 11
  },
  {
   "metadata": {},
   "cell_type": "markdown",
   "source": [
    "## 文本文件打开和读取\n",
    "文本文件打开、读取\n",
    "- open() 函数用于打开一个文件，创建一个 file 对象\n",
    "                           ```open(file, mode=‘r', buffering=-1, encoding=None, errors=None, newline=None, closefd=True)```\n",
    "常用参数：\n",
    "- file : 一个包含了你要访问的文件名称的字符串值；\n",
    "- mode : mode 决定了打开文件的模式：只读，写入，追加等\n",
    "- Encoding：表示的是返回的数据采用何种编码，一般采用utf8或者gbk\n",
    "- Read() 函数用于读取文件\n",
    "\n",
    "## 词频统计\n",
    "\n"
   ],
   "id": "b59a40819fc30a8c"
  },
  {
   "metadata": {
    "ExecuteTime": {
     "end_time": "2025-03-17T14:30:03.916373Z",
     "start_time": "2025-03-17T14:30:03.910984Z"
    }
   },
   "cell_type": "code",
   "source": [
    "txt = open(r\"D:\\Myself\\Codefield\\Code_Python\\Code_Ai_Python\\Class_Notes\\文件\\高瓴人工智能学院简介.txt\",\"r\",encoding=\"utf-8\")\n",
    "print(txt)"
   ],
   "id": "e4caa313d79685a0",
   "outputs": [
    {
     "name": "stdout",
     "output_type": "stream",
     "text": [
      "<_io.TextIOWrapper name='D:\\\\Myself\\\\Codefield\\\\Code_Python\\\\Code_Ai_Python\\\\Class_Notes\\\\文件\\\\高瓴人工智能学院简介.txt' mode='r' encoding='utf-8'>\n"
     ]
    }
   ],
   "execution_count": 14
  },
  {
   "metadata": {
    "ExecuteTime": {
     "end_time": "2025-03-17T14:30:04.833776Z",
     "start_time": "2025-03-17T14:30:04.827987Z"
    }
   },
   "cell_type": "code",
   "source": [
    "content = txt.read()  # 读取全部内容为字符串\n",
    "print(content)\n",
    "txt.close()  # 必须手动关闭文件"
   ],
   "id": "56d44bbc335c25e3",
   "outputs": [
    {
     "name": "stdout",
     "output_type": "stream",
     "text": [
      "“过去未去，未来已来”，在构建人工智能时代的宏大世界观时，在影响人工智能技术发展的历史趋势时，在吸纳和培养人工智能领域的顶尖学者和实践者时，中国人民大学高瓴人工智能学院应运而生，并将扮演至关重要的角色。\n",
      "\n",
      "高瓴人工智能学院是中国人民大学下属学院，承担学校人工智能学科的规划与建设，开展本学科和相关交叉学科领域的本、硕、博人才培养和科学研究工作。学院由高瓴资本创始人兼首席执行官、耶鲁大学校董、中国人民大学校友张磊先生捐资支持建设。\n",
      "\n",
      "高瓴人工智能学院学术委员会主任由中国工程院原常务副院长、国家新一代人工智能战略咨询委员会主任潘云鹤院士担任，执行院长由中国人民大学信息学院院长文继荣教授担任。\n",
      "\n",
      "学院愿景\n",
      "\n",
      "打造一所能够影响和塑造未来人工智能时代的世界一流学院，为全球思考并创造“智能而有温度”的未来。\n",
      "\n",
      "发展目标\n",
      "\n",
      "创新一流体制机制、打造一流师资队伍、培养一流专业人才、产出一流科研成果。\n",
      "\n",
      "主要任务\n",
      "\n",
      "推动人工智能基础理论和技术研究；探索建立新型交叉研究中心，促进人文社科与人工智能的深度融合；联合各界设立联合研究中心和实验室，与全球知名人工智能企业联合打造专项人才培养计划，鼓励创新和产业化，促进凝聚广泛共识的人工智能全球对话。\n"
     ]
    }
   ],
   "execution_count": 15
  },
  {
   "metadata": {
    "ExecuteTime": {
     "end_time": "2025-03-17T14:35:30.810842Z",
     "start_time": "2025-03-17T14:35:30.798723Z"
    }
   },
   "cell_type": "code",
   "source": [
    "# 使用列表进行词频统计\n",
    "import jieba\n",
    "txt = open(r\"D:\\Myself\\Codefield\\Code_Python\\Code_Ai_Python\\Class_Notes\\文件\\高瓴人工智能学院简介.txt\",\"r\",encoding=\"utf-8\").read()\n",
    "words = jieba.lcut(txt)\n",
    "uniquewords = list(set(words))\n",
    "\n",
    "counts = [0] * len(uniquewords)\n",
    "for i in range(len(uniquewords)):\n",
    "    counts[i] = words.count(uniquewords[i])\n",
    "for i in range(len(uniquewords)):\n",
    "    print(\"{0:<10}{1:>5}\".format(uniquewords[i],counts[i]))"
   ],
   "id": "e1a01c2fcdbe9263",
   "outputs": [
    {
     "name": "stdout",
     "output_type": "stream",
     "text": [
      "时代            2\n",
      "由             2\n",
      "学科            1\n",
      "兼             1\n",
      "将             1\n",
      "相关            1\n",
      "战略            1\n",
      "博             1\n",
      "的            10\n",
      "院士            1\n",
      "本学科           1\n",
      "学校            1\n",
      "未来            3\n",
      "有             1\n",
      "中心            2\n",
      "培养            2\n",
      "领域            2\n",
      "过去            1\n",
      "全球            3\n",
      "创始人           1\n",
      "委员会           2\n",
      "探索            1\n",
      "\n",
      "            16\n",
      "研究            3\n",
      "产业化           1\n",
      "，            14\n",
      "吸纳            1\n",
      "院长            3\n",
      "专项            1\n",
      "校董            1\n",
      "塑造            1\n",
      "校友            1\n",
      "推动            1\n",
      "去             1\n",
      "中国人民大学        4\n",
      "学院            8\n",
      "并             2\n",
      "已来            1\n",
      "温度            1\n",
      "技术            2\n",
      "体制            1\n",
      "深度            1\n",
      "张磊            1\n",
      "知名            1\n",
      "首席            1\n",
      "承担            1\n",
      "打造            3\n",
      "；             2\n",
      "“             2\n",
      "联合            3\n",
      "”             2\n",
      "、             8\n",
      "基础理论          1\n",
      "硕             1\n",
      "文继荣           1\n",
      "高瓴            3\n",
      "而             1\n",
      "担任            2\n",
      "。             7\n",
      "任务            1\n",
      "人才培养          2\n",
      "影响            2\n",
      "专业人才          1\n",
      "历史            1\n",
      "趋势            1\n",
      "咨询            1\n",
      "智能            1\n",
      "应运而生          1\n",
      "顶尖            1\n",
      "愿景            1\n",
      "目标            1\n",
      "资本            1\n",
      "建立            1\n",
      "国家            1\n",
      "与             3\n",
      "和             8\n",
      "一所            1\n",
      "设立            1\n",
      "未             1\n",
      "角色            1\n",
      "建设            2\n",
      "创造            1\n",
      "计划            1\n",
      "融合            1\n",
      "扮演            1\n",
      "学者            1\n",
      "工作            1\n",
      "教授            1\n",
      "宏大            1\n",
      "主要            1\n",
      "在             3\n",
      "创新            2\n",
      "交叉            1\n",
      "主任            2\n",
      "时             3\n",
      "科学研究          1\n",
      "开展            1\n",
      "科研成果          1\n",
      "共识            1\n",
      "发展            2\n",
      "下属            1\n",
      "各界            1\n",
      "实践者           1\n",
      "广泛            1\n",
      "支持            1\n",
      "新型            1\n",
      "构建            1\n",
      "凝聚            1\n",
      "规划            1\n",
      "鼓励            1\n",
      "一流            5\n",
      "实验室           1\n",
      "对话            1\n",
      "交叉学科          1\n",
      "人文            1\n",
      "至关重要          1\n",
      "能够            1\n",
      "世界观           1\n",
      "世界            1\n",
      "师资队伍          1\n",
      "执行            1\n",
      "企业            1\n",
      "是             1\n",
      "思考            1\n",
      "社科            1\n",
      "中国工程院         1\n",
      "学术            1\n",
      "常务副           1\n",
      "执行官           1\n",
      "促进            2\n",
      "原             1\n",
      "新一代           1\n",
      "本             1\n",
      "捐资            1\n",
      "潘云鹤           1\n",
      "机制            1\n",
      "先生            1\n",
      "人工智能         13\n",
      "耶鲁大学          1\n",
      "为             1\n",
      "产出            1\n",
      "信息            1\n",
      "由高瓴           1\n"
     ]
    }
   ],
   "execution_count": 18
  },
  {
   "metadata": {
    "ExecuteTime": {
     "end_time": "2025-03-17T14:39:22.585648Z",
     "start_time": "2025-03-17T14:39:22.577652Z"
    }
   },
   "cell_type": "code",
   "source": [
    "# 使用字典方法进行词频统计\n",
    "counts = {}         # 这是字典,不是集合!\n",
    "for word in uniquewords:\n",
    "    counts[word] = words.count(word)\n",
    "for word in counts:\n",
    "    print(\"{0:<10}{1:>5}\".format(word,counts[word]))"
   ],
   "id": "a7cc087f07c3db50",
   "outputs": [
    {
     "name": "stdout",
     "output_type": "stream",
     "text": [
      "时代            2\n",
      "由             2\n",
      "学科            1\n",
      "兼             1\n",
      "将             1\n",
      "相关            1\n",
      "战略            1\n",
      "博             1\n",
      "的            10\n",
      "院士            1\n",
      "本学科           1\n",
      "学校            1\n",
      "未来            3\n",
      "有             1\n",
      "中心            2\n",
      "培养            2\n",
      "领域            2\n",
      "过去            1\n",
      "全球            3\n",
      "创始人           1\n",
      "委员会           2\n",
      "探索            1\n",
      "\n",
      "            16\n",
      "研究            3\n",
      "产业化           1\n",
      "，            14\n",
      "吸纳            1\n",
      "院长            3\n",
      "专项            1\n",
      "校董            1\n",
      "塑造            1\n",
      "校友            1\n",
      "推动            1\n",
      "去             1\n",
      "中国人民大学        4\n",
      "学院            8\n",
      "并             2\n",
      "已来            1\n",
      "温度            1\n",
      "技术            2\n",
      "体制            1\n",
      "深度            1\n",
      "张磊            1\n",
      "知名            1\n",
      "首席            1\n",
      "承担            1\n",
      "打造            3\n",
      "；             2\n",
      "“             2\n",
      "联合            3\n",
      "”             2\n",
      "、             8\n",
      "基础理论          1\n",
      "硕             1\n",
      "文继荣           1\n",
      "高瓴            3\n",
      "而             1\n",
      "担任            2\n",
      "。             7\n",
      "任务            1\n",
      "人才培养          2\n",
      "影响            2\n",
      "专业人才          1\n",
      "历史            1\n",
      "趋势            1\n",
      "咨询            1\n",
      "智能            1\n",
      "应运而生          1\n",
      "顶尖            1\n",
      "愿景            1\n",
      "目标            1\n",
      "资本            1\n",
      "建立            1\n",
      "国家            1\n",
      "与             3\n",
      "和             8\n",
      "一所            1\n",
      "设立            1\n",
      "未             1\n",
      "角色            1\n",
      "建设            2\n",
      "创造            1\n",
      "计划            1\n",
      "融合            1\n",
      "扮演            1\n",
      "学者            1\n",
      "工作            1\n",
      "教授            1\n",
      "宏大            1\n",
      "主要            1\n",
      "在             3\n",
      "创新            2\n",
      "交叉            1\n",
      "主任            2\n",
      "时             3\n",
      "科学研究          1\n",
      "开展            1\n",
      "科研成果          1\n",
      "共识            1\n",
      "发展            2\n",
      "下属            1\n",
      "各界            1\n",
      "实践者           1\n",
      "广泛            1\n",
      "支持            1\n",
      "新型            1\n",
      "构建            1\n",
      "凝聚            1\n",
      "规划            1\n",
      "鼓励            1\n",
      "一流            5\n",
      "实验室           1\n",
      "对话            1\n",
      "交叉学科          1\n",
      "人文            1\n",
      "至关重要          1\n",
      "能够            1\n",
      "世界观           1\n",
      "世界            1\n",
      "师资队伍          1\n",
      "执行            1\n",
      "企业            1\n",
      "是             1\n",
      "思考            1\n",
      "社科            1\n",
      "中国工程院         1\n",
      "学术            1\n",
      "常务副           1\n",
      "执行官           1\n",
      "促进            2\n",
      "原             1\n",
      "新一代           1\n",
      "本             1\n",
      "捐资            1\n",
      "潘云鹤           1\n",
      "机制            1\n",
      "先生            1\n",
      "人工智能         13\n",
      "耶鲁大学          1\n",
      "为             1\n",
      "产出            1\n",
      "信息            1\n",
      "由高瓴           1\n"
     ]
    }
   ],
   "execution_count": 20
  },
  {
   "metadata": {},
   "cell_type": "markdown",
   "source": [
    "## 大作业1：二维卷积操作对图片进行处理\n",
    "### 什么是卷积？\n",
    "- 两个函数𝑓和𝑔生成第三个函数的一种数学算子\n",
    "- 𝑓与经过翻转和平移的𝑔的乘积函数所围成的曲边梯形的面积(滑动平均)\n",
    "![](./pictures/卷积.png)\n",
    "### 离散卷积举例：2个骰子点数和为4的概率\n",
    "- 两枚骰子,骰子未必都是公平\n",
    "- 第一个骰子出现点i (i = 1, 2, …, 6) 的概率为f(i)\n",
    "- 第二个骰子出现点i的概率为g(i)\n",
    "- 把这两枚骰子都抛出去,求2个骰子点数和为4的概率\n",
    "- $$(𝑓∗𝑔)(4)=\\sum_{m=1}^3 f(m)g(4-m)$$\n",
    "\n"
   ],
   "id": "b89dee24328d82e3"
  },
  {
   "metadata": {
    "ExecuteTime": {
     "end_time": "2025-03-17T14:50:45.417490Z",
     "start_time": "2025-03-17T14:50:45.412072Z"
    }
   },
   "cell_type": "code",
   "source": [
    "# Python实现一维卷积\n",
    "l1 = [1/6] * 6\n",
    "l2 = [1/6] * 6\n",
    "\n",
    "conv = 0\n",
    "for i in range(3):\n",
    "    conv += l1[i] * l2[5-i]\n",
    "print(conv)"
   ],
   "id": "9ff1c1389be170d8",
   "outputs": [
    {
     "name": "stdout",
     "output_type": "stream",
     "text": [
      "0.08333333333333333\n"
     ]
    }
   ],
   "execution_count": 22
  }
 ],
 "metadata": {
  "kernelspec": {
   "display_name": "Python 3",
   "language": "python",
   "name": "python3"
  },
  "language_info": {
   "codemirror_mode": {
    "name": "ipython",
    "version": 2
   },
   "file_extension": ".py",
   "mimetype": "text/x-python",
   "name": "python",
   "nbconvert_exporter": "python",
   "pygments_lexer": "ipython2",
   "version": "2.7.6"
  }
 },
 "nbformat": 4,
 "nbformat_minor": 5
}
