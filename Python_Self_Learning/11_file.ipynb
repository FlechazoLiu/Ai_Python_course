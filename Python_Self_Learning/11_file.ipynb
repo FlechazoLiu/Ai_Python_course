{
 "cells": [
  {
   "metadata": {},
   "cell_type": "code",
   "outputs": [],
   "execution_count": null,
   "source": "",
   "id": "6df2be194697a032"
  },
  {
   "metadata": {},
   "cell_type": "markdown",
   "source": [
    "# 文件\n",
    "本章将更进一步,让程序能够与更大的外部世界交互:文件和流.本章介绍的函数和对象让你能够永久存储数据以及处理来自其他程序的数据."
   ],
   "id": "280f6281e889f5ba"
  },
  {
   "metadata": {
    "ExecuteTime": {
     "end_time": "2025-03-21T04:40:12.692447Z",
     "start_time": "2025-03-21T04:40:12.684888Z"
    }
   },
   "cell_type": "code",
   "source": [
    "f = open(\"test.txt\",'w')            # 如果文件位于其他地方,可指定完整的路径.\n",
    "type(f)"
   ],
   "id": "5b610476b49ab799",
   "outputs": [
    {
     "data": {
      "text/plain": [
       "_io.TextIOWrapper"
      ]
     },
     "execution_count": 25,
     "metadata": {},
     "output_type": "execute_result"
    }
   ],
   "execution_count": 25
  },
  {
   "metadata": {},
   "cell_type": "markdown",
   "source": [
    "\n",
    "### 文件打开模式 (`open` 函数 `mode` 参数) 表格\n",
    "\n",
    "| 模式 | 描述                                                                 | 文件存在性处理                        | 常见组合示例         |\n",
    "|------|--------------------------------------------------------------------|--------------------------------------|---------------------|\n",
    "| `r`  | **读取模式**（默认）                                                | 文件必须存在，否则报错 `FileNotFoundError` | `'r'`, `'rt'`       |\n",
    "| `w`  | **写入模式**                                                        | 若文件存在则**清空内容**；若不存在则创建新文件 | `'w'`, `'wt'`       |\n",
    "| `x`  | **独占写入模式**                                                    | 若文件存在则报错 `FileExistsError`；否则创建新文件 | `'x'`, `'xt'`       |\n",
    "| `a`  | **追加模式**                                                        | 若文件存在则在**末尾追加**；若不存在则创建新文件 | `'a'`, `'at'`       |\n",
    "| `b`  | **二进制模式**（需与其他模式结合）                                  | 无特殊处理，按字节操作                    | `'rb'`, `'wb'`, `'ab'` |\n",
    "| `t`  | **文本模式**（默认，需与其他模式结合）                              | 自动处理编码（默认UTF-8）和换行符转换        | `'rt'`, `'wt+'`     |\n",
    "| `+`  | **读写模式**（需与其他模式结合）                                    | 允许同时读写，具体行为取决于基础模式           | `'r+'`, `'w+b'`     |\n",
    "\n",
    "---\n",
    "\n",
    "### 核心要点总结\n",
    "\n",
    "1. **模式行为差异**：\n",
    "   - `'r'`：只读，文件必须存在。\n",
    "   - `'w'`：写入并清空文件，不存在则创建。\n",
    "   - `'x'`：安全创建新文件，防止覆盖已有文件。\n",
    "   - `'a'`：追加写入，不破坏原有内容。\n",
    "   - `'b'`：处理二进制数据（如图像、音频），禁用文本编码转换。\n",
    "   - `'t'`：处理文本数据，自动处理换行符（如`\\n`与`\\r\\n`的转换）。\n",
    "   - `'+'`：扩展为读写模式，如`'r+'`可读可写（不截断文件），`'w+'`可读可写（先截断文件）。\n",
    "\n",
    "2. **组合模式示例**：\n",
    "   - `'rb'`：二进制读取。\n",
    "   - `'wb'`：二进制写入（覆盖文件）。\n",
    "   - `'a+'`：文本模式追加读写。\n",
    "   - `'w+b'`：二进制读写，覆盖原有内容。\n",
    "\n",
    "3. **编码与换行符**：\n",
    "   - **默认编码**：`UTF-8`，可通过`encoding`参数修改（如`encoding='gbk'`）。\n",
    "   - **换行符处理**：\n",
    "     - 文本模式下，读取时自动将`\\r\\n`或`\\r`转换为`\\n`，写入时反向转换。\n",
    "     - 使用`newline=''`关闭自动转换，或指定特定换行符（如`newline='\\r\\n'`）。\n",
    "\n",
    "4. **错误处理**：\n",
    "   - 文件不存在时：`'r'`和`'r+'`会引发`FileNotFoundError`，而`'w'`、`'a'`等模式会创建新文件。\n",
    "   - 文件已存在时：`'x'`会引发`FileExistsError`，其他模式按规则处理。\n",
    "\n",
    "5. **注意事项**：\n",
    "   - **文本模式** (`'t'`) 与 **二进制模式** (`'b'`) 不可同时省略，需明确指定组合（如`'rt'`或`'rb'`）。\n",
    "   - 使用`with`语句自动管理文件关闭（如`with open('file.txt', 'r') as f:`）。\n",
    "   - 读写完成后调用`f.close()`释放资源，避免内存泄漏。\n",
    "```\n",
    "\n",
    "> **附注**：在Windows系统中，文本模式的换行符自动转换可能导致二进制文件处理异常，此时需显式使用`'b'`模式。"
   ],
   "id": "b5c16977499ad8bd"
  },
  {
   "metadata": {},
   "cell_type": "markdown",
   "source": "## 读取和写入",
   "id": "925e93cc59d26c6a"
  },
  {
   "metadata": {
    "ExecuteTime": {
     "end_time": "2025-03-21T04:40:15.382564Z",
     "start_time": "2025-03-21T04:40:15.376852Z"
    }
   },
   "cell_type": "code",
   "source": [
    "f.write(\"hello world\")\n",
    "f.write(\"!!!\")          # 返回值为写入的字符数（对于文本文件）或写入的字节数（对于二进制文件）\n",
    "f.close()"
   ],
   "id": "4573ec2be0fdb114",
   "outputs": [],
   "execution_count": 26
  },
  {
   "metadata": {
    "ExecuteTime": {
     "end_time": "2025-03-21T04:40:19.866626Z",
     "start_time": "2025-03-21T04:40:19.859821Z"
    }
   },
   "cell_type": "code",
   "source": [
    "f = open(\"test.txt\",\"r\")            # 调用open时,默认模式为\"r\"\n",
    "f.read(4)           #指定读取多少个字符"
   ],
   "id": "2ca14452381c1a44",
   "outputs": [
    {
     "data": {
      "text/plain": [
       "'hell'"
      ]
     },
     "execution_count": 27,
     "metadata": {},
     "output_type": "execute_result"
    }
   ],
   "execution_count": 27
  },
  {
   "metadata": {
    "ExecuteTime": {
     "end_time": "2025-03-21T04:40:52.457581Z",
     "start_time": "2025-03-21T04:40:52.451505Z"
    }
   },
   "cell_type": "code",
   "source": "f.read()            # 读取剩余字符",
   "id": "417304901c12bc81",
   "outputs": [
    {
     "data": {
      "text/plain": [
       "'o world!!!'"
      ]
     },
     "execution_count": 28,
     "metadata": {},
     "output_type": "execute_result"
    }
   ],
   "execution_count": 28
  },
  {
   "metadata": {
    "ExecuteTime": {
     "end_time": "2025-03-21T04:41:30.370317Z",
     "start_time": "2025-03-21T04:41:30.365810Z"
    }
   },
   "cell_type": "code",
   "source": "f.close()",
   "id": "ee078f2562bf85e2",
   "outputs": [],
   "execution_count": 29
  },
  {
   "metadata": {},
   "cell_type": "markdown",
   "source": [
    "## 使用管道重定向输出\n",
    "\n",
    "---\n",
    "\n",
    "### **1. 标准输入（stdin）、标准输出（stdout）和标准错误（stderr）**\n",
    "在计算机中，程序通常通过三种“流”与外界交互：\n",
    "- **标准输入（stdin）**：程序从哪里读取数据。默认情况下，标准输入是键盘输入。\n",
    "- **标准输出（stdout）**：程序将结果输出到哪里。默认情况下，标准输出是终端屏幕。\n",
    "- **标准错误（stderr）**：程序将错误信息输出到哪里。默认情况下，标准错误也是终端屏幕。\n",
    "\n",
    "例如，当你运行一个简单的 Python 脚本时：\n",
    "```python\n",
    "print(\"Hello, World!\")\n",
    "```\n",
    "`print` 函数会将内容写入标准输出，默认显示在终端屏幕上。\n",
    "\n",
    "---\n",
    "\n",
    "### **2. 管道（|）的作用**\n",
    "管道符号 `|` 是一种命令行工具，用于将一个命令的**标准输出**连接到另一个命令的**标准输入**。换句话说，它允许你将多个命令串联起来，形成一个“流水线”，让数据依次经过每个命令进行处理。\n",
    "\n",
    "#### 举个例子：\n",
    "假设我们有以下命令：\n",
    "```bash\n",
    "cat somefile.txt | python somescript.py | sort\n",
    "```\n",
    "\n",
    "这条命令的工作流程如下：\n",
    "1. **`cat somefile.txt`**：\n",
    "   - `cat` 命令读取文件 `somefile.txt` 的内容，并将其写入**标准输出**。\n",
    "   - 默认情况下，标准输出的内容会直接显示在终端屏幕上，但在这里，它被管道 `|` 捕获并传递给下一个命令。\n",
    "\n",
    "2. **`python somescript.py`**：\n",
    "   - 这个 Python 脚本从**标准输入**读取数据（即 `cat` 输出的内容），对其进行处理，并将结果写入**标准输出**。\n",
    "   - 在这个例子中，`somescript.py` 计算了输入文本中的单词数量，并将结果打印出来。\n",
    "\n",
    "3. **`sort`**：\n",
    "   - `sort` 命令从**标准输入**读取数据（即 `somescript.py` 输出的内容），对每一行按字母顺序排序，并将结果写入**标准输出**。\n",
    "\n",
    "最终，整个命令链的结果会显示在终端屏幕上。\n",
    "\n",
    "---\n",
    "\n",
    "### **3. 教材在讲什么？**\n",
    "这一节教材的核心内容是介绍如何使用**管道**和**标准输入/输出**来实现命令之间的协作。具体来说：\n",
    "\n",
    "1. **管道的作用**：\n",
    "   - 管道 `|` 将一个命令的输出作为另一个命令的输入，从而实现数据的流动和处理。\n",
    "\n",
    "2. **Python 脚本如何处理标准输入**：\n",
    "   - 教材提供了一个示例脚本 `somescript.py`，它从标准输入读取数据（通过 `sys.stdin.read()`），计算输入文本中的单词数量，并将结果写入标准输出。\n",
    "\n",
    "3. **实际应用**：\n",
    "   - 通过组合多个命令（如 `cat`、`python` 和 `sort`），可以完成复杂的任务。例如，先读取文件内容，再用 Python 脚本处理数据，最后对结果进行排序。\n",
    "\n",
    "---\n",
    "\n",
    "### **4. 示例解析**\n",
    "让我们一步步分析教材中的例子：\n",
    "\n",
    "#### 输入文件 `somefile.txt`：\n",
    "```plaintext\n",
    "Your mother was a hamster and your\n",
    "father smelled of elderberries.\n",
    "```\n",
    "\n",
    "#### Python 脚本 `somescript.py`：\n",
    "```python\n",
    "import sys\n",
    "\n",
    "# 从标准输入读取所有内容\n",
    "text = sys.stdin.read()\n",
    "\n",
    "# 将文本拆分为单词列表\n",
    "words = text.split()\n",
    "\n",
    "# 计算单词数量\n",
    "wordcount = len(words)\n",
    "\n",
    "# 将结果写入标准输出\n",
    "print('Wordcount:', wordcount)\n",
    "```\n",
    "\n",
    "#### 执行命令：\n",
    "```bash\n",
    "cat somefile.txt | python somescript.py\n",
    "```\n",
    "\n",
    "#### 工作流程：\n",
    "1. `cat somefile.txt` 将文件内容写入标准输出：\n",
    "   ```plaintext\n",
    "   Your mother was a hamster and your\n",
    "   father smelled of elderberries.\n",
    "   ```\n",
    "\n",
    "2. 管道 `|` 将上述内容传递给 `python somescript.py`，脚本从标准输入读取数据：\n",
    "   ```plaintext\n",
    "   Your mother was a hamster and your father smelled of elderberries.\n",
    "   ```\n",
    "\n",
    "3. 脚本将文本拆分为单词列表：\n",
    "   ```python\n",
    "   ['Your', 'mother', 'was', 'a', 'hamster', 'and', 'your', 'father', 'smelled', 'of', 'elderberries.']\n",
    "   ```\n",
    "\n",
    "4. 计算单词数量：\n",
    "   ```python\n",
    "   wordcount = 11\n",
    "   ```\n",
    "\n",
    "5. 脚本将结果写入标准输出：\n",
    "   ```plaintext\n",
    "   Wordcount: 11\n",
    "   ```\n",
    "\n",
    "最终，终端上显示的结果是：\n",
    "```plaintext\n",
    "Wordcount: 11\n",
    "```\n",
    "\n",
    "---\n",
    "\n",
    "### **5. 总结**\n",
    "这一节教材的重点是：\n",
    "1. **理解标准输入和标准输出的概念**：程序可以通过标准输入读取数据，通过标准输出写入数据。\n",
    "2. **掌握管道的使用方法**：管道可以将多个命令串联起来，形成一个数据处理流水线。\n",
    "3. **学会编写处理标准输入的脚本**：通过 `sys.stdin`，可以让脚本从其他命令的输出中读取数据。\n"
   ],
   "id": "ae6f0d7b383ef40c"
  },
  {
   "metadata": {},
   "cell_type": "markdown",
   "source": "请你使用test.txt和testscript.py尝试实现上述命令.",
   "id": "d4ed27bc3aac2f66"
  },
  {
   "metadata": {},
   "cell_type": "markdown",
   "source": [
    "## 随机存取\n",
    "### **1. 什么是随机存取？**\n",
    "在前面的内容中，文件被当作一个流（stream），只能按顺序从头到尾读取或写入数据。这种方式被称为**顺序存取**。\n",
    "\n",
    "然而，在实际应用中，我们有时需要直接跳转到文件的某个特定位置进行读写操作，而不需要从头开始逐字节处理。这种操作方式被称为**随机存取**。\n",
    "\n",
    "随机存取的核心是通过 `seek` 和 `tell` 方法来控制文件指针的位置：\n",
    "- **`seek` 方法**：用于移动文件指针到指定位置。\n",
    "- **`tell` 方法**：用于获取当前文件指针的位置。\n",
    "\n",
    "---\n",
    "\n",
    "### **2. `seek` 方法详解**\n",
    "`seek(offset, whence)` 方法用于将文件指针移动到指定位置。它的两个参数分别是：\n",
    "- **`offset`**：表示偏移量，单位是字节（字符）。\n",
    "- **`whence`**：表示偏移量的参考点，默认值为 `io.SEEK_SET`（即文件开头）。它可以有以下三种取值：\n",
    "  - `io.SEEK_SET` 或 `0`：从文件开头开始计算偏移量。\n",
    "  - `io.SEEK_CUR` 或 `1`：从当前位置开始计算偏移量。\n",
    "  - `io.SEEK_END` 或 `2`：从文件末尾开始计算偏移量。\n"
   ],
   "id": "863fff84418dda90"
  },
  {
   "metadata": {
    "ExecuteTime": {
     "end_time": "2025-03-21T05:04:55.241562Z",
     "start_time": "2025-03-21T05:04:55.235003Z"
    }
   },
   "cell_type": "code",
   "source": [
    "f = open(r'test.txt', 'w')\n",
    "f.write('01234567890123456789')  # 写入字符串 \"01234567890123456789\"\n",
    "f.seek(5)  # 将文件指针移动到第 5 个字节（从文件开头算起）\n",
    "f.write('Hello, World!')  # 在第 5 个字节处写入 \"Hello, World!\"\n",
    "f.close()               # 覆盖了从第 5 个字节开始的部分内容!!!\n",
    "# 文件内容变为：'01234Hello, World!89'"
   ],
   "id": "9d790ccdf6ab70f6",
   "outputs": [],
   "execution_count": 35
  },
  {
   "metadata": {
    "ExecuteTime": {
     "end_time": "2025-03-21T05:09:39.021860Z",
     "start_time": "2025-03-21T05:09:39.016420Z"
    }
   },
   "cell_type": "code",
   "source": [
    "f = open(r'test.txt', 'rb')\n",
    "f.read(3)  # 读取前 3 个字节（\"012\"），文件指针移动到第 3 个字节\n",
    "f.seek(2, 1)  # 从当前位置（第 3 个字节）向后移动 2 个字节\n",
    "print(f.tell())  # 输出当前文件指针的位置"
   ],
   "id": "acb3ffe7183ff404",
   "outputs": [
    {
     "name": "stdout",
     "output_type": "stream",
     "text": [
      "5\n"
     ]
    }
   ],
   "execution_count": 37
  },
  {
   "metadata": {},
   "cell_type": "markdown",
   "source": [
    "## 读取和写入行\n",
    "- 与其逐个读取流中的字符，不如成行地读取。要读取一行（从当前位置到下一个分行符的文本），可使用方法readline。调用这个方法时，可不提供任何参数（在这种情况下，将读取一行并返回它）；也可提供一个非负整数，指定readline最多可读取多少个字符。要读取文件中的所有行，并以**列表**的方式返回它们，可使用方法readlines。\n",
    "- 方法writelines与readlines相反：接受一个字符串列表（实际上，可以是任何序列或可迭代对象），并将这些字符串都写入到文件（或流）中。请注意，写入时不会添加换行符，因此你必须自行添加。另外，没有方法writeline，因为可以使用write。"
   ],
   "id": "d542e245ac215f66"
  },
  {
   "metadata": {},
   "cell_type": "markdown",
   "source": [
    "## 关闭文件\n",
    "别忘了调用方法close将文件关闭。\n",
    "- 通常，程序退出时将自动关闭文件对象（也可能在退出程序前这样做），因此是否将读取的文件关闭并不那么重要。然而，关闭文件没有坏处，在有些操作系统和设置中，还可避免无意义地锁定文件以防修改。\n",
    "- 对于写入过的文件，一定要将其关闭，因为Python可能缓冲你写入的数据（将数据暂时存储在某个地方，以提高效率）。因此如果程序因某种原因崩溃，数据可能根本不会写入到文件中。安全的做法是，使用完文件后就将其关闭。\n",
    "### **1. 使用 `try/finally` 确保文件关闭**\n",
    "在早期的 Python 编程中，为了确保文件在操作完成后被正确关闭，通常会使用 `try/finally` 结构。它的基本逻辑是：\n",
    "- 在 `try` 块中执行文件操作。\n",
    "- 在 `finally` 块中调用 `close()` 方法，无论是否发生异常，都会执行 `finally` 块中的代码。\n",
    "\n",
    "#### 示例代码：\n",
    "```python\n",
    "file = open(\"somefile.txt\", \"w\")\n",
    "try:\n",
    "    file.write(\"Hello, World!\")  # 将数据写入文件\n",
    "finally:\n",
    "    file.close()  # 确保文件被关闭\n",
    "```\n",
    "\n",
    "#### 工作流程：\n",
    "1. 打开文件并获取文件对象 `file`。\n",
    "2. 在 `try` 块中执行文件写入操作。\n",
    "3. 如果写入过程中发生异常（例如磁盘空间不足），程序会跳转到 `finally` 块。\n",
    "4. 在 `finally` 块中调用 `file.close()`，确保文件被关闭。\n",
    "\n",
    "这种方式虽然有效，但代码显得冗长且容易出错（例如忘记写 `finally` 块）。\n",
    "\n",
    "---\n",
    "\n",
    "### **2. 使用 `with` 语句简化文件操作**\n",
    "Python 提供了一种更简洁、更安全的方式来处理文件操作，那就是 `with` 语句。它利用了**上下文管理协议**，可以自动管理资源（如文件的打开和关闭）。\n",
    "\n",
    "#### 示例代码：\n",
    "```python\n",
    "with open(\"somefile.txt\", \"w\") as somefile:\n",
    "    somefile.write(\"Hello, World!\")  # 将数据写入文件\n",
    "# 文件在这里已经自动关闭\n",
    "```\n",
    "\n",
    "#### 工作流程：\n",
    "1. 使用 `open` 函数打开文件，并将其赋值给变量 `somefile`。\n",
    "2. 在 `with` 语句块中执行文件操作（如写入数据）。\n",
    "3. 当 `with` 语句块结束时，无论是否发生异常，文件都会自动关闭。\n",
    "\n",
    "#### 优点：\n",
    "- **简洁性**：不需要显式调用 `close()` 方法。\n",
    "- **安全性**：即使在文件操作过程中发生异常，文件也会被正确关闭。\n",
    "- **可读性**：代码更加清晰易懂。\n",
    "\n",
    "---\n",
    "\n",
    "### **3. `with` 语句的工作原理**\n",
    "`with` 语句背后依赖于 Python 的**上下文管理协议**，即实现了 `__enter__` 和 `__exit__` 方法的对象。文件对象（由 `open` 返回）就是一个典型的上下文管理器。\n",
    "\n",
    "#### 上下文管理器的基本结构：\n",
    "```python\n",
    "class ContextManager:\n",
    "    def __enter__(self):\n",
    "        print(\"Entering the context\")\n",
    "        return self  # 返回一个对象，通常是自身\n",
    "\n",
    "    def __exit__(self, exc_type, exc_value, traceback):\n",
    "        print(\"Exiting the context\")\n",
    "        # 可以在这里处理异常或释放资源\n",
    "```\n",
    "\n",
    "当使用 `with` 语句时：\n",
    "1. 调用 `__enter__` 方法，返回的对象会被赋值给 `as` 后的变量。\n",
    "2. 执行 `with` 语句块中的代码。\n",
    "3. 无论是否发生异常，都会调用 `__exit__` 方法。\n",
    "\n",
    "对于文件对象来说：\n",
    "- `__enter__` 方法返回文件对象本身。\n",
    "- `__exit__` 方法负责关闭文件。\n",
    "\n",
    "---"
   ],
   "id": "9caaf5a19f03d604"
  },
  {
   "metadata": {},
   "cell_type": "markdown",
   "source": "## 使用文件的基本方法\n",
   "id": "721eba0bdb4e1af0"
  },
  {
   "metadata": {
    "ExecuteTime": {
     "end_time": "2025-03-21T05:21:44.535242Z",
     "start_time": "2025-03-21T05:21:44.527212Z"
    }
   },
   "cell_type": "code",
   "source": "open('test.txt','w').write('Welcome to this file\\nThere is nothing here except\\nThis stupid haiku')",
   "id": "24a1be25a0564694",
   "outputs": [
    {
     "data": {
      "text/plain": [
       "67"
      ]
     },
     "execution_count": 39,
     "metadata": {},
     "output_type": "execute_result"
    }
   ],
   "execution_count": 39
  },
  {
   "metadata": {
    "ExecuteTime": {
     "end_time": "2025-03-21T05:22:06.825683Z",
     "start_time": "2025-03-21T05:22:06.820656Z"
    }
   },
   "cell_type": "code",
   "source": "f = open('test.txt', 'r')",
   "id": "28bafa790ab2ec1d",
   "outputs": [],
   "execution_count": 40
  },
  {
   "metadata": {
    "ExecuteTime": {
     "end_time": "2025-03-21T05:22:17.366193Z",
     "start_time": "2025-03-21T05:22:17.360480Z"
    }
   },
   "cell_type": "code",
   "source": "print(f.read())",
   "id": "6a4e7f5e5cc588fe",
   "outputs": [
    {
     "name": "stdout",
     "output_type": "stream",
     "text": [
      "Welcome to this file\n",
      "There is nothing here except\n",
      "This stupid haiku\n"
     ]
    }
   ],
   "execution_count": 41
  },
  {
   "metadata": {
    "ExecuteTime": {
     "end_time": "2025-03-21T05:22:25.243505Z",
     "start_time": "2025-03-21T05:22:25.238484Z"
    }
   },
   "cell_type": "code",
   "source": "f.close()",
   "id": "b53672f752b09f93",
   "outputs": [],
   "execution_count": 42
  },
  {
   "metadata": {
    "ExecuteTime": {
     "end_time": "2025-03-21T05:24:24.464538Z",
     "start_time": "2025-03-21T05:24:24.458162Z"
    }
   },
   "cell_type": "code",
   "source": [
    "f = open('test.txt', 'r')\n",
    "for i in range(3):\n",
    "    print(str(i) + ': ' + f.readline(), end='')         # 文本中本身有换行符!!!\n",
    "f.close()"
   ],
   "id": "ddda83879bb325d",
   "outputs": [
    {
     "name": "stdout",
     "output_type": "stream",
     "text": [
      "0: Welcome to this file\n",
      "1: There is nothing here except\n",
      "2: This stupid haiku"
     ]
    }
   ],
   "execution_count": 46
  },
  {
   "metadata": {
    "ExecuteTime": {
     "end_time": "2025-03-21T05:28:11.781757Z",
     "start_time": "2025-03-21T05:28:11.775841Z"
    }
   },
   "cell_type": "code",
   "source": [
    "import pprint       # 在本例中，`pprint.pprint` 的输入是 `open('test.txt').readlines()` 返回的列表。\n",
    "                    # `pprint` 会将列表中的每一行字符串以清晰的格式打印出来。\n",
    "pprint.pprint(open('test.txt').readlines())\n",
    "print(open('test.txt').readlines())\n",
    "f.close()"
   ],
   "id": "20a1fd499e372bd9",
   "outputs": [
    {
     "name": "stdout",
     "output_type": "stream",
     "text": [
      "['Welcome to this file\\n',\n",
      " 'There is nothing here except\\n',\n",
      " 'This stupid haiku']\n",
      "['Welcome to this file\\n', 'There is nothing here except\\n', 'This stupid haiku']\n"
     ]
    }
   ],
   "execution_count": 49
  },
  {
   "metadata": {},
   "cell_type": "markdown",
   "source": [
    "在这段内容中，**“利用了文件对象将被自动关闭这一事实”** 的地方出现在以下代码片段中：\n",
    "\n",
    "```python\n",
    ">>> import pprint\n",
    ">>> pprint.pprint(open(r'C:\\text\\somefile.txt').readlines())\n",
    "['Welcome to this file\\n',\n",
    " 'There is nothing here except\\n',\n",
    " 'This stupid haiku']\n",
    "```\n",
    "\n",
    "---\n",
    "\n",
    "### **1. 什么是“文件对象将被自动关闭”？**\n",
    "在 Python 中，当一个文件对象不再被引用时（例如超出作用域或被垃圾回收机制回收），Python 会自动调用文件对象的 `close()` 方法来关闭文件。这种行为被称为**隐式关闭**。\n",
    "\n",
    "然而，隐式关闭并不是一种推荐的做法，因为它依赖于 Python 的垃圾回收机制，而垃圾回收的时间是不确定的。如果程序需要立即释放资源（如文件句柄），最好显式地调用 `close()` 或使用 `with` 语句。\n",
    "\n",
    "---\n",
    "\n",
    "### **2. 为什么说这里利用了这一点？**\n",
    "在这段代码中：\n",
    "```python\n",
    "pprint.pprint(open(r'C:\\text\\somefile.txt').readlines())\n",
    "```\n",
    "\n",
    "- 文件对象是通过 `open(r'C:\\text\\somefile.txt')` 创建的。\n",
    "- 这个文件对象没有被赋值给任何变量，而是直接传递给了 `readlines()` 方法。\n",
    "- 在 `readlines()` 执行完成后，文件对象不再被引用，因此 Python 的垃圾回收机制会自动关闭文件。\n",
    "\n",
    "换句话说，这段代码并没有显式调用 `f.close()` 来关闭文件，而是依赖 Python 的垃圾回收机制来完成文件的关闭操作。\n",
    "\n",
    "---\n",
    "\n",
    "### **3. 为什么不推荐这种方式？**\n",
    "虽然这段代码可以正常运行，并且文件最终会被关闭，但这种方式存在以下问题：\n",
    "1. **资源释放不及时**：\n",
    "   - 文件可能不会立即关闭，而是等到垃圾回收器运行时才关闭。这可能会导致资源占用时间过长，尤其是在处理大量文件或大文件时。\n",
    "\n",
    "2. **可读性差**：\n",
    "   - 没有显式关闭文件的代码，可能会让其他开发者误以为文件没有被正确关闭。\n",
    "\n",
    "3. **潜在风险**：\n",
    "   - 如果程序异常退出（如发生未捕获的异常），垃圾回收可能不会运行，从而导致文件未被关闭。\n",
    "\n",
    "---\n",
    "\n",
    "### **4. 推荐的做法**\n",
    "为了避免上述问题，建议使用 `with` 语句来管理文件操作。`with` 语句会在代码块结束时自动关闭文件，无论是否发生异常。\n",
    "\n",
    "改进后的代码如下：\n",
    "```python\n",
    "import pprint\n",
    "\n",
    "with open(r'C:\\text\\somefile.txt') as f:\n",
    "    pprint.pprint(f.readlines())\n",
    "```\n",
    "\n",
    "#### 优点：\n",
    "- 文件会在 `with` 语句块结束时自动关闭，无需手动调用 `close()`。\n",
    "- 代码更加清晰、安全，符合 Python 的最佳实践。\n",
    "\n",
    "---\n",
    "\n",
    "### **5. 总结**\n",
    "在这段代码中，“利用了文件对象将被自动关闭这一事实”指的是：\n",
    "- 文件对象没有被显式赋值给变量，也没有调用 `close()` 方法。\n",
    "- 依赖 Python 的垃圾回收机制，在文件对象不再被引用时自动关闭文件。\n",
    "\n",
    "尽管这种方式可以工作，但为了确保资源及时释放和代码的可读性，建议使用 `with` 语句来管理文件操作。\n",
    "\n",
    "<div style='display: block; width: 100%; text-align: right; font-size: 12px; color: #666;'>以上内容由大语言模型生成，请注意鉴别</div>"
   ],
   "id": "7d5b499474b81817"
  },
  {
   "metadata": {},
   "cell_type": "markdown",
   "source": "下面来尝试写入:",
   "id": "a7e7b539c1f08fdb"
  },
  {
   "metadata": {
    "ExecuteTime": {
     "end_time": "2025-03-21T05:33:18.524158Z",
     "start_time": "2025-03-21T05:33:18.517979Z"
    }
   },
   "cell_type": "code",
   "source": [
    "f = open('test.txt','w')\n",
    "f.write('this\\nis no\\nhaiku')\n",
    "f.close()"
   ],
   "id": "f3bbfe918d47b9ca",
   "outputs": [],
   "execution_count": 50
  },
  {
   "metadata": {
    "ExecuteTime": {
     "end_time": "2025-03-21T05:36:42.832803Z",
     "start_time": "2025-03-21T05:36:42.824896Z"
    }
   },
   "cell_type": "code",
   "source": [
    "f = open('test.txt')\n",
    "lines = f.readlines()\n",
    "f.close()\n",
    "lines[1] = \"isn't a\\n\"\n",
    "f = open('test.txt','w')\n",
    "f.writelines(lines)\n",
    "f.close()\n",
    "f = open('test.txt').read()\n",
    "print(f)"
   ],
   "id": "f5b6926fec30563",
   "outputs": [
    {
     "name": "stdout",
     "output_type": "stream",
     "text": [
      "this\n",
      "isn't a\n",
      "haiku\n"
     ]
    }
   ],
   "execution_count": 51
  },
  {
   "metadata": {},
   "cell_type": "markdown",
   "source": [
    "## 迭代文件内容\n",
    "一种常见的文件操作是迭代其内容，并在迭代过程中反复采取某种措施。\n",
    "\n",
    "---\n",
    "\n",
    "在本节中，我们将探讨如何以不同的方式迭代文件内容。为了简化示例，使用了一个虚构的 `process` 函数来表示对每个字符或行的处理。\n",
    "\n",
    "```python\n",
    "def process(string):\n",
    "    print('Processing:', string)\n",
    "```\n",
    "\n",
    "你可以根据需要实现自己的 `process` 函数，例如存储数据、计算总和、模式替换或添加行号等。\n",
    "\n",
    "### **11.3.1 每次一个字符（或字节）**\n",
    "\n",
    "#### **方法 1：使用 `read(1)` 和 `while` 循环**\n",
    "逐个读取文件中的字符（或二进制模式下的字节）。\n",
    "\n",
    "```python\n",
    "with open(filename) as f:\n",
    "    char = f.read(1)\n",
    "    while char:\n",
    "        process(char)\n",
    "        char = f.read(1)\n",
    "```\n",
    "\n",
    "- **原理**：\n",
    "  - 每次调用 `f.read(1)` 读取一个字符。\n",
    "  - 当到达文件末尾时，`read` 返回空字符串（布尔值为 `False`），循环结束。\n",
    "\n",
    "#### **方法 2：避免代码重复**\n",
    "为了避免重复调用 `f.read(1)`，可以使用 `while True` 和 `break` 结构。\n",
    "\n",
    "```python\n",
    "with open(filename) as f:\n",
    "    while True:\n",
    "        char = f.read(1)\n",
    "        if not char: break\n",
    "        process(char)\n",
    "```\n",
    "\n",
    "- **优点**：\n",
    "  - 避免了重复代码。\n",
    "  - 更简洁，但需注意不要滥用 `break`。\n",
    "\n",
    "---\n",
    "\n",
    "### **11.3.2 每次一行**\n",
    "\n",
    "#### **方法：使用 `readline` 和 `while` 循环**\n",
    "逐行读取文件内容。\n",
    "\n",
    "```python\n",
    "with open(filename) as f:\n",
    "    while True:\n",
    "        line = f.readline()\n",
    "        if not line: break\n",
    "        process(line)\n",
    "```\n",
    "\n",
    "- **特点**：\n",
    "  - 每次调用 `f.readline()` 读取一行。\n",
    "  - 到达文件末尾时，`readline` 返回空字符串，循环结束。\n",
    "\n",
    "---\n",
    "\n",
    "### **11.3.3 读取所有内容**\n",
    "\n",
    "如果文件较小，可以直接一次性读取整个文件内容。\n",
    "\n",
    "#### **方法 1：使用 `read` 迭代字符**\n",
    "将整个文件读取为一个字符串，并逐字符迭代。\n",
    "\n",
    "```python\n",
    "with open(filename) as f:\n",
    "    for char in f.read():\n",
    "        process(char)\n",
    "```\n",
    "\n",
    "#### **方法 2：使用 `readlines` 迭代行**\n",
    "将整个文件读取为一个字符串列表（每行一个字符串），并逐行迭代。\n",
    "\n",
    "```python\n",
    "with open(filename) as f:\n",
    "    for line in f.readlines():\n",
    "        process(line)\n",
    "```\n",
    "\n",
    "- **优点**：\n",
    "  - 方便对整个文件内容进行操作，例如正则表达式匹配或存储到数据结构中。\n",
    "\n",
    "---\n",
    "\n",
    "### **11.3.4 使用 `fileinput` 实现延迟行迭代**\n",
    "\n",
    "对于大型文件，使用 `readlines` 可能会占用过多内存。此时可以使用 `fileinput` 模块实现延迟行迭代。\n",
    "\n",
    "```python\n",
    "import fileinput\n",
    "\n",
    "for line in fileinput.input(filename):\n",
    "    process(line)\n",
    "```\n",
    "\n",
    "- **特点**：\n",
    "  - `fileinput` 负责打开文件，只需提供文件名。\n",
    "  - 延迟读取，只加载实际需要的部分。\n",
    "\n",
    "---\n",
    "\n",
    "### **11.3.5 文件迭代器**\n",
    "\n",
    "文件对象本身是可迭代的，因此可以直接在 `for` 循环中使用它们来迭代行。\n",
    "\n",
    "#### **方法 1：使用上下文管理器**\n",
    "确保文件在操作完成后被正确关闭。\n",
    "\n",
    "```python\n",
    "with open(filename) as f:\n",
    "    for line in f:\n",
    "        process(line)\n",
    "```\n",
    "\n",
    "#### **方法 2：不显式赋值文件对象**\n",
    "如果不需要显式关闭文件，可以进一步简化代码。\n",
    "\n",
    "```python\n",
    "for line in open(filename):\n",
    "    process(line)\n",
    "```\n",
    "\n",
    "- **注意事项**：\n",
    "  - 如果不写入文件，通常可以让 Python 自动关闭文件。\n",
    "  - 对于标准输入（`sys.stdin`），也可以直接迭代。\n",
    "\n",
    "```python\n",
    "import sys\n",
    "\n",
    "for line in sys.stdin:\n",
    "    process(line)\n",
    "```\n",
    "\n",
    "---\n",
    "\n",
    "## **11.4 小结**\n",
    "\n",
    "以下是一个完整的示例，展示了如何写入和读取文件内容。\n",
    "\n",
    "### **写入文件**\n",
    "使用 `print` 函数写入文件，自动添加换行符。\n",
    "\n",
    "```python\n",
    "f = open('somefile.txt', 'w')\n",
    "print('First', 'line', file=f)\n",
    "print('Second', 'line', file=f)\n",
    "print('Third', 'and final', 'line', file=f)\n",
    "f.close()\n",
    "```\n",
    "\n",
    "### **读取文件**\n",
    "将文件内容转换为字符串列表。\n",
    "\n",
    "```python\n",
    "lines = list(open('somefile.txt'))\n",
    "print(lines)\n",
    "# 输出：['First line\\n', 'Second line\\n', 'Third and final line\\n']\n",
    "```\n",
    "\n",
    "### **序列解包**\n",
    "将文件的每一行存储到不同的变量中。\n",
    "\n",
    "```python\n",
    "first, second, third = open('somefile.txt')\n",
    "print(first)   # 输出：'First line\\n'\n",
    "print(second)  # 输出：'Second line\\n'\n",
    "print(third)   # 输出：'Third and final line\\n'\n",
    "```\n",
    "\n",
    "- **注意事项**：\n",
    "  - 写入文件后应显式关闭文件，以确保数据写入磁盘。\n",
    "  - 读取文件后未关闭文件不会导致致命错误，但最好使用上下文管理器。\n",
    "\n",
    "---"
   ],
   "id": "b34f7133d12507d2"
  },
  {
   "metadata": {},
   "cell_type": "markdown",
   "source": [
    "# 补充\n",
    "---\n",
    "\n",
    "### **1. 使用 `print` 写入文件的基本语法**\n",
    "在 Python 中，`print` 函数不仅可以将内容输出到终端屏幕，还可以将内容写入文件。通过指定 `file` 参数，可以将输出重定向到一个文件对象。\n",
    "\n",
    "#### 语法：\n",
    "```python\n",
    "print(*objects, sep=' ', end='\\n', file=sys.stdout, flush=False)\n",
    "```\n",
    "\n",
    "- **`*objects`**：要打印的内容，可以是多个值，用逗号分隔。\n",
    "- **`sep`**：多个值之间的分隔符，默认为空格 `' '`。\n",
    "- **`end`**：在输出内容的末尾添加的字符，默认为换行符 `'\\n'`。\n",
    "- **`file`**：指定输出的目标，默认为 `sys.stdout`（即终端屏幕）。如果想写入文件，可以将文件对象传递给 `file` 参数。\n",
    "- **`flush`**：是否强制刷新输出流，默认为 `False`。\n",
    "\n",
    "---\n",
    "\n",
    "### **2. 示例代码**\n",
    "\n",
    "#### 示例 1：将内容写入文件\n",
    "```python\n",
    "# 打开文件以写入模式\n",
    "with open('example.txt', 'w') as f:\n",
    "    print('Hello, World!', file=f)  # 将内容写入文件\n",
    "    print('This is a test.', file=f)\n",
    "```\n",
    "\n",
    "运行后，文件 `example.txt` 的内容如下：\n",
    "```\n",
    "Hello, World!\n",
    "This is a test.\n",
    "```\n",
    "\n",
    "#### 解释：\n",
    "- 每次调用 `print` 函数时，都会将内容写入文件，并在末尾自动添加换行符（因为 `end='\\n'` 是默认值）。\n",
    "- 文件对象 `f` 被传递给 `file` 参数，因此输出被重定向到文件而不是终端。\n",
    "\n",
    "---\n",
    "\n",
    "### **3. 自动添加换行符的行为**\n",
    "\n",
    "`print` 函数会在每次输出的末尾自动添加换行符（`\\n`），这是它的默认行为。如果你不希望自动添加换行符，可以通过修改 `end` 参数来改变这一行为。\n",
    "\n",
    "#### 示例 2：自定义 `end` 参数\n",
    "```python\n",
    "with open('example.txt', 'w') as f:\n",
    "    print('Hello,', file=f, end='')  # 不添加换行符\n",
    "    print('World!', file=f)         # 默认添加换行符\n",
    "    print('This is a test.', file=f)\n",
    "```\n",
    "\n",
    "运行后，文件 `example.txt` 的内容如下：\n",
    "```\n",
    "Hello,World!\n",
    "This is a test.\n",
    "```\n",
    "\n",
    "#### 解释：\n",
    "- 第一行的 `end=''` 参数取消了默认的换行符，因此 `'Hello,'` 和 `'World!'` 被写入同一行。\n",
    "- 第二行和第三行保留了默认的换行符。\n",
    "\n",
    "---\n",
    "\n",
    "### **4. 对比 `print` 和 `write`**\n",
    "\n",
    "虽然 `print` 可以用于写入文件，但它与文件对象的 `write` 方法有一些区别：\n",
    "\n",
    "| 特性                     | `print`                                    | `write`                                  |\n",
    "|--------------------------|--------------------------------------------|------------------------------------------|\n",
    "| **自动换行**             | 默认在末尾添加换行符 `\\n`                  | 不会自动添加换行符                       |\n",
    "| **分隔符**               | 多个值之间用空格分隔（可通过 `sep` 修改）   | 需要手动拼接字符串                       |\n",
    "| **灵活性**               | 更适合快速输出格式化内容                   | 更底层，适合精确控制输出内容             |\n",
    "\n",
    "#### 示例 3：对比 `print` 和 `write`\n",
    "```python\n",
    "with open('example.txt', 'w') as f:\n",
    "    print('Hello,', 'World!', file=f)  # 自动添加空格和换行符\n",
    "    f.write('This is a test.')        # 不会自动添加换行符\n",
    "```\n",
    "\n",
    "运行后，文件 `example.txt` 的内容如下：\n",
    "```\n",
    "Hello, World!\n",
    "This is a test.\n",
    "```\n",
    "\n",
    "#### 解释：\n",
    "- `print` 自动在 `'Hello,'` 和 `'World!'` 之间添加空格，并在末尾添加换行符。\n",
    "- `write` 不会自动添加任何分隔符或换行符。\n",
    "\n",
    "---\n",
    "\n",
    "### **5. 总结**\n",
    "\n",
    "- **`print` 写入文件的优点**：\n",
    "  - 简单易用，适合快速输出格式化内容。\n",
    "  - 自动处理换行符和分隔符，减少手动拼接字符串的工作量。\n",
    "\n",
    "- **注意事项**：\n",
    "  - 如果需要更精确地控制输出内容（如避免自动换行），可以使用 `write` 方法。\n",
    "  - 使用 `print` 写入文件时，记得显式关闭文件或使用 `with` 语句管理文件。"
   ],
   "id": "bcd96284749c0666"
  }
 ],
 "metadata": {
  "kernelspec": {
   "display_name": "Python 3",
   "language": "python",
   "name": "python3"
  },
  "language_info": {
   "codemirror_mode": {
    "name": "ipython",
    "version": 2
   },
   "file_extension": ".py",
   "mimetype": "text/x-python",
   "name": "python",
   "nbconvert_exporter": "python",
   "pygments_lexer": "ipython2",
   "version": "2.7.6"
  }
 },
 "nbformat": 4,
 "nbformat_minor": 5
}
