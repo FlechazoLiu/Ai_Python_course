{
 "cells": [
  {
   "metadata": {},
   "cell_type": "markdown",
   "source": [
    "# 快速上手:基础知识\n",
    "\n",
    "## 数与表达式\n",
    "\n",
    "### 运算符"
   ],
   "id": "c3467486154b989"
  },
  {
   "metadata": {
    "ExecuteTime": {
     "end_time": "2025-03-03T04:28:34.703685Z",
     "start_time": "2025-03-03T04:28:34.698063Z"
    }
   },
   "cell_type": "code",
   "source": "1 + 2",
   "id": "61bebfa8a883708b",
   "outputs": [
    {
     "data": {
      "text/plain": [
       "1"
      ]
     },
     "execution_count": 5,
     "metadata": {},
     "output_type": "execute_result"
    }
   ],
   "execution_count": 5
  },
  {
   "metadata": {
    "ExecuteTime": {
     "end_time": "2025-03-03T04:29:23.699741Z",
     "start_time": "2025-03-03T04:29:23.694151Z"
    }
   },
   "cell_type": "code",
   "source": "2 * 3",
   "id": "aaa6c9e15be961cb",
   "outputs": [
    {
     "data": {
      "text/plain": [
       "6"
      ]
     },
     "execution_count": 6,
     "metadata": {},
     "output_type": "execute_result"
    }
   ],
   "execution_count": 6
  },
  {
   "metadata": {
    "ExecuteTime": {
     "end_time": "2025-03-03T04:29:31.488484Z",
     "start_time": "2025-03-03T04:29:31.481950Z"
    }
   },
   "cell_type": "code",
   "source": "6 / 4       # 浮点数除法",
   "id": "9c0312037f46afc3",
   "outputs": [
    {
     "data": {
      "text/plain": [
       "1.5"
      ]
     },
     "execution_count": 7,
     "metadata": {},
     "output_type": "execute_result"
    }
   ],
   "execution_count": 7
  },
  {
   "metadata": {
    "ExecuteTime": {
     "end_time": "2025-03-03T04:31:17.976602Z",
     "start_time": "2025-03-03T04:31:17.970140Z"
    }
   },
   "cell_type": "code",
   "source": "6 % 4      # 取余    a % b = a - (a // b) * b",
   "id": "a8f899a3c3c600da",
   "outputs": [
    {
     "data": {
      "text/plain": [
       "2"
      ]
     },
     "execution_count": 12,
     "metadata": {},
     "output_type": "execute_result"
    }
   ],
   "execution_count": 12
  },
  {
   "metadata": {
    "ExecuteTime": {
     "end_time": "2025-03-03T04:29:41.763050Z",
     "start_time": "2025-03-03T04:29:41.757746Z"
    }
   },
   "cell_type": "code",
   "source": "6 // 4      # 整除运算",
   "id": "1da5ce22fc4e5530",
   "outputs": [
    {
     "data": {
      "text/plain": [
       "1"
      ]
     },
     "execution_count": 9,
     "metadata": {},
     "output_type": "execute_result"
    }
   ],
   "execution_count": 9
  },
  {
   "metadata": {
    "ExecuteTime": {
     "end_time": "2025-03-03T04:32:10.900286Z",
     "start_time": "2025-03-03T04:32:10.894052Z"
    }
   },
   "cell_type": "code",
   "source": "2 ** 3",
   "id": "5a6dff94240248c6",
   "outputs": [
    {
     "data": {
      "text/plain": [
       "8"
      ]
     },
     "execution_count": 13,
     "metadata": {},
     "output_type": "execute_result"
    }
   ],
   "execution_count": 13
  },
  {
   "metadata": {},
   "cell_type": "markdown",
   "source": "### 进制",
   "id": "368c6b1a385a6e77"
  },
  {
   "metadata": {
    "ExecuteTime": {
     "end_time": "2025-03-03T04:35:25.578315Z",
     "start_time": "2025-03-03T04:35:25.572754Z"
    }
   },
   "cell_type": "code",
   "source": "0xA             # 十六进制",
   "id": "cb1ca15729be2ef",
   "outputs": [
    {
     "data": {
      "text/plain": [
       "10"
      ]
     },
     "execution_count": 16,
     "metadata": {},
     "output_type": "execute_result"
    }
   ],
   "execution_count": 16
  },
  {
   "metadata": {
    "ExecuteTime": {
     "end_time": "2025-03-03T04:36:15.294883Z",
     "start_time": "2025-03-03T04:36:15.290250Z"
    }
   },
   "cell_type": "code",
   "source": "0o100           # 八进制",
   "id": "4324aaf602885f35",
   "outputs": [
    {
     "data": {
      "text/plain": [
       "64"
      ]
     },
     "execution_count": 19,
     "metadata": {},
     "output_type": "execute_result"
    }
   ],
   "execution_count": 19
  },
  {
   "metadata": {
    "ExecuteTime": {
     "end_time": "2025-03-03T04:36:48.707229Z",
     "start_time": "2025-03-03T04:36:48.701886Z"
    }
   },
   "cell_type": "code",
   "source": "0b10010         # 二进制",
   "id": "9bb0fd7e06c2cfc9",
   "outputs": [
    {
     "data": {
      "text/plain": [
       "18"
      ]
     },
     "execution_count": 20,
     "metadata": {},
     "output_type": "execute_result"
    }
   ],
   "execution_count": 20
  },
  {
   "metadata": {},
   "cell_type": "markdown",
   "source": [
    "### 变量(参考C语言,此处略)\n",
    "\n",
    "### 语句与表达式\n",
    "表达式**是**一些东西, 而语句**做**一些事情"
   ],
   "id": "1caae5eb29aceacf"
  },
  {
   "metadata": {
    "ExecuteTime": {
     "end_time": "2025-03-03T04:39:49.933061Z",
     "start_time": "2025-03-03T04:39:49.927002Z"
    }
   },
   "cell_type": "code",
   "source": "2 * 8         # 值为16, 交互式解释器始终将表达式的值打印出来!!!",
   "id": "ae5bda7ead06705b",
   "outputs": [
    {
     "data": {
      "text/plain": [
       "16"
      ]
     },
     "execution_count": 21,
     "metadata": {},
     "output_type": "execute_result"
    }
   ],
   "execution_count": 21
  },
  {
   "metadata": {
    "ExecuteTime": {
     "end_time": "2025-03-03T04:39:50.935393Z",
     "start_time": "2025-03-03T04:39:50.930150Z"
    }
   },
   "cell_type": "code",
   "source": "print(2 * 8)     # 打印16",
   "id": "9e25bf3e70526171",
   "outputs": [
    {
     "name": "stdout",
     "output_type": "stream",
     "text": [
      "16\n"
     ]
    }
   ],
   "execution_count": 22
  },
  {
   "metadata": {},
   "cell_type": "markdown",
   "source": "语句的一个根本特征: **执行修改操作**\n",
   "id": "a4202e7c506fb34"
  },
  {
   "metadata": {},
   "cell_type": "markdown",
   "source": "## 获取用户输入",
   "id": "47344fb534065cf8"
  },
  {
   "metadata": {
    "ExecuteTime": {
     "end_time": "2025-03-03T04:46:07.239161Z",
     "start_time": "2025-03-03T04:46:04.420769Z"
    }
   },
   "cell_type": "code",
   "source": [
    "a = input(\"how old are you?\")           # 获取用户输入值\n",
    "type(a)                                 # 得到的类型为str!!!\n",
    "print(a + \"1\")                          # 字符串拼接\n",
    "print(int(a) + 1)                       # 数字相加"
   ],
   "id": "ce9573a1ec846735",
   "outputs": [
    {
     "name": "stdout",
     "output_type": "stream",
     "text": [
      "1011\n",
      "102\n"
     ]
    }
   ],
   "execution_count": 28
  },
  {
   "metadata": {},
   "cell_type": "markdown",
   "source": [
    "## 函数(内置函数)\n",
    "列出初学常用的函数,其他内置函数将在后续的学习中逐步了解"
   ],
   "id": "57abac8120a34657"
  },
  {
   "metadata": {
    "ExecuteTime": {
     "end_time": "2025-03-03T04:49:00.558976Z",
     "start_time": "2025-03-03T04:49:00.552767Z"
    }
   },
   "cell_type": "code",
   "source": "abs(-100)           # 绝对值函数",
   "id": "d8d84c0bfbb0cab8",
   "outputs": [
    {
     "data": {
      "text/plain": [
       "100"
      ]
     },
     "execution_count": 30,
     "metadata": {},
     "output_type": "execute_result"
    }
   ],
   "execution_count": 30
  },
  {
   "metadata": {
    "ExecuteTime": {
     "end_time": "2025-03-03T04:51:40.559139Z",
     "start_time": "2025-03-03T04:51:40.551829Z"
    }
   },
   "cell_type": "code",
   "source": "all([1,1,1,1,0])            # 可迭代对象(iterable)均为真,返回真,否则返回假",
   "id": "d87b412a09512b39",
   "outputs": [
    {
     "data": {
      "text/plain": [
       "False"
      ]
     },
     "execution_count": 36,
     "metadata": {},
     "output_type": "execute_result"
    }
   ],
   "execution_count": 36
  },
  {
   "metadata": {
    "ExecuteTime": {
     "end_time": "2025-03-03T04:52:13.777215Z",
     "start_time": "2025-03-03T04:52:13.771617Z"
    }
   },
   "cell_type": "code",
   "source": "any({1,2,3,4,5,False})     # 均为假,返回假",
   "id": "7f300e86f2b80c4a",
   "outputs": [
    {
     "data": {
      "text/plain": [
       "True"
      ]
     },
     "execution_count": 38,
     "metadata": {},
     "output_type": "execute_result"
    }
   ],
   "execution_count": 38
  },
  {
   "metadata": {
    "ExecuteTime": {
     "end_time": "2025-03-03T04:55:31.348815Z",
     "start_time": "2025-03-03T04:55:31.341447Z"
    }
   },
   "cell_type": "code",
   "source": [
    "a = eval(\"10086\")       # 计算(evaluate)字符串的值\n",
    "print(a + 1)\n",
    "type(a)"
   ],
   "id": "47e358ca3ea7a207",
   "outputs": [
    {
     "name": "stdout",
     "output_type": "stream",
     "text": [
      "10087\n"
     ]
    },
    {
     "data": {
      "text/plain": [
       "int"
      ]
     },
     "execution_count": 45,
     "metadata": {},
     "output_type": "execute_result"
    }
   ],
   "execution_count": 45
  },
  {
   "metadata": {
    "ExecuteTime": {
     "end_time": "2025-03-03T04:57:03.617191Z",
     "start_time": "2025-03-03T04:57:03.611335Z"
    }
   },
   "cell_type": "code",
   "source": [
    "print(type(float(10086)))        # 将字符串或整数转换为浮点数\n",
    "print(type(float(\"10086\")))"
   ],
   "id": "506bbf0b3e960bd8",
   "outputs": [
    {
     "name": "stdout",
     "output_type": "stream",
     "text": [
      "<class 'float'>\n",
      "<class 'float'>\n"
     ]
    }
   ],
   "execution_count": 49
  },
  {
   "metadata": {
    "ExecuteTime": {
     "end_time": "2025-03-03T04:58:57.769188Z",
     "start_time": "2025-03-03T04:58:54.302674Z"
    }
   },
   "cell_type": "code",
   "source": "input(\"prompt\")         # 略",
   "id": "70fba4e2c1e3959a",
   "outputs": [
    {
     "data": {
      "text/plain": [
       "'100'"
      ]
     },
     "execution_count": 50,
     "metadata": {},
     "output_type": "execute_result"
    }
   ],
   "execution_count": 50
  },
  {
   "metadata": {
    "ExecuteTime": {
     "end_time": "2025-03-03T05:01:28.163387Z",
     "start_time": "2025-03-03T05:01:28.158137Z"
    }
   },
   "cell_type": "code",
   "source": [
    "print(int(\"10010\",2))         # 将字符串或数字转换成整数,且可选择基数\n",
    "print(int(10010.5))\n",
    "print(int(9.99999))         # 向下取整"
   ],
   "id": "b4d986be60530b",
   "outputs": [
    {
     "name": "stdout",
     "output_type": "stream",
     "text": [
      "18\n",
      "10010\n",
      "9\n"
     ]
    }
   ],
   "execution_count": 54
  },
  {
   "metadata": {
    "ExecuteTime": {
     "end_time": "2025-03-03T05:05:43.102921Z",
     "start_time": "2025-03-03T05:05:43.097182Z"
    }
   },
   "cell_type": "code",
   "source": [
    "a = [1,2,3,4,5,6,7,8,9,10,11,12,13,14,15]\n",
    "print(max(a))\n",
    "print(max(2,4,6,8,10))\n",
    "print(min(a))\n",
    "print(min(2,4,6,8,10))"
   ],
   "id": "59aa2545e91d8904",
   "outputs": [
    {
     "name": "stdout",
     "output_type": "stream",
     "text": [
      "15\n",
      "10\n",
      "1\n",
      "2\n"
     ]
    }
   ],
   "execution_count": 61
  },
  {
   "metadata": {
    "ExecuteTime": {
     "end_time": "2025-03-03T05:06:15.091483Z",
     "start_time": "2025-03-03T05:06:15.085867Z"
    }
   },
   "cell_type": "code",
   "source": "pow(2,3,6)          # x的y次方(对z求模)",
   "id": "9b4295fde84a2524",
   "outputs": [
    {
     "data": {
      "text/plain": [
       "2"
      ]
     },
     "execution_count": 62,
     "metadata": {},
     "output_type": "execute_result"
    }
   ],
   "execution_count": 62
  },
  {
   "metadata": {
    "ExecuteTime": {
     "end_time": "2025-03-03T05:08:09.067935Z",
     "start_time": "2025-03-03T05:08:09.062419Z"
    }
   },
   "cell_type": "code",
   "source": "type(range(1,6,1))      # 左闭右开,可选择步长,生成一个range类型的一系列值",
   "id": "21bc3b5eabc42a1e",
   "outputs": [
    {
     "data": {
      "text/plain": [
       "range"
      ]
     },
     "execution_count": 65,
     "metadata": {},
     "output_type": "execute_result"
    }
   ],
   "execution_count": 65
  },
  {
   "metadata": {
    "ExecuteTime": {
     "end_time": "2025-03-03T05:10:03.947115Z",
     "start_time": "2025-03-03T05:10:03.940569Z"
    }
   },
   "cell_type": "code",
   "source": "round(1.88888,3)            # 圆整(四舍五入取整)到小数点后n位(默认为零位)",
   "id": "21ebd7f692fdf9c8",
   "outputs": [
    {
     "data": {
      "text/plain": [
       "1.889"
      ]
     },
     "execution_count": 66,
     "metadata": {},
     "output_type": "execute_result"
    }
   ],
   "execution_count": 66
  },
  {
   "metadata": {
    "ExecuteTime": {
     "end_time": "2025-03-03T05:11:33.308621Z",
     "start_time": "2025-03-03T05:11:33.302150Z"
    }
   },
   "cell_type": "code",
   "source": "str(10000+10023)            # 返回格式良好的字符串表示",
   "id": "be1730fd0347ed98",
   "outputs": [
    {
     "data": {
      "text/plain": [
       "'20023'"
      ]
     },
     "execution_count": 69,
     "metadata": {},
     "output_type": "execute_result"
    }
   ],
   "execution_count": 69
  },
  {
   "metadata": {
    "ExecuteTime": {
     "end_time": "2025-03-03T05:12:50.626751Z",
     "start_time": "2025-03-03T05:12:50.621059Z"
    }
   },
   "cell_type": "code",
   "source": [
    "a = [1,2,3,4,5,6,7,8,9,10,11,12,13,14,15]\n",
    "sum(a,100000)           # 计算数字序列总和,再加上可选参数的值"
   ],
   "id": "49f211822075b8e",
   "outputs": [
    {
     "data": {
      "text/plain": [
       "100120"
      ]
     },
     "execution_count": 70,
     "metadata": {},
     "output_type": "execute_result"
    }
   ],
   "execution_count": 70
  },
  {
   "metadata": {
    "ExecuteTime": {
     "end_time": "2025-03-03T05:14:05.404346Z",
     "start_time": "2025-03-03T05:14:05.399038Z"
    }
   },
   "cell_type": "code",
   "source": "type(\"hello world!\")            # 返回对象的类型",
   "id": "a2b88bdb6a475803",
   "outputs": [
    {
     "data": {
      "text/plain": [
       "str"
      ]
     },
     "execution_count": 71,
     "metadata": {},
     "output_type": "execute_result"
    }
   ],
   "execution_count": 71
  },
  {
   "metadata": {
    "ExecuteTime": {
     "end_time": "2025-03-03T06:30:19.259453Z",
     "start_time": "2025-03-03T06:30:19.252654Z"
    }
   },
   "cell_type": "code",
   "source": "dir()           # ...",
   "id": "bb7000b78d215b98",
   "outputs": [
    {
     "data": {
      "text/plain": [
       "['In',\n",
       " 'Out',\n",
       " '_',\n",
       " '_1',\n",
       " '__',\n",
       " '___',\n",
       " '__builtin__',\n",
       " '__builtins__',\n",
       " '__doc__',\n",
       " '__loader__',\n",
       " '__name__',\n",
       " '__package__',\n",
       " '__session__',\n",
       " '__spec__',\n",
       " '_dh',\n",
       " '_i',\n",
       " '_i1',\n",
       " '_i2',\n",
       " '_ih',\n",
       " '_ii',\n",
       " '_iii',\n",
       " '_oh',\n",
       " '_pydevd_bundle',\n",
       " 'exit',\n",
       " 'get_ipython',\n",
       " 'open',\n",
       " 'pydev_jupyter_vars',\n",
       " 'quit',\n",
       " 'remove_imported_pydev_package',\n",
       " 'sys']"
      ]
     },
     "execution_count": 2,
     "metadata": {},
     "output_type": "execute_result"
    }
   ],
   "execution_count": 2
  },
  {
   "metadata": {},
   "cell_type": "markdown",
   "source": [
    "## 模块\n",
    "可将模块视为扩展,通过将其导入可以扩展python的功能."
   ],
   "id": "53d675ade7eadd58"
  },
  {
   "metadata": {
    "ExecuteTime": {
     "end_time": "2025-03-03T05:20:12.534425Z",
     "start_time": "2025-03-03T05:20:12.528999Z"
    }
   },
   "cell_type": "code",
   "source": [
    "import math         # 导入数学库\n",
    "print(math.floor(32.9))            # 数学库中向下取整函数\n",
    "# floor(1.1) 错误! 需指定哪个模块的函数,格式: module.function()\n",
    "print(math.ceil(32.9))             # 向上取整函数"
   ],
   "id": "c08a57843045222e",
   "outputs": [
    {
     "name": "stdout",
     "output_type": "stream",
     "text": [
      "32\n",
      "33\n"
     ]
    }
   ],
   "execution_count": 76
  },
  {
   "metadata": {},
   "cell_type": "markdown",
   "source": "如果确定不会从不同模块导入多个同名函数,可以使用如下变种,可避免指定模块名",
   "id": "e8c7b0064d3f274d"
  },
  {
   "metadata": {
    "ExecuteTime": {
     "end_time": "2025-03-03T05:22:19.266438Z",
     "start_time": "2025-03-03T05:22:19.259883Z"
    }
   },
   "cell_type": "code",
   "source": [
    "from math import sqrt\n",
    "sqrt(9)"
   ],
   "id": "bd13bd5124526b69",
   "outputs": [
    {
     "data": {
      "text/plain": [
       "3.0"
      ]
     },
     "execution_count": 77,
     "metadata": {},
     "output_type": "execute_result"
    }
   ],
   "execution_count": 77
  },
  {
   "metadata": {},
   "cell_type": "markdown",
   "source": "事实上,我们可以用变量来引用函数:",
   "id": "e9109e8952ec6ff1"
  },
  {
   "metadata": {
    "ExecuteTime": {
     "end_time": "2025-03-03T05:24:11.518243Z",
     "start_time": "2025-03-03T05:24:11.512710Z"
    }
   },
   "cell_type": "code",
   "source": [
    "from math import sqrt\n",
    "q = sqrt\n",
    "q(9)"
   ],
   "id": "a8aed04fe0319784",
   "outputs": [
    {
     "data": {
      "text/plain": [
       "3.0"
      ]
     },
     "execution_count": 78,
     "metadata": {},
     "output_type": "execute_result"
    }
   ],
   "execution_count": 78
  },
  {
   "metadata": {},
   "cell_type": "markdown",
   "source": "顺便介绍一下cmath模块:",
   "id": "1cb3be8c7a18a49e"
  },
  {
   "metadata": {
    "ExecuteTime": {
     "end_time": "2025-03-03T05:25:42.816357Z",
     "start_time": "2025-03-03T05:25:42.809638Z"
    }
   },
   "cell_type": "code",
   "source": [
    "import cmath            # 注意若使用from cmath import sqrt,会导致无法使用常规的sqrt!!!\n",
    "cmath.sqrt(-1)"
   ],
   "id": "a9ade306f5176132",
   "outputs": [
    {
     "data": {
      "text/plain": [
       "1j"
      ]
     },
     "execution_count": 79,
     "metadata": {},
     "output_type": "execute_result"
    }
   ],
   "execution_count": 79
  },
  {
   "metadata": {
    "ExecuteTime": {
     "end_time": "2025-03-03T05:27:30.513024Z",
     "start_time": "2025-03-03T05:27:30.507194Z"
    }
   },
   "cell_type": "code",
   "source": "(1 + 8j) * (6 - 1j)         #python本身提供了对复数的支持",
   "id": "ad52a27ea073f0ed",
   "outputs": [
    {
     "data": {
      "text/plain": [
       "(14+47j)"
      ]
     },
     "execution_count": 81,
     "metadata": {},
     "output_type": "execute_result"
    }
   ],
   "execution_count": 81
  },
  {
   "metadata": {},
   "cell_type": "markdown",
   "source": [
    "## 海龟绘图法\n",
    "turtle模块实现了简单地绘制图形地功能,引用python团队的话说:\"It’s an effective and well-proven way for learners to encounter programming concepts and interaction with software, as it provides instant, visible feedback. It also provides convenient access to graphical output in general.Turtle drawing was originally created as an educational tool, to be used by teachers in the classroom. For the programmer who needs to produce some graphical output it can be a way to do that without the overhead of introducing\n",
    "more complex or external libraries into their work.\"\n"
   ],
   "id": "11bf02627588dcb4"
  },
  {
   "metadata": {
    "ExecuteTime": {
     "end_time": "2025-03-03T05:38:37.295855Z",
     "start_time": "2025-03-03T05:38:16.028836Z"
    }
   },
   "cell_type": "code",
   "source": [
    "from turtle import *\n",
    "color('red')\n",
    "fillcolor('yellow')\n",
    "begin_fill()      #filling can be turned on and off:\n",
    "while True:\n",
    "    fd(200)       #fd()==forward()\n",
    "    left(170)\n",
    "    if abs(pos()) < 1:     #abs(pos()) < 1 is a good way to know when the turtle is back at its home position.\n",
    "        break\n",
    "end_fill()        #(Note that filling only actually takes place when you give the end_fill() command.)"
   ],
   "id": "b1c9787062adc188",
   "outputs": [],
   "execution_count": 82
  },
  {
   "metadata": {},
   "cell_type": "markdown",
   "source": [
    "如需进一步学习turtle模块,请参阅\"Python库参考手册\":\n",
    "- https://docs.python.org/3.11/library/turtle.html"
   ],
   "id": "96f39f45aa02955"
  },
  {
   "metadata": {},
   "cell_type": "markdown",
   "source": [
    "## 从命令提示符运行Python脚本\n",
    "实际上,运行程序的方式有多种. 以Windows系统为例, 可通过power shell命令来执行python脚本:\n",
    "```\n",
    "D:\\CodeFiled\\ProjectA\\ > python filename.py      # 通过cd命令找到脚本的实际位置,此处为举例\n",
    "```\n",
    "## 让脚本像普通程序一样\n",
    "仍然以Windows系统为例,扩展名.py是让脚本想普通程序一样的关键所在.请尝试双击你保存的.py文件.如果正确地安装了python,这将打开一个DOS窗口.\n",
    "```python\n",
    "name = input(\"What's your name?\")\n",
    "print(\"Hello \"+ name + \"!\")\n",
    "```\n",
    "然而,这样运行程序存在一个问题:程序运行完后窗口将立即关闭,你根本来不及看清结果.这是因为程序结束后窗口将立即关闭.**尝试修改脚本,在末尾添加如下代码行**\n",
    "```python\n",
    "input(\"press <enter>\")\n",
    "```\n",
    "等你按回车键后,窗口将立即关闭,因为程序结束了."
   ],
   "id": "cc0eb76fe1537442"
  },
  {
   "metadata": {},
   "cell_type": "markdown",
   "source": [
    "## 注释\n",
    "\"#\"用于行内注释,三个单引号(或双引号)用于整段注释.**汝应注释.**\n",
    "**注意: 注释务必言之有物,不要重复去讲通过代码很容易获得的信息**\n",
    "\n"
   ],
   "id": "e3bb6ae3e0a45d88"
  },
  {
   "metadata": {},
   "cell_type": "markdown",
   "source": [
    "## 字符串\n",
    "### 字符串用途众多,但主要用途是表示一段文本,如感叹句\"hello world!\""
   ],
   "id": "6a76d6e322736e47"
  },
  {
   "metadata": {
    "ExecuteTime": {
     "end_time": "2025-03-03T06:47:42.270032Z",
     "start_time": "2025-03-03T06:47:42.264610Z"
    }
   },
   "cell_type": "code",
   "source": "\"hello world!\"          # 与数一样,字符串也是值",
   "id": "f7efd0ba9fdfa7ba",
   "outputs": [
    {
     "data": {
      "text/plain": [
       "'hello world!'"
      ]
     },
     "execution_count": 3,
     "metadata": {},
     "output_type": "execute_result"
    }
   ],
   "execution_count": 3
  },
  {
   "metadata": {
    "ExecuteTime": {
     "end_time": "2025-03-03T06:50:32.559517Z",
     "start_time": "2025-03-03T06:50:32.552381Z"
    }
   },
   "cell_type": "code",
   "source": "'hello world!'          # python中单双引号无区别",
   "id": "80460a390cdad25d",
   "outputs": [
    {
     "data": {
      "text/plain": [
       "'hello world!'"
      ]
     },
     "execution_count": 4,
     "metadata": {},
     "output_type": "execute_result"
    }
   ],
   "execution_count": 4
  },
  {
   "metadata": {},
   "cell_type": "markdown",
   "source": [
    "```\n",
    "'Let's go!'  =>        # 字符串本身有单引号时,不要用单引号扩起字符串,反之亦然!\n",
    "\"\"hello\",she said.\"  =>     '\"hello\",she said.'\n",
    "```\n",
    "若字符串中包含引号,也可以使用转义符\"\\\"对引号进行转义.\n"
   ],
   "id": "178c6993097d7803"
  },
  {
   "metadata": {
    "ExecuteTime": {
     "end_time": "2025-03-03T06:57:35.265300Z",
     "start_time": "2025-03-03T06:57:35.259116Z"
    }
   },
   "cell_type": "code",
   "source": "'Let\\'s go!'",
   "id": "445cb35a2a5008cd",
   "outputs": [
    {
     "data": {
      "text/plain": [
       "\"Let's go!\""
      ]
     },
     "execution_count": 5,
     "metadata": {},
     "output_type": "execute_result"
    }
   ],
   "execution_count": 5
  },
  {
   "metadata": {},
   "cell_type": "markdown",
   "source": "### 拼接字符串",
   "id": "855a9e68d28bf556"
  },
  {
   "metadata": {
    "ExecuteTime": {
     "end_time": "2025-03-03T10:17:47.942333Z",
     "start_time": "2025-03-03T10:17:47.937909Z"
    }
   },
   "cell_type": "code",
   "source": [
    "x = \"hello, \"\n",
    "y = \"world!\"\n",
    "print(x + y)\n",
    "print(2 * x + y)"
   ],
   "id": "595de2eaf0e42e39",
   "outputs": [
    {
     "name": "stdout",
     "output_type": "stream",
     "text": [
      "hello, world!\n",
      "hello, hello, world!\n"
     ]
    }
   ],
   "execution_count": 3
  },
  {
   "metadata": {},
   "cell_type": "markdown",
   "source": "## str 和 repr",
   "id": "596306520e0049ce"
  },
  {
   "metadata": {
    "ExecuteTime": {
     "end_time": "2025-03-03T10:20:14.866385Z",
     "start_time": "2025-03-03T10:20:14.860922Z"
    }
   },
   "cell_type": "code",
   "source": "\"hello \\nworld!\"         # 返回值",
   "id": "7abc1e67c175dd20",
   "outputs": [
    {
     "data": {
      "text/plain": [
       "'hello \\nworld!'"
      ]
     },
     "execution_count": 6,
     "metadata": {},
     "output_type": "execute_result"
    }
   ],
   "execution_count": 6
  },
  {
   "metadata": {
    "ExecuteTime": {
     "end_time": "2025-03-03T10:20:28.820900Z",
     "start_time": "2025-03-03T10:20:28.816214Z"
    }
   },
   "cell_type": "code",
   "source": "print(\"hello \\nworld!\")         # \\n作为print的转义符",
   "id": "94a2422dcd1b56a8",
   "outputs": [
    {
     "name": "stdout",
     "output_type": "stream",
     "text": [
      "hello \n",
      "world!\n"
     ]
    }
   ],
   "execution_count": 7
  },
  {
   "metadata": {
    "ExecuteTime": {
     "end_time": "2025-03-03T10:21:03.908855Z",
     "start_time": "2025-03-03T10:21:03.904027Z"
    }
   },
   "cell_type": "code",
   "source": [
    "print(repr(\"hello \\nworld!\"))       # 获取值的合法表达式\n",
    "print(str(\"hello \\nworld!\"))        # 获取用户应该看到的字符串"
   ],
   "id": "ec7f70a476f35a18",
   "outputs": [
    {
     "name": "stdout",
     "output_type": "stream",
     "text": [
      "'hello \\nworld!'\n",
      "hello \n",
      "world!\n"
     ]
    }
   ],
   "execution_count": 8
  },
  {
   "metadata": {},
   "cell_type": "markdown",
   "source": [
    "**实际上,repr是一个函数,而str是一个类.**\n",
    "## 长字符串,原始字符串和字节\n",
    "1. 长字符串\n",
    "要表示很长的字符串(跨越多行的字符串),可使用三引号"
   ],
   "id": "aa99f502a33c5928"
  },
  {
   "metadata": {
    "ExecuteTime": {
     "end_time": "2025-03-03T10:27:58.192849Z",
     "start_time": "2025-03-03T10:27:58.188628Z"
    }
   },
   "cell_type": "code",
   "source": [
    "print('''this is a very long string. It continues here.\n",
    "And it's not over yet. \"Hello world!\"\n",
    "Still here.''')"
   ],
   "id": "8530b4488b0bc828",
   "outputs": [
    {
     "name": "stdout",
     "output_type": "stream",
     "text": [
      "this is a very long string. It continues here.\n",
      "And it's not over yet. \"Hello world!\"\n",
      "Still here.\n"
     ]
    }
   ],
   "execution_count": 9
  },
  {
   "metadata": {},
   "cell_type": "markdown",
   "source": "三个双引号同样是合理的,这都让解释器能够识别表示字符串开始和结束的位置的引号,因此字符串本身可包含单引号和双引号,无需使用反斜杠进行转义.",
   "id": "4698c699c9377392"
  },
  {
   "metadata": {},
   "cell_type": "markdown",
   "source": "常规字符串也可跨越多行.只要在行尾加上反斜杠,反斜杠和**换行符**将被转义,**即被忽略**.",
   "id": "e2eeaf27c54d8999"
  },
  {
   "metadata": {
    "ExecuteTime": {
     "end_time": "2025-03-03T10:33:17.363558Z",
     "start_time": "2025-03-03T10:33:17.357861Z"
    }
   },
   "cell_type": "code",
   "source": [
    "print(\"Hello \\\n",
    "world!\")"
   ],
   "id": "5f1f86d216dbc13c",
   "outputs": [
    {
     "name": "stdout",
     "output_type": "stream",
     "text": [
      "Hello world!\n"
     ]
    }
   ],
   "execution_count": 10
  },
  {
   "metadata": {
    "ExecuteTime": {
     "end_time": "2025-03-03T10:34:02.779544Z",
     "start_time": "2025-03-03T10:34:02.775869Z"
    }
   },
   "cell_type": "code",
   "source": [
    "print(\"Hello \"                 #双引号间的任何符号都会被忽略!!!\n",
    "      \"world\"\n",
    "      \"!\")"
   ],
   "id": "53b1c7d0023a3eba",
   "outputs": [
    {
     "name": "stdout",
     "output_type": "stream",
     "text": [
      "Hello world!\n"
     ]
    }
   ],
   "execution_count": 11
  },
  {
   "metadata": {},
   "cell_type": "markdown",
   "source": [
    "2. 原始字符串\n",
    "原始字符串不以特殊方式处理反斜杠,因此在有些情况下很有用."
   ],
   "id": "9ab6dd3b35e2a8bf"
  },
  {
   "metadata": {
    "ExecuteTime": {
     "end_time": "2025-03-04T04:14:30.837655Z",
     "start_time": "2025-03-04T04:14:30.831750Z"
    }
   },
   "cell_type": "code",
   "source": "print(r'Let\\'s go')",
   "id": "917f1de30881ce1b",
   "outputs": [
    {
     "name": "stdout",
     "output_type": "stream",
     "text": [
      "Let\\'s go\n"
     ]
    }
   ],
   "execution_count": 1
  },
  {
   "metadata": {},
   "cell_type": "markdown",
   "source": [
    "原始字符串不能以单个反斜杠结尾,除非你对其进行转义(但进行转义时,用于转义的反斜杠也将是字符串的一部分)\n",
    "```Python\n",
    "print(r\"this is illegal\\\")\n",
    "\n",
    "原始字符串不能以单个反斜杠结尾,除非你对其进行转义(但进行转义时,用于转义的反斜杠也将是字符串的一部分)\n",
    "```Python\n",
    "print(r\"this is illegal\\\")\n",
    "\n",
    "\n",
    "```\n",
    "如非要打印出以\\结尾的字符串,可以如下操作:\n"
   ],
   "id": "be14f7dfa7e35471"
  },
  {
   "metadata": {
    "ExecuteTime": {
     "end_time": "2025-03-04T04:21:56.299294Z",
     "start_time": "2025-03-04T04:21:56.295599Z"
    }
   },
   "cell_type": "code",
   "source": "print(r'C:\\Program Files\\foo\\bar' '\\\\')",
   "id": "240bd2b7e279d067",
   "outputs": [
    {
     "name": "stdout",
     "output_type": "stream",
     "text": [
      "C:\\Program Files\\foo\\bar\\\n"
     ]
    }
   ],
   "execution_count": 3
  },
  {
   "metadata": {},
   "cell_type": "markdown",
   "source": [
    "3. Unicode,bytes 和 bytearray\n",
    "(待完成)"
   ],
   "id": "9969dcf6e8121dd1"
  },
  {
   "metadata": {},
   "cell_type": "markdown",
   "source": "",
   "id": "ceb54104032e032f"
  },
  {
   "metadata": {
    "ExecuteTime": {
     "end_time": "2025-03-07T07:58:09.575558Z",
     "start_time": "2025-03-07T07:58:09.569842Z"
    }
   },
   "cell_type": "code",
   "source": "print(\"this is a cat: \\N{Cat}\")",
   "id": "91710737906fc6f3",
   "outputs": [
    {
     "name": "stdout",
     "output_type": "stream",
     "text": [
      "this is a cat: 🐈\n"
     ]
    }
   ],
   "execution_count": 1
  },
  {
   "metadata": {},
   "cell_type": "code",
   "outputs": [],
   "execution_count": null,
   "source": "",
   "id": "cde3d63a1005d341"
  }
 ],
 "metadata": {
  "kernelspec": {
   "display_name": "Python 3",
   "language": "python",
   "name": "python3"
  },
  "language_info": {
   "codemirror_mode": {
    "name": "ipython",
    "version": 2
   },
   "file_extension": ".py",
   "mimetype": "text/x-python",
   "name": "python",
   "nbconvert_exporter": "python",
   "pygments_lexer": "ipython2",
   "version": "2.7.6"
  }
 },
 "nbformat": 4,
 "nbformat_minor": 5
}
