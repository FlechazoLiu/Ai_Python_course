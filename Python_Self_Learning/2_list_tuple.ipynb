{
 "cells": [
  {
   "metadata": {},
   "cell_type": "markdown",
   "source": [
    "# 列表和元组\n",
    "**数据结构**\n",
    "## 序列概述\n",
    "Python内置了多种序列,本章重点讨论其中最常用的两种:**列表和元组**\n"
   ],
   "id": "80a386938e033400"
  },
  {
   "metadata": {
    "ExecuteTime": {
     "end_time": "2025-03-04T04:43:00.431518Z",
     "start_time": "2025-03-04T04:43:00.426017Z"
    }
   },
   "cell_type": "code",
   "source": [
    "edward = ['Edward Gumby',42]\n",
    "john = ['John Smith',50]\n",
    "database = [edward,john]\n",
    "database"
   ],
   "id": "f33be5b3fb01759c",
   "outputs": [
    {
     "data": {
      "text/plain": [
       "[['Edward Gumby', 42], ['John Smith', 50]]"
      ]
     },
     "execution_count": 1,
     "metadata": {},
     "output_type": "execute_result"
    }
   ],
   "execution_count": 1
  },
  {
   "metadata": {},
   "cell_type": "markdown",
   "source": [
    "Python支持一种数据据结构的基本概念, 名为容器. 容器基本上就是可包含其他对象的对象. 两种主要的容器是序列和映射(键). 有一种既不是序列也不是映射的容器,叫做集合(set)\n",
    "## 通用的序列操作\n",
    "索引,切片,相加,数乘和成员资格检查,以及python提供的一些内置函数\n",
    "### 索引"
   ],
   "id": "fe2ac96c27ac63e1"
  },
  {
   "metadata": {
    "ExecuteTime": {
     "end_time": "2025-03-10T04:43:18.190284Z",
     "start_time": "2025-03-10T04:43:18.183644Z"
    }
   },
   "cell_type": "code",
   "source": [
    "greeting = 'hello world!'\n",
    "greeting[0]              # first"
   ],
   "id": "903a5ab14e6d591a",
   "outputs": [
    {
     "data": {
      "text/plain": [
       "'h'"
      ]
     },
     "execution_count": 1,
     "metadata": {},
     "output_type": "execute_result"
    }
   ],
   "execution_count": 1
  },
  {
   "metadata": {
    "ExecuteTime": {
     "end_time": "2025-03-10T04:43:54.152652Z",
     "start_time": "2025-03-10T04:43:54.149143Z"
    }
   },
   "cell_type": "code",
   "source": "greeting[-1]            # last",
   "id": "fe6070b6d27eda12",
   "outputs": [
    {
     "data": {
      "text/plain": [
       "'!'"
      ]
     },
     "execution_count": 2,
     "metadata": {},
     "output_type": "execute_result"
    }
   ],
   "execution_count": 2
  },
  {
   "metadata": {
    "ExecuteTime": {
     "end_time": "2025-03-10T04:44:41.087657Z",
     "start_time": "2025-03-10T04:44:41.083151Z"
    }
   },
   "cell_type": "code",
   "source": "'hello'[1]              # 可直接对字符串字面量进行索引",
   "id": "3f55e471abbe97fb",
   "outputs": [
    {
     "data": {
      "text/plain": [
       "'e'"
      ]
     },
     "execution_count": 4,
     "metadata": {},
     "output_type": "execute_result"
    }
   ],
   "execution_count": 4
  },
  {
   "metadata": {
    "ExecuteTime": {
     "end_time": "2025-03-10T04:46:08.835977Z",
     "start_time": "2025-03-10T04:46:08.831886Z"
    }
   },
   "cell_type": "code",
   "source": "[1,2,3,4,5,67,8][2]",
   "id": "ab7474c280fc8e43",
   "outputs": [
    {
     "data": {
      "text/plain": [
       "3"
      ]
     },
     "execution_count": 5,
     "metadata": {},
     "output_type": "execute_result"
    }
   ],
   "execution_count": 5
  },
  {
   "metadata": {
    "ExecuteTime": {
     "end_time": "2025-03-10T04:47:25.289811Z",
     "start_time": "2025-03-10T04:47:21.437376Z"
    }
   },
   "cell_type": "code",
   "source": [
    "fourth = input(\"Year:\")[3]\n",
    "fourth"
   ],
   "id": "af5813a6a7f9f44f",
   "outputs": [
    {
     "data": {
      "text/plain": [
       "'5'"
      ]
     },
     "execution_count": 9,
     "metadata": {},
     "output_type": "execute_result"
    }
   ],
   "execution_count": 9
  },
  {
   "metadata": {
    "ExecuteTime": {
     "end_time": "2025-03-10T04:48:51.660537Z",
     "start_time": "2025-03-10T04:48:51.656518Z"
    }
   },
   "cell_type": "code",
   "source": [
    "month = ['January','February','March','April','May','June','July','August']\n",
    "month[2][0]"
   ],
   "id": "bb2875af7bf1a7a3",
   "outputs": [
    {
     "data": {
      "text/plain": [
       "'M'"
      ]
     },
     "execution_count": 10,
     "metadata": {},
     "output_type": "execute_result"
    }
   ],
   "execution_count": 10
  },
  {
   "metadata": {},
   "cell_type": "markdown",
   "source": [
    "### 切片\n",
    "**访问**特定片段,而不是取出"
   ],
   "id": "45eb265f0a07a976"
  },
  {
   "metadata": {
    "ExecuteTime": {
     "end_time": "2025-03-10T04:51:57.400517Z",
     "start_time": "2025-03-10T04:51:57.397167Z"
    }
   },
   "cell_type": "code",
   "source": [
    "tag = 'https://www.ruc.edu.cn/'\n",
    "tag[12:15]                  # 左闭右开区间, 注意从0开始数"
   ],
   "id": "cb7b1ee792778693",
   "outputs": [
    {
     "data": {
      "text/plain": [
       "'ruc'"
      ]
     },
     "execution_count": 12,
     "metadata": {},
     "output_type": "execute_result"
    }
   ],
   "execution_count": 12
  },
  {
   "metadata": {
    "ExecuteTime": {
     "end_time": "2025-03-10T04:53:06.450760Z",
     "start_time": "2025-03-10T04:53:06.448058Z"
    }
   },
   "cell_type": "code",
   "source": "tag[:5]                     # 头尾可省略",
   "id": "56ae6170e2be2989",
   "outputs": [
    {
     "data": {
      "text/plain": [
       "'https'"
      ]
     },
     "execution_count": 14,
     "metadata": {},
     "output_type": "execute_result"
    }
   ],
   "execution_count": 14
  },
  {
   "metadata": {
    "ExecuteTime": {
     "end_time": "2025-03-10T04:53:39.082357Z",
     "start_time": "2025-03-10T04:53:39.078250Z"
    }
   },
   "cell_type": "code",
   "source": "tag[-3:-1]              # 最后一位为-1, 依旧左闭右开",
   "id": "ded9ad248426482e",
   "outputs": [
    {
     "data": {
      "text/plain": [
       "'cn'"
      ]
     },
     "execution_count": 15,
     "metadata": {},
     "output_type": "execute_result"
    }
   ],
   "execution_count": 15
  },
  {
   "metadata": {
    "ExecuteTime": {
     "end_time": "2025-03-10T04:54:41.244209Z",
     "start_time": "2025-03-10T04:54:41.238669Z"
    }
   },
   "cell_type": "code",
   "source": "tag[-3:]                # 包含最后一位",
   "id": "312618764eec2cdd",
   "outputs": [
    {
     "data": {
      "text/plain": [
       "'cn/'"
      ]
     },
     "execution_count": 16,
     "metadata": {},
     "output_type": "execute_result"
    }
   ],
   "execution_count": 16
  },
  {
   "metadata": {
    "ExecuteTime": {
     "end_time": "2025-03-10T04:55:22.768319Z",
     "start_time": "2025-03-10T04:55:22.764410Z"
    }
   },
   "cell_type": "code",
   "source": "tag[6:3]            # 什么也没有,返回空",
   "id": "67a3a02fed6d0689",
   "outputs": [
    {
     "data": {
      "text/plain": [
       "''"
      ]
     },
     "execution_count": 17,
     "metadata": {},
     "output_type": "execute_result"
    }
   ],
   "execution_count": 17
  },
  {
   "metadata": {
    "ExecuteTime": {
     "end_time": "2025-03-10T04:56:23.241547Z",
     "start_time": "2025-03-10T04:56:23.237552Z"
    }
   },
   "cell_type": "code",
   "source": "tag[1:10:2]         # 步长可选,默认为1",
   "id": "f679a1dcc12c0a5b",
   "outputs": [
    {
     "data": {
      "text/plain": [
       "'tp:/w'"
      ]
     },
     "execution_count": 18,
     "metadata": {},
     "output_type": "execute_result"
    }
   ],
   "execution_count": 18
  },
  {
   "metadata": {
    "ExecuteTime": {
     "end_time": "2025-03-10T04:57:10.985540Z",
     "start_time": "2025-03-10T04:57:10.981903Z"
    }
   },
   "cell_type": "code",
   "source": "tag[10:1:-1]        # 步长可负,但需注意前面顺序前后需交换",
   "id": "dd8be3a43fa75e0c",
   "outputs": [
    {
     "data": {
      "text/plain": [
       "'www//:spt'"
      ]
     },
     "execution_count": 20,
     "metadata": {},
     "output_type": "execute_result"
    }
   ],
   "execution_count": 20
  },
  {
   "metadata": {
    "ExecuteTime": {
     "end_time": "2025-03-10T04:58:10.368043Z",
     "start_time": "2025-03-10T04:58:10.364640Z"
    }
   },
   "cell_type": "code",
   "source": "tag[:]              # 复制整个序列(注意是复制,而不是本身)",
   "id": "f708b92618b5f474",
   "outputs": [
    {
     "data": {
      "text/plain": [
       "'https://www.ruc.edu.cn/'"
      ]
     },
     "execution_count": 21,
     "metadata": {},
     "output_type": "execute_result"
    }
   ],
   "execution_count": 21
  },
  {
   "metadata": {},
   "cell_type": "markdown",
   "source": "### 序列相加",
   "id": "bd2dd700451aa711"
  },
  {
   "metadata": {
    "ExecuteTime": {
     "end_time": "2025-03-10T05:01:12.379756Z",
     "start_time": "2025-03-10T05:01:12.376590Z"
    }
   },
   "cell_type": "code",
   "source": [
    "a = 'hello'\n",
    "b = ' world'\n",
    "c = '!'\n",
    "a + b + c"
   ],
   "id": "19e88c6e33f3920f",
   "outputs": [
    {
     "data": {
      "text/plain": [
       "'hello world!'"
      ]
     },
     "execution_count": 22,
     "metadata": {},
     "output_type": "execute_result"
    }
   ],
   "execution_count": 22
  },
  {
   "metadata": {},
   "cell_type": "markdown",
   "source": [
    "### 数乘\n",
    "理解为加法"
   ],
   "id": "bce5ef2315ac9dce"
  },
  {
   "metadata": {
    "ExecuteTime": {
     "end_time": "2025-03-10T05:02:29.771082Z",
     "start_time": "2025-03-10T05:02:29.767563Z"
    }
   },
   "cell_type": "code",
   "source": "'ruc!' * 5",
   "id": "11c85f3f46266a6c",
   "outputs": [
    {
     "data": {
      "text/plain": [
       "'ruc!ruc!ruc!ruc!ruc!'"
      ]
     },
     "execution_count": 23,
     "metadata": {},
     "output_type": "execute_result"
    }
   ],
   "execution_count": 23
  },
  {
   "metadata": {
    "ExecuteTime": {
     "end_time": "2025-03-10T05:03:28.562182Z",
     "start_time": "2025-03-10T05:03:28.559096Z"
    }
   },
   "cell_type": "code",
   "source": "[1,2] * 5",
   "id": "fef645e2964b9b47",
   "outputs": [
    {
     "data": {
      "text/plain": [
       "[1, 2, 1, 2, 1, 2, 1, 2, 1, 2]"
      ]
     },
     "execution_count": 26,
     "metadata": {},
     "output_type": "execute_result"
    }
   ],
   "execution_count": 26
  },
  {
   "metadata": {
    "ExecuteTime": {
     "end_time": "2025-03-10T05:05:25.109058Z",
     "start_time": "2025-03-10T05:05:25.104894Z"
    }
   },
   "cell_type": "code",
   "source": [
    "# None,空列表和初始化 #\n",
    "sequence = [None] * 10\n",
    "sequence"
   ],
   "id": "cec8796c514920a8",
   "outputs": [
    {
     "data": {
      "text/plain": [
       "[None, None, None, None, None, None, None, None, None, None]"
      ]
     },
     "execution_count": 29,
     "metadata": {},
     "output_type": "execute_result"
    }
   ],
   "execution_count": 29
  },
  {
   "metadata": {},
   "cell_type": "markdown",
   "source": "- 关于字符串的应用可以参考cmd/powershell中运行python后进入help(),笔者认为这既是学习python\"正统知识\"的绝佳方式,亦能使读者尽快熟悉命令行的使用以及英文阅读,更是欣赏代码之美,提升编程素质的契机.",
   "id": "dfb6b7ef216d1efc"
  },
  {
   "metadata": {},
   "cell_type": "markdown",
   "source": "### 成员资格",
   "id": "9bdd628d57077fb9"
  },
  {
   "metadata": {},
   "cell_type": "markdown",
   "source": "我们介绍**布尔运算符**,即通过检查指定的条件,并返回相应的值:满足时返回True,否则返回False.成员资格用到的运算符是in.",
   "id": "8ac908176dd4d1d2"
  },
  {
   "metadata": {
    "ExecuteTime": {
     "end_time": "2025-03-10T05:14:55.253482Z",
     "start_time": "2025-03-10T05:14:55.250077Z"
    }
   },
   "cell_type": "code",
   "source": [
    "users = ['Bob','Alice','Flechazo']\n",
    "'Flechazo' in users"
   ],
   "id": "913d3ca96f155cea",
   "outputs": [
    {
     "data": {
      "text/plain": [
       "True"
      ]
     },
     "execution_count": 31,
     "metadata": {},
     "output_type": "execute_result"
    }
   ],
   "execution_count": 31
  },
  {
   "metadata": {
    "ExecuteTime": {
     "end_time": "2025-03-10T05:15:33.989166Z",
     "start_time": "2025-03-10T05:15:33.986039Z"
    }
   },
   "cell_type": "code",
   "source": "\"Mike\" in users",
   "id": "9f19fe2a6c26be91",
   "outputs": [
    {
     "data": {
      "text/plain": [
       "False"
      ]
     },
     "execution_count": 33,
     "metadata": {},
     "output_type": "execute_result"
    }
   ],
   "execution_count": 33
  },
  {
   "metadata": {
    "ExecuteTime": {
     "end_time": "2025-03-10T05:16:23.923672Z",
     "start_time": "2025-03-10T05:16:23.919802Z"
    }
   },
   "cell_type": "code",
   "source": [
    "words = 'hello everyone, my name is Mike!'\n",
    "'a' in words"
   ],
   "id": "2f4512d6d06938a3",
   "outputs": [
    {
     "data": {
      "text/plain": [
       "True"
      ]
     },
     "execution_count": 34,
     "metadata": {},
     "output_type": "execute_result"
    }
   ],
   "execution_count": 34
  },
  {
   "metadata": {
    "ExecuteTime": {
     "end_time": "2025-03-10T05:16:40.341770Z",
     "start_time": "2025-03-10T05:16:40.337576Z"
    }
   },
   "cell_type": "code",
   "source": "'ike' in words",
   "id": "c34c509a3a6166ff",
   "outputs": [
    {
     "data": {
      "text/plain": [
       "True"
      ]
     },
     "execution_count": 35,
     "metadata": {},
     "output_type": "execute_result"
    }
   ],
   "execution_count": 35
  },
  {
   "metadata": {
    "ExecuteTime": {
     "end_time": "2025-03-10T05:16:53.465135Z",
     "start_time": "2025-03-10T05:16:53.461638Z"
    }
   },
   "cell_type": "code",
   "source": "'iek' in words",
   "id": "143a4bfb4f547612",
   "outputs": [
    {
     "data": {
      "text/plain": [
       "False"
      ]
     },
     "execution_count": 36,
     "metadata": {},
     "output_type": "execute_result"
    }
   ],
   "execution_count": 36
  },
  {
   "metadata": {
    "ExecuteTime": {
     "end_time": "2025-03-10T05:19:37.310336Z",
     "start_time": "2025-03-10T05:19:25.587711Z"
    }
   },
   "cell_type": "code",
   "source": [
    "# exercise\n",
    "database = [['a','1234'],['b','2345'],['c','3456'],['d','4567']]\n",
    "if [input('User name'), input('Password')] in database:\n",
    "    print('You are logged in!')"
   ],
   "id": "116eb4e3941eea81",
   "outputs": [
    {
     "name": "stdout",
     "output_type": "stream",
     "text": [
      "You are logged in!\n"
     ]
    }
   ],
   "execution_count": 37
  },
  {
   "metadata": {},
   "cell_type": "markdown",
   "source": "长度,最小值和最大值",
   "id": "41b9916b37b9583d"
  },
  {
   "metadata": {
    "ExecuteTime": {
     "end_time": "2025-03-10T05:20:25.615535Z",
     "start_time": "2025-03-10T05:20:25.612284Z"
    }
   },
   "cell_type": "code",
   "source": "len(database)           # 返回元素个数",
   "id": "f038585dad416fcf",
   "outputs": [
    {
     "data": {
      "text/plain": [
       "4"
      ]
     },
     "execution_count": 38,
     "metadata": {},
     "output_type": "execute_result"
    }
   ],
   "execution_count": 38
  },
  {
   "metadata": {
    "ExecuteTime": {
     "end_time": "2025-03-10T05:20:52.766006Z",
     "start_time": "2025-03-10T05:20:52.762373Z"
    }
   },
   "cell_type": "code",
   "source": "max(database)           # 返回最大元素",
   "id": "b0e7bdae4b72e27f",
   "outputs": [
    {
     "data": {
      "text/plain": [
       "['d', '4567']"
      ]
     },
     "execution_count": 39,
     "metadata": {},
     "output_type": "execute_result"
    }
   ],
   "execution_count": 39
  },
  {
   "metadata": {
    "ExecuteTime": {
     "end_time": "2025-03-10T05:21:08.294139Z",
     "start_time": "2025-03-10T05:21:08.291131Z"
    }
   },
   "cell_type": "code",
   "source": "min(database)           # 返回最小元素",
   "id": "22e3a3ee281dc799",
   "outputs": [
    {
     "data": {
      "text/plain": [
       "['a', '1234']"
      ]
     },
     "execution_count": 40,
     "metadata": {},
     "output_type": "execute_result"
    }
   ],
   "execution_count": 40
  },
  {
   "metadata": {
    "ExecuteTime": {
     "end_time": "2025-03-10T05:21:42.586225Z",
     "start_time": "2025-03-10T05:21:42.582330Z"
    }
   },
   "cell_type": "code",
   "source": "['d', '4567'] > ['a', '1234']",
   "id": "8cd4bb596a62d334",
   "outputs": [
    {
     "data": {
      "text/plain": [
       "True"
      ]
     },
     "execution_count": 41,
     "metadata": {},
     "output_type": "execute_result"
    }
   ],
   "execution_count": 41
  },
  {
   "metadata": {},
   "cell_type": "markdown",
   "source": "这里需要补充**序列比较大小的规则**",
   "id": "b4b1c7980877de94"
  },
  {
   "metadata": {
    "ExecuteTime": {
     "end_time": "2025-03-10T05:24:09.828925Z",
     "start_time": "2025-03-10T05:24:09.825221Z"
    }
   },
   "cell_type": "code",
   "source": "'a' > 'b'",
   "id": "1ddd6f4bec5a40f7",
   "outputs": [
    {
     "data": {
      "text/plain": [
       "False"
      ]
     },
     "execution_count": 45,
     "metadata": {},
     "output_type": "execute_result"
    }
   ],
   "execution_count": 45
  },
  {
   "metadata": {
    "ExecuteTime": {
     "end_time": "2025-03-10T05:24:20.448761Z",
     "start_time": "2025-03-10T05:24:20.445428Z"
    }
   },
   "cell_type": "code",
   "source": "'A' < \"a\"",
   "id": "f6a5ec3b354e312b",
   "outputs": [
    {
     "data": {
      "text/plain": [
       "True"
      ]
     },
     "execution_count": 46,
     "metadata": {},
     "output_type": "execute_result"
    }
   ],
   "execution_count": 46
  },
  {
   "metadata": {},
   "cell_type": "markdown",
   "source": "## 列表",
   "id": "5c6370b6c6df8766"
  },
  {
   "metadata": {},
   "cell_type": "markdown",
   "source": "本节主要讨论列表不同于元组和字符串的地方: 列表是可变的,且列表右很多特有的**方法**",
   "id": "61936f9d849d7ee2"
  },
  {
   "metadata": {
    "ExecuteTime": {
     "end_time": "2025-03-10T05:27:52.077337Z",
     "start_time": "2025-03-10T05:27:52.073915Z"
    }
   },
   "cell_type": "code",
   "source": [
    "a = list('hello world')         # 请注意,可将任何序列作为list的参数\n",
    "a"
   ],
   "id": "e103d053c438e53c",
   "outputs": [
    {
     "data": {
      "text/plain": [
       "['h', 'e', 'l', 'l', 'o', ' ', 'w', 'o', 'r', 'l', 'd']"
      ]
     },
     "execution_count": 48,
     "metadata": {},
     "output_type": "execute_result"
    }
   ],
   "execution_count": 48
  },
  {
   "metadata": {
    "ExecuteTime": {
     "end_time": "2025-03-10T05:27:58.003302Z",
     "start_time": "2025-03-10T05:27:57.999281Z"
    }
   },
   "cell_type": "code",
   "source": "''.join(a)              # 列表转换成字符串,后续会讲到",
   "id": "739d78d61b18ed3c",
   "outputs": [
    {
     "data": {
      "text/plain": [
       "'hello world'"
      ]
     },
     "execution_count": 49,
     "metadata": {},
     "output_type": "execute_result"
    }
   ],
   "execution_count": 49
  },
  {
   "metadata": {
    "ExecuteTime": {
     "end_time": "2025-03-10T05:31:34.626180Z",
     "start_time": "2025-03-10T05:31:34.622341Z"
    }
   },
   "cell_type": "code",
   "source": [
    "num = [1,2,3,4,5,6,7,8,9,0]\n",
    "num[-1] = 10            # 给元素赋值\n",
    "num                     # 不能个不存在的元素赋值,需要初始化"
   ],
   "id": "80999b4c0fe718f8",
   "outputs": [
    {
     "data": {
      "text/plain": [
       "[1, 2, 3, 4, 5, 6, 7, 8, 9, 10]"
      ]
     },
     "execution_count": 59,
     "metadata": {},
     "output_type": "execute_result"
    }
   ],
   "execution_count": 59
  },
  {
   "metadata": {
    "ExecuteTime": {
     "end_time": "2025-03-10T05:31:35.527083Z",
     "start_time": "2025-03-10T05:31:35.523830Z"
    }
   },
   "cell_type": "code",
   "source": [
    "del num[-1]             # 删除元素, 同时长度变短\n",
    "num"
   ],
   "id": "a3fde4b68b8d461f",
   "outputs": [
    {
     "data": {
      "text/plain": [
       "[1, 2, 3, 4, 5, 6, 7, 8, 9]"
      ]
     },
     "execution_count": 60,
     "metadata": {},
     "output_type": "execute_result"
    }
   ],
   "execution_count": 60
  },
  {
   "metadata": {
    "ExecuteTime": {
     "end_time": "2025-03-10T05:43:13.357897Z",
     "start_time": "2025-03-10T05:43:13.354011Z"
    }
   },
   "cell_type": "code",
   "source": [
    "name = list('Jessica')\n",
    "name[-2:] = ['hello',[123,456,666],(1,2,4,66)]          # 给切片赋值, 且可替换成长度不同的序列\n",
    "name"
   ],
   "id": "da10335616119ae9",
   "outputs": [
    {
     "data": {
      "text/plain": [
       "['J', 'e', 's', 's', 'i', 'hello', [123, 456, 666], (1, 2, 4, 66)]"
      ]
     },
     "execution_count": 68,
     "metadata": {},
     "output_type": "execute_result"
    }
   ],
   "execution_count": 68
  },
  {
   "metadata": {
    "ExecuteTime": {
     "end_time": "2025-03-10T05:44:20.177314Z",
     "start_time": "2025-03-10T05:44:20.173817Z"
    }
   },
   "cell_type": "code",
   "source": [
    "seq = [1,2,3,4]\n",
    "seq[1:1] = [8,9,10]             # 这里\"替换\"了一个空切片,相当于插入新元素\n",
    "seq"
   ],
   "id": "160a6fcdb77b0524",
   "outputs": [
    {
     "data": {
      "text/plain": [
       "[1, 8, 9, 10, 2, 3, 4]"
      ]
     },
     "execution_count": 70,
     "metadata": {},
     "output_type": "execute_result"
    }
   ],
   "execution_count": 70
  },
  {
   "metadata": {
    "ExecuteTime": {
     "end_time": "2025-03-10T05:46:23.366898Z",
     "start_time": "2025-03-10T05:46:23.362880Z"
    }
   },
   "cell_type": "code",
   "source": [
    "seqs = [1,2,3,4,5,6,7,8,9,0]\n",
    "seqs[1:4] = []              # 亦可来删除片段\n",
    "seqs"
   ],
   "id": "e26be356c50bc3f5",
   "outputs": [
    {
     "data": {
      "text/plain": [
       "[1, 5, 6, 7, 8, 9, 0]"
      ]
     },
     "execution_count": 72,
     "metadata": {},
     "output_type": "execute_result"
    }
   ],
   "execution_count": 72
  },
  {
   "metadata": {},
   "cell_type": "markdown",
   "source": [
    "你可能猜到了,上述代码其实与下面的代码等效:\n",
    "```Python\n",
    "del seqs[1:4]\n",
    "\n",
    "```\n"
   ],
   "id": "f91b9218c361556b"
  },
  {
   "metadata": {
    "ExecuteTime": {
     "end_time": "2025-03-10T05:59:32.590489Z",
     "start_time": "2025-03-10T05:59:32.585932Z"
    }
   },
   "cell_type": "code",
   "source": [
    "seqs = [1,2,3,4,5,6,7,8,9,0]\n",
    "seqs[::2] = [100,100,100,100,100]           # 步长不为1时,长度必须严格匹配!!!\n",
    "seqs"
   ],
   "id": "fe6be23021acc4bc",
   "outputs": [
    {
     "data": {
      "text/plain": [
       "[100, 2, 100, 4, 100, 6, 100, 8, 100, 0]"
      ]
     },
     "execution_count": 78,
     "metadata": {},
     "output_type": "execute_result"
    }
   ],
   "execution_count": 78
  },
  {
   "metadata": {},
   "cell_type": "markdown",
   "source": [
    "### 列表方法\n",
    "方法是与对象(列表,数,字符串等)联系紧密的函数. 通常,像下面的这样调用方法:\n",
    "```Python\n",
    "object.method(arguments)\n",
    "\n",
    "```"
   ],
   "id": "84beaa41823edc40"
  },
  {
   "metadata": {
    "ExecuteTime": {
     "end_time": "2025-03-10T06:04:10.689246Z",
     "start_time": "2025-03-10T06:04:10.684785Z"
    }
   },
   "cell_type": "code",
   "source": [
    "lst = [1,2,3]\n",
    "lst.append(4)           # 将一个对象附加到列表末尾. 且就地修改列表,而不返回值\n",
    "lst"
   ],
   "id": "8e0535a73bbd19e3",
   "outputs": [
    {
     "data": {
      "text/plain": [
       "[1, 2, 3, 4]"
      ]
     },
     "execution_count": 79,
     "metadata": {},
     "output_type": "execute_result"
    }
   ],
   "execution_count": 79
  },
  {
   "metadata": {
    "ExecuteTime": {
     "end_time": "2025-03-10T06:07:02.481833Z",
     "start_time": "2025-03-10T06:07:02.477677Z"
    }
   },
   "cell_type": "code",
   "source": [
    "lst.clear()             # 就地清空列表的内容\n",
    "lst"
   ],
   "id": "432a97d30e47b273",
   "outputs": [
    {
     "data": {
      "text/plain": [
       "[]"
      ]
     },
     "execution_count": 81,
     "metadata": {},
     "output_type": "execute_result"
    }
   ],
   "execution_count": 81
  },
  {
   "metadata": {},
   "cell_type": "markdown",
   "source": [
    "这类似于\n",
    "```Python\n",
    "lst[:] = []\n",
    "```"
   ],
   "id": "bda262d88b7b75cf"
  },
  {
   "metadata": {
    "ExecuteTime": {
     "end_time": "2025-03-10T06:10:06.101968Z",
     "start_time": "2025-03-10T06:10:06.098964Z"
    }
   },
   "cell_type": "code",
   "source": [
    "a = [ 1,2,3]\n",
    "b = a           # 常规方法仅仅是将另一个名称关联到这个列表上,并没有创建新的副本\n",
    "b[2] = 4\n",
    "a"
   ],
   "id": "b91086801d7f9e2b",
   "outputs": [
    {
     "data": {
      "text/plain": [
       "[1, 2, 4]"
      ]
     },
     "execution_count": 82,
     "metadata": {},
     "output_type": "execute_result"
    }
   ],
   "execution_count": 82
  },
  {
   "metadata": {
    "ExecuteTime": {
     "end_time": "2025-03-10T06:12:49.592026Z",
     "start_time": "2025-03-10T06:12:49.588009Z"
    }
   },
   "cell_type": "code",
   "source": [
    "c = [1,2,3]\n",
    "d = a.copy()\n",
    "d[2] = 4\n",
    "c"
   ],
   "id": "f8ff0c4bd99df603",
   "outputs": [
    {
     "data": {
      "text/plain": [
       "[1, 2, 3]"
      ]
     },
     "execution_count": 84,
     "metadata": {},
     "output_type": "execute_result"
    }
   ],
   "execution_count": 84
  },
  {
   "metadata": {},
   "cell_type": "markdown",
   "source": [
    "这类似于\n",
    "```Python\n",
    "b = a[:]\n",
    "b = list(a)\n",
    "\n",
    "```"
   ],
   "id": "3bc4fd07e1d3a7c0"
  },
  {
   "metadata": {
    "ExecuteTime": {
     "end_time": "2025-03-10T06:17:03.809420Z",
     "start_time": "2025-03-10T06:17:03.805186Z"
    }
   },
   "cell_type": "code",
   "source": "[1,2,3,4,5,6,7,7,2,3,22,[1,2],1,2,3,2,2,2,2,[1,2]].count(2)",
   "id": "1a64b8189af04879",
   "outputs": [
    {
     "data": {
      "text/plain": [
       "7"
      ]
     },
     "execution_count": 86,
     "metadata": {},
     "output_type": "execute_result"
    }
   ],
   "execution_count": 86
  },
  {
   "metadata": {
    "ExecuteTime": {
     "end_time": "2025-03-10T06:17:34.841437Z",
     "start_time": "2025-03-10T06:17:34.837156Z"
    }
   },
   "cell_type": "code",
   "source": "[1,2,3,4,5,6,7,7,2,3,22,[1,2],1,2,3,2,2,2,2,[1,2]].count([1,2])",
   "id": "73cce5d5f54bb571",
   "outputs": [
    {
     "data": {
      "text/plain": [
       "2"
      ]
     },
     "execution_count": 87,
     "metadata": {},
     "output_type": "execute_result"
    }
   ],
   "execution_count": 87
  },
  {
   "metadata": {
    "ExecuteTime": {
     "end_time": "2025-03-10T06:18:45.509684Z",
     "start_time": "2025-03-10T06:18:45.505269Z"
    }
   },
   "cell_type": "code",
   "source": [
    "x = [1,2,3]\n",
    "y = [4,5,6]\n",
    "x.extend(y)             # x就地被改变!!!这不同于 a + b , 而是 a = a + b / a += b\n",
    "x"
   ],
   "id": "b22e29d666715381",
   "outputs": [
    {
     "data": {
      "text/plain": [
       "[1, 2, 3, 4, 5, 6]"
      ]
     },
     "execution_count": 88,
     "metadata": {},
     "output_type": "execute_result"
    }
   ],
   "execution_count": 88
  },
  {
   "metadata": {
    "ExecuteTime": {
     "end_time": "2025-03-10T06:24:36.767155Z",
     "start_time": "2025-03-10T06:24:36.763834Z"
    }
   },
   "cell_type": "code",
   "source": "[1,3,5,7,9].index(5)            # 查找指定值第一次出现的索引,没找到则会报错",
   "id": "5de605427aa9bf85",
   "outputs": [
    {
     "data": {
      "text/plain": [
       "2"
      ]
     },
     "execution_count": 90,
     "metadata": {},
     "output_type": "execute_result"
    }
   ],
   "execution_count": 90
  },
  {
   "metadata": {
    "ExecuteTime": {
     "end_time": "2025-03-10T06:26:22.139159Z",
     "start_time": "2025-03-10T06:26:22.134967Z"
    }
   },
   "cell_type": "code",
   "source": [
    "numbers = [1,2,3,4,5]\n",
    "numbers.insert(1,'hello')\n",
    "numbers"
   ],
   "id": "f0c5244da872ba7e",
   "outputs": [
    {
     "data": {
      "text/plain": [
       "[1, 'hello', 2, 3, 4, 5]"
      ]
     },
     "execution_count": 92,
     "metadata": {},
     "output_type": "execute_result"
    }
   ],
   "execution_count": 92
  },
  {
   "metadata": {
    "ExecuteTime": {
     "end_time": "2025-03-10T06:27:24.126542Z",
     "start_time": "2025-03-10T06:27:24.122492Z"
    }
   },
   "cell_type": "code",
   "source": [
    "x = [1,2,3]\n",
    "x.pop()             # 删除一个元素(默认最后一个), 且返回被删去的这一元素的值"
   ],
   "id": "9a789a9d2fe3a9a8",
   "outputs": [
    {
     "data": {
      "text/plain": [
       "3"
      ]
     },
     "execution_count": 93,
     "metadata": {},
     "output_type": "execute_result"
    }
   ],
   "execution_count": 93
  },
  {
   "metadata": {
    "ExecuteTime": {
     "end_time": "2025-03-10T06:28:46.947228Z",
     "start_time": "2025-03-10T06:28:46.944174Z"
    }
   },
   "cell_type": "code",
   "source": "x.pop(0)",
   "id": "e659a86e2fbcdc19",
   "outputs": [
    {
     "data": {
      "text/plain": [
       "1"
      ]
     },
     "execution_count": 94,
     "metadata": {},
     "output_type": "execute_result"
    }
   ],
   "execution_count": 94
  },
  {
   "metadata": {},
   "cell_type": "markdown",
   "source": [
    "- 使用pop方法可实现一种常见的数据结构--栈. 栈就像一叠盘子,你可以在上面添加盘子,还可以从上面取走盘子.\n",
    "最后加入的盘子最先取走,这被称为后进先出(LIFO)"
   ],
   "id": "d6bc4a4a40fee818"
  },
  {
   "metadata": {
    "ExecuteTime": {
     "end_time": "2025-03-10T06:33:17.240299Z",
     "start_time": "2025-03-10T06:33:17.236930Z"
    }
   },
   "cell_type": "code",
   "source": [
    "y = [1,2,3,3,4,5,7,9]\n",
    "y.remove(3)         # 删除第一个为指定值的元素\n",
    "y                   # 就地修改且不返回值"
   ],
   "id": "c8657dcee019a166",
   "outputs": [
    {
     "data": {
      "text/plain": [
       "[1, 2, 3, 4, 5, 7, 9]"
      ]
     },
     "execution_count": 98,
     "metadata": {},
     "output_type": "execute_result"
    }
   ],
   "execution_count": 98
  },
  {
   "metadata": {
    "ExecuteTime": {
     "end_time": "2025-03-10T06:35:23.171556Z",
     "start_time": "2025-03-10T06:35:23.167691Z"
    }
   },
   "cell_type": "code",
   "source": [
    "x = [1,2,3]\n",
    "x.reverse()         # 反转\n",
    "x"
   ],
   "id": "c5537e03b487291c",
   "outputs": [
    {
     "data": {
      "text/plain": [
       "[3, 2, 1]"
      ]
     },
     "execution_count": 99,
     "metadata": {},
     "output_type": "execute_result"
    }
   ],
   "execution_count": 99
  },
  {
   "metadata": {
    "ExecuteTime": {
     "end_time": "2025-03-10T06:40:16.153233Z",
     "start_time": "2025-03-10T06:40:16.149060Z"
    }
   },
   "cell_type": "code",
   "source": [
    "x = [1,2,3,4,5,6,7,8,9,0]\n",
    "y = x[1::2]\n",
    "y.reverse()\n",
    "x[1::2] = y\n",
    "x"
   ],
   "id": "5f947ee2c34849c6",
   "outputs": [
    {
     "data": {
      "text/plain": [
       "[1, 0, 3, 8, 5, 6, 7, 4, 9, 2]"
      ]
     },
     "execution_count": 108,
     "metadata": {},
     "output_type": "execute_result"
    }
   ],
   "execution_count": 108
  },
  {
   "metadata": {
    "ExecuteTime": {
     "end_time": "2025-03-10T06:41:11.756170Z",
     "start_time": "2025-03-10T06:41:11.751572Z"
    }
   },
   "cell_type": "code",
   "source": [
    "x = [1,2,3,4,5,6,7,8,9,0]\n",
    "x[1::2].reverse()\n",
    "x"
   ],
   "id": "d657c24d07c059da",
   "outputs": [
    {
     "data": {
      "text/plain": [
       "[1, 2, 3, 4, 5, 6, 7, 8, 9, 0]"
      ]
     },
     "execution_count": 109,
     "metadata": {},
     "output_type": "execute_result"
    }
   ],
   "execution_count": 109
  },
  {
   "metadata": {
    "ExecuteTime": {
     "end_time": "2025-03-10T06:48:13.630932Z",
     "start_time": "2025-03-10T06:48:13.628103Z"
    }
   },
   "cell_type": "code",
   "source": [
    "x = [9,3,4,5,2,7,8,1]\n",
    "x.sort()                # 对列表就地排序,而不会生成副本\n",
    "x"
   ],
   "id": "297a37f10fd5e668",
   "outputs": [
    {
     "data": {
      "text/plain": [
       "[1, 2, 3, 4, 5, 7, 8, 9]"
      ]
     },
     "execution_count": 112,
     "metadata": {},
     "output_type": "execute_result"
    }
   ],
   "execution_count": 112
  },
  {
   "metadata": {
    "ExecuteTime": {
     "end_time": "2025-03-10T10:15:42.740571Z",
     "start_time": "2025-03-10T10:15:42.736321Z"
    }
   },
   "cell_type": "code",
   "source": [
    "x = [9,3,4,5,2,7,8,1]\n",
    "y = sorted(x)               # sorted函数可用于任何可迭代对象,总是返回一个列表\n",
    "y"
   ],
   "id": "72936f63f4075bda",
   "outputs": [
    {
     "data": {
      "text/plain": [
       "[1, 2, 3, 4, 5, 7, 8, 9]"
      ]
     },
     "execution_count": 2,
     "metadata": {},
     "output_type": "execute_result"
    }
   ],
   "execution_count": 2
  },
  {
   "metadata": {
    "ExecuteTime": {
     "end_time": "2025-03-10T10:18:54.684428Z",
     "start_time": "2025-03-10T10:18:54.681368Z"
    }
   },
   "cell_type": "code",
   "source": [
    "# 高级排序 #\n",
    "x = ['dnjkfn','dcmdkmckd','dmcdlcd','sods','cdscop']\n",
    "x.sort(key=len)\n",
    "x"
   ],
   "id": "7cce709679713aa5",
   "outputs": [
    {
     "data": {
      "text/plain": [
       "['sods', 'dnjkfn', 'cdscop', 'dmcdlcd', 'dcmdkmckd']"
      ]
     },
     "execution_count": 3,
     "metadata": {},
     "output_type": "execute_result"
    }
   ],
   "execution_count": 3
  },
  {
   "metadata": {
    "ExecuteTime": {
     "end_time": "2025-03-10T10:19:19.090178Z",
     "start_time": "2025-03-10T10:19:19.085942Z"
    }
   },
   "cell_type": "code",
   "source": [
    "x.sort(key=len,reverse=True)\n",
    "x"
   ],
   "id": "39881726d9bb216b",
   "outputs": [
    {
     "data": {
      "text/plain": [
       "['dcmdkmckd', 'dmcdlcd', 'dnjkfn', 'cdscop', 'sods']"
      ]
     },
     "execution_count": 5,
     "metadata": {},
     "output_type": "execute_result"
    }
   ],
   "execution_count": 5
  },
  {
   "metadata": {},
   "cell_type": "markdown",
   "source": [
    "提示: 如果你想更深入地了解排序,可以参阅文章: [\"Sorting Mini-HOW TO\"](https:/wiki.python.org/moin/HowTo/Sorting)\n",
    "## 元组: 不可修改的序列"
   ],
   "id": "78d3c553e3a2747"
  },
  {
   "metadata": {
    "ExecuteTime": {
     "end_time": "2025-03-10T10:25:03.487964Z",
     "start_time": "2025-03-10T10:25:03.484279Z"
    }
   },
   "cell_type": "code",
   "source": "1,2,3,4,5,6,7,8,9,0             # 自动创建元组",
   "id": "73760fb05ac9ca1f",
   "outputs": [
    {
     "data": {
      "text/plain": [
       "(1, 2, 3, 4, 5, 6, 7, 8, 9, 0)"
      ]
     },
     "execution_count": 6,
     "metadata": {},
     "output_type": "execute_result"
    }
   ],
   "execution_count": 6
  },
  {
   "metadata": {
    "ExecuteTime": {
     "end_time": "2025-03-10T10:26:02.301703Z",
     "start_time": "2025-03-10T10:26:02.297270Z"
    }
   },
   "cell_type": "code",
   "source": [
    "tp = (1,2,3,4,5,6,7,8,9,0)\n",
    "()                             # 空元组"
   ],
   "id": "e6cf42afbb2f4218",
   "outputs": [
    {
     "data": {
      "text/plain": [
       "()"
      ]
     },
     "execution_count": 7,
     "metadata": {},
     "output_type": "execute_result"
    }
   ],
   "execution_count": 7
  },
  {
   "metadata": {
    "ExecuteTime": {
     "end_time": "2025-03-10T10:26:46.951202Z",
     "start_time": "2025-03-10T10:26:46.947312Z"
    }
   },
   "cell_type": "code",
   "source": "(2,)                    # 只有一个元素的元组需要保留逗号!!!",
   "id": "56c61bc93e9bb277",
   "outputs": [
    {
     "data": {
      "text/plain": [
       "(2,)"
      ]
     },
     "execution_count": 9,
     "metadata": {},
     "output_type": "execute_result"
    }
   ],
   "execution_count": 9
  },
  {
   "metadata": {
    "ExecuteTime": {
     "end_time": "2025-03-10T10:27:47.457426Z",
     "start_time": "2025-03-10T10:27:47.453980Z"
    }
   },
   "cell_type": "code",
   "source": "(42) == 42",
   "id": "a79a8fbded006ab3",
   "outputs": [
    {
     "data": {
      "text/plain": [
       "True"
      ]
     },
     "execution_count": 10,
     "metadata": {},
     "output_type": "execute_result"
    }
   ],
   "execution_count": 10
  },
  {
   "metadata": {
    "ExecuteTime": {
     "end_time": "2025-03-10T10:28:36.811791Z",
     "start_time": "2025-03-10T10:28:36.807993Z"
    }
   },
   "cell_type": "code",
   "source": "tuple(\"hello world\")            # 转换函数",
   "id": "ad6d3009daf35996",
   "outputs": [
    {
     "data": {
      "text/plain": [
       "('h', 'e', 'l', 'l', 'o', ' ', 'w', 'o', 'r', 'l', 'd')"
      ]
     },
     "execution_count": 11,
     "metadata": {},
     "output_type": "execute_result"
    }
   ],
   "execution_count": 11
  },
  {
   "metadata": {},
   "cell_type": "markdown",
   "source": [
    "- 元组主要用作映射中地键,将在后续介绍.\n",
    "- 多参数或多返回值的函数与方法其实是通过元组的打包与解包实现的."
   ],
   "id": "c1079105ab6e31f9"
  }
 ],
 "metadata": {
  "kernelspec": {
   "display_name": "Python 3",
   "language": "python",
   "name": "python3"
  },
  "language_info": {
   "codemirror_mode": {
    "name": "ipython",
    "version": 2
   },
   "file_extension": ".py",
   "mimetype": "text/x-python",
   "name": "python",
   "nbconvert_exporter": "python",
   "pygments_lexer": "ipython2",
   "version": "2.7.6"
  }
 },
 "nbformat": 4,
 "nbformat_minor": 5
}
