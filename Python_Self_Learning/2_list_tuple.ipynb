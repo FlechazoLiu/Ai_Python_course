{
 "cells": [
  {
   "cell_type": "markdown",
   "id": "80a386938e033400",
   "metadata": {},
   "source": [
    "# 列表和元组\n",
    "**数据结构**\n",
    "## 序列概述\n",
    "Python内置了多种序列,本章重点讨论其中最常用的两种:**列表和元组**\n"
   ]
  },
  {
   "cell_type": "code",
   "execution_count": 1,
   "id": "f33be5b3fb01759c",
   "metadata": {
    "ExecuteTime": {
     "end_time": "2025-03-04T04:43:00.431518Z",
     "start_time": "2025-03-04T04:43:00.426017Z"
    }
   },
   "outputs": [
    {
     "data": {
      "text/plain": [
       "[['Edward Gumby', 42], ['John Smith', 50]]"
      ]
     },
     "execution_count": 1,
     "metadata": {},
     "output_type": "execute_result"
    }
   ],
   "source": [
    "edward = ['Edward Gumby',42]\n",
    "john = ['John Smith',50]\n",
    "database = [edward,john]\n",
    "database"
   ]
  },
  {
   "cell_type": "markdown",
   "id": "fe2ac96c27ac63e1",
   "metadata": {},
   "source": [
    "Python支持一种数据据结构的基本概念, 名为容器. 容器基本上就是可包含其他对象的对象. 两种主要的容器是序列和映射(键). 有一种既不是序列也不是映射的容器,叫做集合(set)\n",
    "## 通用的序列操作\n",
    "索引,切片,相加,数乘和成员资格检查,以及python提供的一些内置函数\n",
    "### 索引"
   ]
  },
  {
   "cell_type": "code",
   "execution_count": 1,
   "id": "903a5ab14e6d591a",
   "metadata": {
    "ExecuteTime": {
     "end_time": "2025-03-10T04:43:18.190284Z",
     "start_time": "2025-03-10T04:43:18.183644Z"
    }
   },
   "outputs": [
    {
     "data": {
      "text/plain": [
       "'h'"
      ]
     },
     "execution_count": 1,
     "metadata": {},
     "output_type": "execute_result"
    }
   ],
   "source": [
    "greeting = 'hello world!'\n",
    "greeting[0]              # first"
   ]
  },
  {
   "cell_type": "code",
   "execution_count": 2,
   "id": "fe6070b6d27eda12",
   "metadata": {
    "ExecuteTime": {
     "end_time": "2025-03-10T04:43:54.152652Z",
     "start_time": "2025-03-10T04:43:54.149143Z"
    }
   },
   "outputs": [
    {
     "data": {
      "text/plain": [
       "'!'"
      ]
     },
     "execution_count": 2,
     "metadata": {},
     "output_type": "execute_result"
    }
   ],
   "source": [
    "greeting[-1]            # last"
   ]
  },
  {
   "cell_type": "code",
   "execution_count": 4,
   "id": "3f55e471abbe97fb",
   "metadata": {
    "ExecuteTime": {
     "end_time": "2025-03-10T04:44:41.087657Z",
     "start_time": "2025-03-10T04:44:41.083151Z"
    }
   },
   "outputs": [
    {
     "data": {
      "text/plain": [
       "'e'"
      ]
     },
     "execution_count": 4,
     "metadata": {},
     "output_type": "execute_result"
    }
   ],
   "source": [
    "'hello'[1]              # 可直接对字符串字面量进行索引"
   ]
  },
  {
   "cell_type": "code",
   "execution_count": 5,
   "id": "ab7474c280fc8e43",
   "metadata": {
    "ExecuteTime": {
     "end_time": "2025-03-10T04:46:08.835977Z",
     "start_time": "2025-03-10T04:46:08.831886Z"
    }
   },
   "outputs": [
    {
     "data": {
      "text/plain": [
       "3"
      ]
     },
     "execution_count": 5,
     "metadata": {},
     "output_type": "execute_result"
    }
   ],
   "source": [
    "[1,2,3,4,5,67,8][2]"
   ]
  },
  {
   "cell_type": "code",
   "execution_count": 9,
   "id": "af5813a6a7f9f44f",
   "metadata": {
    "ExecuteTime": {
     "end_time": "2025-03-10T04:47:25.289811Z",
     "start_time": "2025-03-10T04:47:21.437376Z"
    }
   },
   "outputs": [
    {
     "data": {
      "text/plain": [
       "'5'"
      ]
     },
     "execution_count": 9,
     "metadata": {},
     "output_type": "execute_result"
    }
   ],
   "source": [
    "fourth = input(\"Year:\")[3]\n",
    "fourth"
   ]
  },
  {
   "cell_type": "code",
   "execution_count": 10,
   "id": "bb2875af7bf1a7a3",
   "metadata": {
    "ExecuteTime": {
     "end_time": "2025-03-10T04:48:51.660537Z",
     "start_time": "2025-03-10T04:48:51.656518Z"
    }
   },
   "outputs": [
    {
     "data": {
      "text/plain": [
       "'M'"
      ]
     },
     "execution_count": 10,
     "metadata": {},
     "output_type": "execute_result"
    }
   ],
   "source": [
    "month = ['January','February','March','April','May','June','July','August']\n",
    "month[2][0]"
   ]
  },
  {
   "cell_type": "markdown",
   "id": "45eb265f0a07a976",
   "metadata": {},
   "source": [
    "### 切片\n",
    "**访问**特定片段,而不是取出"
   ]
  },
  {
   "cell_type": "code",
   "execution_count": 3,
   "id": "cb7b1ee792778693",
   "metadata": {
    "ExecuteTime": {
     "end_time": "2025-03-10T04:51:57.400517Z",
     "start_time": "2025-03-10T04:51:57.397167Z"
    }
   },
   "outputs": [
    {
     "data": {
      "text/plain": [
       "'ruc'"
      ]
     },
     "execution_count": 3,
     "metadata": {},
     "output_type": "execute_result"
    }
   ],
   "source": [
    "tag = 'https://www.ruc.edu.cn/'\n",
    "tag[12:15]                  # 左闭右开区间, 注意从0开始数"
   ]
  },
  {
   "cell_type": "code",
   "execution_count": 4,
   "id": "e1edf2f2",
   "metadata": {},
   "outputs": [
    {
     "ename": "TypeError",
     "evalue": "'str' object does not support item assignment",
     "output_type": "error",
     "traceback": [
      "\u001b[1;31m---------------------------------------------------------------------------\u001b[0m",
      "\u001b[1;31mTypeError\u001b[0m                                 Traceback (most recent call last)",
      "Cell \u001b[1;32mIn[4], line 1\u001b[0m\n\u001b[1;32m----> 1\u001b[0m tag[\u001b[38;5;241m12\u001b[39m:\u001b[38;5;241m15\u001b[39m] \u001b[38;5;241m=\u001b[39m \u001b[38;5;124m'\u001b[39m\u001b[38;5;124mRUC\u001b[39m\u001b[38;5;124m'\u001b[39m\n",
      "\u001b[1;31mTypeError\u001b[0m: 'str' object does not support item assignment"
     ]
    }
   ],
   "source": [
    "tag[12:15] = 'RUC'         # 不能直接赋值, 会报错"
   ]
  },
  {
   "cell_type": "code",
   "execution_count": 14,
   "id": "56ae6170e2be2989",
   "metadata": {
    "ExecuteTime": {
     "end_time": "2025-03-10T04:53:06.450760Z",
     "start_time": "2025-03-10T04:53:06.448058Z"
    }
   },
   "outputs": [
    {
     "data": {
      "text/plain": [
       "'https'"
      ]
     },
     "execution_count": 14,
     "metadata": {},
     "output_type": "execute_result"
    }
   ],
   "source": [
    "tag[:5]                     # 头尾可省略"
   ]
  },
  {
   "cell_type": "code",
   "execution_count": 15,
   "id": "ded9ad248426482e",
   "metadata": {
    "ExecuteTime": {
     "end_time": "2025-03-10T04:53:39.082357Z",
     "start_time": "2025-03-10T04:53:39.078250Z"
    }
   },
   "outputs": [
    {
     "data": {
      "text/plain": [
       "'cn'"
      ]
     },
     "execution_count": 15,
     "metadata": {},
     "output_type": "execute_result"
    }
   ],
   "source": [
    "tag[-3:-1]              # 最后一位为-1, 依旧左闭右开"
   ]
  },
  {
   "cell_type": "code",
   "execution_count": 16,
   "id": "312618764eec2cdd",
   "metadata": {
    "ExecuteTime": {
     "end_time": "2025-03-10T04:54:41.244209Z",
     "start_time": "2025-03-10T04:54:41.238669Z"
    }
   },
   "outputs": [
    {
     "data": {
      "text/plain": [
       "'cn/'"
      ]
     },
     "execution_count": 16,
     "metadata": {},
     "output_type": "execute_result"
    }
   ],
   "source": [
    "tag[-3:]                # 包含最后一位"
   ]
  },
  {
   "cell_type": "code",
   "execution_count": 17,
   "id": "67a3a02fed6d0689",
   "metadata": {
    "ExecuteTime": {
     "end_time": "2025-03-10T04:55:22.768319Z",
     "start_time": "2025-03-10T04:55:22.764410Z"
    }
   },
   "outputs": [
    {
     "data": {
      "text/plain": [
       "''"
      ]
     },
     "execution_count": 17,
     "metadata": {},
     "output_type": "execute_result"
    }
   ],
   "source": [
    "tag[6:3]            # 什么也没有,返回空"
   ]
  },
  {
   "cell_type": "code",
   "execution_count": 18,
   "id": "f679a1dcc12c0a5b",
   "metadata": {
    "ExecuteTime": {
     "end_time": "2025-03-10T04:56:23.241547Z",
     "start_time": "2025-03-10T04:56:23.237552Z"
    }
   },
   "outputs": [
    {
     "data": {
      "text/plain": [
       "'tp:/w'"
      ]
     },
     "execution_count": 18,
     "metadata": {},
     "output_type": "execute_result"
    }
   ],
   "source": [
    "tag[1:10:2]         # 步长可选,默认为1"
   ]
  },
  {
   "cell_type": "code",
   "execution_count": 20,
   "id": "dd8be3a43fa75e0c",
   "metadata": {
    "ExecuteTime": {
     "end_time": "2025-03-10T04:57:10.985540Z",
     "start_time": "2025-03-10T04:57:10.981903Z"
    }
   },
   "outputs": [
    {
     "data": {
      "text/plain": [
       "'www//:spt'"
      ]
     },
     "execution_count": 20,
     "metadata": {},
     "output_type": "execute_result"
    }
   ],
   "source": [
    "tag[10:1:-1]        # 步长可负,但需注意前面顺序前后需交换"
   ]
  },
  {
   "cell_type": "code",
   "execution_count": 21,
   "id": "f708b92618b5f474",
   "metadata": {
    "ExecuteTime": {
     "end_time": "2025-03-10T04:58:10.368043Z",
     "start_time": "2025-03-10T04:58:10.364640Z"
    }
   },
   "outputs": [
    {
     "data": {
      "text/plain": [
       "'https://www.ruc.edu.cn/'"
      ]
     },
     "execution_count": 21,
     "metadata": {},
     "output_type": "execute_result"
    }
   ],
   "source": [
    "tag[:]              # 复制整个序列(注意是复制,而不是本身)"
   ]
  },
  {
   "cell_type": "code",
   "execution_count": 7,
   "id": "e38dabdb",
   "metadata": {},
   "outputs": [
    {
     "data": {
      "text/plain": [
       "[1, 6, 7, 8, 4, 5]"
      ]
     },
     "execution_count": 7,
     "metadata": {},
     "output_type": "execute_result"
    }
   ],
   "source": [
    "ls = [1,2,3,4,5]\n",
    "ls[1:3] = [6,7,8]         # 替换列表中的元素\n",
    "ls"
   ]
  },
  {
   "cell_type": "markdown",
   "id": "6155ea51",
   "metadata": {},
   "source": [
    "这里很重要的一点是字符串是**不可修改的**, 而列表是允许修改的."
   ]
  },
  {
   "cell_type": "markdown",
   "id": "bd2dd700451aa711",
   "metadata": {},
   "source": [
    "### 序列相加"
   ]
  },
  {
   "cell_type": "code",
   "execution_count": 22,
   "id": "19e88c6e33f3920f",
   "metadata": {
    "ExecuteTime": {
     "end_time": "2025-03-10T05:01:12.379756Z",
     "start_time": "2025-03-10T05:01:12.376590Z"
    }
   },
   "outputs": [
    {
     "data": {
      "text/plain": [
       "'hello world!'"
      ]
     },
     "execution_count": 22,
     "metadata": {},
     "output_type": "execute_result"
    }
   ],
   "source": [
    "a = 'hello'\n",
    "b = ' world'\n",
    "c = '!'\n",
    "a + b + c"
   ]
  },
  {
   "cell_type": "markdown",
   "id": "bce5ef2315ac9dce",
   "metadata": {},
   "source": [
    "### 数乘\n",
    "理解为加法"
   ]
  },
  {
   "cell_type": "code",
   "execution_count": 23,
   "id": "11c85f3f46266a6c",
   "metadata": {
    "ExecuteTime": {
     "end_time": "2025-03-10T05:02:29.771082Z",
     "start_time": "2025-03-10T05:02:29.767563Z"
    }
   },
   "outputs": [
    {
     "data": {
      "text/plain": [
       "'ruc!ruc!ruc!ruc!ruc!'"
      ]
     },
     "execution_count": 23,
     "metadata": {},
     "output_type": "execute_result"
    }
   ],
   "source": [
    "'ruc!' * 5"
   ]
  },
  {
   "cell_type": "code",
   "execution_count": 26,
   "id": "fef645e2964b9b47",
   "metadata": {
    "ExecuteTime": {
     "end_time": "2025-03-10T05:03:28.562182Z",
     "start_time": "2025-03-10T05:03:28.559096Z"
    }
   },
   "outputs": [
    {
     "data": {
      "text/plain": [
       "[1, 2, 1, 2, 1, 2, 1, 2, 1, 2]"
      ]
     },
     "execution_count": 26,
     "metadata": {},
     "output_type": "execute_result"
    }
   ],
   "source": [
    "[1,2] * 5"
   ]
  },
  {
   "cell_type": "code",
   "execution_count": 29,
   "id": "cec8796c514920a8",
   "metadata": {
    "ExecuteTime": {
     "end_time": "2025-03-10T05:05:25.109058Z",
     "start_time": "2025-03-10T05:05:25.104894Z"
    }
   },
   "outputs": [
    {
     "data": {
      "text/plain": [
       "[None, None, None, None, None, None, None, None, None, None]"
      ]
     },
     "execution_count": 29,
     "metadata": {},
     "output_type": "execute_result"
    }
   ],
   "source": [
    "# None,空列表和初始化 #\n",
    "sequence = [None] * 10\n",
    "sequence"
   ]
  },
  {
   "cell_type": "markdown",
   "id": "dfb6b7ef216d1efc",
   "metadata": {},
   "source": [
    "- 关于字符串的应用可以参考cmd/powershell中运行python后进入help(), 笔者认为这既是学习python\"正统知识\"的绝佳方式, 亦能使读者尽快熟悉命令行的使用以及英文阅读, 更是欣赏代码之美, 提升编程素质的契机."
   ]
  },
  {
   "cell_type": "markdown",
   "id": "9bdd628d57077fb9",
   "metadata": {},
   "source": [
    "### 成员资格"
   ]
  },
  {
   "cell_type": "markdown",
   "id": "8ac908176dd4d1d2",
   "metadata": {},
   "source": [
    "我们介绍**布尔运算符**,即通过检查指定的条件,并返回相应的值:满足时返回True,否则返回False.成员资格用到的运算符是in."
   ]
  },
  {
   "cell_type": "code",
   "execution_count": 31,
   "id": "913d3ca96f155cea",
   "metadata": {
    "ExecuteTime": {
     "end_time": "2025-03-10T05:14:55.253482Z",
     "start_time": "2025-03-10T05:14:55.250077Z"
    }
   },
   "outputs": [
    {
     "data": {
      "text/plain": [
       "True"
      ]
     },
     "execution_count": 31,
     "metadata": {},
     "output_type": "execute_result"
    }
   ],
   "source": [
    "users = ['Bob','Alice','Flechazo']\n",
    "'Flechazo' in users"
   ]
  },
  {
   "cell_type": "code",
   "execution_count": 33,
   "id": "9f19fe2a6c26be91",
   "metadata": {
    "ExecuteTime": {
     "end_time": "2025-03-10T05:15:33.989166Z",
     "start_time": "2025-03-10T05:15:33.986039Z"
    }
   },
   "outputs": [
    {
     "data": {
      "text/plain": [
       "False"
      ]
     },
     "execution_count": 33,
     "metadata": {},
     "output_type": "execute_result"
    }
   ],
   "source": [
    "\"Mike\" in users"
   ]
  },
  {
   "cell_type": "code",
   "execution_count": 34,
   "id": "2f4512d6d06938a3",
   "metadata": {
    "ExecuteTime": {
     "end_time": "2025-03-10T05:16:23.923672Z",
     "start_time": "2025-03-10T05:16:23.919802Z"
    }
   },
   "outputs": [
    {
     "data": {
      "text/plain": [
       "True"
      ]
     },
     "execution_count": 34,
     "metadata": {},
     "output_type": "execute_result"
    }
   ],
   "source": [
    "words = 'hello everyone, my name is Mike!'\n",
    "'a' in words"
   ]
  },
  {
   "cell_type": "code",
   "execution_count": 35,
   "id": "c34c509a3a6166ff",
   "metadata": {
    "ExecuteTime": {
     "end_time": "2025-03-10T05:16:40.341770Z",
     "start_time": "2025-03-10T05:16:40.337576Z"
    }
   },
   "outputs": [
    {
     "data": {
      "text/plain": [
       "True"
      ]
     },
     "execution_count": 35,
     "metadata": {},
     "output_type": "execute_result"
    }
   ],
   "source": [
    "'ike' in words"
   ]
  },
  {
   "cell_type": "code",
   "execution_count": 36,
   "id": "143a4bfb4f547612",
   "metadata": {
    "ExecuteTime": {
     "end_time": "2025-03-10T05:16:53.465135Z",
     "start_time": "2025-03-10T05:16:53.461638Z"
    }
   },
   "outputs": [
    {
     "data": {
      "text/plain": [
       "False"
      ]
     },
     "execution_count": 36,
     "metadata": {},
     "output_type": "execute_result"
    }
   ],
   "source": [
    "'iek' in words"
   ]
  },
  {
   "cell_type": "code",
   "execution_count": 37,
   "id": "116eb4e3941eea81",
   "metadata": {
    "ExecuteTime": {
     "end_time": "2025-03-10T05:19:37.310336Z",
     "start_time": "2025-03-10T05:19:25.587711Z"
    }
   },
   "outputs": [
    {
     "name": "stdout",
     "output_type": "stream",
     "text": [
      "You are logged in!\n"
     ]
    }
   ],
   "source": [
    "# exercise\n",
    "database = [['a','1234'],['b','2345'],['c','3456'],['d','4567']]\n",
    "if [input('User name'), input('Password')] in database:\n",
    "    print('You are logged in!')"
   ]
  },
  {
   "cell_type": "markdown",
   "id": "41b9916b37b9583d",
   "metadata": {},
   "source": [
    "长度,最小值和最大值"
   ]
  },
  {
   "cell_type": "code",
   "execution_count": 38,
   "id": "f038585dad416fcf",
   "metadata": {
    "ExecuteTime": {
     "end_time": "2025-03-10T05:20:25.615535Z",
     "start_time": "2025-03-10T05:20:25.612284Z"
    }
   },
   "outputs": [
    {
     "data": {
      "text/plain": [
       "4"
      ]
     },
     "execution_count": 38,
     "metadata": {},
     "output_type": "execute_result"
    }
   ],
   "source": [
    "len(database)           # 返回元素个数"
   ]
  },
  {
   "cell_type": "code",
   "execution_count": 39,
   "id": "b0e7bdae4b72e27f",
   "metadata": {
    "ExecuteTime": {
     "end_time": "2025-03-10T05:20:52.766006Z",
     "start_time": "2025-03-10T05:20:52.762373Z"
    }
   },
   "outputs": [
    {
     "data": {
      "text/plain": [
       "['d', '4567']"
      ]
     },
     "execution_count": 39,
     "metadata": {},
     "output_type": "execute_result"
    }
   ],
   "source": [
    "max(database)           # 返回最大元素"
   ]
  },
  {
   "cell_type": "code",
   "execution_count": 40,
   "id": "22e3a3ee281dc799",
   "metadata": {
    "ExecuteTime": {
     "end_time": "2025-03-10T05:21:08.294139Z",
     "start_time": "2025-03-10T05:21:08.291131Z"
    }
   },
   "outputs": [
    {
     "data": {
      "text/plain": [
       "['a', '1234']"
      ]
     },
     "execution_count": 40,
     "metadata": {},
     "output_type": "execute_result"
    }
   ],
   "source": [
    "min(database)           # 返回最小元素"
   ]
  },
  {
   "cell_type": "code",
   "execution_count": 41,
   "id": "8cd4bb596a62d334",
   "metadata": {
    "ExecuteTime": {
     "end_time": "2025-03-10T05:21:42.586225Z",
     "start_time": "2025-03-10T05:21:42.582330Z"
    }
   },
   "outputs": [
    {
     "data": {
      "text/plain": [
       "True"
      ]
     },
     "execution_count": 41,
     "metadata": {},
     "output_type": "execute_result"
    }
   ],
   "source": [
    "['d', '4567'] > ['a', '1234']"
   ]
  },
  {
   "cell_type": "markdown",
   "id": "b4b1c7980877de94",
   "metadata": {},
   "source": [
    "这里需要补充**序列比较大小的规则**"
   ]
  },
  {
   "cell_type": "code",
   "execution_count": 45,
   "id": "1ddd6f4bec5a40f7",
   "metadata": {
    "ExecuteTime": {
     "end_time": "2025-03-10T05:24:09.828925Z",
     "start_time": "2025-03-10T05:24:09.825221Z"
    }
   },
   "outputs": [
    {
     "data": {
      "text/plain": [
       "False"
      ]
     },
     "execution_count": 45,
     "metadata": {},
     "output_type": "execute_result"
    }
   ],
   "source": [
    "'a' > 'b'"
   ]
  },
  {
   "cell_type": "code",
   "execution_count": 46,
   "id": "f6a5ec3b354e312b",
   "metadata": {
    "ExecuteTime": {
     "end_time": "2025-03-10T05:24:20.448761Z",
     "start_time": "2025-03-10T05:24:20.445428Z"
    }
   },
   "outputs": [
    {
     "data": {
      "text/plain": [
       "True"
      ]
     },
     "execution_count": 46,
     "metadata": {},
     "output_type": "execute_result"
    }
   ],
   "source": [
    "'A' < \"a\""
   ]
  },
  {
   "cell_type": "markdown",
   "id": "5c6370b6c6df8766",
   "metadata": {},
   "source": [
    "## 列表"
   ]
  },
  {
   "cell_type": "markdown",
   "id": "61936f9d849d7ee2",
   "metadata": {},
   "source": [
    "本节主要讨论列表不同于元组和字符串的地方: 列表是**可变的**(这意味着它的索引和切片都允许赋值!),且列表有很多特有的**方法**"
   ]
  },
  {
   "cell_type": "code",
   "execution_count": 27,
   "id": "e103d053c438e53c",
   "metadata": {
    "ExecuteTime": {
     "end_time": "2025-03-10T05:27:52.077337Z",
     "start_time": "2025-03-10T05:27:52.073915Z"
    }
   },
   "outputs": [
    {
     "data": {
      "text/plain": [
       "['h', 'e', 'l', 'l', 'o', ' ', 'w', 'o', 'r', 'l', 'd']"
      ]
     },
     "execution_count": 27,
     "metadata": {},
     "output_type": "execute_result"
    }
   ],
   "source": [
    "a = list('hello world')         # 请注意,可将任何序列作为list的参数\n",
    "a"
   ]
  },
  {
   "cell_type": "code",
   "execution_count": 28,
   "id": "739d78d61b18ed3c",
   "metadata": {
    "ExecuteTime": {
     "end_time": "2025-03-10T05:27:58.003302Z",
     "start_time": "2025-03-10T05:27:57.999281Z"
    }
   },
   "outputs": [
    {
     "data": {
      "text/plain": [
       "'hello world'"
      ]
     },
     "execution_count": 28,
     "metadata": {},
     "output_type": "execute_result"
    }
   ],
   "source": [
    "''.join(a)              # 列表转换成字符串,后续会讲到"
   ]
  },
  {
   "cell_type": "code",
   "execution_count": 29,
   "id": "80999b4c0fe718f8",
   "metadata": {
    "ExecuteTime": {
     "end_time": "2025-03-10T05:31:34.626180Z",
     "start_time": "2025-03-10T05:31:34.622341Z"
    }
   },
   "outputs": [
    {
     "data": {
      "text/plain": [
       "[1, 2, 3, 4, 5, 6, 7, 8, 9, 10]"
      ]
     },
     "execution_count": 29,
     "metadata": {},
     "output_type": "execute_result"
    }
   ],
   "source": [
    "num = [1,2,3,4,5,6,7,8,9,0]\n",
    "num[-1] = 10            # 给元素赋值\n",
    "num                     # 不能给不存在的元素赋值,需要初始化"
   ]
  },
  {
   "cell_type": "code",
   "execution_count": 30,
   "id": "a3fde4b68b8d461f",
   "metadata": {
    "ExecuteTime": {
     "end_time": "2025-03-10T05:31:35.527083Z",
     "start_time": "2025-03-10T05:31:35.523830Z"
    }
   },
   "outputs": [
    {
     "data": {
      "text/plain": [
       "[1, 2, 3, 4, 5, 6, 7, 8, 9]"
      ]
     },
     "execution_count": 30,
     "metadata": {},
     "output_type": "execute_result"
    }
   ],
   "source": [
    "del num[-1]             # 删除元素, 同时长度变短\n",
    "num                     # 将这段代码多执行几次看看~"
   ]
  },
  {
   "cell_type": "code",
   "execution_count": 31,
   "id": "da10335616119ae9",
   "metadata": {
    "ExecuteTime": {
     "end_time": "2025-03-10T05:43:13.357897Z",
     "start_time": "2025-03-10T05:43:13.354011Z"
    }
   },
   "outputs": [
    {
     "data": {
      "text/plain": [
       "['J', 'e', 's', 's', 'i', 'hello', [123, 456, 666], (1, 2, 4, 66)]"
      ]
     },
     "execution_count": 31,
     "metadata": {},
     "output_type": "execute_result"
    }
   ],
   "source": [
    "name = list('Jessica')\n",
    "name[-2:] = ['hello',[123,456,666],(1,2,4,66)]          # 给切片赋值, 且可替换成长度不同的序列\n",
    "name"
   ]
  },
  {
   "cell_type": "code",
   "execution_count": 32,
   "id": "160a6fcdb77b0524",
   "metadata": {
    "ExecuteTime": {
     "end_time": "2025-03-10T05:44:20.177314Z",
     "start_time": "2025-03-10T05:44:20.173817Z"
    }
   },
   "outputs": [
    {
     "data": {
      "text/plain": [
       "[1, 8, 9, 10, 2, 3, 4]"
      ]
     },
     "execution_count": 32,
     "metadata": {},
     "output_type": "execute_result"
    }
   ],
   "source": [
    "seq = [1,2,3,4]\n",
    "seq[1:1] = [8,9,10]             # 这里\"替换\"了一个空切片,相当于插入新元素\n",
    "seq"
   ]
  },
  {
   "cell_type": "code",
   "execution_count": 33,
   "id": "e26be356c50bc3f5",
   "metadata": {
    "ExecuteTime": {
     "end_time": "2025-03-10T05:46:23.366898Z",
     "start_time": "2025-03-10T05:46:23.362880Z"
    }
   },
   "outputs": [
    {
     "data": {
      "text/plain": [
       "[1, 5, 6, 7, 8, 9, 0]"
      ]
     },
     "execution_count": 33,
     "metadata": {},
     "output_type": "execute_result"
    }
   ],
   "source": [
    "seqs = [1,2,3,4,5,6,7,8,9,0]\n",
    "seqs[1:4] = []              # 亦可来删除片段\n",
    "seqs"
   ]
  },
  {
   "cell_type": "markdown",
   "id": "f91b9218c361556b",
   "metadata": {},
   "source": [
    "你可能猜到了, 上述代码其实与下面的代码等效:\n",
    "```Python\n",
    "del seqs[1:4]\n",
    "\n",
    "```\n"
   ]
  },
  {
   "cell_type": "code",
   "execution_count": 34,
   "id": "fe6be23021acc4bc",
   "metadata": {
    "ExecuteTime": {
     "end_time": "2025-03-10T05:59:32.590489Z",
     "start_time": "2025-03-10T05:59:32.585932Z"
    }
   },
   "outputs": [
    {
     "data": {
      "text/plain": [
       "[100, 2, 100, 4, 100, 6, 100, 8, 100, 0]"
      ]
     },
     "execution_count": 34,
     "metadata": {},
     "output_type": "execute_result"
    }
   ],
   "source": [
    "seqs = [1,2,3,4,5,6,7,8,9,0]\n",
    "seqs[::2] = [100,100,100,100,100]           # 步长不为1时,长度必须严格匹配!!!\n",
    "seqs"
   ]
  },
  {
   "cell_type": "markdown",
   "id": "84beaa41823edc40",
   "metadata": {},
   "source": [
    "### 列表方法\n",
    "方法是与对象(列表,数,字符串等)联系紧密的函数. 通常,像下面的这样调用方法:\n",
    "```Python\n",
    "object.method(arguments)\n",
    "\n",
    "```"
   ]
  },
  {
   "cell_type": "code",
   "execution_count": null,
   "id": "8e0535a73bbd19e3",
   "metadata": {
    "ExecuteTime": {
     "end_time": "2025-03-10T06:04:10.689246Z",
     "start_time": "2025-03-10T06:04:10.684785Z"
    }
   },
   "outputs": [
    {
     "data": {
      "text/plain": [
       "[1, 2, 3, 4]"
      ]
     },
     "execution_count": 35,
     "metadata": {},
     "output_type": "execute_result"
    }
   ],
   "source": [
    "lst = [1,2,3]\n",
    "lst.append(4)           # 将一个对象附加到列表末尾. 且就地修改列表, 而不返回值\n",
    "lst"
   ]
  },
  {
   "cell_type": "code",
   "execution_count": 36,
   "id": "432a97d30e47b273",
   "metadata": {
    "ExecuteTime": {
     "end_time": "2025-03-10T06:07:02.481833Z",
     "start_time": "2025-03-10T06:07:02.477677Z"
    }
   },
   "outputs": [
    {
     "data": {
      "text/plain": [
       "[]"
      ]
     },
     "execution_count": 36,
     "metadata": {},
     "output_type": "execute_result"
    }
   ],
   "source": [
    "lst.clear()             # 就地清空列表的内容\n",
    "lst"
   ]
  },
  {
   "cell_type": "markdown",
   "id": "bda262d88b7b75cf",
   "metadata": {},
   "source": [
    "这类似于\n",
    "```Python\n",
    "lst[:] = []\n",
    "```"
   ]
  },
  {
   "cell_type": "code",
   "execution_count": null,
   "id": "ab8187ca",
   "metadata": {},
   "outputs": [
    {
     "data": {
      "text/plain": [
       "[]"
      ]
     },
     "execution_count": 55,
     "metadata": {},
     "output_type": "execute_result"
    }
   ],
   "source": [
    "ls = [1,2,3,4,5]\n",
    "ls[:] = []          # 与字符串不同, 这修改了列表本身!\n",
    "ls"
   ]
  },
  {
   "cell_type": "code",
   "execution_count": null,
   "id": "b91086801d7f9e2b",
   "metadata": {
    "ExecuteTime": {
     "end_time": "2025-03-10T06:10:06.101968Z",
     "start_time": "2025-03-10T06:10:06.098964Z"
    }
   },
   "outputs": [
    {
     "data": {
      "text/plain": [
       "[1, 2, 4]"
      ]
     },
     "execution_count": 37,
     "metadata": {},
     "output_type": "execute_result"
    }
   ],
   "source": [
    "a = [ 1, 2, 3 ]\n",
    "b = a           # 常规方法仅仅是将另一个名称关联到这个列表上,并没有创建新的副本\n",
    "b[2] = 4\n",
    "a"
   ]
  },
  {
   "cell_type": "code",
   "execution_count": 38,
   "id": "f8ff0c4bd99df603",
   "metadata": {
    "ExecuteTime": {
     "end_time": "2025-03-10T06:12:49.592026Z",
     "start_time": "2025-03-10T06:12:49.588009Z"
    }
   },
   "outputs": [
    {
     "data": {
      "text/plain": [
       "[1, 2, 3]"
      ]
     },
     "execution_count": 38,
     "metadata": {},
     "output_type": "execute_result"
    }
   ],
   "source": [
    "c = [1,2,3]\n",
    "d = a.copy()\n",
    "d[2] = 4\n",
    "c"
   ]
  },
  {
   "cell_type": "markdown",
   "id": "3bc4fd07e1d3a7c0",
   "metadata": {},
   "source": [
    "这类似于\n",
    "```Python\n",
    "b = a[:]\n",
    "b = list(a)\n",
    "\n",
    "```"
   ]
  },
  {
   "cell_type": "code",
   "execution_count": 39,
   "id": "1a64b8189af04879",
   "metadata": {
    "ExecuteTime": {
     "end_time": "2025-03-10T06:17:03.809420Z",
     "start_time": "2025-03-10T06:17:03.805186Z"
    }
   },
   "outputs": [
    {
     "data": {
      "text/plain": [
       "7"
      ]
     },
     "execution_count": 39,
     "metadata": {},
     "output_type": "execute_result"
    }
   ],
   "source": [
    "[1,2,3,4,5,6,7,7,2,3,22,[1,2],1,2,3,2,2,2,2,[1,2]].count(2)"
   ]
  },
  {
   "cell_type": "code",
   "execution_count": 40,
   "id": "73cce5d5f54bb571",
   "metadata": {
    "ExecuteTime": {
     "end_time": "2025-03-10T06:17:34.841437Z",
     "start_time": "2025-03-10T06:17:34.837156Z"
    }
   },
   "outputs": [
    {
     "data": {
      "text/plain": [
       "2"
      ]
     },
     "execution_count": 40,
     "metadata": {},
     "output_type": "execute_result"
    }
   ],
   "source": [
    "[1,2,3,4,5,6,7,7,2,3,22,[1,2],1,2,3,2,2,2,2,[1,2]].count([1,2])"
   ]
  },
  {
   "cell_type": "code",
   "execution_count": 41,
   "id": "b22e29d666715381",
   "metadata": {
    "ExecuteTime": {
     "end_time": "2025-03-10T06:18:45.509684Z",
     "start_time": "2025-03-10T06:18:45.505269Z"
    }
   },
   "outputs": [
    {
     "data": {
      "text/plain": [
       "[1, 2, 3, 4, 5, 6]"
      ]
     },
     "execution_count": 41,
     "metadata": {},
     "output_type": "execute_result"
    }
   ],
   "source": [
    "x = [1,2,3]\n",
    "y = [4,5,6]\n",
    "x.extend(y)             # x就地被改变!!!这不同于 a + b , 而是 a = a + b / a += b\n",
    "x"
   ]
  },
  {
   "cell_type": "code",
   "execution_count": null,
   "id": "5de605427aa9bf85",
   "metadata": {
    "ExecuteTime": {
     "end_time": "2025-03-10T06:24:36.767155Z",
     "start_time": "2025-03-10T06:24:36.763834Z"
    }
   },
   "outputs": [
    {
     "data": {
      "text/plain": [
       "2"
      ]
     },
     "execution_count": 42,
     "metadata": {},
     "output_type": "execute_result"
    }
   ],
   "source": [
    "[1,3,5,7,9].index(5)            # 返回指定值第一次出现的索引,没找到则会报错"
   ]
  },
  {
   "cell_type": "code",
   "execution_count": 43,
   "id": "f0c5244da872ba7e",
   "metadata": {
    "ExecuteTime": {
     "end_time": "2025-03-10T06:26:22.139159Z",
     "start_time": "2025-03-10T06:26:22.134967Z"
    }
   },
   "outputs": [
    {
     "data": {
      "text/plain": [
       "[1, 'hello', 2, 3, 4, 5]"
      ]
     },
     "execution_count": 43,
     "metadata": {},
     "output_type": "execute_result"
    }
   ],
   "source": [
    "numbers = [1,2,3,4,5]\n",
    "numbers.insert(1,'hello')\n",
    "numbers"
   ]
  },
  {
   "cell_type": "code",
   "execution_count": 56,
   "id": "9a789a9d2fe3a9a8",
   "metadata": {
    "ExecuteTime": {
     "end_time": "2025-03-10T06:27:24.126542Z",
     "start_time": "2025-03-10T06:27:24.122492Z"
    }
   },
   "outputs": [
    {
     "data": {
      "text/plain": [
       "3"
      ]
     },
     "execution_count": 56,
     "metadata": {},
     "output_type": "execute_result"
    }
   ],
   "source": [
    "x = [1,2,3]\n",
    "x.pop()             # 删除一个元素(默认最后一个), 且返回被删去的这一元素的值"
   ]
  },
  {
   "cell_type": "code",
   "execution_count": null,
   "id": "e659a86e2fbcdc19",
   "metadata": {
    "ExecuteTime": {
     "end_time": "2025-03-10T06:28:46.947228Z",
     "start_time": "2025-03-10T06:28:46.944174Z"
    }
   },
   "outputs": [
    {
     "data": {
      "text/plain": [
       "1"
      ]
     },
     "execution_count": 57,
     "metadata": {},
     "output_type": "execute_result"
    }
   ],
   "source": [
    "x.pop(0)            # 删除指定索引的元素, 且返回被删去的这一元素的值"
   ]
  },
  {
   "cell_type": "markdown",
   "id": "d6bc4a4a40fee818",
   "metadata": {},
   "source": [
    "- 使用pop方法可实现一种常见的数据结构--栈. 栈就像一叠盘子,你可以在上面添加盘子,还可以从上面取走盘子.\n",
    "最后加入的盘子最先取走,这被称为后进先出(LIFO)"
   ]
  },
  {
   "cell_type": "code",
   "execution_count": 60,
   "id": "c8657dcee019a166",
   "metadata": {
    "ExecuteTime": {
     "end_time": "2025-03-10T06:33:17.240299Z",
     "start_time": "2025-03-10T06:33:17.236930Z"
    }
   },
   "outputs": [
    {
     "data": {
      "text/plain": [
       "[1, 2, 3, 4, 5, 7, 9]"
      ]
     },
     "execution_count": 60,
     "metadata": {},
     "output_type": "execute_result"
    }
   ],
   "source": [
    "y = [1,2,3,3,4,5,7,9]\n",
    "y.remove(3)         # 删除第一个为指定值的元素\n",
    "y                   # 就地修改且不返回值"
   ]
  },
  {
   "cell_type": "code",
   "execution_count": null,
   "id": "c5537e03b487291c",
   "metadata": {
    "ExecuteTime": {
     "end_time": "2025-03-10T06:35:23.171556Z",
     "start_time": "2025-03-10T06:35:23.167691Z"
    }
   },
   "outputs": [
    {
     "data": {
      "text/plain": [
       "[3, 2, 1]"
      ]
     },
     "execution_count": 61,
     "metadata": {},
     "output_type": "execute_result"
    }
   ],
   "source": [
    "x = [1,2,3]\n",
    "x.reverse()         # 就地反转\n",
    "x"
   ]
  },
  {
   "cell_type": "code",
   "execution_count": null,
   "id": "5f947ee2c34849c6",
   "metadata": {
    "ExecuteTime": {
     "end_time": "2025-03-10T06:40:16.153233Z",
     "start_time": "2025-03-10T06:40:16.149060Z"
    }
   },
   "outputs": [
    {
     "data": {
      "text/plain": [
       "[1, 0, 3, 8, 5, 6, 7, 4, 9, 2]"
      ]
     },
     "execution_count": 62,
     "metadata": {},
     "output_type": "execute_result"
    }
   ],
   "source": [
    "# 实现偶数位元素反转 #\n",
    "x = [1,2,3,4,5,6,7,8,9,0]\n",
    "y = x[1::2]\n",
    "y.reverse()\n",
    "x[1::2] = y\n",
    "x"
   ]
  },
  {
   "cell_type": "code",
   "execution_count": 63,
   "id": "d657c24d07c059da",
   "metadata": {
    "ExecuteTime": {
     "end_time": "2025-03-10T06:41:11.756170Z",
     "start_time": "2025-03-10T06:41:11.751572Z"
    }
   },
   "outputs": [
    {
     "data": {
      "text/plain": [
       "[1, 2, 3, 4, 5, 6, 7, 8, 9, 0]"
      ]
     },
     "execution_count": 63,
     "metadata": {},
     "output_type": "execute_result"
    }
   ],
   "source": [
    "x = [1,2,3,4,5,6,7,8,9,0]\n",
    "x[1::2].reverse()\n",
    "x"
   ]
  },
  {
   "cell_type": "markdown",
   "id": "cabd0bd9",
   "metadata": {},
   "source": [
    "\n",
    "这个问题涉及到 Python 中**切片操作**和**切片赋值**的底层机制，看似矛盾，实则是因为两种操作在 Python 中的实现逻辑完全不同。以下是详细解释：\n",
    "\n",
    "---\n",
    "\n",
    "### 1. **切片操作 (`x[1::2]`) 的本质**\n",
    "当执行 `x[1::2]` 时，Python 会生成一个**新列表**，其中包含原列表 `x` 在偶数索引位置的元素（例如 `[2,4,6,8,0]`）。  \n",
    "这个新列表是一个独立的对象，与原列表 `x` **无任何关联**。此时对新列表的任何操作（如 `reverse()`）都不会影响原列表。\n",
    "\n",
    "**示例代码：**\n",
    "```python\n",
    "x = [1,2,3,4,5,6,7,8,9,0]\n",
    "y = x[1::2]  # y 是新列表 [2,4,6,8,0]\n",
    "y.reverse()  # 反转 y → [0,8,6,4,2]\n",
    "print(x)    # 原列表 x 未改变 → [1,2,3,4,5,6,7,8,9,0]\n",
    "```\n",
    "\n",
    "---\n",
    "\n",
    "### 2. **切片赋值 (`x[1::2] = ...`) 的机制**\n",
    "切片赋值是 Python 中的一个**特殊语法**，它的行为与普通切片操作完全不同。  \n",
    "当执行 `x[1::2] = y` 时，Python 会直接操作原列表 `x` 的内存结构，将 `y` 中的元素按顺序插入到 `x` 的偶数索引位置。  \n",
    "这一过程本质上是**对原列表的原地修改**，而非操作切片生成的新列表。\n",
    "\n",
    "**示例代码：**\n",
    "```python\n",
    "x = [1,2,3,4,5,6,7,8,9,0]\n",
    "y = x[1::2]       # y = [2,4,6,8,0]\n",
    "y.reverse()       # y = [0,8,6,4,2]\n",
    "x[1::2] = y      # 将 y 的元素按顺序插入 x 的偶数索引位置\n",
    "print(x)         # x 被修改 → [1,0,3,8,5,6,7,4,9,2]\n",
    "```\n",
    "\n",
    "---\n",
    "\n",
    "### 3. **关键区别：操作对象不同**\n",
    "| **操作类型**       | **行为**                                                                 |\n",
    "|---------------------|--------------------------------------------------------------------------|\n",
    "| 普通切片操作 `x[1::2]` | 生成新列表，与原列表无关。                                               |\n",
    "| 切片赋值 `x[1::2] = y` | 直接修改原列表的内存结构，按规则替换指定位置的元素。                     |\n",
    "\n",
    "#### 为什么切片赋值能修改原列表？\n",
    "- **底层实现机制**：Python 解释器对切片赋值的语法进行了特殊处理。  \n",
    "  当检测到 `x[...] = ...` 形式的赋值时，解释器会直接操作原列表，按以下步骤执行：\n",
    "  1. **定位切片区间**：确定原列表 `x` 中需要替换的位置（如偶数索引）。\n",
    "  2. **删除旧元素**：删除这些位置上的原有元素。\n",
    "  3. **插入新元素**：将右侧的值按顺序插入到这些位置。\n",
    "\n",
    "- **语法糖**：切片赋值是 Python 提供的一种高效语法，允许直接修改列表的指定区间，而无需手动遍历或创建临时变量。\n",
    "\n",
    "---\n",
    "\n",
    "### 4. **错误代码分析：`x[1::2].reverse()`**\n",
    "在以下代码中：\n",
    "```python\n",
    "x = [1,2,3,4,5,6,7,8,9,0]\n",
    "x[1::2].reverse()  # 错误：操作的是新列表，原列表未被修改\n",
    "print(x)           # 输出仍为 [1,2,3,4,5,6,7,8,9,0]\n",
    "```\n",
    "\n",
    "**问题原因：**\n",
    "1. `x[1::2]` 生成一个新列表 `[2,4,6,8,0]`。\n",
    "2. `reverse()` 方法反转这个新列表，得到 `[0,8,6,4,2]`。\n",
    "3. **但反转后的新列表未被赋值回原列表**，因此原列表 `x` 的偶数索引位置未被更新。\n",
    "\n",
    "---\n",
    "\n",
    "### 5. **总结：切片赋值的本质**\n",
    "虽然切片操作 `x[1::2]` 返回新列表，但切片赋值 `x[1::2] = y` 是 Python 解释器的**特殊语法**，它通过以下机制直接修改原列表：\n",
    "1. **定位目标区间**：找到原列表的指定位置。\n",
    "2. **替换元素**：用右侧的值覆盖这些位置。\n",
    "\n",
    "这种机制与普通切片操作的“生成新对象”逻辑完全不同，因此切片赋值能够直接修改原列表。"
   ]
  },
  {
   "cell_type": "code",
   "execution_count": 50,
   "id": "297a37f10fd5e668",
   "metadata": {
    "ExecuteTime": {
     "end_time": "2025-03-10T06:48:13.630932Z",
     "start_time": "2025-03-10T06:48:13.628103Z"
    }
   },
   "outputs": [
    {
     "data": {
      "text/plain": [
       "[1, 2, 3, 4, 5, 7, 8, 9]"
      ]
     },
     "execution_count": 50,
     "metadata": {},
     "output_type": "execute_result"
    }
   ],
   "source": [
    "x = [9,3,4,5,2,7,8,1]\n",
    "x.sort()                # 对列表就地排序,而不会生成副本\n",
    "x"
   ]
  },
  {
   "cell_type": "code",
   "execution_count": null,
   "id": "72936f63f4075bda",
   "metadata": {
    "ExecuteTime": {
     "end_time": "2025-03-10T10:15:42.740571Z",
     "start_time": "2025-03-10T10:15:42.736321Z"
    }
   },
   "outputs": [
    {
     "data": {
      "text/plain": [
       "[1, 2, 3, 4, 5, 7, 8, 9]"
      ]
     },
     "execution_count": 51,
     "metadata": {},
     "output_type": "execute_result"
    }
   ],
   "source": [
    "x = [9,3,4,5,2,7,8,1]\n",
    "y = sorted(x)               # sorted函数可用于任何可迭代对象,总是返回一个列表,不会修改x\n",
    "y"
   ]
  },
  {
   "cell_type": "code",
   "execution_count": 52,
   "id": "7cce709679713aa5",
   "metadata": {
    "ExecuteTime": {
     "end_time": "2025-03-10T10:18:54.684428Z",
     "start_time": "2025-03-10T10:18:54.681368Z"
    }
   },
   "outputs": [
    {
     "data": {
      "text/plain": [
       "['sods', 'dnjkfn', 'cdscop', 'dmcdlcd', 'dcmdkmckd']"
      ]
     },
     "execution_count": 52,
     "metadata": {},
     "output_type": "execute_result"
    }
   ],
   "source": [
    "# 高级排序 #\n",
    "x = ['dnjkfn','dcmdkmckd','dmcdlcd','sods','cdscop']\n",
    "x.sort(key=len)\n",
    "x"
   ]
  },
  {
   "cell_type": "code",
   "execution_count": 53,
   "id": "39881726d9bb216b",
   "metadata": {
    "ExecuteTime": {
     "end_time": "2025-03-10T10:19:19.090178Z",
     "start_time": "2025-03-10T10:19:19.085942Z"
    }
   },
   "outputs": [
    {
     "data": {
      "text/plain": [
       "['dcmdkmckd', 'dmcdlcd', 'dnjkfn', 'cdscop', 'sods']"
      ]
     },
     "execution_count": 53,
     "metadata": {},
     "output_type": "execute_result"
    }
   ],
   "source": [
    "x.sort(key=len,reverse=True)\n",
    "x"
   ]
  },
  {
   "cell_type": "markdown",
   "id": "78d3c553e3a2747",
   "metadata": {},
   "source": [
    "强烈推荐阅读: 如果你想更深入地了解排序,可以参阅文章: [\"Sorting Mini-HOW TO\"](https:/wiki.python.org/moin/HowTo/Sorting)\n",
    "## 元组: 不可修改的序列"
   ]
  },
  {
   "cell_type": "code",
   "execution_count": 64,
   "id": "73760fb05ac9ca1f",
   "metadata": {
    "ExecuteTime": {
     "end_time": "2025-03-10T10:25:03.487964Z",
     "start_time": "2025-03-10T10:25:03.484279Z"
    }
   },
   "outputs": [
    {
     "data": {
      "text/plain": [
       "(1, 2, 3, 4, 5, 6, 7, 8, 9, 0)"
      ]
     },
     "execution_count": 64,
     "metadata": {},
     "output_type": "execute_result"
    }
   ],
   "source": [
    "1,2,3,4,5,6,7,8,9,0             # 自动创建元组"
   ]
  },
  {
   "cell_type": "code",
   "execution_count": 65,
   "id": "e6cf42afbb2f4218",
   "metadata": {
    "ExecuteTime": {
     "end_time": "2025-03-10T10:26:02.301703Z",
     "start_time": "2025-03-10T10:26:02.297270Z"
    }
   },
   "outputs": [
    {
     "data": {
      "text/plain": [
       "()"
      ]
     },
     "execution_count": 65,
     "metadata": {},
     "output_type": "execute_result"
    }
   ],
   "source": [
    "tp = (1,2,3,4,5,6,7,8,9,0)\n",
    "()                             # 空元组"
   ]
  },
  {
   "cell_type": "code",
   "execution_count": 66,
   "id": "56c61bc93e9bb277",
   "metadata": {
    "ExecuteTime": {
     "end_time": "2025-03-10T10:26:46.951202Z",
     "start_time": "2025-03-10T10:26:46.947312Z"
    }
   },
   "outputs": [
    {
     "data": {
      "text/plain": [
       "(2,)"
      ]
     },
     "execution_count": 66,
     "metadata": {},
     "output_type": "execute_result"
    }
   ],
   "source": [
    "(2,)                    # 只有一个元素的元组需要保留逗号!!!"
   ]
  },
  {
   "cell_type": "code",
   "execution_count": 68,
   "id": "a79a8fbded006ab3",
   "metadata": {
    "ExecuteTime": {
     "end_time": "2025-03-10T10:27:47.457426Z",
     "start_time": "2025-03-10T10:27:47.453980Z"
    }
   },
   "outputs": [
    {
     "data": {
      "text/plain": [
       "True"
      ]
     },
     "execution_count": 68,
     "metadata": {},
     "output_type": "execute_result"
    }
   ],
   "source": [
    "(42) == 42              # 括号内的42,不是元组"
   ]
  },
  {
   "cell_type": "code",
   "execution_count": 69,
   "id": "ad6d3009daf35996",
   "metadata": {
    "ExecuteTime": {
     "end_time": "2025-03-10T10:28:36.811791Z",
     "start_time": "2025-03-10T10:28:36.807993Z"
    }
   },
   "outputs": [
    {
     "data": {
      "text/plain": [
       "('h', 'e', 'l', 'l', 'o', ' ', 'w', 'o', 'r', 'l', 'd')"
      ]
     },
     "execution_count": 69,
     "metadata": {},
     "output_type": "execute_result"
    }
   ],
   "source": [
    "tuple(\"hello world\")            # 转换函数"
   ]
  },
  {
   "cell_type": "markdown",
   "id": "c1079105ab6e31f9",
   "metadata": {},
   "source": [
    "- 元组主要用作映射中的键,将在后续介绍.\n",
    "- 多参数或多返回值的函数与方法其实是通过元组的打包与解包实现的."
   ]
  }
 ],
 "metadata": {
  "kernelspec": {
   "display_name": "ai_python_course",
   "language": "python",
   "name": "python3"
  },
  "language_info": {
   "codemirror_mode": {
    "name": "ipython",
    "version": 3
   },
   "file_extension": ".py",
   "mimetype": "text/x-python",
   "name": "python",
   "nbconvert_exporter": "python",
   "pygments_lexer": "ipython3",
   "version": "3.12.3"
  }
 },
 "nbformat": 4,
 "nbformat_minor": 5
}
