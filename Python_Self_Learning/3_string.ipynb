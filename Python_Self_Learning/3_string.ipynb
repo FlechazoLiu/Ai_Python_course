{
 "cells": [
  {
   "cell_type": "markdown",
   "id": "bde81e8e84be97d0",
   "metadata": {},
   "source": [
    "# 使用字符串\n",
    "字符串是一种特殊的序列.本章主要介绍如何使用字符串来设置其他值的格式,以及相关的字符串方法."
   ]
  },
  {
   "cell_type": "markdown",
   "id": "4d6ae711a8d78ecc",
   "metadata": {},
   "source": [
    "- 所有的标准序列操作均可作用于字符串,但需要注意字符串是**不可更改的**,这意味着所有的赋值操作都是非法的.\n",
    "## 设置字符串的格式"
   ]
  },
  {
   "cell_type": "code",
   "execution_count": 10,
   "id": "9922791862f47f9b",
   "metadata": {
    "ExecuteTime": {
     "end_time": "2025-03-10T10:42:08.421669Z",
     "start_time": "2025-03-10T10:42:08.418549Z"
    }
   },
   "outputs": [
    {
     "name": "stdout",
     "output_type": "stream",
     "text": [
      "Hello, world. Hot enough for ya?\n"
     ]
    }
   ],
   "source": [
    "format_ = \"Hello, %s. %s enough for ya?\"\n",
    "values = ('world','Hot')\n",
    "print(format_ % values)             # '%' 为字符串格式设置运算符"
   ]
  },
  {
   "cell_type": "markdown",
   "id": "a8fc42d5ca56f4ea",
   "metadata": {},
   "source": [
    "- 在 % 左边指定一个字符串(格式字符串), 并在右边指定要设置其格式的值.\n",
    "- 指定值时,可使用单个值,元组或者是字典.\n",
    "- %s 称为转换说明符,s 意味着将值视为字符串进行格式设置. %.3f 将值的格式转换成包含3位小数的浮点数. (很像C语言,哈!)\n",
    "\n",
    "下面介绍format方法:"
   ]
  },
  {
   "cell_type": "code",
   "execution_count": 11,
   "id": "b4ead2c8f63a3cc0",
   "metadata": {
    "ExecuteTime": {
     "end_time": "2025-03-10T10:49:21.924770Z",
     "start_time": "2025-03-10T10:49:21.920648Z"
    }
   },
   "outputs": [
    {
     "data": {
      "text/plain": [
       "'world, Hot and ya?'"
      ]
     },
     "execution_count": 11,
     "metadata": {},
     "output_type": "execute_result"
    }
   ],
   "source": [
    "'{}, {} and {}'.format('world', 'Hot', 'ya?')"
   ]
  },
  {
   "cell_type": "code",
   "execution_count": 18,
   "id": "cc399bc74b5e0e31",
   "metadata": {
    "ExecuteTime": {
     "end_time": "2025-03-10T10:53:48.163923Z",
     "start_time": "2025-03-10T10:53:48.160693Z"
    }
   },
   "outputs": [
    {
     "data": {
      "text/plain": [
       "'ya?, Hot and world. I wanna say Hot again, and Hot again!'"
      ]
     },
     "execution_count": 18,
     "metadata": {},
     "output_type": "execute_result"
    }
   ],
   "source": [
    "\"{2}, {1} and {0}. I wanna say {1} again, and {1} again!\".format('world', 'Hot', 'ya?')     # 从0开始编号,可重复使用"
   ]
  },
  {
   "cell_type": "code",
   "execution_count": 4,
   "id": "29eb4440c0790b2d",
   "metadata": {
    "ExecuteTime": {
     "end_time": "2025-03-10T10:59:22.967613Z",
     "start_time": "2025-03-10T10:59:22.964338Z"
    }
   },
   "outputs": [
    {
     "data": {
      "text/plain": [
       "'Π is approximately 3.14'"
      ]
     },
     "execution_count": 4,
     "metadata": {},
     "output_type": "execute_result"
    }
   ],
   "source": [
    "from math import pi\n",
    "\"{name} is approximately {value:.2f}\".format(name=\"Π\", value=pi)    # 通过关键字参数指定格式化的值"
   ]
  },
  {
   "cell_type": "code",
   "execution_count": 3,
   "id": "43c70fa3",
   "metadata": {},
   "outputs": [
    {
     "data": {
      "text/plain": [
       "'Π is approximately 3.14'"
      ]
     },
     "execution_count": 3,
     "metadata": {},
     "output_type": "execute_result"
    }
   ],
   "source": [
    "\"{} is approximately {:.2f}\".format(\"Π\", pi)"
   ]
  },
  {
   "cell_type": "markdown",
   "id": "2890b6f4",
   "metadata": {},
   "source": [
    "## f-string\n",
    "```Python\n",
    "f\"{变量:填充符对齐符号宽度}\"\n",
    "# 或\n",
    "\"{变量:填充符对齐符号宽度}\".format(变量=值)\n",
    "```\n"
   ]
  },
  {
   "cell_type": "code",
   "execution_count": 16,
   "id": "a8b555bd",
   "metadata": {},
   "outputs": [
    {
     "name": "stdout",
     "output_type": "stream",
     "text": [
      "********42\n",
      "--Alice---\n",
      "3.5000\n"
     ]
    }
   ],
   "source": [
    "number = 42\n",
    "print(f\"{number:*>10}\")   # 右对齐，宽度10，左侧填充*\n",
    "\n",
    "name = \"Alice\"\n",
    "print(f\"{name:-^10}\")     # 居中对齐，宽度10，两侧填充-\n",
    "\n",
    "price = 3.5\n",
    "print(f\"{price:0<6}\")     # 左对齐，宽度6，右侧填充0"
   ]
  },
  {
   "cell_type": "markdown",
   "id": "dafc3e5f32e9757b",
   "metadata": {},
   "source": [
    "更详细的教程将在后续修订时补充,至此建议读者跳过本节内容,继续学习进度.\n",
    "## 字符串方法"
   ]
  },
  {
   "cell_type": "code",
   "execution_count": 22,
   "id": "901e93bd62878212",
   "metadata": {
    "ExecuteTime": {
     "end_time": "2025-03-10T11:03:04.756388Z",
     "start_time": "2025-03-10T11:03:04.752378Z"
    }
   },
   "outputs": [
    {
     "data": {
      "text/plain": [
       "'-------------------Hello world!-------------------'"
      ]
     },
     "execution_count": 22,
     "metadata": {},
     "output_type": "execute_result"
    }
   ],
   "source": [
    "\"Hello world!\".center(50, \"-\")          # (填充后的字符串长度[,填充字符(默认空格)])"
   ]
  },
  {
   "cell_type": "code",
   "execution_count": 23,
   "id": "cf7b44adcdd153ba",
   "metadata": {
    "ExecuteTime": {
     "end_time": "2025-03-10T11:05:12.751111Z",
     "start_time": "2025-03-10T11:05:12.746529Z"
    }
   },
   "outputs": [
    {
     "data": {
      "text/plain": [
       "15"
      ]
     },
     "execution_count": 23,
     "metadata": {},
     "output_type": "execute_result"
    }
   ],
   "source": [
    "title = 'This is a long string. Another long string. Another long string.'\n",
    "title.find('string')                # 查找子串,返回第一个子串的第一个字符的索引,若没找到则返回-1"
   ]
  },
  {
   "cell_type": "code",
   "execution_count": 28,
   "id": "614bc1ba6df8d036",
   "metadata": {
    "ExecuteTime": {
     "end_time": "2025-03-10T11:07:56.941273Z",
     "start_time": "2025-03-10T11:07:56.937197Z"
    }
   },
   "outputs": [
    {
     "data": {
      "text/plain": [
       "36"
      ]
     },
     "execution_count": 28,
     "metadata": {},
     "output_type": "execute_result"
    }
   ],
   "source": [
    "title.find('string',17,45)             # 可指定查找起点与终点,依旧左闭右开,这是python的惯常的做法"
   ]
  },
  {
   "cell_type": "code",
   "execution_count": 5,
   "id": "6b91e2af302356eb",
   "metadata": {
    "ExecuteTime": {
     "end_time": "2025-03-10T11:14:45.000191Z",
     "start_time": "2025-03-10T11:14:44.996048Z"
    }
   },
   "outputs": [
    {
     "data": {
      "text/plain": [
       "'1+2+3+4+5'"
      ]
     },
     "execution_count": 5,
     "metadata": {},
     "output_type": "execute_result"
    }
   ],
   "source": [
    "seq = ['1','2','3','4','5']\n",
    "sep = \"+\"\n",
    "a = sep.join(seq)       # 合并序列的元素(必须是都是字符串!!!),注意谁在前,谁在括号里.需注意这不是就地修改!!\n",
    "a"
   ]
  },
  {
   "cell_type": "code",
   "execution_count": 38,
   "id": "676e845f69c9c642",
   "metadata": {
    "ExecuteTime": {
     "end_time": "2025-03-10T11:15:07.176378Z",
     "start_time": "2025-03-10T11:15:07.172994Z"
    }
   },
   "outputs": [
    {
     "data": {
      "text/plain": [
       "['1', '2', '3', '4', '5']"
      ]
     },
     "execution_count": 38,
     "metadata": {},
     "output_type": "execute_result"
    }
   ],
   "source": [
    "b = a.split(sep)        # 将字符串拆分为序列,与join的作用相反\n",
    "b"
   ]
  },
  {
   "cell_type": "markdown",
   "id": "2cde837260449d9f",
   "metadata": {},
   "source": [
    "- 注意: 如果没有指定分隔符,将默认在单个或多个连续的空白字符串处进行拆分."
   ]
  },
  {
   "cell_type": "code",
   "execution_count": 8,
   "id": "181670079b42ff25",
   "metadata": {
    "ExecuteTime": {
     "end_time": "2025-03-17T06:18:18.230064Z",
     "start_time": "2025-03-17T06:18:18.221015Z"
    }
   },
   "outputs": [
    {
     "data": {
      "text/plain": [
       "'how to learn is very important!'"
      ]
     },
     "execution_count": 8,
     "metadata": {},
     "output_type": "execute_result"
    }
   ],
   "source": [
    "c  = 'How to learn is VERY IMPORTANT!'\n",
    "d = c.lower()           # 也不会修改c本身!!\n",
    "d"
   ]
  },
  {
   "cell_type": "code",
   "execution_count": 18,
   "id": "df60f9c0aa9b77ff",
   "metadata": {
    "ExecuteTime": {
     "end_time": "2025-03-10T11:21:39.802214Z",
     "start_time": "2025-03-10T11:21:39.799240Z"
    }
   },
   "outputs": [
    {
     "data": {
      "text/plain": [
       "'HOW TO LEARN IS VERY IMPORTANT!'"
      ]
     },
     "execution_count": 18,
     "metadata": {},
     "output_type": "execute_result"
    }
   ],
   "source": [
    "d.upper()"
   ]
  },
  {
   "cell_type": "code",
   "execution_count": 12,
   "id": "667f89abf22b4d24",
   "metadata": {
    "ExecuteTime": {
     "end_time": "2025-03-17T06:18:19.384778Z",
     "start_time": "2025-03-17T06:18:19.379122Z"
    }
   },
   "outputs": [
    {
     "data": {
      "text/plain": [
       "'How to learn ezz VERY IMPORTANT!'"
      ]
     },
     "execution_count": 12,
     "metadata": {},
     "output_type": "execute_result"
    }
   ],
   "source": [
    "c.replace('is','ezz')           # 还是不会改变c!!"
   ]
  },
  {
   "cell_type": "code",
   "execution_count": 19,
   "id": "c389833bfcaa95b4",
   "metadata": {
    "ExecuteTime": {
     "end_time": "2025-03-10T11:25:00.544346Z",
     "start_time": "2025-03-10T11:25:00.540993Z"
    }
   },
   "outputs": [
    {
     "data": {
      "text/plain": [
       "'internal space is kept'"
      ]
     },
     "execution_count": 19,
     "metadata": {},
     "output_type": "execute_result"
    }
   ],
   "source": [
    "f = '     internal space is kept        '\n",
    "f.strip()               # 返回删除前后空白的结果,不改变f"
   ]
  },
  {
   "cell_type": "code",
   "execution_count": 20,
   "id": "f30cf277e98b30d",
   "metadata": {
    "ExecuteTime": {
     "end_time": "2025-03-10T11:27:03.803907Z",
     "start_time": "2025-03-10T11:27:03.800894Z"
    }
   },
   "outputs": [
    {
     "data": {
      "text/plain": [
       "'internal ! space * is kept'"
      ]
     },
     "execution_count": 20,
     "metadata": {},
     "output_type": "execute_result"
    }
   ],
   "source": [
    "g =\"*****     internal ! space * is kept    ****  !!  \"\n",
    "g.strip(' !*')                  # 可指定删除那些字符"
   ]
  },
  {
   "cell_type": "markdown",
   "id": "4060ff06aa935579",
   "metadata": {},
   "source": [
    "判断字符串是否满足特定的条件的一些方法:\n",
    "| 方法名          | 功能描述                                                                 | 示例                        |\n",
    "|----------------|-----------------------------------------------------------------------|---------------------------|\n",
    "| **`isalnum()`** | 字符串是否**仅由字母和数字**组成（至少1个字符，且无空格或特殊符号）。                    | `\"Abc123\" → True`         |\n",
    "| **`isalpha()`** | 字符串是否**仅由字母**组成（至少1个字符，且无空格、数字或特殊符号）。                     | `\"Hello\" → True`          |\n",
    "| **`isdigit()`** | 字符串是否**仅由数字**组成（包括全角数字，如 `\"１２３\"`，但排除负数、小数符号）。             | `\"123\" → True`            |\n",
    "| **`isnumeric()`** | 字符串是否**仅由数字字符**组成（包括 Unicode 数字、汉字数字如 `\"四\"`，但排除负数、小数符号）。 | `\"Ⅷ\" → True`（罗马数字8）   |\n",
    "| **`isdecimal()`** | 字符串是否**仅由十进制数字**组成（严格检查 `0-9` 及其全角形式）。                      | `\"0123\" → True`           |\n",
    "| **`islower()`** | 字符串中的字母是否**全部为小写**（至少1个字母，其他字符不影响）。                       | `\"hello!\" → True`         |\n",
    "| **`isupper()`** | 字符串中的字母是否**全部为大写**（至少1个字母，其他字符不影响）。                       | `\"HELLO\" → True`          |\n",
    "| **`isspace()`** | 字符串是否**仅由空白字符**组成（空格、制表符、换行等，至少1个字符）。                     | `\"\\t \\n\" → True`          |\n",
    "| **`istitle()`** | 字符串是否**每个单词首字母大写**，其余字母小写（如标题格式）。                          | `\"Hello World\" → True`   |\n"
   ]
  },
  {
   "cell_type": "code",
   "execution_count": 21,
   "id": "ef58dd399b4cf481",
   "metadata": {
    "ExecuteTime": {
     "end_time": "2025-03-10T11:29:47.455110Z",
     "start_time": "2025-03-10T11:29:47.452077Z"
    }
   },
   "outputs": [
    {
     "data": {
      "text/plain": [
       "True"
      ]
     },
     "execution_count": 21,
     "metadata": {},
     "output_type": "execute_result"
    }
   ],
   "source": [
    "'12345'.isalnum()"
   ]
  },
  {
   "cell_type": "code",
   "execution_count": 23,
   "id": "737a2b5cde21e6df",
   "metadata": {
    "ExecuteTime": {
     "end_time": "2025-03-10T11:45:24.936943Z",
     "start_time": "2025-03-10T11:45:24.933640Z"
    }
   },
   "outputs": [
    {
     "data": {
      "text/plain": [
       "True"
      ]
     },
     "execution_count": 23,
     "metadata": {},
     "output_type": "execute_result"
    }
   ],
   "source": [
    "'cndkjcnds'.isalpha()"
   ]
  },
  {
   "cell_type": "markdown",
   "id": "9bef200854eb0045",
   "metadata": {},
   "source": [
    "(省略...)"
   ]
  }
 ],
 "metadata": {
  "kernelspec": {
   "display_name": "ai_python_course",
   "language": "python",
   "name": "python3"
  },
  "language_info": {
   "codemirror_mode": {
    "name": "ipython",
    "version": 3
   },
   "file_extension": ".py",
   "mimetype": "text/x-python",
   "name": "python",
   "nbconvert_exporter": "python",
   "pygments_lexer": "ipython3",
   "version": "3.12.3"
  }
 },
 "nbformat": 4,
 "nbformat_minor": 5
}
