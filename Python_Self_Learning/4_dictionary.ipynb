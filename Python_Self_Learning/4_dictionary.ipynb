{
 "cells": [
  {
   "metadata": {},
   "cell_type": "markdown",
   "source": [
    "# 字典\n",
    "本章介绍一种可通过名称来访问其各个值的数据结构. 这种数据结构称为映射. 字典是python中唯一的内置映射类型, 其中的值不按顺序排列, 而是储存在键下.\n"
   ],
   "id": "a9c9587414534d52"
  },
  {
   "metadata": {
    "ExecuteTime": {
     "end_time": "2025-03-12T11:51:33.558794Z",
     "start_time": "2025-03-12T11:51:33.555474Z"
    }
   },
   "cell_type": "code",
   "source": "phonebook = {'Alice':'2341','Beth':'9102','Cecil':'3258'}",
   "id": "1593c6d97d304f3c",
   "outputs": [],
   "execution_count": 16
  },
  {
   "metadata": {},
   "cell_type": "markdown",
   "source": [
    "字典由键及相应的值组成, 这种键-值对称为项.\n",
    "**在映射类型中,键必须是独一无二的**(数学意义上的映射)"
   ],
   "id": "7bb5a716ca1beb2b"
  },
  {
   "metadata": {
    "ExecuteTime": {
     "end_time": "2025-03-12T11:44:45.713005Z",
     "start_time": "2025-03-12T11:44:45.707954Z"
    }
   },
   "cell_type": "code",
   "source": [
    "items = [('name','Gumby'),('age',42)]\n",
    "d = dict(items)\n",
    "d"
   ],
   "id": "c79896504082aaca",
   "outputs": [
    {
     "data": {
      "text/plain": [
       "{'name': 'Gumby', 'age': 42}"
      ]
     },
     "execution_count": 3,
     "metadata": {},
     "output_type": "execute_result"
    }
   ],
   "execution_count": 3
  },
  {
   "metadata": {
    "ExecuteTime": {
     "end_time": "2025-03-12T11:45:06.452012Z",
     "start_time": "2025-03-12T11:45:06.448096Z"
    }
   },
   "cell_type": "code",
   "source": "d['name']           # 键是任何不可改变的类型!!!",
   "id": "e040c4e929eb52fa",
   "outputs": [
    {
     "data": {
      "text/plain": [
       "'Gumby'"
      ]
     },
     "execution_count": 4,
     "metadata": {},
     "output_type": "execute_result"
    }
   ],
   "execution_count": 4
  },
  {
   "metadata": {
    "ExecuteTime": {
     "end_time": "2025-03-12T11:50:35.136411Z",
     "start_time": "2025-03-12T11:50:35.132422Z"
    }
   },
   "cell_type": "code",
   "source": [
    "f = dict(name = 'Jack' , age = 18)            # 通过关键词实参调用\n",
    "f"
   ],
   "id": "cce84f9024dea240",
   "outputs": [
    {
     "data": {
      "text/plain": [
       "{'name': 'Jack', 'age': 18}"
      ]
     },
     "execution_count": 10,
     "metadata": {},
     "output_type": "execute_result"
    }
   ],
   "execution_count": 10
  },
  {
   "metadata": {
    "ExecuteTime": {
     "end_time": "2025-03-12T11:49:23.892298Z",
     "start_time": "2025-03-12T11:49:23.888698Z"
    }
   },
   "cell_type": "code",
   "source": "len(phonebook)",
   "id": "ad1d157e3c881358",
   "outputs": [
    {
     "data": {
      "text/plain": [
       "3"
      ]
     },
     "execution_count": 7,
     "metadata": {},
     "output_type": "execute_result"
    }
   ],
   "execution_count": 7
  },
  {
   "metadata": {
    "ExecuteTime": {
     "end_time": "2025-03-12T11:50:42.848349Z",
     "start_time": "2025-03-12T11:50:42.845012Z"
    }
   },
   "cell_type": "code",
   "source": "phonebook['Alice']",
   "id": "2c085cea04d0692e",
   "outputs": [
    {
     "data": {
      "text/plain": [
       "'2341'"
      ]
     },
     "execution_count": 11,
     "metadata": {},
     "output_type": "execute_result"
    }
   ],
   "execution_count": 11
  },
  {
   "metadata": {
    "ExecuteTime": {
     "end_time": "2025-03-12T11:51:05.670317Z",
     "start_time": "2025-03-12T11:51:05.666074Z"
    }
   },
   "cell_type": "code",
   "source": [
    "phonebook['Beth'] = '10086'\n",
    "phonebook"
   ],
   "id": "a7156629ea3fa5fe",
   "outputs": [
    {
     "data": {
      "text/plain": [
       "{'Alice': '2341', 'Beth': '10086', 'Cecil': '3258'}"
      ]
     },
     "execution_count": 13,
     "metadata": {},
     "output_type": "execute_result"
    }
   ],
   "execution_count": 13
  },
  {
   "metadata": {
    "ExecuteTime": {
     "end_time": "2025-03-12T11:51:36.211236Z",
     "start_time": "2025-03-12T11:51:36.207142Z"
    }
   },
   "cell_type": "code",
   "source": [
    "del phonebook['Cecil']\n",
    "phonebook"
   ],
   "id": "14d7341835c96735",
   "outputs": [
    {
     "data": {
      "text/plain": [
       "{'Alice': '2341', 'Beth': '9102'}"
      ]
     },
     "execution_count": 17,
     "metadata": {},
     "output_type": "execute_result"
    }
   ],
   "execution_count": 17
  },
  {
   "metadata": {
    "ExecuteTime": {
     "end_time": "2025-03-12T11:51:52.061488Z",
     "start_time": "2025-03-12T11:51:52.057851Z"
    }
   },
   "cell_type": "code",
   "source": "'Cecil' in phonebook        # 查找键而不是查找值!!!    而列表中是查找值而不是索引,这应该是相当自然的",
   "id": "b8e3fb1351bed98",
   "outputs": [
    {
     "data": {
      "text/plain": [
       "False"
      ]
     },
     "execution_count": 18,
     "metadata": {},
     "output_type": "execute_result"
    }
   ],
   "execution_count": 18
  },
  {
   "metadata": {
    "ExecuteTime": {
     "end_time": "2025-03-12T11:54:13.147361Z",
     "start_time": "2025-03-12T11:54:13.143524Z"
    }
   },
   "cell_type": "code",
   "source": [
    "phonebook['Morse'] = '110'          # 若找不到该键,则赋值时自动创建\n",
    "phonebook"
   ],
   "id": "168dab41e4f1be00",
   "outputs": [
    {
     "data": {
      "text/plain": [
       "{'Alice': '2341', 'Beth': '9102', 'Morse': '110'}"
      ]
     },
     "execution_count": 19,
     "metadata": {},
     "output_type": "execute_result"
    }
   ],
   "execution_count": 19
  },
  {
   "metadata": {
    "ExecuteTime": {
     "end_time": "2025-03-12T11:57:57.626230Z",
     "start_time": "2025-03-12T11:57:57.622412Z"
    }
   },
   "cell_type": "code",
   "source": [
    "x = {}\n",
    "x[42] = 'Alice'             # 字典可以,但列表做不到!!!\n",
    "x"
   ],
   "id": "dacd985e269c0fa7",
   "outputs": [
    {
     "data": {
      "text/plain": [
       "{42: 'Alice'}"
      ]
     },
     "execution_count": 20,
     "metadata": {},
     "output_type": "execute_result"
    }
   ],
   "execution_count": 20
  },
  {
   "metadata": {
    "ExecuteTime": {
     "end_time": "2025-03-12T12:09:17.406885Z",
     "start_time": "2025-03-12T12:09:06.586167Z"
    }
   },
   "cell_type": "code",
   "source": [
    "# 一个简单的数据库\n",
    "\n",
    "people = {\n",
    "    'Alice':{\n",
    "        'phone':'2341',\n",
    "        'addr':'Foo drive 23'\n",
    "    },\n",
    "    'Beth':{\n",
    "        'phone':'9102',\n",
    "        'addr':'Foo drive 9102'\n",
    "    },\n",
    "    'Cecil':{\n",
    "        'phone':'3258',\n",
    "        'addr':'Foo drive 3258'\n",
    "    },\n",
    "    'Bob':{\n",
    "        'phone':'9102',\n",
    "        'addr':'Foo drive 9102'\n",
    "    }\n",
    "}\n",
    "\n",
    "labels = {\n",
    "    'phone':'phone number',\n",
    "    'addr':'address'\n",
    "}\n",
    "\n",
    "name = input('Enter your name: ')\n",
    "\n",
    "request = input('Phone number(p) or address(a): ')\n",
    "\n",
    "if request == 'p': key = 'phone'\n",
    "elif request == 'a': key = 'addr'\n",
    "\n",
    "if name in people: print(\"{}'s {} is {}.\".format(name, labels[key], people[name][key]))"
   ],
   "id": "ce843075d158a85c",
   "outputs": [
    {
     "name": "stdout",
     "output_type": "stream",
     "text": [
      "Bob's phone number is 9102.\n"
     ]
    }
   ],
   "execution_count": 26
  },
  {
   "metadata": {},
   "cell_type": "markdown",
   "source": "## 字典方法",
   "id": "46a1969ce6b95e38"
  },
  {
   "metadata": {
    "ExecuteTime": {
     "end_time": "2025-03-12T12:12:15.961271Z",
     "start_time": "2025-03-12T12:12:15.957638Z"
    }
   },
   "cell_type": "code",
   "source": [
    "phonebook = {'Alice':'2341','Beth':'9102','Cecil':'3258'}\n",
    "phonebook.clear()           # 删除所有字典项,就地执行.\n",
    "phonebook"
   ],
   "id": "38f0e60863d12528",
   "outputs": [
    {
     "data": {
      "text/plain": [
       "{}"
      ]
     },
     "execution_count": 28,
     "metadata": {},
     "output_type": "execute_result"
    }
   ],
   "execution_count": 28
  },
  {
   "metadata": {
    "ExecuteTime": {
     "end_time": "2025-03-12T12:15:18.574736Z",
     "start_time": "2025-03-12T12:15:18.571371Z"
    }
   },
   "cell_type": "code",
   "source": [
    "x = {}\n",
    "y = x\n",
    "x['key'] = 'value'\n",
    "print(y)\n",
    "x = {}          # 将一个空字典赋给x,来改变它的指向!!!\n",
    "print(y)\n",
    "print(x)"
   ],
   "id": "1cfd083756c41923",
   "outputs": [
    {
     "name": "stdout",
     "output_type": "stream",
     "text": [
      "{'key': 'value'}\n",
      "{'key': 'value'}\n",
      "{}\n"
     ]
    }
   ],
   "execution_count": 31
  },
  {
   "metadata": {
    "ExecuteTime": {
     "end_time": "2025-03-12T12:16:44.920882Z",
     "start_time": "2025-03-12T12:16:44.917531Z"
    }
   },
   "cell_type": "code",
   "source": [
    "x = {}\n",
    "y = x\n",
    "x['key'] = 'value'\n",
    "print(y)\n",
    "x.clear()           # x与y仍然指向同一个字典\n",
    "print(y)"
   ],
   "id": "eb8e705d0cac2e9",
   "outputs": [
    {
     "name": "stdout",
     "output_type": "stream",
     "text": [
      "{'key': 'value'}\n",
      "{}\n"
     ]
    }
   ],
   "execution_count": 33
  },
  {
   "metadata": {
    "ExecuteTime": {
     "end_time": "2025-03-12T12:23:05.641864Z",
     "start_time": "2025-03-12T12:23:05.638806Z"
    }
   },
   "cell_type": "code",
   "source": [
    "x = {'username':'admin','machines':['foo','bar','baz']}\n",
    "y = x.copy()\n",
    "y['username'] = 'mlh'           # 当替换副本中的值时,原件不受影响\n",
    "y['machines'].remove('bar')     # 但如果修改副本中的值(就地修改而不是替换),原件也将发生变化,因为原件和副本的指向是相同的!!!\n",
    "print(y)\n",
    "print(x)"
   ],
   "id": "fbe77ddbdb95353",
   "outputs": [
    {
     "name": "stdout",
     "output_type": "stream",
     "text": [
      "{'username': 'mlh', 'machines': ['foo', 'baz']}\n",
      "{'username': 'admin', 'machines': ['foo', 'baz']}\n"
     ]
    }
   ],
   "execution_count": 36
  },
  {
   "metadata": {
    "ExecuteTime": {
     "end_time": "2025-03-12T12:29:07.893259Z",
     "start_time": "2025-03-12T12:29:07.889905Z"
    }
   },
   "cell_type": "code",
   "source": [
    "from copy import deepcopy       # 深复制deepcopy解决上述问题,即同时复制值及其包含的所有值\n",
    "d = {}\n",
    "d['names'] = ['Alice','Beth','Cecil']\n",
    "c = d.copy()\n",
    "dc = deepcopy(d)\n",
    "d['names'].append('Clive')\n",
    "print(c)\n",
    "print(dc)"
   ],
   "id": "87fc33151cae90e4",
   "outputs": [
    {
     "name": "stdout",
     "output_type": "stream",
     "text": [
      "{'names': ['Alice', 'Beth', 'Cecil', 'Clive']}\n",
      "{'names': ['Alice', 'Beth', 'Cecil']}\n"
     ]
    }
   ],
   "execution_count": 38
  },
  {
   "metadata": {
    "ExecuteTime": {
     "end_time": "2025-03-12T12:30:57.019743Z",
     "start_time": "2025-03-12T12:30:57.015267Z"
    }
   },
   "cell_type": "code",
   "source": "{}.fromkeys(['name','age'])             # 创建一个新字典,其中包含指定的键,且每个键对应的值都是None.",
   "id": "cf10d755df833ea2",
   "outputs": [
    {
     "data": {
      "text/plain": [
       "{'name': None, 'age': None}"
      ]
     },
     "execution_count": 39,
     "metadata": {},
     "output_type": "execute_result"
    }
   ],
   "execution_count": 39
  },
  {
   "metadata": {
    "ExecuteTime": {
     "end_time": "2025-03-12T12:33:01.053906Z",
     "start_time": "2025-03-12T12:33:01.050363Z"
    }
   },
   "cell_type": "code",
   "source": "dict.fromkeys(['name','age'])               # 也可以使用\"dict\"",
   "id": "754954e154298c09",
   "outputs": [
    {
     "data": {
      "text/plain": [
       "{'name': None, 'age': None}"
      ]
     },
     "execution_count": 40,
     "metadata": {},
     "output_type": "execute_result"
    }
   ],
   "execution_count": 40
  },
  {
   "metadata": {
    "ExecuteTime": {
     "end_time": "2025-03-12T12:34:13.693058Z",
     "start_time": "2025-03-12T12:34:13.689360Z"
    }
   },
   "cell_type": "code",
   "source": "dict.fromkeys(['name','age'],'(unknown)')       # 可提供特定的值代替None",
   "id": "b445f68e653bba02",
   "outputs": [
    {
     "data": {
      "text/plain": [
       "{'name': '(unknown)', 'age': '(unknown)'}"
      ]
     },
     "execution_count": 41,
     "metadata": {},
     "output_type": "execute_result"
    }
   ],
   "execution_count": 41
  },
  {
   "metadata": {
    "ExecuteTime": {
     "end_time": "2025-03-12T12:38:26.695116Z",
     "start_time": "2025-03-12T12:38:26.692565Z"
    }
   },
   "cell_type": "code",
   "source": [
    "d = {}\n",
    "# print(d['name'])  报错\n",
    "print(d.get('name'))        # get为访问字典项提供了宽松的环境\n",
    "print(d.get('name','Nowhere'))        # 你还可以提供指定值"
   ],
   "id": "396d438255333fa7",
   "outputs": [
    {
     "name": "stdout",
     "output_type": "stream",
     "text": [
      "None\n",
      "Nowhere\n"
     ]
    }
   ],
   "execution_count": 44
  },
  {
   "metadata": {
    "ExecuteTime": {
     "end_time": "2025-03-12T12:38:54.157379Z",
     "start_time": "2025-03-12T12:38:54.152825Z"
    }
   },
   "cell_type": "code",
   "source": [
    "d['name'] = 'Alice'\n",
    "d.get('name','Nowhere')         # 如果包含指定键,get的作用将与普通字典查找相同"
   ],
   "id": "44fd390ea2e053cf",
   "outputs": [
    {
     "data": {
      "text/plain": [
       "'Alice'"
      ]
     },
     "execution_count": 45,
     "metadata": {},
     "output_type": "execute_result"
    }
   ],
   "execution_count": 45
  },
  {
   "metadata": {
    "ExecuteTime": {
     "end_time": "2025-03-12T12:46:16.020063Z",
     "start_time": "2025-03-12T12:46:16.016541Z"
    }
   },
   "cell_type": "code",
   "source": [
    "d['age'] = 18\n",
    "it = d.items()           # 返回一个包含所有字典的列表,其中每个元素都为(key,value)的形式,排列顺序不确定.\n",
    "it"
   ],
   "id": "93977beb64ed57ed",
   "outputs": [
    {
     "data": {
      "text/plain": [
       "dict_items([('name', 'Alice'), ('age', 18)])"
      ]
     },
     "execution_count": 48,
     "metadata": {},
     "output_type": "execute_result"
    }
   ],
   "execution_count": 48
  },
  {
   "metadata": {},
   "cell_type": "markdown",
   "source": "返回值属于一种名为**字典视图**的特殊类型,字典视图可用于迭代,也可确定其长度以及成员资格检查",
   "id": "46737c4ba49d6c6e"
  },
  {
   "metadata": {
    "ExecuteTime": {
     "end_time": "2025-03-12T12:46:37.122581Z",
     "start_time": "2025-03-12T12:46:37.119056Z"
    }
   },
   "cell_type": "code",
   "source": "('age',18) in it",
   "id": "bcb4d9c0b93d9826",
   "outputs": [
    {
     "data": {
      "text/plain": [
       "True"
      ]
     },
     "execution_count": 49,
     "metadata": {},
     "output_type": "execute_result"
    }
   ],
   "execution_count": 49
  },
  {
   "metadata": {
    "ExecuteTime": {
     "end_time": "2025-03-12T12:46:44.898082Z",
     "start_time": "2025-03-12T12:46:44.895211Z"
    }
   },
   "cell_type": "code",
   "source": "len(it)",
   "id": "58f82a60a1f7da6a",
   "outputs": [
    {
     "data": {
      "text/plain": [
       "2"
      ]
     },
     "execution_count": 50,
     "metadata": {},
     "output_type": "execute_result"
    }
   ],
   "execution_count": 50
  },
  {
   "metadata": {
    "ExecuteTime": {
     "end_time": "2025-03-12T12:47:59.710285Z",
     "start_time": "2025-03-12T12:47:59.705898Z"
    }
   },
   "cell_type": "code",
   "source": [
    "d['spam'] = 1\n",
    "('spam',0) in it"
   ],
   "id": "37f3c37f6f9a289e",
   "outputs": [
    {
     "data": {
      "text/plain": [
       "False"
      ]
     },
     "execution_count": 51,
     "metadata": {},
     "output_type": "execute_result"
    }
   ],
   "execution_count": 51
  },
  {
   "metadata": {
    "ExecuteTime": {
     "end_time": "2025-03-12T12:48:47.942427Z",
     "start_time": "2025-03-12T12:48:47.938802Z"
    }
   },
   "cell_type": "code",
   "source": [
    "d['spam'] = 0\n",
    "('spam',0) in it            # 始终反映字典的底层"
   ],
   "id": "424d49dcc25f929b",
   "outputs": [
    {
     "data": {
      "text/plain": [
       "True"
      ]
     },
     "execution_count": 53,
     "metadata": {},
     "output_type": "execute_result"
    }
   ],
   "execution_count": 53
  },
  {
   "metadata": {
    "ExecuteTime": {
     "end_time": "2025-03-12T12:49:31.988118Z",
     "start_time": "2025-03-12T12:49:31.985388Z"
    }
   },
   "cell_type": "code",
   "source": "d.keys()            # 返回包含键的字典视图",
   "id": "a62d357ca5e83457",
   "outputs": [
    {
     "data": {
      "text/plain": [
       "dict_keys(['name', 'age', 'spam'])"
      ]
     },
     "execution_count": 55,
     "metadata": {},
     "output_type": "execute_result"
    }
   ],
   "execution_count": 55
  },
  {
   "metadata": {
    "ExecuteTime": {
     "end_time": "2025-03-12T12:52:19.594619Z",
     "start_time": "2025-03-12T12:52:19.592076Z"
    }
   },
   "cell_type": "code",
   "source": [
    "d['spam'] = 10086\n",
    "print(d)\n",
    "print(d.pop('spam'))           # 获取指定键关联的值,将该键值对删除,且返回值\n",
    "print(d)"
   ],
   "id": "fc187d7fec8163e0",
   "outputs": [
    {
     "name": "stdout",
     "output_type": "stream",
     "text": [
      "{'name': 'Alice', 'age': 18, 'spam': 10086}\n",
      "10086\n",
      "{'name': 'Alice', 'age': 18}\n"
     ]
    }
   ],
   "execution_count": 61
  },
  {
   "metadata": {
    "ExecuteTime": {
     "end_time": "2025-03-12T12:52:54.380557Z",
     "start_time": "2025-03-12T12:52:54.377577Z"
    }
   },
   "cell_type": "code",
   "source": [
    "d.popitem()         # 随机弹出一个字典项(因为字典项的顺序是不确定的,集合?)\n",
    "print(d)            # 字典没有append(在列表末尾添加一个元素),因为字典是无序的,这没有意义"
   ],
   "id": "8aff5dae1e6578e7",
   "outputs": [
    {
     "name": "stdout",
     "output_type": "stream",
     "text": [
      "{'name': 'Alice'}\n"
     ]
    }
   ],
   "execution_count": 62
  },
  {
   "metadata": {
    "ExecuteTime": {
     "end_time": "2025-03-12T12:55:22.559489Z",
     "start_time": "2025-03-12T12:55:22.555858Z"
    }
   },
   "cell_type": "code",
   "source": [
    "d = {}\n",
    "d.setdefault('spam','N/A')          # 类似与get,但若不包含指定的键时,在字典中添加指定的键值对,并返回值,若没指定,默认为None"
   ],
   "id": "f5dad8decb8af772",
   "outputs": [
    {
     "data": {
      "text/plain": [
       "'N/A'"
      ]
     },
     "execution_count": 63,
     "metadata": {},
     "output_type": "execute_result"
    }
   ],
   "execution_count": 63
  },
  {
   "metadata": {
    "ExecuteTime": {
     "end_time": "2025-03-12T12:56:35.112399Z",
     "start_time": "2025-03-12T12:56:35.108848Z"
    }
   },
   "cell_type": "code",
   "source": "print(d)",
   "id": "e822a5e93ca7b15b",
   "outputs": [
    {
     "name": "stdout",
     "output_type": "stream",
     "text": [
      "{'spam': 'N/A'}\n"
     ]
    }
   ],
   "execution_count": 64
  },
  {
   "metadata": {
    "ExecuteTime": {
     "end_time": "2025-03-12T13:11:03.420124Z",
     "start_time": "2025-03-12T13:11:03.416141Z"
    }
   },
   "cell_type": "code",
   "source": [
    "d.setdefault('spam','I wanna change!')\n",
    "d           # 如果存在,就返回其值,并保持字典不变,不会使用指定的值"
   ],
   "id": "c4e99e6796fe178b",
   "outputs": [
    {
     "data": {
      "text/plain": [
       "{'spam': 'N/A',\n",
       " 'title': 'python language site',\n",
       " 'url': 'http://python.org',\n",
       " 'changed': 'Mar 14 22:09:15 MET 2016',\n",
       " 'where': 'Renmin University of China'}"
      ]
     },
     "execution_count": 74,
     "metadata": {},
     "output_type": "execute_result"
    }
   ],
   "execution_count": 74
  },
  {
   "metadata": {
    "ExecuteTime": {
     "end_time": "2025-03-12T13:11:05.171057Z",
     "start_time": "2025-03-12T13:11:05.167445Z"
    }
   },
   "cell_type": "code",
   "source": [
    "d = {\n",
    "    'spam':'N/A',\n",
    "    'title':'python web site',\n",
    "    'url':'http://python.org',\n",
    "    'changed':'Mar 14 22:09:15 MET 2016'\n",
    "}\n",
    "x = {'title':'python language site',\n",
    "    'where':'Renmin University of China'}\n",
    "d.update(x)         # 对于通过参数提供的字典,将其项添加到字典中.如果有相同的键,就替换对应的值\n",
    "d"
   ],
   "id": "e20c6f31358f5f94",
   "outputs": [
    {
     "data": {
      "text/plain": [
       "{'spam': 'N/A',\n",
       " 'title': 'python language site',\n",
       " 'url': 'http://python.org',\n",
       " 'changed': 'Mar 14 22:09:15 MET 2016',\n",
       " 'where': 'Renmin University of China'}"
      ]
     },
     "execution_count": 75,
     "metadata": {},
     "output_type": "execute_result"
    }
   ],
   "execution_count": 75
  },
  {
   "metadata": {
    "ExecuteTime": {
     "end_time": "2025-03-12T13:06:23.304570Z",
     "start_time": "2025-03-12T13:06:23.300296Z"
    }
   },
   "cell_type": "code",
   "source": "d.values()          # 返回字典中的值组成的字典视图,不同于方法keys,方法values返回的视图可能包含重复的值",
   "id": "88fad1e96d53fe32",
   "outputs": [
    {
     "data": {
      "text/plain": [
       "dict_values(['N/A', 'python language site', 'http://python.org', 'Mar 14 22:09:15 MET 2016', 'Renmin University of China'])"
      ]
     },
     "execution_count": 68,
     "metadata": {},
     "output_type": "execute_result"
    }
   ],
   "execution_count": 68
  },
  {
   "metadata": {
    "ExecuteTime": {
     "end_time": "2025-03-12T13:10:23.467549Z",
     "start_time": "2025-03-12T13:10:23.464094Z"
    }
   },
   "cell_type": "code",
   "source": [
    "c = {}\n",
    "c[1] = 1\n",
    "c[2] = 2\n",
    "c[3] = 3\n",
    "c[4] = 1\n",
    "print(c.values())\n",
    "print(c.items())\n",
    "print(c.keys())"
   ],
   "id": "b3f18b591d4b78eb",
   "outputs": [
    {
     "name": "stdout",
     "output_type": "stream",
     "text": [
      "dict_values([1, 2, 3, 1])\n",
      "dict_items([(1, 1), (2, 2), (3, 3), (4, 1)])\n",
      "dict_keys([1, 2, 3, 4])\n"
     ]
    }
   ],
   "execution_count": 71
  },
  {
   "metadata": {},
   "cell_type": "code",
   "outputs": [],
   "execution_count": null,
   "source": "",
   "id": "3bfef346e03c1496"
  }
 ],
 "metadata": {
  "kernelspec": {
   "display_name": "Python 3",
   "language": "python",
   "name": "python3"
  },
  "language_info": {
   "codemirror_mode": {
    "name": "ipython",
    "version": 2
   },
   "file_extension": ".py",
   "mimetype": "text/x-python",
   "name": "python",
   "nbconvert_exporter": "python",
   "pygments_lexer": "ipython2",
   "version": "2.7.6"
  }
 },
 "nbformat": 4,
 "nbformat_minor": 5
}
