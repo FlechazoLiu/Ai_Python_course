{
 "cells": [
  {
   "cell_type": "markdown",
   "id": "a9c9587414534d52",
   "metadata": {},
   "source": [
    "# 字典\n",
    "本章介绍一种可通过名称来访问其各个值的数据结构. 这种数据结构称为映射. 字典是python中唯一的内置映射类型, 其中的值不按顺序排列, 而是储存在键下.\n"
   ]
  },
  {
   "cell_type": "code",
   "execution_count": 16,
   "id": "1593c6d97d304f3c",
   "metadata": {
    "ExecuteTime": {
     "end_time": "2025-03-12T11:51:33.558794Z",
     "start_time": "2025-03-12T11:51:33.555474Z"
    }
   },
   "outputs": [],
   "source": [
    "phonebook = {'Alice':'2341','Beth':'9102','Cecil':'3258'}"
   ]
  },
  {
   "cell_type": "markdown",
   "id": "7bb5a716ca1beb2b",
   "metadata": {},
   "source": [
    "字典由键及相应的值组成, 这种键-值对称为项.\n",
    "**在映射类型中,键必须是独一无二的**(数学意义上的映射)"
   ]
  },
  {
   "cell_type": "code",
   "execution_count": 2,
   "id": "c79896504082aaca",
   "metadata": {
    "ExecuteTime": {
     "end_time": "2025-03-12T11:44:45.713005Z",
     "start_time": "2025-03-12T11:44:45.707954Z"
    }
   },
   "outputs": [
    {
     "data": {
      "text/plain": [
       "{'name': 'Gumby', 'age': 42}"
      ]
     },
     "execution_count": 2,
     "metadata": {},
     "output_type": "execute_result"
    }
   ],
   "source": [
    "items = [('name','Gumby'),('age',42)]\n",
    "d = dict(items)\n",
    "d"
   ]
  },
  {
   "cell_type": "code",
   "execution_count": 3,
   "id": "e040c4e929eb52fa",
   "metadata": {
    "ExecuteTime": {
     "end_time": "2025-03-12T11:45:06.452012Z",
     "start_time": "2025-03-12T11:45:06.448096Z"
    }
   },
   "outputs": [
    {
     "data": {
      "text/plain": [
       "'Gumby'"
      ]
     },
     "execution_count": 3,
     "metadata": {},
     "output_type": "execute_result"
    }
   ],
   "source": [
    "d['name']           # 键是任何不可改变的类型!!!"
   ]
  },
  {
   "cell_type": "code",
   "execution_count": 4,
   "id": "cce84f9024dea240",
   "metadata": {
    "ExecuteTime": {
     "end_time": "2025-03-12T11:50:35.136411Z",
     "start_time": "2025-03-12T11:50:35.132422Z"
    }
   },
   "outputs": [
    {
     "data": {
      "text/plain": [
       "{'name': 'Jack', 'age': 18}"
      ]
     },
     "execution_count": 4,
     "metadata": {},
     "output_type": "execute_result"
    }
   ],
   "source": [
    "f = dict(name = 'Jack' , age = 18)            # 通过关键词实参调用,关键字不用加引号\n",
    "f"
   ]
  },
  {
   "cell_type": "code",
   "execution_count": 7,
   "id": "ad1d157e3c881358",
   "metadata": {
    "ExecuteTime": {
     "end_time": "2025-03-12T11:49:23.892298Z",
     "start_time": "2025-03-12T11:49:23.888698Z"
    }
   },
   "outputs": [
    {
     "data": {
      "text/plain": [
       "3"
      ]
     },
     "execution_count": 7,
     "metadata": {},
     "output_type": "execute_result"
    }
   ],
   "source": [
    "phonebook = dict([('Alice','2341'),('Beth','9102'),('Cecil','3258')])  # 通过列表调用,列表元素是元组\n",
    "len(phonebook)"
   ]
  },
  {
   "cell_type": "code",
   "execution_count": 8,
   "id": "2c085cea04d0692e",
   "metadata": {
    "ExecuteTime": {
     "end_time": "2025-03-12T11:50:42.848349Z",
     "start_time": "2025-03-12T11:50:42.845012Z"
    }
   },
   "outputs": [
    {
     "data": {
      "text/plain": [
       "'2341'"
      ]
     },
     "execution_count": 8,
     "metadata": {},
     "output_type": "execute_result"
    }
   ],
   "source": [
    "phonebook['Alice']"
   ]
  },
  {
   "cell_type": "code",
   "execution_count": 9,
   "id": "a7156629ea3fa5fe",
   "metadata": {
    "ExecuteTime": {
     "end_time": "2025-03-12T11:51:05.670317Z",
     "start_time": "2025-03-12T11:51:05.666074Z"
    }
   },
   "outputs": [
    {
     "data": {
      "text/plain": [
       "{'Alice': '2341', 'Beth': '10086', 'Cecil': '3258'}"
      ]
     },
     "execution_count": 9,
     "metadata": {},
     "output_type": "execute_result"
    }
   ],
   "source": [
    "phonebook['Beth'] = '10086'\n",
    "phonebook"
   ]
  },
  {
   "cell_type": "code",
   "execution_count": 10,
   "id": "14d7341835c96735",
   "metadata": {
    "ExecuteTime": {
     "end_time": "2025-03-12T11:51:36.211236Z",
     "start_time": "2025-03-12T11:51:36.207142Z"
    }
   },
   "outputs": [
    {
     "data": {
      "text/plain": [
       "{'Alice': '2341', 'Beth': '10086'}"
      ]
     },
     "execution_count": 10,
     "metadata": {},
     "output_type": "execute_result"
    }
   ],
   "source": [
    "del phonebook['Cecil']\n",
    "phonebook"
   ]
  },
  {
   "cell_type": "code",
   "execution_count": 11,
   "id": "b8e3fb1351bed98",
   "metadata": {
    "ExecuteTime": {
     "end_time": "2025-03-12T11:51:52.061488Z",
     "start_time": "2025-03-12T11:51:52.057851Z"
    }
   },
   "outputs": [
    {
     "data": {
      "text/plain": [
       "False"
      ]
     },
     "execution_count": 11,
     "metadata": {},
     "output_type": "execute_result"
    }
   ],
   "source": [
    "'Cecil' in phonebook        # 查找键而不是查找值!!!    而列表中是查找值而不是索引,这应该是相当自然的"
   ]
  },
  {
   "cell_type": "code",
   "execution_count": 12,
   "id": "168dab41e4f1be00",
   "metadata": {
    "ExecuteTime": {
     "end_time": "2025-03-12T11:54:13.147361Z",
     "start_time": "2025-03-12T11:54:13.143524Z"
    }
   },
   "outputs": [
    {
     "data": {
      "text/plain": [
       "{'Alice': '2341', 'Beth': '10086', 'Morse': '110'}"
      ]
     },
     "execution_count": 12,
     "metadata": {},
     "output_type": "execute_result"
    }
   ],
   "source": [
    "phonebook['Morse'] = '110'          # 若找不到该键,则赋值时自动创建\n",
    "phonebook"
   ]
  },
  {
   "cell_type": "code",
   "execution_count": 13,
   "id": "dacd985e269c0fa7",
   "metadata": {
    "ExecuteTime": {
     "end_time": "2025-03-12T11:57:57.626230Z",
     "start_time": "2025-03-12T11:57:57.622412Z"
    }
   },
   "outputs": [
    {
     "data": {
      "text/plain": [
       "{42: 'Alice'}"
      ]
     },
     "execution_count": 13,
     "metadata": {},
     "output_type": "execute_result"
    }
   ],
   "source": [
    "x = {}\n",
    "x[42] = 'Alice'             # 字典可以,但列表做不到!!!\n",
    "x"
   ]
  },
  {
   "cell_type": "code",
   "execution_count": 15,
   "id": "ce843075d158a85c",
   "metadata": {
    "ExecuteTime": {
     "end_time": "2025-03-12T12:09:17.406885Z",
     "start_time": "2025-03-12T12:09:06.586167Z"
    }
   },
   "outputs": [
    {
     "name": "stdout",
     "output_type": "stream",
     "text": [
      "Bob's address is Foo drive 9102.\n"
     ]
    }
   ],
   "source": [
    "# 一个简单的数据库\n",
    "\n",
    "people = {\n",
    "    'Alice':{\n",
    "        'phone':'2341',\n",
    "        'addr':'Foo drive 23'\n",
    "    },\n",
    "    'Beth':{\n",
    "        'phone':'9102',\n",
    "        'addr':'Foo drive 9102'\n",
    "    },\n",
    "    'Cecil':{\n",
    "        'phone':'3258',\n",
    "        'addr':'Foo drive 3258'\n",
    "    },\n",
    "    'Bob':{\n",
    "        'phone':'9102',\n",
    "        'addr':'Foo drive 9102'\n",
    "    }\n",
    "}\n",
    "\n",
    "labels = {\n",
    "    'phone':'phone number',\n",
    "    'addr':'address'\n",
    "}\n",
    "\n",
    "name = input('Enter your name: ')\n",
    "\n",
    "request = input('Phone number(p) or address(a): ')\n",
    "\n",
    "if request == 'p': key = 'phone'\n",
    "elif request == 'a': key = 'addr'\n",
    "\n",
    "if name in people: print(\"{}'s {} is {}.\".format(name, labels[key], people[name][key]))"
   ]
  },
  {
   "cell_type": "markdown",
   "id": "46a1969ce6b95e38",
   "metadata": {},
   "source": [
    "## 字典方法"
   ]
  },
  {
   "cell_type": "code",
   "execution_count": 16,
   "id": "38f0e60863d12528",
   "metadata": {
    "ExecuteTime": {
     "end_time": "2025-03-12T12:12:15.961271Z",
     "start_time": "2025-03-12T12:12:15.957638Z"
    }
   },
   "outputs": [
    {
     "data": {
      "text/plain": [
       "{}"
      ]
     },
     "execution_count": 16,
     "metadata": {},
     "output_type": "execute_result"
    }
   ],
   "source": [
    "phonebook = {'Alice':'2341','Beth':'9102','Cecil':'3258'}\n",
    "phonebook.clear()           # 删除所有字典项,就地执行.\n",
    "phonebook"
   ]
  },
  {
   "cell_type": "code",
   "execution_count": 17,
   "id": "1cfd083756c41923",
   "metadata": {
    "ExecuteTime": {
     "end_time": "2025-03-12T12:15:18.574736Z",
     "start_time": "2025-03-12T12:15:18.571371Z"
    }
   },
   "outputs": [
    {
     "name": "stdout",
     "output_type": "stream",
     "text": [
      "{'key': 'value'}\n",
      "{'key': 'value'}\n",
      "{}\n"
     ]
    }
   ],
   "source": [
    "x = {}\n",
    "y = x\n",
    "x['key'] = 'value'\n",
    "print(y)\n",
    "x = {}          # 将一个空字典赋给x,来改变它的指向!!!\n",
    "print(y)\n",
    "print(x)"
   ]
  },
  {
   "cell_type": "code",
   "execution_count": 18,
   "id": "eb8e705d0cac2e9",
   "metadata": {
    "ExecuteTime": {
     "end_time": "2025-03-12T12:16:44.920882Z",
     "start_time": "2025-03-12T12:16:44.917531Z"
    }
   },
   "outputs": [
    {
     "name": "stdout",
     "output_type": "stream",
     "text": [
      "{'key': 'value'}\n",
      "{}\n"
     ]
    }
   ],
   "source": [
    "x = {}\n",
    "y = x\n",
    "x['key'] = 'value'\n",
    "print(y)\n",
    "x.clear()           # x与y仍然指向同一个字典\n",
    "print(y)"
   ]
  },
  {
   "cell_type": "code",
   "execution_count": 19,
   "id": "fbe77ddbdb95353",
   "metadata": {
    "ExecuteTime": {
     "end_time": "2025-03-12T12:23:05.641864Z",
     "start_time": "2025-03-12T12:23:05.638806Z"
    }
   },
   "outputs": [
    {
     "name": "stdout",
     "output_type": "stream",
     "text": [
      "{'username': 'mlh', 'machines': ['foo', 'baz']}\n",
      "{'username': 'admin', 'machines': ['foo', 'baz']}\n"
     ]
    }
   ],
   "source": [
    "x = {'username':'admin','machines':['foo','bar','baz']}\n",
    "y = x.copy()\n",
    "y['username'] = 'mlh'           # 当替换副本中的值时,原件不受影响\n",
    "y['machines'].remove('bar')     # 但如果修改副本中的值(就地修改而不是替换),原件也将发生变化,因为原件和副本的指向是相同的!!!\n",
    "print(y)\n",
    "print(x)"
   ]
  },
  {
   "cell_type": "code",
   "execution_count": 20,
   "id": "87fc33151cae90e4",
   "metadata": {
    "ExecuteTime": {
     "end_time": "2025-03-12T12:29:07.893259Z",
     "start_time": "2025-03-12T12:29:07.889905Z"
    }
   },
   "outputs": [
    {
     "name": "stdout",
     "output_type": "stream",
     "text": [
      "{'names': ['Alice', 'Beth', 'Cecil', 'Clive']}\n",
      "{'names': ['Alice', 'Beth', 'Cecil']}\n"
     ]
    }
   ],
   "source": [
    "from copy import deepcopy       # 深复制deepcopy解决上述问题,即同时复制值及其包含的所有值\n",
    "d = {}\n",
    "d['names'] = ['Alice','Beth','Cecil']\n",
    "c = d.copy()\n",
    "dc = deepcopy(d)\n",
    "d['names'].append('Clive')\n",
    "print(c)\n",
    "print(dc)"
   ]
  },
  {
   "cell_type": "code",
   "execution_count": 21,
   "id": "cf10d755df833ea2",
   "metadata": {
    "ExecuteTime": {
     "end_time": "2025-03-12T12:30:57.019743Z",
     "start_time": "2025-03-12T12:30:57.015267Z"
    }
   },
   "outputs": [
    {
     "data": {
      "text/plain": [
       "{'name': None, 'age': None}"
      ]
     },
     "execution_count": 21,
     "metadata": {},
     "output_type": "execute_result"
    }
   ],
   "source": [
    "{}.fromkeys(['name','age'])             # 创建一个新字典,其中包含指定的键,且每个键对应的值都是None."
   ]
  },
  {
   "cell_type": "code",
   "execution_count": 22,
   "id": "754954e154298c09",
   "metadata": {
    "ExecuteTime": {
     "end_time": "2025-03-12T12:33:01.053906Z",
     "start_time": "2025-03-12T12:33:01.050363Z"
    }
   },
   "outputs": [
    {
     "data": {
      "text/plain": [
       "{'name': None, 'age': None}"
      ]
     },
     "execution_count": 22,
     "metadata": {},
     "output_type": "execute_result"
    }
   ],
   "source": [
    "dict.fromkeys(['name','age'])               # 也可以使用\"dict\""
   ]
  },
  {
   "cell_type": "code",
   "execution_count": 23,
   "id": "b445f68e653bba02",
   "metadata": {
    "ExecuteTime": {
     "end_time": "2025-03-12T12:34:13.693058Z",
     "start_time": "2025-03-12T12:34:13.689360Z"
    }
   },
   "outputs": [
    {
     "data": {
      "text/plain": [
       "{'name': '(unknown)', 'age': '(unknown)'}"
      ]
     },
     "execution_count": 23,
     "metadata": {},
     "output_type": "execute_result"
    }
   ],
   "source": [
    "dict.fromkeys(['name','age'],'(unknown)')       # 可提供特定的值代替None"
   ]
  },
  {
   "cell_type": "code",
   "execution_count": 35,
   "id": "396d438255333fa7",
   "metadata": {
    "ExecuteTime": {
     "end_time": "2025-03-12T12:38:26.695116Z",
     "start_time": "2025-03-12T12:38:26.692565Z"
    }
   },
   "outputs": [
    {
     "name": "stdout",
     "output_type": "stream",
     "text": [
      "None\n",
      "Nowhere\n"
     ]
    }
   ],
   "source": [
    "d = {}\n",
    "# print(d['name'])  报错\n",
    "print(d.get('name'))        # get为访问字典项提供了宽松的环境\n",
    "print(d.get('name','Nowhere'))        # 你还可以提供指定值"
   ]
  },
  {
   "cell_type": "code",
   "execution_count": 36,
   "id": "44fd390ea2e053cf",
   "metadata": {
    "ExecuteTime": {
     "end_time": "2025-03-12T12:38:54.157379Z",
     "start_time": "2025-03-12T12:38:54.152825Z"
    }
   },
   "outputs": [
    {
     "data": {
      "text/plain": [
       "'Alice'"
      ]
     },
     "execution_count": 36,
     "metadata": {},
     "output_type": "execute_result"
    }
   ],
   "source": [
    "d['name'] = 'Alice'\n",
    "d.get('name','Nowhere')         # 如果包含指定键,get的作用将与普通字典查找相同"
   ]
  },
  {
   "cell_type": "code",
   "execution_count": 26,
   "id": "93977beb64ed57ed",
   "metadata": {
    "ExecuteTime": {
     "end_time": "2025-03-12T12:46:16.020063Z",
     "start_time": "2025-03-12T12:46:16.016541Z"
    }
   },
   "outputs": [
    {
     "data": {
      "text/plain": [
       "dict_items([('name', 'Alice'), ('age', 18)])"
      ]
     },
     "execution_count": 26,
     "metadata": {},
     "output_type": "execute_result"
    }
   ],
   "source": [
    "d['age'] = 18\n",
    "it = d.items()           # 返回一个包含所有字典的列表,其中每个元素都为(key,value)的形式,排列顺序不确定.\n",
    "it"
   ]
  },
  {
   "cell_type": "markdown",
   "id": "46737c4ba49d6c6e",
   "metadata": {},
   "source": [
    "返回值属于一种名为**字典视图**的特殊类型,字典视图可用于迭代,也可确定其长度以及成员资格检查"
   ]
  },
  {
   "cell_type": "code",
   "execution_count": 49,
   "id": "bcb4d9c0b93d9826",
   "metadata": {
    "ExecuteTime": {
     "end_time": "2025-03-12T12:46:37.122581Z",
     "start_time": "2025-03-12T12:46:37.119056Z"
    }
   },
   "outputs": [
    {
     "data": {
      "text/plain": [
       "True"
      ]
     },
     "execution_count": 49,
     "metadata": {},
     "output_type": "execute_result"
    }
   ],
   "source": [
    "('age',18) in it"
   ]
  },
  {
   "cell_type": "code",
   "execution_count": 50,
   "id": "58f82a60a1f7da6a",
   "metadata": {
    "ExecuteTime": {
     "end_time": "2025-03-12T12:46:44.898082Z",
     "start_time": "2025-03-12T12:46:44.895211Z"
    }
   },
   "outputs": [
    {
     "data": {
      "text/plain": [
       "2"
      ]
     },
     "execution_count": 50,
     "metadata": {},
     "output_type": "execute_result"
    }
   ],
   "source": [
    "len(it)"
   ]
  },
  {
   "cell_type": "code",
   "execution_count": 27,
   "id": "37f3c37f6f9a289e",
   "metadata": {
    "ExecuteTime": {
     "end_time": "2025-03-12T12:47:59.710285Z",
     "start_time": "2025-03-12T12:47:59.705898Z"
    }
   },
   "outputs": [
    {
     "data": {
      "text/plain": [
       "False"
      ]
     },
     "execution_count": 27,
     "metadata": {},
     "output_type": "execute_result"
    }
   ],
   "source": [
    "d['spam'] = 1\n",
    "('spam',0) in it"
   ]
  },
  {
   "cell_type": "code",
   "execution_count": null,
   "id": "424d49dcc25f929b",
   "metadata": {
    "ExecuteTime": {
     "end_time": "2025-03-12T12:48:47.942427Z",
     "start_time": "2025-03-12T12:48:47.938802Z"
    }
   },
   "outputs": [
    {
     "data": {
      "text/plain": [
       "True"
      ]
     },
     "execution_count": 29,
     "metadata": {},
     "output_type": "execute_result"
    }
   ],
   "source": [
    "d['spam'] = 0\n",
    "('spam',0) in it            # 始终反映字典的底层,即使之后字典的内容发生了变化,它也会反映出来!!!"
   ]
  },
  {
   "cell_type": "code",
   "execution_count": 30,
   "id": "a62d357ca5e83457",
   "metadata": {
    "ExecuteTime": {
     "end_time": "2025-03-12T12:49:31.988118Z",
     "start_time": "2025-03-12T12:49:31.985388Z"
    }
   },
   "outputs": [
    {
     "data": {
      "text/plain": [
       "dict_keys(['name', 'age', 'spam'])"
      ]
     },
     "execution_count": 30,
     "metadata": {},
     "output_type": "execute_result"
    }
   ],
   "source": [
    "d.keys()            # 返回包含键的字典视图"
   ]
  },
  {
   "cell_type": "code",
   "execution_count": 31,
   "id": "fc187d7fec8163e0",
   "metadata": {
    "ExecuteTime": {
     "end_time": "2025-03-12T12:52:19.594619Z",
     "start_time": "2025-03-12T12:52:19.592076Z"
    }
   },
   "outputs": [
    {
     "name": "stdout",
     "output_type": "stream",
     "text": [
      "{'name': 'Alice', 'age': 18, 'spam': 10086}\n",
      "10086\n",
      "{'name': 'Alice', 'age': 18}\n"
     ]
    }
   ],
   "source": [
    "d['spam'] = 10086\n",
    "print(d)\n",
    "print(d.pop('spam'))           # 获取指定键关联的值,将该键值对删除,且返回值\n",
    "print(d)"
   ]
  },
  {
   "cell_type": "code",
   "execution_count": null,
   "id": "8aff5dae1e6578e7",
   "metadata": {
    "ExecuteTime": {
     "end_time": "2025-03-12T12:52:54.380557Z",
     "start_time": "2025-03-12T12:52:54.377577Z"
    }
   },
   "outputs": [
    {
     "name": "stdout",
     "output_type": "stream",
     "text": [
      "{}\n"
     ]
    }
   ],
   "source": [
    "d.popitem()         # 随机弹出一个字典项(因为字典项的顺序是不确定的,集合?)\n",
    "print(d)            # 字典没有append(在列表末尾添加一个元素),因为字典是无序的,这没有意义"
   ]
  },
  {
   "cell_type": "code",
   "execution_count": 38,
   "id": "f5dad8decb8af772",
   "metadata": {
    "ExecuteTime": {
     "end_time": "2025-03-12T12:55:22.559489Z",
     "start_time": "2025-03-12T12:55:22.555858Z"
    }
   },
   "outputs": [
    {
     "data": {
      "text/plain": [
       "'N/A'"
      ]
     },
     "execution_count": 38,
     "metadata": {},
     "output_type": "execute_result"
    }
   ],
   "source": [
    "d = {}\n",
    "d.setdefault('spam','N/A')          # 类似与get,但若不包含指定的键时,在字典中添加指定的键值对,并返回值,若没指定,默认为None"
   ]
  },
  {
   "cell_type": "code",
   "execution_count": 39,
   "id": "e822a5e93ca7b15b",
   "metadata": {
    "ExecuteTime": {
     "end_time": "2025-03-12T12:56:35.112399Z",
     "start_time": "2025-03-12T12:56:35.108848Z"
    }
   },
   "outputs": [
    {
     "name": "stdout",
     "output_type": "stream",
     "text": [
      "{'spam': 'N/A'}\n"
     ]
    }
   ],
   "source": [
    "print(d)"
   ]
  },
  {
   "cell_type": "code",
   "execution_count": 40,
   "id": "c4e99e6796fe178b",
   "metadata": {
    "ExecuteTime": {
     "end_time": "2025-03-12T13:11:03.420124Z",
     "start_time": "2025-03-12T13:11:03.416141Z"
    }
   },
   "outputs": [
    {
     "data": {
      "text/plain": [
       "{'spam': 'N/A'}"
      ]
     },
     "execution_count": 40,
     "metadata": {},
     "output_type": "execute_result"
    }
   ],
   "source": [
    "d.setdefault('spam','I wanna change!')\n",
    "d           # 如果存在,就返回其值,并保持字典不变,不会使用指定的值"
   ]
  },
  {
   "cell_type": "code",
   "execution_count": 42,
   "id": "e20c6f31358f5f94",
   "metadata": {
    "ExecuteTime": {
     "end_time": "2025-03-12T13:11:05.171057Z",
     "start_time": "2025-03-12T13:11:05.167445Z"
    }
   },
   "outputs": [
    {
     "data": {
      "text/plain": [
       "{'spam': 'N/A',\n",
       " 'title': 'python language site',\n",
       " 'url': 'http://python.org',\n",
       " 'changed': 'Mar 14 22:09:15 MET 2016',\n",
       " 'where': 'Renmin University of China'}"
      ]
     },
     "execution_count": 42,
     "metadata": {},
     "output_type": "execute_result"
    }
   ],
   "source": [
    "d = {\n",
    "    'spam':'N/A',\n",
    "    'title':'python web site',\n",
    "    'url':'http://python.org',\n",
    "    'changed':'Mar 14 22:09:15 MET 2016'\n",
    "}\n",
    "x = {'title':'python language site',\n",
    "    'where':'Renmin University of China'}\n",
    "d.update(x)         # 对于通过参数提供的字典,将其项添加到字典中.如果有相同的键,就替换对应的值\n",
    "d"
   ]
  },
  {
   "cell_type": "code",
   "execution_count": 43,
   "id": "88fad1e96d53fe32",
   "metadata": {
    "ExecuteTime": {
     "end_time": "2025-03-12T13:06:23.304570Z",
     "start_time": "2025-03-12T13:06:23.300296Z"
    }
   },
   "outputs": [
    {
     "data": {
      "text/plain": [
       "dict_values(['N/A', 'python language site', 'http://python.org', 'Mar 14 22:09:15 MET 2016', 'Renmin University of China'])"
      ]
     },
     "execution_count": 43,
     "metadata": {},
     "output_type": "execute_result"
    }
   ],
   "source": [
    "d.values()          # 返回字典中的值组成的字典视图,不同于方法keys,方法values返回的视图可能包含重复的值"
   ]
  },
  {
   "cell_type": "code",
   "execution_count": null,
   "id": "b3f18b591d4b78eb",
   "metadata": {
    "ExecuteTime": {
     "end_time": "2025-03-18T06:10:57.561004Z",
     "start_time": "2025-03-18T06:10:57.554755Z"
    }
   },
   "outputs": [
    {
     "name": "stdout",
     "output_type": "stream",
     "text": [
      "dict_values([1, 2, 3, 1])\n",
      "dict_items([(1, 1), (2, 2), (3, 3), (4, 1)])\n",
      "dict_keys([1, 2, 3, 4])\n",
      "dict_values([1, 2, 3, 1, 10086])\n",
      "dict_items([(1, 1), (2, 2), (3, 3), (4, 1), (5, 10086)])\n",
      "dict_keys([1, 2, 3, 4, 5])\n"
     ]
    }
   ],
   "source": [
    "c = {}\n",
    "c[1] = 1\n",
    "c[2] = 2\n",
    "c[3] = 3\n",
    "c[4] = 1\n",
    "v,i,k = c.values(),c.items(),c.keys()      # 这三个方法返回的视图是动态的,即使字典发生了变化,它们也会反映出来!!!\n",
    "print(v)\n",
    "print(i)\n",
    "print(k)\n",
    "c[5] = 10086\n",
    "print(v)\n",
    "print(i)\n",
    "print(k)"
   ]
  },
  {
   "cell_type": "code",
   "execution_count": 46,
   "id": "3bfef346e03c1496",
   "metadata": {
    "ExecuteTime": {
     "end_time": "2025-03-18T06:11:00.622994Z",
     "start_time": "2025-03-18T06:11:00.617919Z"
    }
   },
   "outputs": [
    {
     "name": "stdout",
     "output_type": "stream",
     "text": [
      "1 1\n",
      "2 2\n",
      "3 3\n",
      "4 1\n",
      "5 10086\n"
     ]
    }
   ],
   "source": [
    "for a,b in c.items():           # 视图可遍历\n",
    "    print(a,b)"
   ]
  }
 ],
 "metadata": {
  "kernelspec": {
   "display_name": "ai_python_course",
   "language": "python",
   "name": "python3"
  },
  "language_info": {
   "codemirror_mode": {
    "name": "ipython",
    "version": 3
   },
   "file_extension": ".py",
   "mimetype": "text/x-python",
   "name": "python",
   "nbconvert_exporter": "python",
   "pygments_lexer": "ipython3",
   "version": "3.12.3"
  }
 },
 "nbformat": 4,
 "nbformat_minor": 5
}
