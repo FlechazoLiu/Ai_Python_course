{
 "cells": [
  {
   "cell_type": "markdown",
   "id": "8e68f23d726bf858",
   "metadata": {},
   "source": [
    "# 抽象\n",
    "#### 一、抽象的核心思想\n",
    "1. **人类认知特性**\n",
    "   人类更擅长通过**高层抽象**理解复杂指令（如“沿街往前走”），而非具体步骤（如“走10步左转”）。\n",
    "   - **示例**：问路时，对方回答“过天桥到马路对面”比逐步移动指令更易理解。\n",
    "\n",
    "2. **程序设计的抽象原则**\n",
    "   - 将复杂操作分解为高层次、语义明确的模块（如下载网页、统计词频）。\n",
    "   - 隐藏具体实现细节，通过函数或方法封装底层操作。\n",
    "\n",
    "---\n",
    "\n",
    "#### 二、代码示例：抽象化的网页词频统计\n",
    "```python\n",
    "# 高层抽象：描述功能而非实现\n",
    "page = download_page()           # 下载网页（具体实现未展示）\n",
    "freqs = compute_frequencies(page) # 计算词频（算法细节封装）\n",
    "for word, freq in freqs:         # 打印结果\n",
    "    print(word, freq)\n",
    "```\n",
    "\n",
    "#### 三、抽象的优势\n",
    "| 优势                | 说明                          |\n",
    "|---------------------|-----------------------------|\n",
    "| **可读性**          | 代码语义清晰，便于人类快速理解逻辑 |\n",
    "| **可维护性**        | 修改底层实现不影响高层调用       |\n",
    "| **复用性**          | 功能模块可被多场景重复使用        |"
   ]
  },
  {
   "cell_type": "markdown",
   "id": "e65f63b66cfaa4aa",
   "metadata": {},
   "source": []
  },
  {
   "cell_type": "code",
   "execution_count": 1,
   "id": "67082c38866908bc",
   "metadata": {
    "ExecuteTime": {
     "end_time": "2025-03-14T08:26:15.065456Z",
     "start_time": "2025-03-14T08:26:15.060081Z"
    }
   },
   "outputs": [
    {
     "data": {
      "text/plain": [
       "False"
      ]
     },
     "execution_count": 1,
     "metadata": {},
     "output_type": "execute_result"
    }
   ],
   "source": [
    "import math\n",
    "x = 1\n",
    "y = math.sqrt\n",
    "callable(x)"
   ]
  },
  {
   "cell_type": "code",
   "execution_count": 2,
   "id": "9b4304fa8120c2d2",
   "metadata": {
    "ExecuteTime": {
     "end_time": "2025-03-14T08:26:20.593361Z",
     "start_time": "2025-03-14T08:26:20.590394Z"
    }
   },
   "outputs": [
    {
     "data": {
      "text/plain": [
       "True"
      ]
     },
     "execution_count": 2,
     "metadata": {},
     "output_type": "execute_result"
    }
   ],
   "source": [
    "callable(y)             # callable函数判断某个对象是否可调用"
   ]
  },
  {
   "cell_type": "code",
   "execution_count": 9,
   "id": "34e88340d5523c28",
   "metadata": {
    "ExecuteTime": {
     "end_time": "2025-03-14T08:32:45.809289Z",
     "start_time": "2025-03-14T08:32:45.805224Z"
    }
   },
   "outputs": [
    {
     "data": {
      "text/plain": [
       "[1, 1, 2, 3, 5, 8, 13, 21, 34, 55]"
      ]
     },
     "execution_count": 9,
     "metadata": {},
     "output_type": "execute_result"
    }
   ],
   "source": [
    "def fib(num):\n",
    "    result = [1,1]\n",
    "    for i in range(num-2):\n",
    "        result.append(result[i] + result[i+1])\n",
    "    return result\n",
    "fib(10)"
   ]
  },
  {
   "cell_type": "code",
   "execution_count": 11,
   "id": "f8bb474999633291",
   "metadata": {
    "ExecuteTime": {
     "end_time": "2025-03-14T08:36:01.192523Z",
     "start_time": "2025-03-14T08:36:01.189135Z"
    }
   },
   "outputs": [
    {
     "data": {
      "text/plain": [
       "'calculate the square of the number x.'"
      ]
     },
     "execution_count": 11,
     "metadata": {},
     "output_type": "execute_result"
    }
   ],
   "source": [
    "def square(x):\n",
    "    'calculate the square of the number x.' # 给函数编写文档,放在函数开头的字符串称为文档字符串,将作为函数的一部分储存起来\n",
    "    return x * x\n",
    "\n",
    "square.__doc__          # 访问文档字符串"
   ]
  },
  {
   "cell_type": "code",
   "execution_count": 12,
   "id": "9bfda830e19131e0",
   "metadata": {
    "ExecuteTime": {
     "end_time": "2025-03-14T08:39:41.851202Z",
     "start_time": "2025-03-14T08:39:41.847280Z"
    }
   },
   "outputs": [
    {
     "name": "stdout",
     "output_type": "stream",
     "text": [
      "Help on function square in module __main__:\n",
      "\n",
      "square(x)\n",
      "    calculate the square of the number x.\n",
      "\n"
     ]
    }
   ],
   "source": [
    "help(square)        # 在交互解释器中,可使用它获取有关函数的信息,包含文档字符串."
   ]
  },
  {
   "cell_type": "code",
   "execution_count": 13,
   "id": "f7e44e0ca8986ef7",
   "metadata": {
    "ExecuteTime": {
     "end_time": "2025-03-14T08:45:46.043487Z",
     "start_time": "2025-03-14T08:45:46.040732Z"
    }
   },
   "outputs": [],
   "source": [
    "def test():         # 不返回任何值(None)的函数.\n",
    "    print('test')\n",
    "    return          # return后的语句不会被执行!!!\n",
    "    print(\"you can't see me.\")"
   ]
  },
  {
   "cell_type": "markdown",
   "id": "29c838e2dc16f2b9",
   "metadata": {},
   "source": [
    "编写函数旨在为当前程序(甚至其他程序)提供服务,你的职责是确保它在提供的参数正确时完成任务,并在参数不对时以显而易见的方式失败."
   ]
  },
  {
   "cell_type": "code",
   "execution_count": 1,
   "id": "85f9622809383557",
   "metadata": {
    "ExecuteTime": {
     "end_time": "2025-03-14T10:32:14.168289Z",
     "start_time": "2025-03-14T10:32:14.161959Z"
    }
   },
   "outputs": [
    {
     "data": {
      "text/plain": [
       "'Mr. Jack'"
      ]
     },
     "execution_count": 1,
     "metadata": {},
     "output_type": "execute_result"
    }
   ],
   "source": [
    "def try_to_change(n):\n",
    "    n = 'Mr. Gumby'\n",
    "name = 'Mr. Jack'\n",
    "try_to_change(name)     # 函数内部给参数赋值对外部没有任何影响.这是一个完全不同的变量.\n",
    "name                    # 仅仅给局部变量赋了新值."
   ]
  },
  {
   "cell_type": "code",
   "execution_count": 2,
   "id": "cf3fe48b78b43740",
   "metadata": {
    "ExecuteTime": {
     "end_time": "2025-03-14T10:35:03.400801Z",
     "start_time": "2025-03-14T10:35:03.397009Z"
    }
   },
   "outputs": [
    {
     "data": {
      "text/plain": [
       "['Mr. Gumby', 'Mrs. Thing']"
      ]
     },
     "execution_count": 2,
     "metadata": {},
     "output_type": "execute_result"
    }
   ],
   "source": [
    "def change(n):\n",
    "    n[0] = 'Mr. Gumby'\n",
    "\n",
    "names = ['Mrs. Entity','Mrs. Thing']        # 修改了变量关联到的列表,这并不奇怪,请看下面的例子\n",
    "change(names)\n",
    "names"
   ]
  },
  {
   "cell_type": "code",
   "execution_count": 5,
   "id": "9f9593708c8e5498",
   "metadata": {
    "ExecuteTime": {
     "end_time": "2025-03-14T10:41:39.958669Z",
     "start_time": "2025-03-14T10:41:39.954608Z"
    }
   },
   "outputs": [
    {
     "name": "stdout",
     "output_type": "stream",
     "text": [
      "True\n"
     ]
    },
    {
     "data": {
      "text/plain": [
       "['Mr. Gumby', 'Mrs. Thing']"
      ]
     },
     "execution_count": 5,
     "metadata": {},
     "output_type": "execute_result"
    }
   ],
   "source": [
    "names = ['Mrs. Entity','Mrs. Thing']\n",
    "n = names           # 将同一个列表赋给两个变量时,这两个变量将同时指向这个列表\n",
    "n[0] = 'Mr. Gumby'\n",
    "print(n is names)       # 返回值为True!!!\n",
    "names"
   ]
  },
  {
   "cell_type": "markdown",
   "id": "35c8350a78fb0643",
   "metadata": {},
   "source": [
    "要避免这样的结果,必须创建列表的副本.对序列执行切片的操作时,返回的切片都是副本.因此,如果你创建整个列表的切片,得到的将是列表的副本."
   ]
  },
  {
   "cell_type": "code",
   "execution_count": 4,
   "id": "de1b00f76a00cc83",
   "metadata": {
    "ExecuteTime": {
     "end_time": "2025-03-14T10:41:14.791644Z",
     "start_time": "2025-03-14T10:41:14.788619Z"
    }
   },
   "outputs": [
    {
     "name": "stdout",
     "output_type": "stream",
     "text": [
      "False\n",
      "True\n"
     ]
    }
   ],
   "source": [
    "names = ['Mrs. Entity','Mrs. Thing']\n",
    "n = names[:]\n",
    "\n",
    "print(n is names)\n",
    "print(n == names)"
   ]
  },
  {
   "cell_type": "markdown",
   "id": "dff088290dc0e982",
   "metadata": {},
   "source": [
    "## 关键词参数和默认值\n",
    "之前使用的参数都是位置参数,位置比名字往往更重要.为了简化调用工作,我们引入关键字参数"
   ]
  },
  {
   "cell_type": "code",
   "execution_count": 11,
   "id": "b9843dcf72ec7626",
   "metadata": {
    "ExecuteTime": {
     "end_time": "2025-03-14T10:59:23.051171Z",
     "start_time": "2025-03-14T10:59:23.047191Z"
    }
   },
   "outputs": [
    {
     "name": "stdout",
     "output_type": "stream",
     "text": [
      "Hello World\n",
      "Hai Friend\n",
      "你好 世界\n",
      "Hello Young\n"
     ]
    }
   ],
   "source": [
    "def hello_1(greeting = 'Hello',name = 'World'):\n",
    "    print(greeting, name)\n",
    "\n",
    "hello_1()\n",
    "hello_1('Hai',\"Friend\")\n",
    "hello_1(greeting = '你好',name = '世界')\n",
    "hello_1(name = 'Young')         # 提供默认值的参数,调用函数时可不提供."
   ]
  },
  {
   "cell_type": "code",
   "execution_count": 17,
   "id": "56c467b552512493",
   "metadata": {
    "ExecuteTime": {
     "end_time": "2025-03-14T11:02:48.126359Z",
     "start_time": "2025-03-14T11:02:48.122019Z"
    }
   },
   "outputs": [
    {
     "name": "stdout",
     "output_type": "stream",
     "text": [
      "Hello World !\n",
      "Haha World !\n",
      "Haha Mars !\n",
      "Haha Mars ...\n",
      "Haha World ?\n"
     ]
    }
   ],
   "source": [
    "def hello_2(greeting = 'Hello',name = 'World',punctuation = \"!\"):\n",
    "    print(greeting, name, punctuation)\n",
    "\n",
    "hello_2()\n",
    "hello_2('Haha')\n",
    "hello_2('Haha','Mars')\n",
    "hello_2('Haha','Mars','...')\n",
    "hello_2('Haha',punctuation = \"?\")           # 位置参数与关键词参数混合使用"
   ]
  },
  {
   "cell_type": "markdown",
   "id": "f6f4705e6f8220d7",
   "metadata": {},
   "source": [
    "## 收集参数\n",
    "有时候,允许用户提供任意数量的参数很有用."
   ]
  },
  {
   "cell_type": "code",
   "execution_count": 19,
   "id": "82cecc135cb8bac3",
   "metadata": {
    "ExecuteTime": {
     "end_time": "2025-03-14T11:06:34.539785Z",
     "start_time": "2025-03-14T11:06:34.536733Z"
    }
   },
   "outputs": [
    {
     "name": "stdout",
     "output_type": "stream",
     "text": [
      "(1,)\n",
      "('hh', '你好', 'why?')\n"
     ]
    }
   ],
   "source": [
    "def print_params(*params):\n",
    "    print(params)\n",
    "\n",
    "print_params(1)         # 注意输出的仍然是一个元组\n",
    "print_params('hh','你好','why?')"
   ]
  },
  {
   "cell_type": "markdown",
   "id": "32dd78c8f5c2508e",
   "metadata": {},
   "source": [
    "(programme_control章提到)赋值时带星号的变量收集多余的值,将其存放在一个**列表**中.\n",
    "这里,参数前面带星号将提供的所有值都放在一个元组中.如果没有可供收集的参数,将是一个空元组."
   ]
  },
  {
   "cell_type": "code",
   "execution_count": 20,
   "id": "b8558fedd20d86bc",
   "metadata": {
    "ExecuteTime": {
     "end_time": "2025-03-14T11:12:11.774246Z",
     "start_time": "2025-03-14T11:12:11.770917Z"
    }
   },
   "outputs": [
    {
     "name": "stdout",
     "output_type": "stream",
     "text": [
      "Alice ()\n"
     ]
    }
   ],
   "source": [
    "def pt(name,*info):\n",
    "    print(name,info)\n",
    "\n",
    "pt('Alice')"
   ]
  },
  {
   "cell_type": "markdown",
   "id": "5e8eabc8d8b2f205",
   "metadata": {},
   "source": [
    "与赋值时一样,带星号的参数可放在其他位置(而不是最后),但不同的是,这种情况下需要**使用名称来指定后续参数**"
   ]
  },
  {
   "cell_type": "code",
   "execution_count": 22,
   "id": "e5344aa0188e48d",
   "metadata": {
    "ExecuteTime": {
     "end_time": "2025-03-14T11:14:41.811516Z",
     "start_time": "2025-03-14T11:14:41.808599Z"
    }
   },
   "outputs": [
    {
     "name": "stdout",
     "output_type": "stream",
     "text": [
      "1 (2, 3) 7\n"
     ]
    }
   ],
   "source": [
    "def middle(x,*y,z):             # 星号不会收集关键词参数\n",
    "    print(x,y,z)\n",
    "\n",
    "middle(1,2,3,z = 7)"
   ]
  },
  {
   "cell_type": "code",
   "execution_count": 24,
   "id": "5338999aa4e66315",
   "metadata": {
    "ExecuteTime": {
     "end_time": "2025-03-14T11:16:09.867870Z",
     "start_time": "2025-03-14T11:16:09.864884Z"
    }
   },
   "outputs": [
    {
     "name": "stdout",
     "output_type": "stream",
     "text": [
      "{'x': 1, 'y': 2, 'z': 3}\n"
     ]
    }
   ],
   "source": [
    "def mm(**name):         # 要收集关键词参数,可以使用两个星号\n",
    "    print(name)\n",
    "mm(x = 1, y = 2, z = 3)         # 如你所见,这样得到的是一个字典而不是元组!!!"
   ]
  },
  {
   "cell_type": "code",
   "execution_count": 25,
   "id": "2708bc805abfdf9f",
   "metadata": {
    "ExecuteTime": {
     "end_time": "2025-03-14T11:19:15.266594Z",
     "start_time": "2025-03-14T11:19:15.262378Z"
    }
   },
   "outputs": [
    {
     "name": "stdout",
     "output_type": "stream",
     "text": [
      "1 2 3\n",
      "(4, 5, 6, 7)\n",
      "{'foo': 1, 'bar': 2, 'baz': 3}\n"
     ]
    }
   ],
   "source": [
    "def p_all(x,y,z=3,*pospar,**keypar):\n",
    "    print(x,y,z)\n",
    "    print(pospar)\n",
    "    print(keypar)\n",
    "\n",
    "p_all(1,2,3,4,5,6,7,foo=1,bar=2,baz=3)"
   ]
  },
  {
   "cell_type": "markdown",
   "id": "caa1d639b9bdaaad",
   "metadata": {},
   "source": [
    "## 分配参数\n",
    "前面介绍了如何将参数收集到元组和字典中,但用同样的两个运算符(\\*和\\*\\*)也可以执行相反的操作."
   ]
  },
  {
   "cell_type": "code",
   "execution_count": 26,
   "id": "583e4747f27af9e7",
   "metadata": {
    "ExecuteTime": {
     "end_time": "2025-03-14T11:23:07.426144Z",
     "start_time": "2025-03-14T11:23:07.421603Z"
    }
   },
   "outputs": [
    {
     "data": {
      "text/plain": [
       "3"
      ]
     },
     "execution_count": 26,
     "metadata": {},
     "output_type": "execute_result"
    }
   ],
   "source": [
    "def add(x,y):\n",
    "    return x+y\n",
    "\n",
    "params = (1,2)          # 参数是元组\n",
    "add(*params)            # 在调用函数时使用*运算符,实现参数分配"
   ]
  },
  {
   "cell_type": "code",
   "execution_count": 27,
   "id": "931443acf30ffb13",
   "metadata": {
    "ExecuteTime": {
     "end_time": "2025-03-14T11:26:19.714549Z",
     "start_time": "2025-03-14T11:26:19.710905Z"
    }
   },
   "outputs": [
    {
     "name": "stdout",
     "output_type": "stream",
     "text": [
      "Well met Sir Robin\n"
     ]
    }
   ],
   "source": [
    "def hello_1(greeting = 'Hello',name = 'World'):\n",
    "    print(greeting, name)\n",
    "\n",
    "params = {'name' : 'Sir Robin','greeting' : 'Well met'}\n",
    "hello_1(**params)           # 使用**运算符,将字典中的值分配给关键词参数."
   ]
  },
  {
   "cell_type": "markdown",
   "id": "676dc1099059fca7",
   "metadata": {},
   "source": [
    "\n",
    "#### 二、注意事项与陷阱\n",
    "1. **定义与调用时的星号作用域**\n",
    "   - 在**定义函数**时使用`*`或`**`表示接受可变数量的参数（如`*args`或`**kwargs`）。\n",
    "   - 在**调用函数**时使用`*`或`**`表示拆分参数（元组/字典→位置/关键字参数）。\n",
    "   - **错误用法**：\n",
    "     ```python\n",
    "     # 定义和调用时均使用**，导致冗余\n",
    "     def with_stars(**kwds):\n",
    "         print(kwds['name'], 'is', kwds['age'], 'years old')\n",
    "\n",
    "     args = {'name': 'Mr. Gumby', 'age': 42}\n",
    "     with_stars(**args)  # 正确但冗余，等效于直接传递字典\n",
    "     ```\n",
    "\n",
    "2. **等效操作的对比**\n",
    "   ```python\n",
    "   # 不拆分字典，直接传递字典参数\n",
    "   def without_stars(kwds):\n",
    "       print(kwds['name'], 'is', kwds['age'], 'years old')\n",
    "\n",
    "   args = {'name': 'Mr. Gumby', 'age': 42}\n",
    "   without_stars(args)  # 直接传递字典，函数内部需手动提取键值\n",
    "   ```\n",
    "\n",
    "---\n",
    "\n",
    "### 总结\n",
    "| 运算符 | 上下文   | 作用                     | 示例                           |\n",
    "|--------|----------|--------------------------|--------------------------------|\n",
    "| `*`    | 调用函数 | 拆分元组为位置参数       | `func(*(1,2))` → `func(1,2)`   |\n",
    "| `**`   | 调用函数 | 拆分字典为关键字参数     | `func(**{'a':1})` → `func(a=1)`|\n",
    "| `*`    | 定义函数 | 接收可变位置参数（元组） | `def func(*args): ...`         |\n",
    "| `**`   | 定义函数 | 接收可变关键字参数（字典）| `def func(**kwargs): ...`      |\n",
    "\n",
    "**核心原则**：\n",
    "- 定义时用`*`/`**`收集参数，调用时用`*`/`**`拆分参数。\n",
    "- 避免冗余使用，仅在需要动态处理参数时使用拆分运算符。\n",
    "```"
   ]
  },
  {
   "cell_type": "markdown",
   "id": "c88ceaa0f9d66208",
   "metadata": {},
   "source": [
    "## 练习使用参数"
   ]
  },
  {
   "cell_type": "code",
   "execution_count": 6,
   "id": "bba3fe83405c2cb3",
   "metadata": {
    "ExecuteTime": {
     "end_time": "2025-03-15T06:38:32.791190Z",
     "start_time": "2025-03-15T06:38:32.785907Z"
    }
   },
   "outputs": [
    {
     "name": "stdout",
     "output_type": "stream",
     "text": [
      "Once upon a time, there was a king called Gumby.\n",
      "Once upon a time, there was a language called Python.\n",
      "Once upon a time, there was a stroke of genius called Python.\n"
     ]
    }
   ],
   "source": [
    "def story(**kwds):\n",
    "    return 'Once upon a time, there was a ' \\\n",
    "            '{job} called {name}.'.format_map(kwds)         # 通过字典格式化\n",
    "\n",
    "def power(x,y,*others):\n",
    "    if others:\n",
    "        print(\"Received redundant parameters:\",others)\n",
    "    return pow(x,y)\n",
    "\n",
    "def interval(start,stop=None,step=1):\n",
    "    'Imitate range() for step > 0'\n",
    "    if stop is None:\n",
    "        start , stop = 0, start\n",
    "    result = []\n",
    "\n",
    "    i = start\n",
    "    while i < stop:\n",
    "        result.append(i)\n",
    "        i += step\n",
    "    return result\n",
    "\n",
    "print(story(job='king',name='Gumby'))\n",
    "params = {'job':'language','name':'Python'}\n",
    "print(story(**params))\n",
    "del params['job']\n",
    "print(story(job='stroke of genius',**params))"
   ]
  },
  {
   "cell_type": "code",
   "execution_count": 10,
   "id": "f5aa0a8627185863",
   "metadata": {
    "ExecuteTime": {
     "end_time": "2025-03-15T06:40:15.957305Z",
     "start_time": "2025-03-15T06:40:15.952975Z"
    }
   },
   "outputs": [
    {
     "name": "stdout",
     "output_type": "stream",
     "text": [
      "8\n",
      "64\n",
      "27\n",
      "Received redundant parameters: ('Hello world!',)\n"
     ]
    },
    {
     "data": {
      "text/plain": [
       "8"
      ]
     },
     "execution_count": 10,
     "metadata": {},
     "output_type": "execute_result"
    }
   ],
   "source": [
    "print(power(2,3))\n",
    "print(power(y=3,x=4))\n",
    "params = (3,) * 2\n",
    "print(power(*params))\n",
    "power(2,3,'Hello world!')"
   ]
  },
  {
   "cell_type": "code",
   "execution_count": 17,
   "id": "51dfa84223585fac",
   "metadata": {
    "ExecuteTime": {
     "end_time": "2025-03-15T06:42:52.562596Z",
     "start_time": "2025-03-15T06:42:52.559111Z"
    }
   },
   "outputs": [
    {
     "name": "stdout",
     "output_type": "stream",
     "text": [
      "[0, 1, 2, 3, 4, 5, 6, 7, 8, 9]\n",
      "[1, 2, 3, 4, 5, 6, 7, 8, 9, 10, 11, 12, 13, 14, 15, 16, 17, 18, 19]\n",
      "[1, 4, 7, 10, 13, 16, 19]\n",
      "Received redundant parameters: (4, 5)\n",
      "8\n"
     ]
    }
   ],
   "source": [
    "print(interval(10))\n",
    "print(interval(1,20))\n",
    "print(interval(1,20,3))\n",
    "print(power(*interval(2,6,1)))"
   ]
  },
  {
   "cell_type": "markdown",
   "id": "ba4e12b46d4c614",
   "metadata": {},
   "source": [
    "请大胆尝试这些函数以及自己创建的函数,直到你觉得自己掌握了所有相关的工作原理.\n",
    "## 作用域\n",
    "变量到底是什么?可将其视为**指向值的名称**.因此,执行赋值语句x=1后,名称x指向值1.这几乎与使用**字典**时一样(字典中的键指向值),只是你使用的时\"看不见\"的字典.\n",
    "实际上,这种解释已经离真相不远了.有一个名为**vars**的内置函数,它返回这个不可见的字典:"
   ]
  },
  {
   "cell_type": "code",
   "execution_count": 21,
   "id": "8db8af89f636890b",
   "metadata": {
    "ExecuteTime": {
     "end_time": "2025-03-15T06:49:06.328863Z",
     "start_time": "2025-03-15T06:49:06.325096Z"
    }
   },
   "outputs": [
    {
     "data": {
      "text/plain": [
       "1"
      ]
     },
     "execution_count": 21,
     "metadata": {},
     "output_type": "execute_result"
    }
   ],
   "source": [
    "x = 1\n",
    "scope = vars()\n",
    "scope['x']"
   ]
  },
  {
   "cell_type": "code",
   "execution_count": 22,
   "id": "987f282c4c780a62",
   "metadata": {
    "ExecuteTime": {
     "end_time": "2025-03-15T06:49:32.655913Z",
     "start_time": "2025-03-15T06:49:32.652324Z"
    }
   },
   "outputs": [
    {
     "data": {
      "text/plain": [
       "2"
      ]
     },
     "execution_count": 22,
     "metadata": {},
     "output_type": "execute_result"
    }
   ],
   "source": [
    "scope['x'] += 1\n",
    "x"
   ]
  },
  {
   "cell_type": "code",
   "execution_count": 23,
   "id": "a1f1d6e1b447a5f8",
   "metadata": {
    "ExecuteTime": {
     "end_time": "2025-03-15T06:49:42.553158Z",
     "start_time": "2025-03-15T06:49:42.549017Z"
    }
   },
   "outputs": [
    {
     "name": "stdout",
     "output_type": "stream",
     "text": [
      "{'__name__': '__main__', '__doc__': 'Automatically created module for IPython interactive environment', '__package__': None, '__loader__': None, '__spec__': None, '__builtin__': <module 'builtins' (built-in)>, '__builtins__': <module 'builtins' (built-in)>, '_ih': ['', 'def story(**kwds):\\n    return \\'Once upon a time, there was a \\' \\\\\\n            \\'{job} called {name}.\\'.format_map(kwds)         # 通过字典格式化\\n\\ndef power(x,y,*others):\\n    if others:\\n        print(\"Received redundant parameters:\",others)\\n        return pow(x,y)\\n\\ndef interval(start,stop=None,step=1):\\n    \\'Imitate range() for step > 0\\'\\n    if stop is None:\\n        start , stop = 0, start\\n    result = []\\n\\n    i = start\\n    while i < stop:\\n        result.append(i)\\n        i += step\\n    return result\\n\\nprint(story(job=\\'king\\',name=\\'Gumby\\'))', 'def story(**kwds):\\n    return \\'Once upon a time, there was a \\' \\\\\\n            \\'{job} called {name}.\\'.format_map(kwds)         # 通过字典格式化\\n\\ndef power(x,y,*others):\\n    if others:\\n        print(\"Received redundant parameters:\",others)\\n        return pow(x,y)\\n\\ndef interval(start,stop=None,step=1):\\n    \\'Imitate range() for step > 0\\'\\n    if stop is None:\\n        start , stop = 0, start\\n    result = []\\n\\n    i = start\\n    while i < stop:\\n        result.append(i)\\n        i += step\\n    return result\\n\\nprint(story(job=\\'king\\',name=\\'Gumby\\'))\\nparams = {\\'job\\':\\'language\\',\\'name\\':\\'Python\\'}\\nprint(story(**params))', 'def story(**kwds):\\n    return \\'Once upon a time, there was a \\' \\\\\\n            \\'{job} called {name}.\\'.format_map(kwds)         # 通过字典格式化\\n\\ndef power(x,y,*others):\\n    if others:\\n        print(\"Received redundant parameters:\",others)\\n        return pow(x,y)\\n\\ndef interval(start,stop=None,step=1):\\n    \\'Imitate range() for step > 0\\'\\n    if stop is None:\\n        start , stop = 0, start\\n    result = []\\n\\n    i = start\\n    while i < stop:\\n        result.append(i)\\n        i += step\\n    return result\\n\\nprint(story(job=\\'king\\',name=\\'Gumby\\'))\\nparams = {\\'job\\':\\'language\\',\\'name\\':\\'Python\\'}\\nprint(story(**params))\\ndel params[\\'job\\']\\nprint(params)', 'def story(**kwds):\\n    return \\'Once upon a time, there was a \\' \\\\\\n            \\'{job} called {name}.\\'.format_map(kwds)         # 通过字典格式化\\n\\ndef power(x,y,*others):\\n    if others:\\n        print(\"Received redundant parameters:\",others)\\n        return pow(x,y)\\n\\ndef interval(start,stop=None,step=1):\\n    \\'Imitate range() for step > 0\\'\\n    if stop is None:\\n        start , stop = 0, start\\n    result = []\\n\\n    i = start\\n    while i < stop:\\n        result.append(i)\\n        i += step\\n    return result\\n\\nprint(story(job=\\'king\\',name=\\'Gumby\\'))\\nparams = {\\'job\\':\\'language\\',\\'name\\':\\'Python\\'}\\nprint(story(**params))\\ndel params[\\'job\\']\\nprint(story(job=\\'stroke of genius\\',**params))', 'power(2,3)', 'def story(**kwds):\\n    return \\'Once upon a time, there was a \\' \\\\\\n            \\'{job} called {name}.\\'.format_map(kwds)         # 通过字典格式化\\n\\ndef power(x,y,*others):\\n    if others:\\n        print(\"Received redundant parameters:\",others)\\n    return pow(x,y)\\n\\ndef interval(start,stop=None,step=1):\\n    \\'Imitate range() for step > 0\\'\\n    if stop is None:\\n        start , stop = 0, start\\n    result = []\\n\\n    i = start\\n    while i < stop:\\n        result.append(i)\\n        i += step\\n    return result\\n\\nprint(story(job=\\'king\\',name=\\'Gumby\\'))\\nparams = {\\'job\\':\\'language\\',\\'name\\':\\'Python\\'}\\nprint(story(**params))\\ndel params[\\'job\\']\\nprint(story(job=\\'stroke of genius\\',**params))', 'power(2,3)', 'print(power(2,3))\\nprint(power(y=3,x=4))', 'print(power(2,3))\\nprint(power(y=3,x=4))\\nparams = (3,) * 2\\nprint(power(*params))', \"print(power(2,3))\\nprint(power(y=3,x=4))\\nparams = (3,) * 2\\nprint(power(*params))\\npower(2,3,'Hello world!')\", 'interval(10)', 'print(interval(10))\\nprint(interval(1,2,3))', 'print(interval(10))\\nprint(interval(1,20,3))', 'print(interval(10))\\nprint(interval(1,20))\\nprint(interval(1,2,3))', 'print(interval(10))\\nprint(interval(1,20))\\nprint(interval(1,20,3))', 'print(interval(10))\\nprint(interval(1,20))\\nprint(interval(1,20,3))\\nprint(power(*interval(1,6,1)))', 'print(interval(10))\\nprint(interval(1,20))\\nprint(interval(1,20,3))\\nprint(power(*interval(2,6,1)))', \"x = 1\\nscope = vars(x)\\nscope['x']\", \"x = 1\\nscope = vars()\\nscope['x']\", \"x = 1\\nscope = vars()\\nscope['x']\\nprint(scope)\", \"x = 1\\nscope = vars()\\nscope['x']\", \"scope['x'] += 1\\nx\", 'print(scope)'], '_oh': {7: 8, 10: 8, 11: [0, 1, 2, 3, 4, 5, 6, 7, 8, 9], 19: 1, 21: 1, 22: 2}, '_dh': [WindowsPath('D:/Myself/Codefield/Code_Python/Code_Ai_Python/Python_Self_Learning')], 'In': ['', 'def story(**kwds):\\n    return \\'Once upon a time, there was a \\' \\\\\\n            \\'{job} called {name}.\\'.format_map(kwds)         # 通过字典格式化\\n\\ndef power(x,y,*others):\\n    if others:\\n        print(\"Received redundant parameters:\",others)\\n        return pow(x,y)\\n\\ndef interval(start,stop=None,step=1):\\n    \\'Imitate range() for step > 0\\'\\n    if stop is None:\\n        start , stop = 0, start\\n    result = []\\n\\n    i = start\\n    while i < stop:\\n        result.append(i)\\n        i += step\\n    return result\\n\\nprint(story(job=\\'king\\',name=\\'Gumby\\'))', 'def story(**kwds):\\n    return \\'Once upon a time, there was a \\' \\\\\\n            \\'{job} called {name}.\\'.format_map(kwds)         # 通过字典格式化\\n\\ndef power(x,y,*others):\\n    if others:\\n        print(\"Received redundant parameters:\",others)\\n        return pow(x,y)\\n\\ndef interval(start,stop=None,step=1):\\n    \\'Imitate range() for step > 0\\'\\n    if stop is None:\\n        start , stop = 0, start\\n    result = []\\n\\n    i = start\\n    while i < stop:\\n        result.append(i)\\n        i += step\\n    return result\\n\\nprint(story(job=\\'king\\',name=\\'Gumby\\'))\\nparams = {\\'job\\':\\'language\\',\\'name\\':\\'Python\\'}\\nprint(story(**params))', 'def story(**kwds):\\n    return \\'Once upon a time, there was a \\' \\\\\\n            \\'{job} called {name}.\\'.format_map(kwds)         # 通过字典格式化\\n\\ndef power(x,y,*others):\\n    if others:\\n        print(\"Received redundant parameters:\",others)\\n        return pow(x,y)\\n\\ndef interval(start,stop=None,step=1):\\n    \\'Imitate range() for step > 0\\'\\n    if stop is None:\\n        start , stop = 0, start\\n    result = []\\n\\n    i = start\\n    while i < stop:\\n        result.append(i)\\n        i += step\\n    return result\\n\\nprint(story(job=\\'king\\',name=\\'Gumby\\'))\\nparams = {\\'job\\':\\'language\\',\\'name\\':\\'Python\\'}\\nprint(story(**params))\\ndel params[\\'job\\']\\nprint(params)', 'def story(**kwds):\\n    return \\'Once upon a time, there was a \\' \\\\\\n            \\'{job} called {name}.\\'.format_map(kwds)         # 通过字典格式化\\n\\ndef power(x,y,*others):\\n    if others:\\n        print(\"Received redundant parameters:\",others)\\n        return pow(x,y)\\n\\ndef interval(start,stop=None,step=1):\\n    \\'Imitate range() for step > 0\\'\\n    if stop is None:\\n        start , stop = 0, start\\n    result = []\\n\\n    i = start\\n    while i < stop:\\n        result.append(i)\\n        i += step\\n    return result\\n\\nprint(story(job=\\'king\\',name=\\'Gumby\\'))\\nparams = {\\'job\\':\\'language\\',\\'name\\':\\'Python\\'}\\nprint(story(**params))\\ndel params[\\'job\\']\\nprint(story(job=\\'stroke of genius\\',**params))', 'power(2,3)', 'def story(**kwds):\\n    return \\'Once upon a time, there was a \\' \\\\\\n            \\'{job} called {name}.\\'.format_map(kwds)         # 通过字典格式化\\n\\ndef power(x,y,*others):\\n    if others:\\n        print(\"Received redundant parameters:\",others)\\n    return pow(x,y)\\n\\ndef interval(start,stop=None,step=1):\\n    \\'Imitate range() for step > 0\\'\\n    if stop is None:\\n        start , stop = 0, start\\n    result = []\\n\\n    i = start\\n    while i < stop:\\n        result.append(i)\\n        i += step\\n    return result\\n\\nprint(story(job=\\'king\\',name=\\'Gumby\\'))\\nparams = {\\'job\\':\\'language\\',\\'name\\':\\'Python\\'}\\nprint(story(**params))\\ndel params[\\'job\\']\\nprint(story(job=\\'stroke of genius\\',**params))', 'power(2,3)', 'print(power(2,3))\\nprint(power(y=3,x=4))', 'print(power(2,3))\\nprint(power(y=3,x=4))\\nparams = (3,) * 2\\nprint(power(*params))', \"print(power(2,3))\\nprint(power(y=3,x=4))\\nparams = (3,) * 2\\nprint(power(*params))\\npower(2,3,'Hello world!')\", 'interval(10)', 'print(interval(10))\\nprint(interval(1,2,3))', 'print(interval(10))\\nprint(interval(1,20,3))', 'print(interval(10))\\nprint(interval(1,20))\\nprint(interval(1,2,3))', 'print(interval(10))\\nprint(interval(1,20))\\nprint(interval(1,20,3))', 'print(interval(10))\\nprint(interval(1,20))\\nprint(interval(1,20,3))\\nprint(power(*interval(1,6,1)))', 'print(interval(10))\\nprint(interval(1,20))\\nprint(interval(1,20,3))\\nprint(power(*interval(2,6,1)))', \"x = 1\\nscope = vars(x)\\nscope['x']\", \"x = 1\\nscope = vars()\\nscope['x']\", \"x = 1\\nscope = vars()\\nscope['x']\\nprint(scope)\", \"x = 1\\nscope = vars()\\nscope['x']\", \"scope['x'] += 1\\nx\", 'print(scope)'], 'Out': {7: 8, 10: 8, 11: [0, 1, 2, 3, 4, 5, 6, 7, 8, 9], 19: 1, 21: 1, 22: 2}, 'get_ipython': <bound method InteractiveShell.get_ipython of <ipykernel.zmqshell.ZMQInteractiveShell object at 0x0000025C8F108FB0>>, 'exit': <IPython.core.autocall.ZMQExitAutocall object at 0x0000025C8F161C10>, 'quit': <IPython.core.autocall.ZMQExitAutocall object at 0x0000025C8F161C10>, 'open': <function open at 0x0000025C8D23CD60>, '_': 2, '__': 1, '___': 1, '__session__': 'Python_Self_Learning/abstraction.ipynb', '_i': \"scope['x'] += 1\\nx\", '_ii': \"x = 1\\nscope = vars()\\nscope['x']\", '_iii': \"x = 1\\nscope = vars()\\nscope['x']\\nprint(scope)\", '_i1': 'def story(**kwds):\\n    return \\'Once upon a time, there was a \\' \\\\\\n            \\'{job} called {name}.\\'.format_map(kwds)         # 通过字典格式化\\n\\ndef power(x,y,*others):\\n    if others:\\n        print(\"Received redundant parameters:\",others)\\n        return pow(x,y)\\n\\ndef interval(start,stop=None,step=1):\\n    \\'Imitate range() for step > 0\\'\\n    if stop is None:\\n        start , stop = 0, start\\n    result = []\\n\\n    i = start\\n    while i < stop:\\n        result.append(i)\\n        i += step\\n    return result\\n\\nprint(story(job=\\'king\\',name=\\'Gumby\\'))', 'story': <function story at 0x0000025C8F458C20>, 'power': <function power at 0x0000025C8F4594E0>, 'interval': <function interval at 0x0000025C8F459440>, 'sys': <module 'sys' (built-in)>, 'remove_imported_pydev_package': <function remove_imported_pydev_package at 0x0000025C8F459940>, '_pydevd_bundle': <module '_pydevd_bundle' from 'D:\\\\Own_Download\\\\PyCharm 2024.3.3\\\\plugins\\\\python-ce\\\\helpers\\\\pydev\\\\_pydevd_bundle\\\\__init__.py'>, 'pydev_jupyter_vars': <module 'pydev_jupyter_vars' from 'D:\\\\Own_Download\\\\PyCharm 2024.3.3\\\\plugins\\\\python\\\\helpers-pro\\\\jupyter_debug\\\\pydev_jupyter_vars.py'>, '_i2': 'def story(**kwds):\\n    return \\'Once upon a time, there was a \\' \\\\\\n            \\'{job} called {name}.\\'.format_map(kwds)         # 通过字典格式化\\n\\ndef power(x,y,*others):\\n    if others:\\n        print(\"Received redundant parameters:\",others)\\n        return pow(x,y)\\n\\ndef interval(start,stop=None,step=1):\\n    \\'Imitate range() for step > 0\\'\\n    if stop is None:\\n        start , stop = 0, start\\n    result = []\\n\\n    i = start\\n    while i < stop:\\n        result.append(i)\\n        i += step\\n    return result\\n\\nprint(story(job=\\'king\\',name=\\'Gumby\\'))\\nparams = {\\'job\\':\\'language\\',\\'name\\':\\'Python\\'}\\nprint(story(**params))', 'params': (3, 3), '_i3': 'def story(**kwds):\\n    return \\'Once upon a time, there was a \\' \\\\\\n            \\'{job} called {name}.\\'.format_map(kwds)         # 通过字典格式化\\n\\ndef power(x,y,*others):\\n    if others:\\n        print(\"Received redundant parameters:\",others)\\n        return pow(x,y)\\n\\ndef interval(start,stop=None,step=1):\\n    \\'Imitate range() for step > 0\\'\\n    if stop is None:\\n        start , stop = 0, start\\n    result = []\\n\\n    i = start\\n    while i < stop:\\n        result.append(i)\\n        i += step\\n    return result\\n\\nprint(story(job=\\'king\\',name=\\'Gumby\\'))\\nparams = {\\'job\\':\\'language\\',\\'name\\':\\'Python\\'}\\nprint(story(**params))\\ndel params[\\'job\\']\\nprint(params)', '_i4': 'def story(**kwds):\\n    return \\'Once upon a time, there was a \\' \\\\\\n            \\'{job} called {name}.\\'.format_map(kwds)         # 通过字典格式化\\n\\ndef power(x,y,*others):\\n    if others:\\n        print(\"Received redundant parameters:\",others)\\n        return pow(x,y)\\n\\ndef interval(start,stop=None,step=1):\\n    \\'Imitate range() for step > 0\\'\\n    if stop is None:\\n        start , stop = 0, start\\n    result = []\\n\\n    i = start\\n    while i < stop:\\n        result.append(i)\\n        i += step\\n    return result\\n\\nprint(story(job=\\'king\\',name=\\'Gumby\\'))\\nparams = {\\'job\\':\\'language\\',\\'name\\':\\'Python\\'}\\nprint(story(**params))\\ndel params[\\'job\\']\\nprint(story(job=\\'stroke of genius\\',**params))', '_i5': 'power(2,3)', '_i6': 'def story(**kwds):\\n    return \\'Once upon a time, there was a \\' \\\\\\n            \\'{job} called {name}.\\'.format_map(kwds)         # 通过字典格式化\\n\\ndef power(x,y,*others):\\n    if others:\\n        print(\"Received redundant parameters:\",others)\\n    return pow(x,y)\\n\\ndef interval(start,stop=None,step=1):\\n    \\'Imitate range() for step > 0\\'\\n    if stop is None:\\n        start , stop = 0, start\\n    result = []\\n\\n    i = start\\n    while i < stop:\\n        result.append(i)\\n        i += step\\n    return result\\n\\nprint(story(job=\\'king\\',name=\\'Gumby\\'))\\nparams = {\\'job\\':\\'language\\',\\'name\\':\\'Python\\'}\\nprint(story(**params))\\ndel params[\\'job\\']\\nprint(story(job=\\'stroke of genius\\',**params))', '_i7': 'power(2,3)', '_7': 8, '_i8': 'print(power(2,3))\\nprint(power(y=3,x=4))', '_i9': 'print(power(2,3))\\nprint(power(y=3,x=4))\\nparams = (3,) * 2\\nprint(power(*params))', '_i10': \"print(power(2,3))\\nprint(power(y=3,x=4))\\nparams = (3,) * 2\\nprint(power(*params))\\npower(2,3,'Hello world!')\", '_10': 8, '_i11': 'interval(10)', '_11': [0, 1, 2, 3, 4, 5, 6, 7, 8, 9], '_i12': 'print(interval(10))\\nprint(interval(1,2,3))', '_i13': 'print(interval(10))\\nprint(interval(1,20,3))', '_i14': 'print(interval(10))\\nprint(interval(1,20))\\nprint(interval(1,2,3))', '_i15': 'print(interval(10))\\nprint(interval(1,20))\\nprint(interval(1,20,3))', '_i16': 'print(interval(10))\\nprint(interval(1,20))\\nprint(interval(1,20,3))\\nprint(power(*interval(1,6,1)))', '_i17': 'print(interval(10))\\nprint(interval(1,20))\\nprint(interval(1,20,3))\\nprint(power(*interval(2,6,1)))', '_i18': \"x = 1\\nscope = vars(x)\\nscope['x']\", 'x': 2, '_i19': \"x = 1\\nscope = vars()\\nscope['x']\", 'scope': {...}, '_19': 1, '_i20': \"x = 1\\nscope = vars()\\nscope['x']\\nprint(scope)\", '_i21': \"x = 1\\nscope = vars()\\nscope['x']\", '_21': 1, '_i22': \"scope['x'] += 1\\nx\", '_22': 2, '_i23': 'print(scope)'}\n"
     ]
    }
   ],
   "source": [
    "print(scope)            # 你看到了你在这篇文档中目前创建的所有的变量与值!"
   ]
  },
  {
   "cell_type": "markdown",
   "id": "2b4ff72e3c8267a5",
   "metadata": {},
   "source": [
    "- 一般而言,不应修改vars返回的字典,因为根据python官方文档的说法,这样做的结果是不确定的.\n",
    "\n",
    "这种\"看不见的字典\"称为**命名空间**或**作用域**.那么有多少个命名空间呢?除全局作用域外,每个**函数调用**都将创建一个.\n",
    "在函数内部使用的变量称为局部变量(与之相对的是全局变量).参数类似于局部变量,因此参数与全局变量同名不会有任何问题."
   ]
  },
  {
   "cell_type": "code",
   "execution_count": 24,
   "id": "31a20fd0224ffb9f",
   "metadata": {
    "ExecuteTime": {
     "end_time": "2025-03-15T06:56:14.648069Z",
     "start_time": "2025-03-15T06:56:14.645265Z"
    }
   },
   "outputs": [
    {
     "name": "stdout",
     "output_type": "stream",
     "text": [
      "1\n"
     ]
    }
   ],
   "source": [
    "def foo():\n",
    "    x = 10086\n",
    "x = 1\n",
    "foo()\n",
    "print(x)"
   ]
  },
  {
   "cell_type": "code",
   "execution_count": 25,
   "id": "4b785b7c43362cac",
   "metadata": {
    "ExecuteTime": {
     "end_time": "2025-03-15T06:56:46.576379Z",
     "start_time": "2025-03-15T06:56:46.572716Z"
    }
   },
   "outputs": [
    {
     "name": "stdout",
     "output_type": "stream",
     "text": [
      "2\n"
     ]
    }
   ],
   "source": [
    "def output(x):\n",
    "    print(x)\n",
    "x = 1\n",
    "y = 2\n",
    "output(y)"
   ]
  },
  {
   "cell_type": "markdown",
   "id": "538ad436c8b81c28",
   "metadata": {},
   "source": [
    "到目前为止一切顺利.但如果要在函数中访问全局变量呢?如果只是想要**读取**这种变量的值**(而不重新关联它)**,通常不会有任何问题."
   ]
  },
  {
   "cell_type": "code",
   "execution_count": 26,
   "id": "4cb75179d165a037",
   "metadata": {
    "ExecuteTime": {
     "end_time": "2025-03-15T06:59:32.250505Z",
     "start_time": "2025-03-15T06:59:32.246471Z"
    }
   },
   "outputs": [
    {
     "name": "stdout",
     "output_type": "stream",
     "text": [
      "Shrubberry\n"
     ]
    }
   ],
   "source": [
    "def combine(parameter):\n",
    "    print(parameter + external)\n",
    "\n",
    "external = 'berry'\n",
    "combine('Shrub')"
   ]
  },
  {
   "cell_type": "markdown",
   "id": "e8241e0fb834431e",
   "metadata": {},
   "source": [
    "### 像这样访问全局变量是**众多**bug的根源.务必慎用全局变量.\n",
    "### Python的查找变量的机制是:\n",
    "- 优先在本作用域的范围内查找,若找到符合名称的变量后即停止\n",
    "- 若在本作用域内未找到,则扩大至上一层作用域内查找,直至找到为止\n",
    "- 若一直到全局作用域都还未找到,就会报错."
   ]
  },
  {
   "cell_type": "markdown",
   "id": "a73ee8ae47fecad1",
   "metadata": {},
   "source": [
    "我们来介绍一下**globals**(注意有\"s\")函数\n",
    "这个函数类似于vars,返回一个包含全局变量的字典.(locals返回一个包含局部变量的字典)"
   ]
  },
  {
   "cell_type": "code",
   "execution_count": 29,
   "id": "33a57478f7f3d800",
   "metadata": {
    "ExecuteTime": {
     "end_time": "2025-03-15T07:09:50.799311Z",
     "start_time": "2025-03-15T07:09:50.795248Z"
    }
   },
   "outputs": [
    {
     "name": "stdout",
     "output_type": "stream",
     "text": [
      "ShrubShrub\n",
      "Shrubberry\n"
     ]
    }
   ],
   "source": [
    "def combine_fail(parameter):\n",
    "    print(parameter + parameter)\n",
    "parameter = 'berry'\n",
    "combine_fail('Shrub')\n",
    "\n",
    "def combine(parameter):\n",
    "    print(parameter + globals()['parameter'])           # 字典的用法!!\n",
    "parameter = 'berry'\n",
    "combine('Shrub')"
   ]
  },
  {
   "cell_type": "code",
   "execution_count": 31,
   "id": "fb3dc51f574d10e3",
   "metadata": {
    "ExecuteTime": {
     "end_time": "2025-03-15T07:10:21.259440Z",
     "start_time": "2025-03-15T07:10:21.256423Z"
    }
   },
   "outputs": [
    {
     "name": "stdout",
     "output_type": "stream",
     "text": [
      "{'__name__': '__main__', '__doc__': 'Automatically created module for IPython interactive environment', '__package__': None, '__loader__': None, '__spec__': None, '__builtin__': <module 'builtins' (built-in)>, '__builtins__': <module 'builtins' (built-in)>, '_ih': ['', 'def story(**kwds):\\n    return \\'Once upon a time, there was a \\' \\\\\\n            \\'{job} called {name}.\\'.format_map(kwds)         # 通过字典格式化\\n\\ndef power(x,y,*others):\\n    if others:\\n        print(\"Received redundant parameters:\",others)\\n        return pow(x,y)\\n\\ndef interval(start,stop=None,step=1):\\n    \\'Imitate range() for step > 0\\'\\n    if stop is None:\\n        start , stop = 0, start\\n    result = []\\n\\n    i = start\\n    while i < stop:\\n        result.append(i)\\n        i += step\\n    return result\\n\\nprint(story(job=\\'king\\',name=\\'Gumby\\'))', 'def story(**kwds):\\n    return \\'Once upon a time, there was a \\' \\\\\\n            \\'{job} called {name}.\\'.format_map(kwds)         # 通过字典格式化\\n\\ndef power(x,y,*others):\\n    if others:\\n        print(\"Received redundant parameters:\",others)\\n        return pow(x,y)\\n\\ndef interval(start,stop=None,step=1):\\n    \\'Imitate range() for step > 0\\'\\n    if stop is None:\\n        start , stop = 0, start\\n    result = []\\n\\n    i = start\\n    while i < stop:\\n        result.append(i)\\n        i += step\\n    return result\\n\\nprint(story(job=\\'king\\',name=\\'Gumby\\'))\\nparams = {\\'job\\':\\'language\\',\\'name\\':\\'Python\\'}\\nprint(story(**params))', 'def story(**kwds):\\n    return \\'Once upon a time, there was a \\' \\\\\\n            \\'{job} called {name}.\\'.format_map(kwds)         # 通过字典格式化\\n\\ndef power(x,y,*others):\\n    if others:\\n        print(\"Received redundant parameters:\",others)\\n        return pow(x,y)\\n\\ndef interval(start,stop=None,step=1):\\n    \\'Imitate range() for step > 0\\'\\n    if stop is None:\\n        start , stop = 0, start\\n    result = []\\n\\n    i = start\\n    while i < stop:\\n        result.append(i)\\n        i += step\\n    return result\\n\\nprint(story(job=\\'king\\',name=\\'Gumby\\'))\\nparams = {\\'job\\':\\'language\\',\\'name\\':\\'Python\\'}\\nprint(story(**params))\\ndel params[\\'job\\']\\nprint(params)', 'def story(**kwds):\\n    return \\'Once upon a time, there was a \\' \\\\\\n            \\'{job} called {name}.\\'.format_map(kwds)         # 通过字典格式化\\n\\ndef power(x,y,*others):\\n    if others:\\n        print(\"Received redundant parameters:\",others)\\n        return pow(x,y)\\n\\ndef interval(start,stop=None,step=1):\\n    \\'Imitate range() for step > 0\\'\\n    if stop is None:\\n        start , stop = 0, start\\n    result = []\\n\\n    i = start\\n    while i < stop:\\n        result.append(i)\\n        i += step\\n    return result\\n\\nprint(story(job=\\'king\\',name=\\'Gumby\\'))\\nparams = {\\'job\\':\\'language\\',\\'name\\':\\'Python\\'}\\nprint(story(**params))\\ndel params[\\'job\\']\\nprint(story(job=\\'stroke of genius\\',**params))', 'power(2,3)', 'def story(**kwds):\\n    return \\'Once upon a time, there was a \\' \\\\\\n            \\'{job} called {name}.\\'.format_map(kwds)         # 通过字典格式化\\n\\ndef power(x,y,*others):\\n    if others:\\n        print(\"Received redundant parameters:\",others)\\n    return pow(x,y)\\n\\ndef interval(start,stop=None,step=1):\\n    \\'Imitate range() for step > 0\\'\\n    if stop is None:\\n        start , stop = 0, start\\n    result = []\\n\\n    i = start\\n    while i < stop:\\n        result.append(i)\\n        i += step\\n    return result\\n\\nprint(story(job=\\'king\\',name=\\'Gumby\\'))\\nparams = {\\'job\\':\\'language\\',\\'name\\':\\'Python\\'}\\nprint(story(**params))\\ndel params[\\'job\\']\\nprint(story(job=\\'stroke of genius\\',**params))', 'power(2,3)', 'print(power(2,3))\\nprint(power(y=3,x=4))', 'print(power(2,3))\\nprint(power(y=3,x=4))\\nparams = (3,) * 2\\nprint(power(*params))', \"print(power(2,3))\\nprint(power(y=3,x=4))\\nparams = (3,) * 2\\nprint(power(*params))\\npower(2,3,'Hello world!')\", 'interval(10)', 'print(interval(10))\\nprint(interval(1,2,3))', 'print(interval(10))\\nprint(interval(1,20,3))', 'print(interval(10))\\nprint(interval(1,20))\\nprint(interval(1,2,3))', 'print(interval(10))\\nprint(interval(1,20))\\nprint(interval(1,20,3))', 'print(interval(10))\\nprint(interval(1,20))\\nprint(interval(1,20,3))\\nprint(power(*interval(1,6,1)))', 'print(interval(10))\\nprint(interval(1,20))\\nprint(interval(1,20,3))\\nprint(power(*interval(2,6,1)))', \"x = 1\\nscope = vars(x)\\nscope['x']\", \"x = 1\\nscope = vars()\\nscope['x']\", \"x = 1\\nscope = vars()\\nscope['x']\\nprint(scope)\", \"x = 1\\nscope = vars()\\nscope['x']\", \"scope['x'] += 1\\nx\", 'print(scope)', 'def foo():\\n    x = 10086\\nx = 1\\nfoo()\\nprint(x)', 'def output(x):\\n    print(x)\\nx = 1\\ny = 2\\noutput(y)', \"def combine(parameter):\\n    print(parameter + external)\\n\\nexternal = 'berry'\\ncombine('Shrub')\", \"def combine(parameter):\\n    print(parameter + globals()['parameter'])\\n\\nparameter = 'berry'\\ncombine('Shrub')\", \"def combine(parameter):\\n    print(parameter + parameter)\\nparameter = 'berry'\\ncombine('Shrub')\", \"def combine_fail(parameter):\\n    print(parameter + parameter)\\nparameter = 'berry'\\ncombine_fail('Shrub')\\ndef combine(parameter):\\n    print(parameter + globals()['parameter'])\\nparameter = 'berry'\\ncombine('Shrub')\", \"print(globals()['parameter'])\", 'print(globals())'], '_oh': {7: 8, 10: 8, 11: [0, 1, 2, 3, 4, 5, 6, 7, 8, 9], 19: 1, 21: 1, 22: 2}, '_dh': [WindowsPath('D:/Myself/Codefield/Code_Python/Code_Ai_Python/Python_Self_Learning')], 'In': ['', 'def story(**kwds):\\n    return \\'Once upon a time, there was a \\' \\\\\\n            \\'{job} called {name}.\\'.format_map(kwds)         # 通过字典格式化\\n\\ndef power(x,y,*others):\\n    if others:\\n        print(\"Received redundant parameters:\",others)\\n        return pow(x,y)\\n\\ndef interval(start,stop=None,step=1):\\n    \\'Imitate range() for step > 0\\'\\n    if stop is None:\\n        start , stop = 0, start\\n    result = []\\n\\n    i = start\\n    while i < stop:\\n        result.append(i)\\n        i += step\\n    return result\\n\\nprint(story(job=\\'king\\',name=\\'Gumby\\'))', 'def story(**kwds):\\n    return \\'Once upon a time, there was a \\' \\\\\\n            \\'{job} called {name}.\\'.format_map(kwds)         # 通过字典格式化\\n\\ndef power(x,y,*others):\\n    if others:\\n        print(\"Received redundant parameters:\",others)\\n        return pow(x,y)\\n\\ndef interval(start,stop=None,step=1):\\n    \\'Imitate range() for step > 0\\'\\n    if stop is None:\\n        start , stop = 0, start\\n    result = []\\n\\n    i = start\\n    while i < stop:\\n        result.append(i)\\n        i += step\\n    return result\\n\\nprint(story(job=\\'king\\',name=\\'Gumby\\'))\\nparams = {\\'job\\':\\'language\\',\\'name\\':\\'Python\\'}\\nprint(story(**params))', 'def story(**kwds):\\n    return \\'Once upon a time, there was a \\' \\\\\\n            \\'{job} called {name}.\\'.format_map(kwds)         # 通过字典格式化\\n\\ndef power(x,y,*others):\\n    if others:\\n        print(\"Received redundant parameters:\",others)\\n        return pow(x,y)\\n\\ndef interval(start,stop=None,step=1):\\n    \\'Imitate range() for step > 0\\'\\n    if stop is None:\\n        start , stop = 0, start\\n    result = []\\n\\n    i = start\\n    while i < stop:\\n        result.append(i)\\n        i += step\\n    return result\\n\\nprint(story(job=\\'king\\',name=\\'Gumby\\'))\\nparams = {\\'job\\':\\'language\\',\\'name\\':\\'Python\\'}\\nprint(story(**params))\\ndel params[\\'job\\']\\nprint(params)', 'def story(**kwds):\\n    return \\'Once upon a time, there was a \\' \\\\\\n            \\'{job} called {name}.\\'.format_map(kwds)         # 通过字典格式化\\n\\ndef power(x,y,*others):\\n    if others:\\n        print(\"Received redundant parameters:\",others)\\n        return pow(x,y)\\n\\ndef interval(start,stop=None,step=1):\\n    \\'Imitate range() for step > 0\\'\\n    if stop is None:\\n        start , stop = 0, start\\n    result = []\\n\\n    i = start\\n    while i < stop:\\n        result.append(i)\\n        i += step\\n    return result\\n\\nprint(story(job=\\'king\\',name=\\'Gumby\\'))\\nparams = {\\'job\\':\\'language\\',\\'name\\':\\'Python\\'}\\nprint(story(**params))\\ndel params[\\'job\\']\\nprint(story(job=\\'stroke of genius\\',**params))', 'power(2,3)', 'def story(**kwds):\\n    return \\'Once upon a time, there was a \\' \\\\\\n            \\'{job} called {name}.\\'.format_map(kwds)         # 通过字典格式化\\n\\ndef power(x,y,*others):\\n    if others:\\n        print(\"Received redundant parameters:\",others)\\n    return pow(x,y)\\n\\ndef interval(start,stop=None,step=1):\\n    \\'Imitate range() for step > 0\\'\\n    if stop is None:\\n        start , stop = 0, start\\n    result = []\\n\\n    i = start\\n    while i < stop:\\n        result.append(i)\\n        i += step\\n    return result\\n\\nprint(story(job=\\'king\\',name=\\'Gumby\\'))\\nparams = {\\'job\\':\\'language\\',\\'name\\':\\'Python\\'}\\nprint(story(**params))\\ndel params[\\'job\\']\\nprint(story(job=\\'stroke of genius\\',**params))', 'power(2,3)', 'print(power(2,3))\\nprint(power(y=3,x=4))', 'print(power(2,3))\\nprint(power(y=3,x=4))\\nparams = (3,) * 2\\nprint(power(*params))', \"print(power(2,3))\\nprint(power(y=3,x=4))\\nparams = (3,) * 2\\nprint(power(*params))\\npower(2,3,'Hello world!')\", 'interval(10)', 'print(interval(10))\\nprint(interval(1,2,3))', 'print(interval(10))\\nprint(interval(1,20,3))', 'print(interval(10))\\nprint(interval(1,20))\\nprint(interval(1,2,3))', 'print(interval(10))\\nprint(interval(1,20))\\nprint(interval(1,20,3))', 'print(interval(10))\\nprint(interval(1,20))\\nprint(interval(1,20,3))\\nprint(power(*interval(1,6,1)))', 'print(interval(10))\\nprint(interval(1,20))\\nprint(interval(1,20,3))\\nprint(power(*interval(2,6,1)))', \"x = 1\\nscope = vars(x)\\nscope['x']\", \"x = 1\\nscope = vars()\\nscope['x']\", \"x = 1\\nscope = vars()\\nscope['x']\\nprint(scope)\", \"x = 1\\nscope = vars()\\nscope['x']\", \"scope['x'] += 1\\nx\", 'print(scope)', 'def foo():\\n    x = 10086\\nx = 1\\nfoo()\\nprint(x)', 'def output(x):\\n    print(x)\\nx = 1\\ny = 2\\noutput(y)', \"def combine(parameter):\\n    print(parameter + external)\\n\\nexternal = 'berry'\\ncombine('Shrub')\", \"def combine(parameter):\\n    print(parameter + globals()['parameter'])\\n\\nparameter = 'berry'\\ncombine('Shrub')\", \"def combine(parameter):\\n    print(parameter + parameter)\\nparameter = 'berry'\\ncombine('Shrub')\", \"def combine_fail(parameter):\\n    print(parameter + parameter)\\nparameter = 'berry'\\ncombine_fail('Shrub')\\ndef combine(parameter):\\n    print(parameter + globals()['parameter'])\\nparameter = 'berry'\\ncombine('Shrub')\", \"print(globals()['parameter'])\", 'print(globals())'], 'Out': {7: 8, 10: 8, 11: [0, 1, 2, 3, 4, 5, 6, 7, 8, 9], 19: 1, 21: 1, 22: 2}, 'get_ipython': <bound method InteractiveShell.get_ipython of <ipykernel.zmqshell.ZMQInteractiveShell object at 0x0000025C8F108FB0>>, 'exit': <IPython.core.autocall.ZMQExitAutocall object at 0x0000025C8F161C10>, 'quit': <IPython.core.autocall.ZMQExitAutocall object at 0x0000025C8F161C10>, 'open': <function open at 0x0000025C8D23CD60>, '_': 2, '__': 1, '___': 1, '__session__': 'Python_Self_Learning/abstraction.ipynb', '_i': \"print(globals()['parameter'])\", '_ii': \"def combine_fail(parameter):\\n    print(parameter + parameter)\\nparameter = 'berry'\\ncombine_fail('Shrub')\\ndef combine(parameter):\\n    print(parameter + globals()['parameter'])\\nparameter = 'berry'\\ncombine('Shrub')\", '_iii': \"def combine(parameter):\\n    print(parameter + parameter)\\nparameter = 'berry'\\ncombine('Shrub')\", '_i1': 'def story(**kwds):\\n    return \\'Once upon a time, there was a \\' \\\\\\n            \\'{job} called {name}.\\'.format_map(kwds)         # 通过字典格式化\\n\\ndef power(x,y,*others):\\n    if others:\\n        print(\"Received redundant parameters:\",others)\\n        return pow(x,y)\\n\\ndef interval(start,stop=None,step=1):\\n    \\'Imitate range() for step > 0\\'\\n    if stop is None:\\n        start , stop = 0, start\\n    result = []\\n\\n    i = start\\n    while i < stop:\\n        result.append(i)\\n        i += step\\n    return result\\n\\nprint(story(job=\\'king\\',name=\\'Gumby\\'))', 'story': <function story at 0x0000025C8F458C20>, 'power': <function power at 0x0000025C8F4594E0>, 'interval': <function interval at 0x0000025C8F459440>, 'sys': <module 'sys' (built-in)>, 'remove_imported_pydev_package': <function remove_imported_pydev_package at 0x0000025C8F459940>, '_pydevd_bundle': <module '_pydevd_bundle' from 'D:\\\\Own_Download\\\\PyCharm 2024.3.3\\\\plugins\\\\python-ce\\\\helpers\\\\pydev\\\\_pydevd_bundle\\\\__init__.py'>, 'pydev_jupyter_vars': <module 'pydev_jupyter_vars' from 'D:\\\\Own_Download\\\\PyCharm 2024.3.3\\\\plugins\\\\python\\\\helpers-pro\\\\jupyter_debug\\\\pydev_jupyter_vars.py'>, '_i2': 'def story(**kwds):\\n    return \\'Once upon a time, there was a \\' \\\\\\n            \\'{job} called {name}.\\'.format_map(kwds)         # 通过字典格式化\\n\\ndef power(x,y,*others):\\n    if others:\\n        print(\"Received redundant parameters:\",others)\\n        return pow(x,y)\\n\\ndef interval(start,stop=None,step=1):\\n    \\'Imitate range() for step > 0\\'\\n    if stop is None:\\n        start , stop = 0, start\\n    result = []\\n\\n    i = start\\n    while i < stop:\\n        result.append(i)\\n        i += step\\n    return result\\n\\nprint(story(job=\\'king\\',name=\\'Gumby\\'))\\nparams = {\\'job\\':\\'language\\',\\'name\\':\\'Python\\'}\\nprint(story(**params))', 'params': (3, 3), '_i3': 'def story(**kwds):\\n    return \\'Once upon a time, there was a \\' \\\\\\n            \\'{job} called {name}.\\'.format_map(kwds)         # 通过字典格式化\\n\\ndef power(x,y,*others):\\n    if others:\\n        print(\"Received redundant parameters:\",others)\\n        return pow(x,y)\\n\\ndef interval(start,stop=None,step=1):\\n    \\'Imitate range() for step > 0\\'\\n    if stop is None:\\n        start , stop = 0, start\\n    result = []\\n\\n    i = start\\n    while i < stop:\\n        result.append(i)\\n        i += step\\n    return result\\n\\nprint(story(job=\\'king\\',name=\\'Gumby\\'))\\nparams = {\\'job\\':\\'language\\',\\'name\\':\\'Python\\'}\\nprint(story(**params))\\ndel params[\\'job\\']\\nprint(params)', '_i4': 'def story(**kwds):\\n    return \\'Once upon a time, there was a \\' \\\\\\n            \\'{job} called {name}.\\'.format_map(kwds)         # 通过字典格式化\\n\\ndef power(x,y,*others):\\n    if others:\\n        print(\"Received redundant parameters:\",others)\\n        return pow(x,y)\\n\\ndef interval(start,stop=None,step=1):\\n    \\'Imitate range() for step > 0\\'\\n    if stop is None:\\n        start , stop = 0, start\\n    result = []\\n\\n    i = start\\n    while i < stop:\\n        result.append(i)\\n        i += step\\n    return result\\n\\nprint(story(job=\\'king\\',name=\\'Gumby\\'))\\nparams = {\\'job\\':\\'language\\',\\'name\\':\\'Python\\'}\\nprint(story(**params))\\ndel params[\\'job\\']\\nprint(story(job=\\'stroke of genius\\',**params))', '_i5': 'power(2,3)', '_i6': 'def story(**kwds):\\n    return \\'Once upon a time, there was a \\' \\\\\\n            \\'{job} called {name}.\\'.format_map(kwds)         # 通过字典格式化\\n\\ndef power(x,y,*others):\\n    if others:\\n        print(\"Received redundant parameters:\",others)\\n    return pow(x,y)\\n\\ndef interval(start,stop=None,step=1):\\n    \\'Imitate range() for step > 0\\'\\n    if stop is None:\\n        start , stop = 0, start\\n    result = []\\n\\n    i = start\\n    while i < stop:\\n        result.append(i)\\n        i += step\\n    return result\\n\\nprint(story(job=\\'king\\',name=\\'Gumby\\'))\\nparams = {\\'job\\':\\'language\\',\\'name\\':\\'Python\\'}\\nprint(story(**params))\\ndel params[\\'job\\']\\nprint(story(job=\\'stroke of genius\\',**params))', '_i7': 'power(2,3)', '_7': 8, '_i8': 'print(power(2,3))\\nprint(power(y=3,x=4))', '_i9': 'print(power(2,3))\\nprint(power(y=3,x=4))\\nparams = (3,) * 2\\nprint(power(*params))', '_i10': \"print(power(2,3))\\nprint(power(y=3,x=4))\\nparams = (3,) * 2\\nprint(power(*params))\\npower(2,3,'Hello world!')\", '_10': 8, '_i11': 'interval(10)', '_11': [0, 1, 2, 3, 4, 5, 6, 7, 8, 9], '_i12': 'print(interval(10))\\nprint(interval(1,2,3))', '_i13': 'print(interval(10))\\nprint(interval(1,20,3))', '_i14': 'print(interval(10))\\nprint(interval(1,20))\\nprint(interval(1,2,3))', '_i15': 'print(interval(10))\\nprint(interval(1,20))\\nprint(interval(1,20,3))', '_i16': 'print(interval(10))\\nprint(interval(1,20))\\nprint(interval(1,20,3))\\nprint(power(*interval(1,6,1)))', '_i17': 'print(interval(10))\\nprint(interval(1,20))\\nprint(interval(1,20,3))\\nprint(power(*interval(2,6,1)))', '_i18': \"x = 1\\nscope = vars(x)\\nscope['x']\", 'x': 1, '_i19': \"x = 1\\nscope = vars()\\nscope['x']\", 'scope': {...}, '_19': 1, '_i20': \"x = 1\\nscope = vars()\\nscope['x']\\nprint(scope)\", '_i21': \"x = 1\\nscope = vars()\\nscope['x']\", '_21': 1, '_i22': \"scope['x'] += 1\\nx\", '_22': 2, '_i23': 'print(scope)', '_i24': 'def foo():\\n    x = 10086\\nx = 1\\nfoo()\\nprint(x)', 'foo': <function foo at 0x0000025C8F458EA0>, '_i25': 'def output(x):\\n    print(x)\\nx = 1\\ny = 2\\noutput(y)', 'output': <function output at 0x0000025C8F459120>, 'y': 2, '_i26': \"def combine(parameter):\\n    print(parameter + external)\\n\\nexternal = 'berry'\\ncombine('Shrub')\", 'combine': <function combine at 0x0000025C8F6A80E0>, 'external': 'berry', '_i27': \"def combine(parameter):\\n    print(parameter + globals()['parameter'])\\n\\nparameter = 'berry'\\ncombine('Shrub')\", 'parameter': 'berry', '_i28': \"def combine(parameter):\\n    print(parameter + parameter)\\nparameter = 'berry'\\ncombine('Shrub')\", '_i29': \"def combine_fail(parameter):\\n    print(parameter + parameter)\\nparameter = 'berry'\\ncombine_fail('Shrub')\\ndef combine(parameter):\\n    print(parameter + globals()['parameter'])\\nparameter = 'berry'\\ncombine('Shrub')\", 'combine_fail': <function combine_fail at 0x0000025C8F6A9C60>, '_i30': \"print(globals()['parameter'])\", '_i31': 'print(globals())'}\n"
     ]
    }
   ],
   "source": [
    "print(globals())            # 不要被吓到,这就是一个字典!!"
   ]
  },
  {
   "cell_type": "markdown",
   "id": "703a629645d42cc9",
   "metadata": {},
   "source": [
    "但如果你想要**重新关联**全局变量(使其指向新值)该怎么办呢?\n",
    "在函数内部给变量赋值时,该变量默认为局部变量,除非你明确地告诉Python它是全局变量.这就需要用到\"global\"语句."
   ]
  },
  {
   "cell_type": "code",
   "execution_count": 32,
   "id": "394ee4d2dad34cf3",
   "metadata": {
    "ExecuteTime": {
     "end_time": "2025-03-15T07:12:26.827350Z",
     "start_time": "2025-03-15T07:12:26.822774Z"
    }
   },
   "outputs": [
    {
     "data": {
      "text/plain": [
       "2"
      ]
     },
     "execution_count": 32,
     "metadata": {},
     "output_type": "execute_result"
    }
   ],
   "source": [
    "x = 1\n",
    "def change_global():\n",
    "    global x\n",
    "    x = x + 1\n",
    "change_global()\n",
    "x"
   ]
  },
  {
   "cell_type": "markdown",
   "id": "f6545ce4a8a185d9",
   "metadata": {},
   "source": [
    "## 作用域嵌套\n",
    "Python函数可以嵌套,即可将一个函数放在另一个函数内,如下所示:"
   ]
  },
  {
   "cell_type": "code",
   "execution_count": 33,
   "id": "b49ecd6cafce68e4",
   "metadata": {
    "ExecuteTime": {
     "end_time": "2025-03-15T07:15:25.857422Z",
     "start_time": "2025-03-15T07:15:25.852964Z"
    }
   },
   "outputs": [
    {
     "name": "stdout",
     "output_type": "stream",
     "text": [
      "Hello, world!\n"
     ]
    }
   ],
   "source": [
    "def foo():\n",
    "    def bar():\n",
    "        print(\"Hello, world!\")\n",
    "    bar()\n",
    "\n",
    "foo()"
   ]
  },
  {
   "cell_type": "markdown",
   "id": "850e073712a3a7f8",
   "metadata": {},
   "source": [
    "嵌套通常用处不大,但有一个很突出的用途:**使用一个函数来创建另一个函数**.这意味着可以像下面一样编写函数:"
   ]
  },
  {
   "cell_type": "code",
   "execution_count": 35,
   "id": "7ef111c20e0876a2",
   "metadata": {
    "ExecuteTime": {
     "end_time": "2025-03-15T07:22:41.510948Z",
     "start_time": "2025-03-15T07:22:41.507415Z"
    }
   },
   "outputs": [],
   "source": [
    "def multiplier(factor):\n",
    "    def multiplyByFactor(number):\n",
    "        return number * factor\n",
    "    return multiplyByFactor"
   ]
  },
  {
   "cell_type": "markdown",
   "id": "c425a6b2b04c4c6",
   "metadata": {},
   "source": [
    "在这里,一个函数位于另一个函数中,且外面的函数返回**一个函数**,而**不是**调用它!\n",
    "重要的是,返回的函数能够访问其定义所在的作用域.换而言之,它携带着自己所在的环境(和相关的局部变量).\n",
    "每当外部函数被调用时,都将重新定义内部的函数,而变量factor的值也可能不同.由于Python的嵌套作用域,可在内部函数中访问这个来自外部局部作用域(这里是multiplier)的变量,如下所示:"
   ]
  },
  {
   "cell_type": "code",
   "execution_count": 38,
   "id": "13b5b79fc584fbcf",
   "metadata": {
    "ExecuteTime": {
     "end_time": "2025-03-15T07:22:53.164496Z",
     "start_time": "2025-03-15T07:22:53.161185Z"
    }
   },
   "outputs": [
    {
     "data": {
      "text/plain": [
       "10"
      ]
     },
     "execution_count": 38,
     "metadata": {},
     "output_type": "execute_result"
    }
   ],
   "source": [
    "double = multiplier(2)\n",
    "double(5)"
   ]
  },
  {
   "cell_type": "code",
   "execution_count": 39,
   "id": "4b2e0a5250b8d93f",
   "metadata": {
    "ExecuteTime": {
     "end_time": "2025-03-15T07:23:00.163838Z",
     "start_time": "2025-03-15T07:23:00.160319Z"
    }
   },
   "outputs": [
    {
     "data": {
      "text/plain": [
       "15"
      ]
     },
     "execution_count": 39,
     "metadata": {},
     "output_type": "execute_result"
    }
   ],
   "source": [
    "triple = multiplier(3)\n",
    "triple(5)"
   ]
  },
  {
   "cell_type": "code",
   "execution_count": 40,
   "id": "f39ed5041f0caa19",
   "metadata": {
    "ExecuteTime": {
     "end_time": "2025-03-15T07:23:17.248725Z",
     "start_time": "2025-03-15T07:23:17.245057Z"
    }
   },
   "outputs": [
    {
     "data": {
      "text/plain": [
       "70"
      ]
     },
     "execution_count": 40,
     "metadata": {},
     "output_type": "execute_result"
    }
   ],
   "source": [
    "multiplier(10)(7)"
   ]
  },
  {
   "cell_type": "markdown",
   "id": "d8076d2ca4201472",
   "metadata": {},
   "source": [
    "像multiplyByFactor这样储存其所在作用域的函数称为**闭包**\n",
    "通常,不可以给外部作用域内的变量赋值,但如果一定要这么做,可使用关键字\"nonlocal\".这个关键字的用法与global很像,让你能够给外部作用域(非全局作用域)内的变量赋值."
   ]
  },
  {
   "cell_type": "markdown",
   "id": "5691015650529d1d",
   "metadata": {},
   "source": [
    "## 递归\n",
    "前面深入介绍了如何创建函数和调用函数.函数可调用其他函数,而其实,函数也可调用**自己**!\n",
    "我们给出递归的一个非常stupid的定义:\n",
    "递归[名词]:参见\"递归\".\n",
    "你明白了吗?\n",
    "下面我们通过数据结构里的一个例子来感受一下:"
   ]
  },
  {
   "cell_type": "code",
   "execution_count": 43,
   "id": "d4ef1d79c171b7d2",
   "metadata": {
    "ExecuteTime": {
     "end_time": "2025-03-15T07:31:48.718972Z",
     "start_time": "2025-03-15T07:31:48.715351Z"
    }
   },
   "outputs": [
    {
     "data": {
      "text/plain": [
       "[1, 2, 3, [...]]"
      ]
     },
     "execution_count": 43,
     "metadata": {},
     "output_type": "execute_result"
    }
   ],
   "source": [
    "ls = [1,2,3,4]\n",
    "ls[3] = ls\n",
    "ls"
   ]
  },
  {
   "cell_type": "markdown",
   "id": "ca1c202991a7ee76",
   "metadata": {},
   "source": [
    "[...]中是什么呢?我们通过索引来看看!"
   ]
  },
  {
   "cell_type": "code",
   "execution_count": 44,
   "id": "5e31c2087e71c3e0",
   "metadata": {
    "ExecuteTime": {
     "end_time": "2025-03-15T07:32:33.164205Z",
     "start_time": "2025-03-15T07:32:33.160671Z"
    }
   },
   "outputs": [
    {
     "data": {
      "text/plain": [
       "[1, 2, 3, [...]]"
      ]
     },
     "execution_count": 44,
     "metadata": {},
     "output_type": "execute_result"
    }
   ],
   "source": [
    "ls[3]           # 这不奇怪,因为是我们将ls[3]赋值为ls的嘛"
   ]
  },
  {
   "cell_type": "code",
   "execution_count": 45,
   "id": "45058396975a3d78",
   "metadata": {
    "ExecuteTime": {
     "end_time": "2025-03-15T07:33:33.455289Z",
     "start_time": "2025-03-15T07:33:33.451750Z"
    }
   },
   "outputs": [
    {
     "data": {
      "text/plain": [
       "[1, 2, 3, [...]]"
      ]
     },
     "execution_count": 45,
     "metadata": {},
     "output_type": "execute_result"
    }
   ],
   "source": [
    "ls[3][3]"
   ]
  },
  {
   "cell_type": "code",
   "execution_count": 46,
   "id": "2233c16d5970f172",
   "metadata": {
    "ExecuteTime": {
     "end_time": "2025-03-15T07:33:54.096371Z",
     "start_time": "2025-03-15T07:33:54.092714Z"
    }
   },
   "outputs": [
    {
     "data": {
      "text/plain": [
       "[1, 2, 3, [...]]"
      ]
     },
     "execution_count": 46,
     "metadata": {},
     "output_type": "execute_result"
    }
   ],
   "source": [
    "ls[3][3][3][3][3][3][3][3][3][3][3][3][3][3]"
   ]
  },
  {
   "cell_type": "markdown",
   "id": "a9afa69ce24da99a",
   "metadata": {},
   "source": [
    "这就是递归了,这有些类似于当你使用录屏软件查看自己的录屏一样出现的情况. 这种递归称为**无穷递归**,因为它从理论上永远不会结束.这显然不是我们在函数中期望看到的:"
   ]
  },
  {
   "cell_type": "code",
   "execution_count": 47,
   "id": "9b3c0d459c925a42",
   "metadata": {
    "ExecuteTime": {
     "end_time": "2025-03-15T07:37:05.869301Z",
     "start_time": "2025-03-15T07:37:05.233873Z"
    }
   },
   "outputs": [
    {
     "ename": "RecursionError",
     "evalue": "maximum recursion depth exceeded",
     "output_type": "error",
     "traceback": [
      "\u001b[1;31m---------------------------------------------------------------------------\u001b[0m",
      "\u001b[1;31mRecursionError\u001b[0m                            Traceback (most recent call last)",
      "Cell \u001b[1;32mIn[47], line 4\u001b[0m\n\u001b[0;32m      1\u001b[0m \u001b[38;5;28;01mdef\u001b[39;00m \u001b[38;5;21mrecursion\u001b[39m():\n\u001b[0;32m      2\u001b[0m     recursion()\n\u001b[1;32m----> 4\u001b[0m recursion()\n",
      "Cell \u001b[1;32mIn[47], line 2\u001b[0m, in \u001b[0;36mrecursion\u001b[1;34m()\u001b[0m\n\u001b[0;32m      1\u001b[0m \u001b[38;5;28;01mdef\u001b[39;00m \u001b[38;5;21mrecursion\u001b[39m():\n\u001b[1;32m----> 2\u001b[0m     recursion()\n",
      "Cell \u001b[1;32mIn[47], line 2\u001b[0m, in \u001b[0;36mrecursion\u001b[1;34m()\u001b[0m\n\u001b[0;32m      1\u001b[0m \u001b[38;5;28;01mdef\u001b[39;00m \u001b[38;5;21mrecursion\u001b[39m():\n\u001b[1;32m----> 2\u001b[0m     recursion()\n",
      "    \u001b[1;31m[... skipping similar frames: recursion at line 2 (2974 times)]\u001b[0m\n",
      "Cell \u001b[1;32mIn[47], line 2\u001b[0m, in \u001b[0;36mrecursion\u001b[1;34m()\u001b[0m\n\u001b[0;32m      1\u001b[0m \u001b[38;5;28;01mdef\u001b[39;00m \u001b[38;5;21mrecursion\u001b[39m():\n\u001b[1;32m----> 2\u001b[0m     recursion()\n",
      "\u001b[1;31mRecursionError\u001b[0m: maximum recursion depth exceeded"
     ]
    }
   ],
   "source": [
    "def recursion():\n",
    "    recursion()\n",
    "\n",
    "recursion()"
   ]
  },
  {
   "cell_type": "markdown",
   "id": "b60916dba7e15236",
   "metadata": {},
   "source": [
    "RecursionError: maximum recursion depth exceeded\n",
    "Python为函数设置了最大递归深度,因为无穷的递归将占用大量的内存导致程序崩溃.\n",
    "你想要的是能够对你有所帮助的递归函数,这样的递归函数通常包含下面两部分:\n",
    "- 基线条件(针对最小的问题):满足这种条件时函数将直接返回一个值(我们也形象地称其为\"出口\")\n",
    "- 递归条件:包含一个或多个调用,这些调用旨在解决**问题的一部分**\n",
    "\n",
    "下面我们来看两个经典的递归例子:"
   ]
  },
  {
   "cell_type": "code",
   "execution_count": 50,
   "id": "28a170bb8cc35a5f",
   "metadata": {
    "ExecuteTime": {
     "end_time": "2025-03-15T07:43:52.048887Z",
     "start_time": "2025-03-15T07:43:52.044955Z"
    }
   },
   "outputs": [
    {
     "data": {
      "text/plain": [
       "8"
      ]
     },
     "execution_count": 50,
     "metadata": {},
     "output_type": "execute_result"
    }
   ],
   "source": [
    "# 阶乘\n",
    "def factorial(n):\n",
    "    if n == 0:\n",
    "        return 1\n",
    "    else:\n",
    "        return n * factorial(n-1)\n",
    "factorial(5)\n",
    "\n",
    "def power(x,n):\n",
    "    if n == 0:\n",
    "        return 1\n",
    "    else:\n",
    "        return x * power(x,n-1)\n",
    "power(2,3)"
   ]
  },
  {
   "cell_type": "code",
   "execution_count": 58,
   "id": "e76054951fad7fc9",
   "metadata": {
    "ExecuteTime": {
     "end_time": "2025-03-15T08:01:29.607731Z",
     "start_time": "2025-03-15T08:01:29.582054Z"
    }
   },
   "outputs": [
    {
     "name": "stdout",
     "output_type": "stream",
     "text": [
      "2\n",
      "5\n"
     ]
    },
    {
     "ename": "AssertionError",
     "evalue": "很遗憾,数列里没有这个数!",
     "output_type": "error",
     "traceback": [
      "\u001b[1;31m---------------------------------------------------------------------------\u001b[0m",
      "\u001b[1;31mAssertionError\u001b[0m                            Traceback (most recent call last)",
      "Cell \u001b[1;32mIn[58], line 18\u001b[0m\n\u001b[0;32m     16\u001b[0m \u001b[38;5;28mprint\u001b[39m(search(seq,\u001b[38;5;241m34\u001b[39m))\n\u001b[0;32m     17\u001b[0m \u001b[38;5;28mprint\u001b[39m(search(seq,\u001b[38;5;241m100\u001b[39m))\n\u001b[1;32m---> 18\u001b[0m \u001b[38;5;28mprint\u001b[39m(search(seq,\u001b[38;5;241m101\u001b[39m))\n",
      "Cell \u001b[1;32mIn[58], line 11\u001b[0m, in \u001b[0;36msearch\u001b[1;34m(seq, num, lower, upper)\u001b[0m\n\u001b[0;32m      9\u001b[0m mid \u001b[38;5;241m=\u001b[39m (lower \u001b[38;5;241m+\u001b[39m upper) \u001b[38;5;241m/\u001b[39m\u001b[38;5;241m/\u001b[39m \u001b[38;5;241m2\u001b[39m\n\u001b[0;32m     10\u001b[0m \u001b[38;5;28;01mif\u001b[39;00m seq[mid] \u001b[38;5;241m<\u001b[39m num:\n\u001b[1;32m---> 11\u001b[0m     \u001b[38;5;28;01mreturn\u001b[39;00m search(seq,num,mid\u001b[38;5;241m+\u001b[39m\u001b[38;5;241m1\u001b[39m,upper)      \u001b[38;5;66;03m# +1很重要,当上下限相邻时,不+1会导致区间无法缩小,陷入无限递归!!!\u001b[39;00m\n\u001b[0;32m     12\u001b[0m \u001b[38;5;28;01melse\u001b[39;00m:\n\u001b[0;32m     13\u001b[0m     \u001b[38;5;28;01mreturn\u001b[39;00m search(seq,num,lower,mid)\n",
      "Cell \u001b[1;32mIn[58], line 11\u001b[0m, in \u001b[0;36msearch\u001b[1;34m(seq, num, lower, upper)\u001b[0m\n\u001b[0;32m      9\u001b[0m mid \u001b[38;5;241m=\u001b[39m (lower \u001b[38;5;241m+\u001b[39m upper) \u001b[38;5;241m/\u001b[39m\u001b[38;5;241m/\u001b[39m \u001b[38;5;241m2\u001b[39m\n\u001b[0;32m     10\u001b[0m \u001b[38;5;28;01mif\u001b[39;00m seq[mid] \u001b[38;5;241m<\u001b[39m num:\n\u001b[1;32m---> 11\u001b[0m     \u001b[38;5;28;01mreturn\u001b[39;00m search(seq,num,mid\u001b[38;5;241m+\u001b[39m\u001b[38;5;241m1\u001b[39m,upper)      \u001b[38;5;66;03m# +1很重要,当上下限相邻时,不+1会导致区间无法缩小,陷入无限递归!!!\u001b[39;00m\n\u001b[0;32m     12\u001b[0m \u001b[38;5;28;01melse\u001b[39;00m:\n\u001b[0;32m     13\u001b[0m     \u001b[38;5;28;01mreturn\u001b[39;00m search(seq,num,lower,mid)\n",
      "Cell \u001b[1;32mIn[58], line 6\u001b[0m, in \u001b[0;36msearch\u001b[1;34m(seq, num, lower, upper)\u001b[0m\n\u001b[0;32m      4\u001b[0m     upper \u001b[38;5;241m=\u001b[39m \u001b[38;5;28mlen\u001b[39m(seq) \u001b[38;5;241m-\u001b[39m \u001b[38;5;241m1\u001b[39m\n\u001b[0;32m      5\u001b[0m \u001b[38;5;28;01mif\u001b[39;00m lower \u001b[38;5;241m==\u001b[39m upper:\n\u001b[1;32m----> 6\u001b[0m     \u001b[38;5;28;01massert\u001b[39;00m num \u001b[38;5;241m==\u001b[39m seq[lower],\u001b[38;5;124m'\u001b[39m\u001b[38;5;124m很遗憾,数列里没有这个数!\u001b[39m\u001b[38;5;124m'\u001b[39m\n\u001b[0;32m      7\u001b[0m     \u001b[38;5;28;01mreturn\u001b[39;00m lower\n\u001b[0;32m      8\u001b[0m \u001b[38;5;28;01melse\u001b[39;00m:\n",
      "\u001b[1;31mAssertionError\u001b[0m: 很遗憾,数列里没有这个数!"
     ]
    }
   ],
   "source": [
    "# 二分查找\n",
    "def search(seq,num,lower=0,upper=None):\n",
    "    if upper is None:\n",
    "        upper = len(seq) - 1\n",
    "    if lower == upper:\n",
    "        assert num == seq[lower],'很遗憾,数列里没有这个数!'\n",
    "        return lower\n",
    "    else:\n",
    "        mid = (lower + upper) // 2\n",
    "        if seq[mid] < num:\n",
    "            return search(seq,num,mid+1,upper)      # +1很重要,当上下限相邻时,不+1会导致区间无法缩小,陷入无限递归!!!\n",
    "        else:\n",
    "            return search(seq,num,lower,mid)\n",
    "seq = [34,67,8,123,4,100,95]\n",
    "seq.sort()\n",
    "print(search(seq,34))\n",
    "print(search(seq,100))\n",
    "print(search(seq,101))"
   ]
  },
  {
   "cell_type": "markdown",
   "id": "2f8f52c6dfe5a623",
   "metadata": {},
   "source": [
    "二分查找是一种效率非常高的算法,事实上,在可观察宇宙中,包含的粒子数为10^87个.要找出其中的一个粒子,只需要递归大约290次!\n",
    "实际上,bisert提供了标准的二分查找实现.\n",
    "### 函数式编程\n",
    "我们暂时省略对函数式编程的介绍.\n",
    "我们来介绍Python的一种名为lambda表达式(匿名函数)的功能,让你能够创建内嵌的简单函数."
   ]
  },
  {
   "cell_type": "code",
   "execution_count": 64,
   "id": "45750be82a9e8d4a",
   "metadata": {
    "ExecuteTime": {
     "end_time": "2025-03-15T08:11:42.043293Z",
     "start_time": "2025-03-15T08:11:42.038273Z"
    }
   },
   "outputs": [
    {
     "name": "stdout",
     "output_type": "stream",
     "text": [
      "[1, 4, 9, 16, 25]\n",
      "[1, 3, 5]\n",
      "['banana', 'apple', 'kiwi']\n"
     ]
    }
   ],
   "source": [
    "# 在map(),filter(),sorted()等函数中,用Lambda函数快速定义逻辑.\n",
    "numbers = [1,2,3,4,5]\n",
    "squared = list(map(lambda x: x * x, numbers))       # 将列表元素平方\n",
    "print(squared)\n",
    "evens = list(filter(lambda x: x % 2 != 0, numbers))     # 过滤奇数\n",
    "print(evens)\n",
    "\n",
    "words = ['apple','kiwi','banana']\n",
    "sorted_words = sorted(words,key=lambda word: len(word),reverse=True)\n",
    "print(sorted_words)"
   ]
  },
  {
   "cell_type": "code",
   "execution_count": 66,
   "id": "5a165e9e808be66a",
   "metadata": {
    "ExecuteTime": {
     "end_time": "2025-03-15T08:14:20.336177Z",
     "start_time": "2025-03-15T08:14:20.331177Z"
    }
   },
   "outputs": [
    {
     "name": "stdout",
     "output_type": "stream",
     "text": [
      "3\n",
      "HELLO\n"
     ]
    }
   ],
   "source": [
    "# 快速定义简单函数\n",
    "# 替代单行的def函数,减少代码量\n",
    "add = lambda x,y: x + y\n",
    "print(add(1,2))\n",
    "\n",
    "uppercase = lambda s: s.upper()\n",
    "print(uppercase('hello'))"
   ]
  },
  {
   "cell_type": "code",
   "execution_count": 68,
   "id": "71650b4d9ee4a1a1",
   "metadata": {
    "ExecuteTime": {
     "end_time": "2025-03-15T08:16:12.286433Z",
     "start_time": "2025-03-15T08:16:12.282414Z"
    }
   },
   "outputs": [
    {
     "name": "stdout",
     "output_type": "stream",
     "text": [
      "10\n"
     ]
    },
    {
     "data": {
      "text/plain": [
       "15"
      ]
     },
     "execution_count": 68,
     "metadata": {},
     "output_type": "execute_result"
    }
   ],
   "source": [
    "# 闭包与函数工厂\n",
    "# 动态生成特定行为的函数\n",
    "def multiplier(n):\n",
    "    return lambda x: n * x\n",
    "double = multiplier(2)\n",
    "print(double(5))\n",
    "triple = multiplier(3)\n",
    "triple(5)"
   ]
  },
  {
   "cell_type": "code",
   "execution_count": 70,
   "id": "ff31f0e0a2631f4e",
   "metadata": {
    "ExecuteTime": {
     "end_time": "2025-03-15T08:18:10.232834Z",
     "start_time": "2025-03-15T08:18:10.229489Z"
    }
   },
   "outputs": [
    {
     "name": "stdout",
     "output_type": "stream",
     "text": [
      "[{'name': 'Joe', 'age': 23}, {'name': 'Alice', 'age': 22}, {'name': 'Bob', 'age': 19}]\n"
     ]
    }
   ],
   "source": [
    "# 字典排序或复杂排序\n",
    "# 按自定义规则对复杂结构排序\n",
    "students = [\n",
    "    {'name':'Alice',\"age\":22},\n",
    "    {'name':'Bob',\"age\":19},\n",
    "    {'name':'Joe',\"age\":23},\n",
    "]\n",
    "sorted_students = sorted(students,key=lambda x: x['age'],reverse=True)\n",
    "print(sorted_students)"
   ]
  }
 ],
 "metadata": {
  "kernelspec": {
   "display_name": "Python 3",
   "language": "python",
   "name": "python3"
  },
  "language_info": {
   "codemirror_mode": {
    "name": "ipython",
    "version": 2
   },
   "file_extension": ".py",
   "mimetype": "text/x-python",
   "name": "python",
   "nbconvert_exporter": "python",
   "pygments_lexer": "ipython2",
   "version": "2.7.6"
  }
 },
 "nbformat": 4,
 "nbformat_minor": 5
}
