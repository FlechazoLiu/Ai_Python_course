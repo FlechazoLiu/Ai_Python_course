{
 "cells": [
  {
   "metadata": {},
   "cell_type": "code",
   "outputs": [],
   "execution_count": null,
   "source": "",
   "id": "cdfc47903760b2b2"
  },
  {
   "metadata": {},
   "cell_type": "markdown",
   "source": [
    "# 类\n",
    "创建自定义对象(尤其是对象类型或**类**)是一个Python核心概念.正是这个概念是的Python被视为一种面向对象的语言.\n",
    "\n",
    "## 对象魔法\n",
    "\n",
    "对象大致意味着**一系列数据(属性)**以及一套**访问和操作这些数据的方法**.使用对象有以下几个优点:\n",
    "1. 多态:可对不同类型的对象执行相同的操作\n",
    "2. 封装:对外部隐藏有关对象**工作原理**的细节\n",
    "3. 继承:可基于通用类创建出专用类\n",
    "\n",
    "### 多态\n",
    "这大致意味着即便你不知道变量指向的是哪种对象,也能够对其执行操作,且操作的行为将随对象所属的类型(类)而异.\n",
    "### 方法\n",
    "与对象属性相关联的函数称为方法.\n",
    "内置运算符的**重载**和大量的函数都使用了多态."
   ],
   "id": "fba5ecef073dde12"
  },
  {
   "metadata": {
    "ExecuteTime": {
     "end_time": "2025-03-16T11:04:39.857980Z",
     "start_time": "2025-03-16T11:04:39.852586Z"
    }
   },
   "cell_type": "code",
   "source": [
    "print(1 + 2)\n",
    "print(\"ice\"+\"berg\")"
   ],
   "id": "c6d27f063ad333bc",
   "outputs": [
    {
     "name": "stdout",
     "output_type": "stream",
     "text": [
      "3\n",
      "iceberg\n"
     ]
    }
   ],
   "execution_count": 1
  },
  {
   "metadata": {
    "ExecuteTime": {
     "end_time": "2025-03-16T11:06:29.743908Z",
     "start_time": "2025-03-16T11:06:29.741036Z"
    }
   },
   "cell_type": "code",
   "source": [
    "def length_message(x):\n",
    "    print(\"The length of\",repr(x),\"is\",len(x))          # repr()是多态的集大成者之一,可用于任何对象.\n",
    "\n",
    "length_message(\"Ice\")\n",
    "length_message([1,2,3,4,5])"
   ],
   "id": "49eb4ab7dfac5dec",
   "outputs": [
    {
     "name": "stdout",
     "output_type": "stream",
     "text": [
      "The length of 'Ice' is 3\n",
      "The length of [1, 2, 3, 4, 5] is 5\n"
     ]
    }
   ],
   "execution_count": 4
  },
  {
   "metadata": {},
   "cell_type": "markdown",
   "source": [
    "这里讨论的多态形式是Python编程方式的核心,有时称为鸭子类型.详细信息请参阅[这个网站](http://en.wikipwdia.org/wiki/Duck_typing).\n",
    "### 封装\n",
    "基本上,你希望对象是抽象的:当调用方法时,无须操心其他的事情,如避免干扰全局变量.\n",
    "属性是归属于对象的变量,就像方法一样.实际上,方法差不多就是与函数相关联的属性.\n",
    "每个对象有自己的状态,对象的状态由其属性描述.对象的方法可能修改这些属性,因此对象将一系列函数(方法)组合起来,并赋予它们访问一些变量(属性)的权限,而属性可用于在两次函数调用之间储存值.\n",
    "\n",
    "## 类\n",
    "**类**,就是**类型**,类是一**种**对象.每个**对象**都属于特定的类,是该类的一个**实例**\n",
    "一个类是另一个类的子集时,前者为后者的**子类**,后者为前者的**超类**.\n",
    "\n",
    "- 注意:在Python中,约定使用单数并将首字母大写作为类的名称,如Bird和Lark\n",
    "\n",
    "\n",
    "有鉴于此,要定义子类,只需定义多出来的方法(还可能重写一些既有的方法)\n",
    "- 在Python 3中,已不再区分**类**和**类型**了.\n",
    "\n",
    "### 创建自定义类\n"
   ],
   "id": "3363a8832339995e"
  },
  {
   "metadata": {
    "ExecuteTime": {
     "end_time": "2025-03-16T11:31:40.010823Z",
     "start_time": "2025-03-16T11:31:40.007294Z"
    }
   },
   "cell_type": "code",
   "source": [
    "class Person:           # class创建独立的命名空间,Person是类的名称\n",
    "    def set_name(self,name):       # self会作为第一个参数自动传递给函数(方法),参数self指向对象本身,事实上,将所有的self换为a不会有任何问题!\n",
    "        self.name = name\n",
    "    def get_name(self):\n",
    "        return self.name\n",
    "    def greet(self):\n",
    "        print(\"Hello, my name is \" + self.name)\n",
    "\n",
    "foo = Person()\n",
    "bar = Person()\n",
    "foo.set_name(\"John\")\n",
    "bar.set_name(\"Alice\")\n",
    "foo.greet()\n",
    "bar.greet()\n",
    "Person.greet(foo)           # foo是Person的一个实例,这样写多态性更低."
   ],
   "id": "6031579f17249fa0",
   "outputs": [
    {
     "name": "stdout",
     "output_type": "stream",
     "text": [
      "Hello, my name is John\n",
      "Hello, my name is Alice\n",
      "Hello, my name is John\n"
     ]
    }
   ],
   "execution_count": 15
  },
  {
   "metadata": {
    "ExecuteTime": {
     "end_time": "2025-03-16T11:37:45.457335Z",
     "start_time": "2025-03-16T11:37:45.453969Z"
    }
   },
   "cell_type": "code",
   "source": [
    "print(foo.name)\n",
    "bar.name = \"Bob\"\n",
    "bar.greet()"
   ],
   "id": "95b0df97ebfacb1a",
   "outputs": [
    {
     "name": "stdout",
     "output_type": "stream",
     "text": [
      "John\n",
      "Hello, my name is Bob\n"
     ]
    }
   ],
   "execution_count": 17
  },
  {
   "metadata": {},
   "cell_type": "markdown",
   "source": [
    "### 属性,函数和方法\n",
    "实际上,方法和函数的区别表现在前一节提到的参数self上.\n",
    "方法(**关联**的方法)将其第一个参数关联到所属的实例,因此无须提供这个参数.无疑可以将属性关联到一个普通函数,但这样就没有特殊的self参数了."
   ],
   "id": "637284c5019112f"
  },
  {
   "metadata": {
    "ExecuteTime": {
     "end_time": "2025-03-16T11:46:49.967175Z",
     "start_time": "2025-03-16T11:46:49.962533Z"
    }
   },
   "cell_type": "code",
   "source": [
    "class Class:\n",
    "    def method(self):\n",
    "        print(\"I have a self!\")\n",
    "def function():\n",
    "    print(\"I don't have a self!\")\n",
    "\n",
    "instance = Class()\n",
    "instance.method()       # 此时 method 是一个绑定方法（Bound Method），自动传递 self 参数。\n",
    "instance.method = function          # Python允许直接修改实例的方法属性，此时 method 变为一个普通函数（Unbound Function）\n",
    "instance.method()       # 重绑定仅影响当前实例，不破坏类的原始定义。\n",
    "instance2 = Class()\n",
    "instance2.method()"
   ],
   "id": "196142d8585e1a40",
   "outputs": [
    {
     "name": "stdout",
     "output_type": "stream",
     "text": [
      "I have a self!\n",
      "I don't have a self!\n",
      "I have a self!\n"
     ]
    }
   ],
   "execution_count": 20
  },
  {
   "metadata": {
    "ExecuteTime": {
     "end_time": "2025-03-16T11:50:20.086645Z",
     "start_time": "2025-03-16T11:50:20.083349Z"
    }
   },
   "cell_type": "code",
   "source": [
    "class Bird:\n",
    "    song = 'Squaawk!'\n",
    "    def sing(self):\n",
    "        print(self.song)\n",
    "bird = Bird()\n",
    "bird.sing()\n",
    "birdsong = bird.sing        # 可以让另一个变量指向同一个方法\n",
    "birdsong()                  # 看起来很像函数调用,实际上是一个绑定方法,能够访问self参数"
   ],
   "id": "4f32a2cade7dd42f",
   "outputs": [
    {
     "name": "stdout",
     "output_type": "stream",
     "text": [
      "Squaawk!\n",
      "Squaawk!\n"
     ]
    }
   ],
   "execution_count": 24
  },
  {
   "metadata": {
    "ExecuteTime": {
     "end_time": "2025-03-19T02:31:16.571734Z",
     "start_time": "2025-03-19T02:31:16.566453Z"
    }
   },
   "cell_type": "code",
   "source": [
    "class MyClass:\n",
    "    def my_method(self):\n",
    "        print(\"self 的类型:\", type(self))  # 输出: <class '__main__.MyClass'>\n",
    "        print(\"self 的地址:\", hex(id(self)))  # 实例内存地址\n",
    "        print(\"self 的属性:\", self.__dict__)  # 查看实例所有属性\n",
    "a = MyClass()\n",
    "a.my_method()"
   ],
   "id": "9811291e990560ce",
   "outputs": [
    {
     "name": "stdout",
     "output_type": "stream",
     "text": [
      "self 的类型: <class '__main__.MyClass'>\n",
      "self 的地址: 0x16e6c1771d0\n",
      "self 的属性: {}\n"
     ]
    }
   ],
   "execution_count": 5
  },
  {
   "metadata": {
    "ExecuteTime": {
     "end_time": "2025-03-19T02:31:12.371763Z",
     "start_time": "2025-03-19T02:31:12.349659Z"
    }
   },
   "cell_type": "code",
   "source": [
    "class SecretiveClass:\n",
    "    def __inaccessible(self):\n",
    "        print(\"Bet you can't see me!\")\n",
    "    def accessible(self):\n",
    "        print(\"The secret message is:\")\n",
    "        self.__inaccessible()\n",
    "s = SecretiveClass()\n",
    "s.__inaccessible()"
   ],
   "id": "30b61ccb2b983a09",
   "outputs": [
    {
     "ename": "AttributeError",
     "evalue": "'SecretiveClass' object has no attribute '__inaccessible'",
     "output_type": "error",
     "traceback": [
      "\u001B[1;31m---------------------------------------------------------------------------\u001B[0m",
      "\u001B[1;31mAttributeError\u001B[0m                            Traceback (most recent call last)",
      "Cell \u001B[1;32mIn[4], line 8\u001B[0m\n\u001B[0;32m      6\u001B[0m         \u001B[38;5;28mself\u001B[39m\u001B[38;5;241m.\u001B[39m__inaccessible()\n\u001B[0;32m      7\u001B[0m s \u001B[38;5;241m=\u001B[39m SecretiveClass()\n\u001B[1;32m----> 8\u001B[0m s\u001B[38;5;241m.\u001B[39m__inaccessible()\n",
      "\u001B[1;31mAttributeError\u001B[0m: 'SecretiveClass' object has no attribute '__inaccessible'"
     ]
    }
   ],
   "execution_count": 4
  },
  {
   "metadata": {
    "ExecuteTime": {
     "end_time": "2025-03-19T02:31:19.286838Z",
     "start_time": "2025-03-19T02:31:19.281936Z"
    }
   },
   "cell_type": "code",
   "source": "s.accessible()",
   "id": "dfebbe578759eed4",
   "outputs": [
    {
     "name": "stdout",
     "output_type": "stream",
     "text": [
      "The secret message is:\n",
      "Bet you can't see me!\n"
     ]
    }
   ],
   "execution_count": 6
  },
  {
   "metadata": {
    "ExecuteTime": {
     "end_time": "2025-03-19T02:32:06.037471Z",
     "start_time": "2025-03-19T02:32:06.029439Z"
    }
   },
   "cell_type": "code",
   "source": [
    "# 在类定义中,对所有以两个下划线开头的名称进行转换,即在开头加上一个下划线和类名.\n",
    "# 因此我们可以用下面的方式访问到这个私有方法\n",
    "SecretiveClass._SecretiveClass__inaccessible"
   ],
   "id": "6fa5506ac4a7f00b",
   "outputs": [
    {
     "data": {
      "text/plain": [
       "<function __main__.SecretiveClass.__inaccessible(self)>"
      ]
     },
     "execution_count": 10,
     "metadata": {},
     "output_type": "execute_result"
    }
   ],
   "execution_count": 10
  },
  {
   "metadata": {
    "ExecuteTime": {
     "end_time": "2025-03-19T02:32:51.038675Z",
     "start_time": "2025-03-19T02:32:51.033636Z"
    }
   },
   "cell_type": "code",
   "source": "s._SecretiveClass__inaccessible()       # 只要知道这个幕后处理办法, 就能从类外访问私有方法,然而不应这样做.",
   "id": "9b23c9995f9b2562",
   "outputs": [
    {
     "name": "stdout",
     "output_type": "stream",
     "text": [
      "Bet you can't see me!\n"
     ]
    }
   ],
   "execution_count": 12
  },
  {
   "metadata": {},
   "cell_type": "markdown",
   "source": "- 总之,你无法禁止别人访问对象的私有方法和属性,但这种名称修改方式发出了强烈的信号,让他们不要这么做.",
   "id": "6dd9d22e41dd588"
  },
  {
   "metadata": {},
   "cell_type": "markdown",
   "source": [
    "## 类的命名空间\n",
    "在class语句中定义的代码都是在一个特殊的命名空间(类的命名空间)内执行的,而类的所有成员都可以访问这个命名空间.**类定义就是要执行的代码段**."
   ],
   "id": "72ca6fcf53b599f7"
  },
  {
   "metadata": {
    "ExecuteTime": {
     "end_time": "2025-03-19T02:58:18.009581Z",
     "start_time": "2025-03-19T02:58:18.001440Z"
    }
   },
   "cell_type": "code",
   "source": [
    "class MemberCounter:\n",
    "    members = 0\n",
    "    def init(self):\n",
    "        self.members += 1\n",
    "    def init1(self):\n",
    "        MemberCounter.members += 1\n",
    "\n",
    "m1 = MemberCounter()\n",
    "m1.init()\n",
    "print(MemberCounter.members,m1.members)\n",
    "m1.init1()\n",
    "print(MemberCounter.members,m1.members)\n",
    "m2 = MemberCounter()\n",
    "print(MemberCounter.members,m1.members,m2.members)\n",
    "m2.init1()\n",
    "print(MemberCounter.members,m1.members,m2.members)\n",
    "\n",
    "m1.init1()\n",
    "print(MemberCounter.members,m1.members,m2.members)"
   ],
   "id": "9abe26f86a278d0",
   "outputs": [
    {
     "name": "stdout",
     "output_type": "stream",
     "text": [
      "0 1\n",
      "1 1\n",
      "1 1 1\n",
      "2 1 2\n",
      "3 1 3\n"
     ]
    }
   ],
   "execution_count": 26
  },
  {
   "metadata": {},
   "cell_type": "markdown",
   "source": [
    "这段代码展示了 **类属性** 和 **实例属性** 的区别及相互作用，以下是逐步分析：\n",
    "\n",
    "---\n",
    "\n",
    "### **代码执行结果**\n",
    "```python\n",
    "m1 = MemberCounter()\n",
    "m1.init()\n",
    "print(MemberCounter.members, m1.members)  # 输出: 0 1\n",
    "\n",
    "m1.init1()\n",
    "print(MemberCounter.members, m1.members)  # 输出: 1 1\n",
    "\n",
    "m2 = MemberCounter()\n",
    "print(MemberCounter.members, m1.members, m2.members)  # 输出: 1 1 1\n",
    "\n",
    "m2.init1()\n",
    "print(MemberCounter.members, m1.members, m2.members)  # 输出: 2 1 2\n",
    "```\n",
    "\n",
    "---\n",
    "\n",
    "### **关键概念解析**\n",
    "#### 1. **类属性（`MemberCounter.members`）**\n",
    "- **定义位置**：直接在类中定义（`members = 0`）。\n",
    "- **共享性**：所有实例共享同一个类属性。\n",
    "- **访问方式**：\n",
    "  - 通过类名访问：`MemberCounter.members`\n",
    "  - 通过实例访问：`m1.members`（若实例未覆盖此属性）\n",
    "\n",
    "#### 2. **实例属性（`self.members`）**\n",
    "- **定义条件**：在方法中通过 `self.members` 赋值时创建。\n",
    "- **独立性**：每个实例的实例属性独立存在。\n",
    "- **优先级**：若实例有同名属性，优先访问实例属性。\n",
    "\n",
    "---\n",
    "\n",
    "### **执行过程详解**\n",
    "#### **步骤 1：创建 `m1` 并调用 `init()`**\n",
    "```python\n",
    "m1.init()  # 执行 self.members += 1\n",
    "```\n",
    "- **`init` 方法逻辑**：\n",
    "  ```python\n",
    "  def init(self):\n",
    "      self.members += 1  # 等效于 self.members = self.members + 1\n",
    "  ```\n",
    "  - **第一次访问 `self.members`**：实例 `m1` 没有 `members` 属性，因此查找类属性 `MemberCounter.members = 0`。\n",
    "  - **赋值操作**：`self.members = 0 + 1 = 1` → 创建实例属性 `m1.members = 1`。\n",
    "\n",
    "- **结果**：\n",
    "  - `MemberCounter.members` 仍为 `0`（未被修改）。\n",
    "  - `m1.members` 为 `1`（实例属性）。\n",
    "\n",
    "---\n",
    "\n",
    "#### **步骤 2：调用 `m1.init1()`**\n",
    "```python\n",
    "m1.init1()  # 执行 MemberCounter.members += 1\n",
    "```\n",
    "- **`init1` 方法逻辑**：\n",
    "  ```python\n",
    "  def init1(self):\n",
    "      MemberCounter.members += 1  # 直接修改类属性\n",
    "  ```\n",
    "  - **修改类属性**：`MemberCounter.members = 0 + 1 = 1`。\n",
    "\n",
    "- **结果**：\n",
    "  - `MemberCounter.members` 变为 `1`。\n",
    "  - `m1.members` 仍为 `1`（实例属性优先）。\n",
    "\n",
    "---\n",
    "\n",
    "#### **步骤 3：创建 `m2`**\n",
    "```python\n",
    "m2 = MemberCounter()\n",
    "```\n",
    "- **初始化时**：\n",
    "  - 类属性 `MemberCounter.members = 1`（已被 `m1.init1()` 修改）。\n",
    "  - 实例 `m2` 未调用任何方法，因此没有实例属性 `members`。\n",
    "\n",
    "- **结果**：\n",
    "  - 访问 `m2.members` 时，返回类属性值 `1`。\n",
    "\n",
    "---\n",
    "\n",
    "#### **步骤 4：调用 `m2.init1()`**\n",
    "```python\n",
    "m2.init1()  # 执行 MemberCounter.members += 1\n",
    "```\n",
    "- **修改类属性**：`MemberCounter.members = 1 + 1 = 2`。\n",
    "- **实例属性**：\n",
    "  - `m1.members` 仍为 `1`（实例属性未变）。\n",
    "  - `m2` 未调用 `init()`，因此没有实例属性，访问 `m2.members` 返回类属性 `2`。\n",
    "\n",
    "---\n",
    "\n",
    "### **关系总结**\n",
    "| 属性                  | 类型       | 访问规则                     | 示例值变化                     |\n",
    "|-----------------------|------------|------------------------------|--------------------------------|\n",
    "| `MemberCounter.members` | 类属性     | 所有实例共享，除非被覆盖      | 0 → 1 → 2                     |\n",
    "| `m1.members`          | 实例属性   | 仅属于 `m1`，优先级高于类属性 | 0 → 1（创建后不再变化）        |\n",
    "| `m2.members`          | 无实例属性 | 访问时返回类属性             | 1（类属性） → 2（类属性更新后） |\n",
    "\n",
    "---\n",
    "\n",
    "### **核心结论**\n",
    "- **类属性** 是所有实例共享的全局变量，通过类名或实例访问（若实例未覆盖）。\n",
    "- **实例属性** 通过 `self.attr = value` 创建，优先级高于类属性。\n",
    "- **方法中的操作**：\n",
    "  - 若通过 `self.attr` 赋值 → 创建/修改实例属性。\n",
    "  - 若通过 `ClassName.attr` 赋值 → 修改类属性。"
   ],
   "id": "b9115f57008a82da"
  },
  {
   "metadata": {},
   "cell_type": "markdown",
   "source": [
    "## 指定超类\n",
    "要指定超类,可在class语句中的类名后加上超类名,并将其用圆括号括起."
   ],
   "id": "d2233469caa219a7"
  },
  {
   "metadata": {
    "ExecuteTime": {
     "end_time": "2025-03-19T03:09:15.026685Z",
     "start_time": "2025-03-19T03:09:15.019008Z"
    }
   },
   "cell_type": "code",
   "source": [
    "class Filter:           # Filter是一个过滤序列的通用类,实际上它不会过滤任何东西\n",
    "    def init(self):\n",
    "        self.blocked = []\n",
    "    def filter(self, items):\n",
    "        return [item for item in items if item not in self.blocked]\n",
    "\n",
    "class SPAMFilter(Filter):        # 以Filter类为基类(超类),构造出其他类,如这里的SPAMFilter\n",
    "    def init(self):             # 重写超类中init方法的定义\n",
    "        self.blocked = ['SPAM']\n",
    "# SPAMFilter继承了Filter的filter方法,无须重写\n",
    "f = Filter()\n",
    "f.init()\n",
    "sf = SPAMFilter()\n",
    "sf.init()\n",
    "t = ['SPAM',2,5,66,'SPAM','spam']\n",
    "print(f.filter(t),'\\n',sf.filter(t))"
   ],
   "id": "d2acab71ae07f018",
   "outputs": [
    {
     "name": "stdout",
     "output_type": "stream",
     "text": [
      "['SPAM', 2, 5, 66, 'SPAM', 'spam'] \n",
      " [2, 5, 66, 'spam']\n"
     ]
    }
   ],
   "execution_count": 32
  },
  {
   "metadata": {},
   "cell_type": "markdown",
   "source": [
    "这个例子说明了继承很有用的原因:可以创建大量不同的过滤器类,它们都从Filter类派生而来,并且都使用已编写好的方法filter.\n",
    "\n",
    "## 深入探讨继承"
   ],
   "id": "84a54c698aaa17f6"
  },
  {
   "metadata": {
    "ExecuteTime": {
     "end_time": "2025-03-19T03:14:35.708908Z",
     "start_time": "2025-03-19T03:14:35.703141Z"
    }
   },
   "cell_type": "code",
   "source": "issubclass(SPAMFilter,Filter)       # 内置方法判断子类关系(SPAMFilter是否是Filter的子类?)",
   "id": "9b1fdd3e4876cdb1",
   "outputs": [
    {
     "data": {
      "text/plain": [
       "True"
      ]
     },
     "execution_count": 37,
     "metadata": {},
     "output_type": "execute_result"
    }
   ],
   "execution_count": 37
  },
  {
   "metadata": {
    "ExecuteTime": {
     "end_time": "2025-03-19T03:14:32.830046Z",
     "start_time": "2025-03-19T03:14:32.824556Z"
    }
   },
   "cell_type": "code",
   "source": "issubclass(Filter,SPAMFilter)       # Filter是否是SPAMFilter的子类?",
   "id": "ed30df61b5274ba1",
   "outputs": [
    {
     "data": {
      "text/plain": [
       "False"
      ]
     },
     "execution_count": 36,
     "metadata": {},
     "output_type": "execute_result"
    }
   ],
   "execution_count": 36
  },
  {
   "metadata": {
    "ExecuteTime": {
     "end_time": "2025-03-19T03:18:21.290938Z",
     "start_time": "2025-03-19T03:18:21.286519Z"
    }
   },
   "cell_type": "code",
   "source": [
    "print(Filter.__bases__)         # 访问类的特殊属性,返回其基类\n",
    "print(SPAMFilter.__bases__)"
   ],
   "id": "739636d9b2ad273f",
   "outputs": [
    {
     "name": "stdout",
     "output_type": "stream",
     "text": [
      "(<class 'object'>,)\n",
      "(<class '__main__.Filter'>,)\n"
     ]
    }
   ],
   "execution_count": 43
  },
  {
   "metadata": {
    "ExecuteTime": {
     "end_time": "2025-03-19T03:20:32.998850Z",
     "start_time": "2025-03-19T03:20:32.993830Z"
    }
   },
   "cell_type": "code",
   "source": [
    "s = SPAMFilter()\n",
    "print(isinstance(s,SPAMFilter))            # 判断一个对象是否是特定类的实例\n",
    "print(isinstance(s,Filter))         # s是SPAMFilter的直接实例,是Filter的间接实例\n",
    "print(isinstance(s,int))            # 也可用于类型str,python3中我们不区分类与类型了"
   ],
   "id": "c9177642262c28b1",
   "outputs": [
    {
     "name": "stdout",
     "output_type": "stream",
     "text": [
      "True\n",
      "True\n",
      "False\n"
     ]
    }
   ],
   "execution_count": 46
  },
  {
   "metadata": {
    "ExecuteTime": {
     "end_time": "2025-03-19T03:23:46.534681Z",
     "start_time": "2025-03-19T03:23:46.529643Z"
    }
   },
   "cell_type": "code",
   "source": [
    "print(s.__class__ )        # 获取对象属于哪个类\n",
    "print(type(s))             # 也可使用这种方法"
   ],
   "id": "4f082c8d1f5bab8",
   "outputs": [
    {
     "name": "stdout",
     "output_type": "stream",
     "text": [
      "<class '__main__.SPAMFilter'>\n",
      "<class '__main__.SPAMFilter'>\n"
     ]
    }
   ],
   "execution_count": 50
  },
  {
   "metadata": {},
   "cell_type": "markdown",
   "source": "## 多个超类",
   "id": "5461609a1147b6bb"
  },
  {
   "metadata": {
    "ExecuteTime": {
     "end_time": "2025-03-19T05:14:58.590184Z",
     "start_time": "2025-03-19T05:14:58.581734Z"
    }
   },
   "cell_type": "code",
   "source": [
    "class Calculator:\n",
    "    def calculator(self,expression):\n",
    "        self.value = eval(expression)\n",
    "\n",
    "class Talker:\n",
    "    def talk(self):\n",
    "        print(\"Hi, my value is\", self.value)\n",
    "\n",
    "class TalkingCalculator(Calculator,Talker):\n",
    "    pass\n",
    "\n",
    "tc =TalkingCalculator()\n",
    "tc.calculator('3 ** 3 + 1')\n",
    "tc.talk()"
   ],
   "id": "93e677af46b2df65",
   "outputs": [
    {
     "name": "stdout",
     "output_type": "stream",
     "text": [
      "Hi, my value is 28\n"
     ]
    }
   ],
   "execution_count": 83
  },
  {
   "metadata": {
    "ExecuteTime": {
     "end_time": "2025-03-19T03:29:22.880429Z",
     "start_time": "2025-03-19T03:29:22.875118Z"
    }
   },
   "cell_type": "code",
   "source": [
    "t = Talker()\n",
    "t.value = 's'\n",
    "t.talk()"
   ],
   "id": "e19d670f51f38e7e",
   "outputs": [
    {
     "name": "stdout",
     "output_type": "stream",
     "text": [
      "Hi, my value is s\n"
     ]
    }
   ],
   "execution_count": 54
  },
  {
   "metadata": {},
   "cell_type": "markdown",
   "source": [
    "在Python中，**实例属性的动态绑定机制**允许在运行时为任何对象添加新属性，这是您观察到的现象的根本原因。以下是详细解释：\n",
    "\n",
    "---\n",
    "\n",
    "### **关键机制：动态属性赋值**\n",
    "Python允许在任何实例上动态添加属性，即使该属性未在类中预先定义。当执行`t.value = 's'`时，Python会：\n",
    "1. 检查实例`t`是否已有`value`属性 → **无**\n",
    "2. 直接在实例`t`的命名空间中创建新属性`value` → **动态绑定**\n",
    "\n",
    "---\n",
    "\n",
    "### **代码执行分析**\n",
    "#### **Talker类的定义**\n",
    "```python\n",
    "class Talker:\n",
    "    def talk(self):\n",
    "        print(\"Hi, my value is\", self.value)  # 运行时才会检查self.value是否存在\n",
    "```\n",
    "\n",
    "- **注意**：`talk()`方法中引用了`self.value`，但`Talker`类本身没有定义这个属性。\n",
    "\n",
    "#### **创建Talker实例并手动添加属性**\n",
    "```python\n",
    "t = Talker()       # 实例t此时没有value属性\n",
    "t.value = \"s\"      # 动态添加实例属性value\n",
    "t.talk()           # 输出: Hi, my value is s\n",
    "```\n",
    "\n",
    "- **关键点**：在调用`t.talk()`**之前**，已经通过`t.value = \"s\"`为实例添加了属性`value`。\n",
    "\n",
    "---\n",
    "\n",
    "### **对比错误场景**\n",
    "如果**未手动添加`value`属性**直接调用`talk()`会报错：\n",
    "```python\n",
    "t = Talker()\n",
    "t.talk()  # ❌ 触发AttributeError: 'Talker' object has no attribute 'value'\n",
    "```\n",
    "\n",
    "---\n",
    "\n",
    "### **为什么TalkingCalculator实例能正常工作？**\n",
    "```python\n",
    "tc = TalkingCalculator()\n",
    "tc.calculator(\"3 ** 3 + 1\")  # 调用Calculator的calculator方法\n",
    "tc.talk()                    # 输出: Hi, my value is 28\n",
    "```\n",
    "\n",
    "- **继承链**：`TalkingCalculator`继承自`Calculator`和`Talker`。\n",
    "- **方法执行流程**：\n",
    "  1. `tc.calculator()`中执行`self.value = eval(...)` → 动态添加`value`到实例`tc`\n",
    "  2. `tc.talk()`访问已存在的`self.value`\n",
    "\n",
    "---\n",
    "\n",
    "### **Python属性访问规则**\n",
    "| 操作                      | 结果                                                                 |\n",
    "|--------------------------|--------------------------------------------------------------------|\n",
    "| `obj.attr = value`        | 直接在实例`obj`的`__dict__`中添加`attr`，**无需类定义**              |\n",
    "| `obj.attr`读取            | 按优先级查找：1. 实例属性 → 2. 类属性 → 3. 父类属性 → 4. 触发错误     |\n",
    "\n",
    "---\n",
    "\n",
    "### **设计建议**\n",
    "1. **显式初始化属性**：\n",
    "   在`__init__`方法中定义所有可能用到的属性，避免运行时错误：\n",
    "   ```python\n",
    "   class Talker:\n",
    "       def __init__(self):\n",
    "           self.value = None  # 显式初始化\n",
    "       def talk(self):\n",
    "           print(f\"Value: {self.value}\")\n",
    "   ```\n",
    "\n",
    "2. **使用属性保护机制**：\n",
    "   通过`@property`或`__getattr__`控制属性访问：\n",
    "   ```python\n",
    "   class Talker:\n",
    "       def talk(self):\n",
    "           try:\n",
    "               print(self.value)\n",
    "           except AttributeError:\n",
    "               print(\"No value assigned!\")\n",
    "   ```\n",
    "\n",
    "---\n",
    "\n",
    "### **总结**\n",
    "- **动态属性**是Python灵活性的体现，但也容易导致隐藏的错误。\n",
    "- **手动添加属性**（如`t.value = \"s\"`）是一种合法操作，但需确保在访问前完成赋值。\n",
    "- **继承场景**中，通过方法调用间接初始化属性（如`tc.calculator()`）是更安全的做法。"
   ],
   "id": "fcd721eb074d317c"
  },
  {
   "metadata": {
    "ExecuteTime": {
     "end_time": "2025-03-19T03:42:02.454987Z",
     "start_time": "2025-03-19T03:42:02.449469Z"
    }
   },
   "cell_type": "code",
   "source": [
    "print(dir(t))\n",
    "print(dir(Talker))\n",
    "ts = set(dir(t))\n",
    "Ts = set(dir(Talker))\n",
    "print(ts - Ts)          #"
   ],
   "id": "c3143020f328d7d3",
   "outputs": [
    {
     "name": "stdout",
     "output_type": "stream",
     "text": [
      "['__class__', '__delattr__', '__dict__', '__dir__', '__doc__', '__eq__', '__format__', '__ge__', '__getattribute__', '__getstate__', '__gt__', '__hash__', '__init__', '__init_subclass__', '__le__', '__lt__', '__module__', '__ne__', '__new__', '__reduce__', '__reduce_ex__', '__repr__', '__setattr__', '__sizeof__', '__str__', '__subclasshook__', '__weakref__', 'talk', 'value']\n",
      "['__class__', '__delattr__', '__dict__', '__dir__', '__doc__', '__eq__', '__format__', '__ge__', '__getattribute__', '__getstate__', '__gt__', '__hash__', '__init__', '__init_subclass__', '__le__', '__lt__', '__module__', '__ne__', '__new__', '__reduce__', '__reduce_ex__', '__repr__', '__setattr__', '__sizeof__', '__str__', '__subclasshook__', '__weakref__', 'talk']\n",
      "{'value'}\n"
     ]
    }
   ],
   "execution_count": 61
  },
  {
   "metadata": {
    "ExecuteTime": {
     "end_time": "2025-03-19T03:42:46.363898Z",
     "start_time": "2025-03-19T03:42:46.358880Z"
    }
   },
   "cell_type": "code",
   "source": [
    "print(t.__dict__)\n",
    "print(Talker.__dict__) # 输出类的属性和方法（无 value）"
   ],
   "id": "9c2f433b2df99f2",
   "outputs": [
    {
     "name": "stdout",
     "output_type": "stream",
     "text": [
      "{'value': 's'}\n",
      "{'__module__': '__main__', 'talk': <function Talker.talk at 0x0000016E6C251260>, '__dict__': <attribute '__dict__' of 'Talker' objects>, '__weakref__': <attribute '__weakref__' of 'Talker' objects>, '__doc__': None}\n"
     ]
    }
   ],
   "execution_count": 64
  },
  {
   "metadata": {},
   "cell_type": "markdown",
   "source": [
    "### **问题一：`value` 是实例属性还是类属性？**\n",
    "是的，`t.value` 是实例 `t` 的**独立属性**，而非 `Talker` 类的属性。以下是详细对比：\n",
    "\n",
    "#### **1. 实例属性 (`t.value`)**\n",
    "- **定义方式**：通过 `t.value = \"s\"` 直接赋值。\n",
    "- **存储位置**：仅在实例 `t` 的命名空间（`t.__dict__`）中存在。\n",
    "- **作用范围**：仅影响当前实例，其他 `Talker` 实例无法访问。\n",
    "- **生命周期**：随实例销毁而消失。\n",
    "\n",
    "```python\n",
    "t1 = Talker()\n",
    "t1.value = 10   # t1 的实例属性\n",
    "t2 = Talker()   # t2 没有 value 属性\n",
    "print(t2.value) # ❌ 报错: AttributeError\n",
    "```\n",
    "\n",
    "#### **2. 类属性 (`Talker.value`)**\n",
    "- **定义方式**：在类中直接定义（如 `class Talker: value = 0`）。\n",
    "- **存储位置**：存储在类的命名空间（`Talker.__dict__`）。\n",
    "- **作用范围**：所有实例共享，除非被实例属性覆盖。\n",
    "- **生命周期**：随类存在。\n",
    "\n",
    "```python\n",
    "class Talker:\n",
    "    value = 0  # 类属性\n",
    "\n",
    "t1 = Talker()\n",
    "t2 = Talker()\n",
    "print(t1.value)  # 0（访问类属性）\n",
    "t1.value = 10    # 创建 t1 的实例属性\n",
    "print(t1.value)  # 10（实例属性优先）\n",
    "print(t2.value)  # 0（仍访问类属性）\n",
    "```\n",
    "\n",
    "---\n",
    "\n",
    "### **问题二：如何查看类或实例的属性？**\n",
    "Python 提供了多种方式查看对象的属性：\n",
    "\n",
    "#### **1. 使用 `dir()` 函数**\n",
    "- **功能**：返回对象所有属性和方法的名称列表（包括继承的）。\n",
    "- **示例**：\n",
    "  ```python\n",
    "  print(dir(t))        # 查看实例 t 的所有属性\n",
    "  print(dir(Talker))   # 查看类 Talker 的所有属性\n",
    "  ```\n",
    "\n",
    "#### **2. 直接访问 `__dict__`**\n",
    "- **功能**：返回对象自身的属性和值的字典（不包含继承属性）。\n",
    "- **示例**：\n",
    "  ```python\n",
    "  print(t.__dict__)     # 输出: {'value': 's'}\n",
    "  print(Talker.__dict__) # 输出类的属性和方法（无 value）\n",
    "  ```\n",
    "\n",
    "#### **3. 使用 `vars()` 函数**\n",
    "- **功能**：等价于 `obj.__dict__`，返回实例的属性和值的字典。\n",
    "- **示例**：\n",
    "  ```python\n",
    "  print(vars(t))  # 输出: {'value': 's'}\n",
    "  ```\n",
    "\n",
    "---\n",
    "\n",
    "### **属性查看示例**\n",
    "#### **场景 1：查看实例 `t` 的属性**\n",
    "```python\n",
    "t = Talker()\n",
    "t.value = \"s\"\n",
    "\n",
    "print(dir(t))       # 列表中包含 'value'\n",
    "print(t.__dict__)   # {'value': 's'}\n",
    "```\n",
    "\n",
    "#### **场景 2：查看类 `Talker` 的属性**\n",
    "```python\n",
    "print(dir(Talker))  # 列表中不包含 'value'\n",
    "print(Talker.__dict__)  # 类的属性字典中无 'value'\n",
    "```\n",
    "\n",
    "---\n",
    "\n",
    "### **总结**\n",
    "| 属性类型      | 定义方式               | 存储位置       | 作用范围       | 查看方法                   |\n",
    "|--------------|-----------------------|----------------|----------------|----------------------------|\n",
    "| **实例属性** | `obj.attr = value`    | 实例的 `__dict__` | 仅当前实例     | `dir(obj)`, `obj.__dict__` |\n",
    "| **类属性**    | 在类中直接定义 `attr` | 类的 `__dict__`  | 所有实例共享   | `dir(Class)`, `Class.__dict__` |\n",
    "\n",
    "通过合理使用 `dir()` 和 `__dict__`，可以清晰区分实例属性与类属性，避免混淆。"
   ],
   "id": "3e60ff71f0691224"
  },
  {
   "metadata": {},
   "cell_type": "markdown",
   "source": [
    "多个超类的超类相同时,查找特定方法或属性时访问超类的顺序称为**方法解析顺序(MRO)**.\n",
    "## 接口和内省\n",
    "\n",
    "---\n",
    "\n",
    "#### **一、接口（Interface）**\n",
    "1. **概念**\n",
    "   - 接口指对象对外暴露的 **方法** 和 **属性**，用于定义对象的行为规范。\n",
    "   - Python 采用 **隐式接口（Duck Typing）**：不强制对象继承特定接口，只要对象实现了所需方法/属性即可。\n",
    "\n",
    "2. **多态实现**\n",
    "   - 假设对象能完成预期操作，若方法不存在则运行时报错：\n",
    "     ```python\n",
    "     def process(obj):\n",
    "         obj.perform_action()  # 不显式检查接口，直接调用\n",
    "     ```\n",
    "\n",
    "3. **与静态语言对比**\n",
    "   - **Java**：需显式声明接口（`implements`）。\n",
    "   - **Python**：通过运行时动态检查方法是否存在（灵活性高，风险自担）。\n",
    "\n",
    "---\n",
    "\n",
    "#### **二、内省（Introspection）**\n",
    "1. **核心函数**\n",
    "   - **检查属性/方法存在性**：\n",
    "     ```python\n",
    "     hasattr(obj, 'attribute')  # 返回布尔值\n",
    "     ```\n",
    "     ```python\n",
    "     # 示例\n",
    "     hasattr(tc, 'talk')  # True（存在方法）\n",
    "     hasattr(tc, 'fnord')  # False（不存在属性）\n",
    "     ```\n",
    "\n",
    "   - **安全获取属性值**：\n",
    "     ```python\n",
    "     value = getattr(obj, 'attribute', default)  # 不存在时返回默认值\n",
    "     ```\n",
    "     ```python\n",
    "     # 示例\n",
    "     method = getattr(tc, 'talk', None)\n",
    "     if callable(method):\n",
    "         method()  # 调用前验证可调用性\n",
    "     ```\n",
    "\n",
    "   - **动态设置属性**：\n",
    "     ```python\n",
    "     setattr(obj, 'name', value)  # 添加或修改属性\n",
    "     ```\n",
    "     ```python\n",
    "     # 示例\n",
    "     setattr(tc, 'name', 'Mr. Gumby')\n",
    "     print(tc.name)  # 输出: 'Mr. Gumby'\n",
    "     ```\n",
    "\n",
    "2. **检查可调用性**\n",
    "   ```python\n",
    "     callable(getattr(obj, 'method', None))  # 返回 True/False\n",
    "   ```\n",
    "\n",
    "3. **查看对象属性字典**\n",
    "   - 通过 `__dict__` 访问对象存储的所有属性：\n",
    "     ```python\n",
    "     print(tc.__dict__)  # 输出: {'value': 28, 'name': 'Mr. Gumby'}\n",
    "     ```\n",
    "\n",
    "---\n",
    "\n",
    "#### **三、高级内省工具（`inspect` 模块）**\n",
    "1. **功能**\n",
    "   - 提供更深入的 **对象结构分析**，适用于：\n",
    "     - 对象浏览器开发\n",
    "     - 动态生成文档\n",
    "     - 调试工具\n",
    "\n",
    "2. **常用方法**\n",
    "   - `inspect.ismethod(obj)`：检查是否为方法。\n",
    "   - `inspect.getsource(func)`：获取函数源码。\n",
    "   - `inspect.signature(func)`：获取函数参数签名。\n",
    "\n",
    "---\n",
    "\n",
    "#### **四、关键应用场景**\n",
    "1. **动态调用方法**\n",
    "   ```python\n",
    "   def safe_call(obj, method_name):\n",
    "       method = getattr(obj, method_name, None)\n",
    "       if callable(method):\n",
    "           method()\n",
    "       else:\n",
    "           print(f\"Method {method_name} not found.\")\n",
    "   ```\n",
    "\n",
    "2. **插件系统设计**\n",
    "   - 通过内省检查插件是否实现必要接口：\n",
    "     ```python\n",
    "     class PluginBase:\n",
    "         def execute(self):\n",
    "             raise NotImplementedError\n",
    "\n",
    "     def load_plugin(plugin):\n",
    "         if hasattr(plugin, 'execute') and callable(plugin.execute):\n",
    "             plugin.execute()\n",
    "         else:\n",
    "             print(\"Invalid plugin.\")\n",
    "     ```\n",
    "\n",
    "3. **序列化与反序列化**\n",
    "   - 利用 `__dict__` 提取或恢复对象状态：\n",
    "     ```python\n",
    "     data = obj.__dict__  # 序列化为字典\n",
    "     new_obj = MyClass()\n",
    "     new_obj.__dict__.update(data)  # 反序列化\n",
    "     ```\n",
    "\n",
    "---\n",
    "\n",
    "#### **五、注意事项**\n",
    "1. **性能影响**\n",
    "   - 频繁使用 `hasattr`/`getattr` 可能影响性能，需权衡灵活性与效率。\n",
    "\n",
    "2. **维护性**\n",
    "   - 隐式接口增加代码理解难度，建议通过文档明确对象预期行为。\n",
    "\n",
    "3. **错误处理**\n",
    "   - 对未经验证的属性访问需配合 `try-except`：\n",
    "     ```python\n",
    "     try:\n",
    "         obj.required_method()\n",
    "     except AttributeError:\n",
    "         print(\"接口不兼容！\")\n",
    "     ```\n",
    "\n",
    "---\n",
    "\n",
    "#### **六、总结**\n",
    "- **接口**：Python 通过隐式接口实现多态，依赖开发者保证对象行为。\n",
    "- **内省**：`hasattr`、`getattr`、`setattr` 和 `__dict__` 提供动态对象操作能力。\n",
    "- **高级工具**：`inspect` 模块支持复杂场景下的对象结构分析。\n",
    "\n",
    "通过灵活使用内省机制，可编写适应性强、扩展性高的代码，但也需注意维护性和性能成本。"
   ],
   "id": "93ba3439211983f0"
  },
  {
   "metadata": {
    "ExecuteTime": {
     "end_time": "2025-03-19T05:08:16.371123Z",
     "start_time": "2025-03-19T05:08:16.363685Z"
    }
   },
   "cell_type": "code",
   "source": "hasattr(tc, 'talk')  # True（存在方法）",
   "id": "2e3880656478a120",
   "outputs": [
    {
     "data": {
      "text/plain": [
       "True"
      ]
     },
     "execution_count": 67,
     "metadata": {},
     "output_type": "execute_result"
    }
   ],
   "execution_count": 67
  },
  {
   "metadata": {
    "ExecuteTime": {
     "end_time": "2025-03-19T05:08:14.735878Z",
     "start_time": "2025-03-19T05:08:14.728729Z"
    }
   },
   "cell_type": "code",
   "source": "hasattr(tc, 'fnord')  # False（不存在属性）",
   "id": "be1029c6c3e8cc23",
   "outputs": [
    {
     "data": {
      "text/plain": [
       "False"
      ]
     },
     "execution_count": 66,
     "metadata": {},
     "output_type": "execute_result"
    }
   ],
   "execution_count": 66
  },
  {
   "metadata": {
    "ExecuteTime": {
     "end_time": "2025-03-19T05:09:24.480236Z",
     "start_time": "2025-03-19T05:09:24.474149Z"
    }
   },
   "cell_type": "code",
   "source": [
    "method = getattr(tc, 'talk', None)\n",
    "if callable(method):\n",
    "    method()  # 调用前验证可调用性"
   ],
   "id": "d7470d638d822ce5",
   "outputs": [
    {
     "name": "stdout",
     "output_type": "stream",
     "text": [
      "Hi, my value is 28\n"
     ]
    }
   ],
   "execution_count": 70
  },
  {
   "metadata": {
    "ExecuteTime": {
     "end_time": "2025-03-19T05:10:32.256248Z",
     "start_time": "2025-03-19T05:10:32.250096Z"
    }
   },
   "cell_type": "code",
   "source": [
    "setattr(tc, 'name', 'Mr. Gumby')\n",
    "print(tc.name)  # 输出: 'Mr. Gumby'\n",
    "print(dir(tc))"
   ],
   "id": "c0afaab31b6fd6bc",
   "outputs": [
    {
     "name": "stdout",
     "output_type": "stream",
     "text": [
      "Mr. Gumby\n",
      "['__class__', '__delattr__', '__dict__', '__dir__', '__doc__', '__eq__', '__format__', '__ge__', '__getattribute__', '__getstate__', '__gt__', '__hash__', '__init__', '__init_subclass__', '__le__', '__lt__', '__module__', '__ne__', '__new__', '__reduce__', '__reduce_ex__', '__repr__', '__setattr__', '__sizeof__', '__str__', '__subclasshook__', '__weakref__', 'calculator', 'name', 'talk', 'value']\n"
     ]
    }
   ],
   "execution_count": 72
  },
  {
   "metadata": {
    "ExecuteTime": {
     "end_time": "2025-03-19T05:12:01.925891Z",
     "start_time": "2025-03-19T05:12:01.918680Z"
    }
   },
   "cell_type": "code",
   "source": "callable(getattr(tc, 'talk', None))  # 返回 True/False",
   "id": "f2d8853e83e0e58c",
   "outputs": [
    {
     "data": {
      "text/plain": [
       "True"
      ]
     },
     "execution_count": 76,
     "metadata": {},
     "output_type": "execute_result"
    }
   ],
   "execution_count": 76
  },
  {
   "metadata": {
    "ExecuteTime": {
     "end_time": "2025-03-19T05:12:19.748296Z",
     "start_time": "2025-03-19T05:12:19.742116Z"
    }
   },
   "cell_type": "code",
   "source": "callable(getattr(tc, 'name', None))  # 只有方法(函数)可以调用,变量是不可以调用的",
   "id": "36df0c21aeb5c924",
   "outputs": [
    {
     "data": {
      "text/plain": [
       "False"
      ]
     },
     "execution_count": 78,
     "metadata": {},
     "output_type": "execute_result"
    }
   ],
   "execution_count": 78
  },
  {
   "metadata": {
    "ExecuteTime": {
     "end_time": "2025-03-19T05:19:32.427514Z",
     "start_time": "2025-03-19T05:19:32.417616Z"
    }
   },
   "cell_type": "code",
   "source": [
    "import inspect\n",
    "import jieba\n",
    "class Calculator:\n",
    "    def calculator(self,expression):\n",
    "        self.value = eval(expression)\n",
    "\n",
    "class Talker:\n",
    "    def talk(self):\n",
    "        print(\"Hi, my value is\", self.value)\n",
    "\n",
    "class TalkingCalculator(Calculator,Talker):\n",
    "    pass\n",
    "\n",
    "tc =TalkingCalculator()\n",
    "tc.calculator('3 ** 3 + 1')\n",
    "tc.talk()\n",
    "\n",
    "# inspect.getsource(jieba)\n",
    "inspect.getsource(tc.talk)"
   ],
   "id": "1f9a50671fede1de",
   "outputs": [
    {
     "name": "stdout",
     "output_type": "stream",
     "text": [
      "Hi, my value is 28\n"
     ]
    },
    {
     "data": {
      "text/plain": [
       "'    def talk(self):\\n        print(\"Hi, my value is\", self.value)\\n'"
      ]
     },
     "execution_count": 103,
     "metadata": {},
     "output_type": "execute_result"
    }
   ],
   "execution_count": 103
  },
  {
   "metadata": {},
   "cell_type": "markdown",
   "source": [
    "## 抽象基类\n",
    "\n",
    "#### 一、动机：为什么需要抽象基类？\n",
    "**传统鸭子类型的痛点**\n",
    "假设你要设计一个「会说话」的接口，传统做法是相信所有对象都有 `.talk()` 方法：\n",
    "```python\n",
    "def interview(obj):\n",
    "    obj.talk()  # 直接调用，运行时报错可能大\n",
    "```\n",
    "但这种方式存在风险：\n",
    "1. **缺乏明确约定**：协作开发时，他人可能忘记实现 `.talk()`\n",
    "2. **调试困难**：错误只能在运行时暴露，无法提前检查\n",
    "3. **继承关系模糊**：无法强制要求子类必须实现某些方法\n",
    "\n",
    "**抽象基类的作用**\n",
    "- **定义明确接口**：像签订合同一样，规定子类必须实现哪些方法\n",
    "- **提前报错**：在类定义阶段就检查是否实现接口方法\n",
    "- **类型检查升级**：用 `isinstance(obj, 抽象类)` 验证对象能力\n",
    "\n",
    "---\n",
    "\n",
    "#### 二、核心概念解析\n",
    "##### 1. 抽象基类（Abstract Base Class）\n",
    "- **特点**：\n",
    "  - 不能直接实例化（只能被继承）\n",
    "  - 包含至少一个抽象方法（用 `@abstractmethod` 标记）\n",
    "- **作用**：充当「接口合同」，强制子类实现约定方法\n",
    "\n",
    "##### 2. 抽象方法（Abstract Method）\n",
    "- **标记方式**：用装饰器 `@abstractmethod` 声明\n",
    "- **意义**：子类必须实现该方法，否则无法实例化\n",
    "\n",
    "---\n",
    "\n",
    "#### 三、代码示例：从问题到解决方案\n",
    "##### 传统方式的隐患\n",
    "```python\n",
    "class Duck:\n",
    "    def quack(self):  # 忘记实现 talk()\n",
    "        print(\"Quack!\")\n",
    "\n",
    "def make_it_talk(obj):\n",
    "    obj.talk()  # 运行时才发现错误\n",
    "\n",
    "duck = Duck()\n",
    "make_it_talk(duck)  # ❌ AttributeError: 'Duck' 对象没有 'talk'\n",
    "```\n",
    "\n",
    "##### 使用抽象基类改进\n",
    "```python\n",
    "from abc import ABC, abstractmethod\n",
    "\n",
    "class Talker(ABC):  # 抽象基类\n",
    "    @abstractmethod\n",
    "    def talk(self):  # 抽象方法\n",
    "        pass\n",
    "\n",
    "class ValidTalker(Talker):\n",
    "    def talk(self):  # 必须实现\n",
    "        print(\"Hello!\")\n",
    "\n",
    "class InvalidTalker(Talker):  # ❌ 未实现 talk()\n",
    "    pass\n",
    "\n",
    "vt = ValidTalker()  # ✅ 正常实例化\n",
    "it = InvalidTalker()  # ❌ 报错: 无法实例化抽象类\n",
    "```\n",
    "\n",
    "---\n",
    "\n",
    "#### 四、高级用法：接口注册机制\n",
    "##### 1. 问题场景\n",
    "已有第三方类 `Herring` 实现了 `.talk()`，但无法修改其继承关系：\n",
    "```python\n",
    "class Herring:\n",
    "    def talk(self):\n",
    "        print(\"Blub.\")\n",
    "```\n",
    "\n",
    "##### 2. 注册为抽象基类子类\n",
    "```python\n",
    "Talker.register(Herring)  # 注册为「虚拟子类」\n",
    "\n",
    "h = Herring()\n",
    "print(isinstance(h, Talker))  # ✅ 输出: True\n",
    "print(issubclass(Herring, Talker))  # ✅ 输出: True\n",
    "```\n",
    "\n",
    "##### 3. 注意事项\n",
    "- **弱约束**：注册不强制实现方法，需自行保证：\n",
    "```python\n",
    "Talker.register(object)  # 注册无效类\n",
    "obj = object()\n",
    "isinstance(obj, Talker)  # ✅ 输出: True\n",
    "obj.talk()  # ❌ 报错: object 没有 talk()\n",
    "```\n",
    "\n",
    "---\n",
    "\n",
    "#### 五、抽象基类 VS 传统方法\n",
    "| 特性                  | 传统鸭子类型               | 抽象基类                     |\n",
    "|-----------------------|--------------------------|-----------------------------|\n",
    "| **接口定义**           | 无，靠文档约定             | 显式声明抽象方法              |\n",
    "| **错误发现时机**       | 运行时调用报错             | 类定义或实例化时报错           |\n",
    "| **继承关系验证**       | 无                        | 强制子类实现接口              |\n",
    "| **类型检查可靠性**     | 低（需配合 hasattr）       | 高（isinstance 直接验证）     |\n",
    "| **适用场景**           | 小型项目/快速原型           | 大型项目/团队协作/框架开发     |\n",
    "\n",
    "---\n",
    "\n",
    "#### 六、实际应用场景\n",
    "##### 1. 集合类型规范（collections.abc 模块）\n",
    "```python\n",
    "from collections.abc import Iterable\n",
    "\n",
    "def process_items(items):\n",
    "    if not isinstance(items, Iterable):\n",
    "        raise ValueError(\"必须传入可迭代对象!\")\n",
    "    for item in items:\n",
    "        print(item)\n",
    "\n",
    "process_items([1,2,3])  # ✅\n",
    "process_items(123)      # ❌ 触发 ValueError\n",
    "```\n",
    "\n",
    "##### 2. 插件系统开发\n",
    "```python\n",
    "from abc import ABC, abstractmethod\n",
    "\n",
    "class PluginBase(ABC):\n",
    "    @abstractmethod\n",
    "    def load(self):\n",
    "        \"\"\"加载插件资源\"\"\"\n",
    "\n",
    "    @abstractmethod\n",
    "    def execute(self):\n",
    "        \"\"\"执行业务逻辑\"\"\"\n",
    "\n",
    "class ValidPlugin(PluginBase):\n",
    "    def load(self):\n",
    "        print(\"Loading...\")\n",
    "\n",
    "    def execute(self):\n",
    "        print(\"Running...\")\n",
    "\n",
    "# 框架自动验证插件合规性\n",
    "plugin = ValidPlugin()  # ✅\n",
    "```\n",
    "\n",
    "---\n",
    "\n",
    "#### 七、总结\n",
    "- **抽象基类 = 接口合同**：明确约定子类必须实现的方法\n",
    "- **核心价值**：\n",
    "  - **提前防御错误**：在类定义阶段捕获接口缺失\n",
    "  - **提升代码可读性**：通过类型检查明确对象能力\n",
    "  - **规范化协作**：团队开发时有明确的接口文档\n",
    "- **最佳实践**：\n",
    "  - 框架设计/大型项目优先使用\n",
    "  - 简单脚本可继续用鸭子类型\n",
    "  - 谨慎使用注册机制，确保实现可靠性"
   ],
   "id": "cc6400981b89171a"
  },
  {
   "metadata": {
    "ExecuteTime": {
     "end_time": "2025-03-19T05:26:49.267733Z",
     "start_time": "2025-03-19T05:26:49.258749Z"
    }
   },
   "cell_type": "code",
   "source": [
    "from abc import ABC, abstractmethod\n",
    "\n",
    "class Talker(ABC):  # 抽象基类\n",
    "    @abstractmethod\n",
    "    def talk(self):  # 抽象方法\n",
    "        pass\n",
    "\n",
    "class ValidTalker(Talker):\n",
    "    def talk(self):  # 必须实现\n",
    "        print(\"Hello!\")\n",
    "\n",
    "# class InvalidTalker(Talker):  # ❌ 未实现 talk()\n",
    "#     pass\n",
    "\n",
    "vt = ValidTalker()  # ✅ 正常实例化\n",
    "# it = InvalidTalker()  # ❌ 报错: 无法实例化抽象类\n",
    "vt.talk()\n",
    "isinstance(vt, Talker)"
   ],
   "id": "91a34b1af3079160",
   "outputs": [
    {
     "name": "stdout",
     "output_type": "stream",
     "text": [
      "Hello!\n"
     ]
    },
    {
     "data": {
      "text/plain": [
       "True"
      ]
     },
     "execution_count": 109,
     "metadata": {},
     "output_type": "execute_result"
    }
   ],
   "execution_count": 109
  },
  {
   "metadata": {
    "ExecuteTime": {
     "end_time": "2025-03-19T05:26:37.178293Z",
     "start_time": "2025-03-19T05:26:37.172264Z"
    }
   },
   "cell_type": "code",
   "source": [
    "class Herring:\n",
    "    def talk(self):\n",
    "        print(\"Blub.\")\n",
    "h = Herring()\n",
    "h.talk()\n",
    "print(isinstance(h,Talker))"
   ],
   "id": "18af08003f115c30",
   "outputs": [
    {
     "name": "stdout",
     "output_type": "stream",
     "text": [
      "Blub.\n",
      "False\n"
     ]
    }
   ],
   "execution_count": 108
  },
  {
   "metadata": {
    "ExecuteTime": {
     "end_time": "2025-03-19T05:27:15.159903Z",
     "start_time": "2025-03-19T05:27:15.152659Z"
    }
   },
   "cell_type": "code",
   "source": [
    "Talker.register(Herring)  # 注册为「虚拟子类」\n",
    "\n",
    "h = Herring()\n",
    "print(isinstance(h, Talker))  # ✅ 输出: True\n",
    "print(issubclass(Herring, Talker))  # ✅ 输出: True"
   ],
   "id": "a317799a086f19c2",
   "outputs": [
    {
     "name": "stdout",
     "output_type": "stream",
     "text": [
      "True\n",
      "True\n"
     ]
    }
   ],
   "execution_count": 110
  },
  {
   "metadata": {
    "ExecuteTime": {
     "end_time": "2025-03-19T05:32:31.117320Z",
     "start_time": "2025-03-19T05:32:31.109701Z"
    }
   },
   "cell_type": "code",
   "source": [
    "class Stupid:\n",
    "    pass\n",
    "Talker.register(Stupid)\n",
    "print(issubclass(Stupid,Talker))        # 弱约束\n",
    "callable(getattr(Stupid,'talk',None))       # 实际没有talk功能!"
   ],
   "id": "a02960b0ea5cfbce",
   "outputs": [
    {
     "name": "stdout",
     "output_type": "stream",
     "text": [
      "True\n"
     ]
    },
    {
     "data": {
      "text/plain": [
       "False"
      ]
     },
     "execution_count": 120,
     "metadata": {},
     "output_type": "execute_result"
    }
   ],
   "execution_count": 120
  },
  {
   "metadata": {},
   "cell_type": "markdown",
   "source": [
    "换而言之，应将isinstance返回True视为一种意图表达。在这里，Clam有成为Talker的意图。\n",
    "本着鸭子类型的精神，我们相信它能承担Talker的职责，但可悲的是它失败了。\n",
    "\n",
    "## 关于面向对象设计的一些思考\n",
    "\n",
    " 将相关的东西放在一起。如果一个函数操作一个全局变量，最好将它们作为一个类的属\n",
    "性和方法。\n",
    " 不要让对象之间过于亲密。方法应只关心其所属实例的属性，对于其他实例的状态，让\n",
    "它们自己去管理就好了。\n",
    " 慎用继承，尤其是多重继承。继承有时很有用，但在有些情况下可能带来不必要的复杂\n",
    "性。要正确地使用多重继承很难，要排除其中的bug更难。\n",
    " 保持简单。让方法短小紧凑。一般而言，应确保大多数方法都能在30秒内读完并理解。\n",
    "对于其余的方法，尽可能将其篇幅控制在一页或一屏内。\n",
    "\n",
    "\n",
    "确定需要哪些类以及这些类应包含哪些方法时，尝试像下面这样做。\n",
    "\n",
    "\n",
    "1. 将有关问题的描述（程序需要做什么）记录下来，并给所有的名词、动词和形容词加\n",
    "上标记。\n",
    "2. 在名词中找出可能的类。\n",
    "3. 在动词中找出可能的方法。\n",
    "4. 在形容词中找出可能的属性。\n",
    "5. 将找出的方法和属性分配给各个类。\n",
    "\n",
    "有了面向对象模型的草图后，还需考虑类和对象之间的关系（如继承或协作）以及它们的职\n",
    "责。为进一步改进模型，可像下面这样做。\n",
    "\n",
    "1. 记录（或设想）一系列用例，即使用程序的场景，并尽力确保这些用例涵盖了所有的功能。\n",
    "2. 透彻而仔细地考虑每个场景，确保模型包含了所需的一切。如果有遗漏，就加上；如果\n",
    "有不太对的地方，就修改。不断地重复这个过程，直到对模型满意为止。\n",
    "\n",
    "\n",
    "有了你认为行之有效的模型后，就可以着手编写程序了。你很可能需要修改模型或程序的某\n",
    "些部分，所幸这在Python中很容易，请不用担心。只管按这里说的去做就好。（如果你需要更详\n",
    "细的面向对象编程指南，请参阅第19章的推荐书目。）"
   ],
   "id": "f2218c7ef157e3ce"
  }
 ],
 "metadata": {
  "kernelspec": {
   "display_name": "Python 3",
   "language": "python",
   "name": "python3"
  },
  "language_info": {
   "codemirror_mode": {
    "name": "ipython",
    "version": 2
   },
   "file_extension": ".py",
   "mimetype": "text/x-python",
   "name": "python",
   "nbconvert_exporter": "python",
   "pygments_lexer": "ipython2",
   "version": "2.7.6"
  }
 },
 "nbformat": 4,
 "nbformat_minor": 5
}
