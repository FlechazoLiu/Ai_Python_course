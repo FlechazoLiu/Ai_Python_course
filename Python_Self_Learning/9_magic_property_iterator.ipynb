{
 "cells": [
  {
   "cell_type": "markdown",
   "metadata": {},
   "source": [
    "# 魔法方法、特性和迭代器\n",
    "在Python中，有些名称很特别，开头和结尾都是两个下划线。在这样的名称中，很大一部分都是魔法（特殊）方法的名称。如果你的对象实现了这些方法，它们将在特定情况下（具体是哪种情况取决于方法的名称）被Python调用，而几乎不需要直接调用。\n",
    "- 请注意，在Python 3中没有旧式类，因此无需显式地继承object或将__metaclass__设置为type。所有的类都将隐式地继承object。如果没有指定超类，将直接继承它，否则将间接地继承它。\n",
    "\n",
    "## 构造函数\n",
    "构造函数不同于普通方法的地方在于，将在对象创建后自动调用它们."
   ]
  },
  {
   "cell_type": "code",
   "execution_count": 32,
   "metadata": {},
   "outputs": [
    {
     "data": {
      "text/plain": [
       "42"
      ]
     },
     "execution_count": 32,
     "metadata": {},
     "output_type": "execute_result"
    }
   ],
   "source": [
    "class Foobar():\n",
    "    def __init__(self, x):\n",
    "        self.x = x\n",
    "    \n",
    "f = Foobar(42)\n",
    "f.x\n"
   ]
  },
  {
   "cell_type": "code",
   "execution_count": 33,
   "metadata": {},
   "outputs": [
    {
     "name": "stdout",
     "output_type": "stream",
     "text": [
      "None\n",
      "I can be anything\n"
     ]
    }
   ],
   "source": [
    "class Foobar():\n",
    "    def __init__(self, x=None):\n",
    "        self.x = x\n",
    "    \n",
    "f = Foobar()\n",
    "print(f.x)\n",
    "g = Foobar(\"I can be anything\")\n",
    "print(g.x)"
   ]
  },
  {
   "cell_type": "markdown",
   "metadata": {},
   "source": [
    "- Python提供了魔法方法__del__，也称作析构函数（destructor）。这个方法在对象被销毁（作为垃圾被收集）前被调用，但鉴于你无法知道准确的调用时间，建议尽可能不要使用__del__。\n",
    "\n",
    "### 重写普通方法和特殊的构造函数\n",
    "**重写**是继承机制的一个重要方面，对构造函数来说尤其重要。构造函数用于初始化新建对象的状态，而对大多数子类来说，除超类的初始化代码外，还需要有自己的初始化代码。虽然所有方法的重写机制都相同，但与重写普通方法相比，重写构造函数时更有可能遇到一个特别的问题：**重写构造函数时，必须调用超类（继承的类）的构造函数，否则可能无法正确地初始化对象。**"
   ]
  },
  {
   "cell_type": "code",
   "execution_count": 34,
   "metadata": {},
   "outputs": [
    {
     "name": "stdout",
     "output_type": "stream",
     "text": [
      "Aaaah ...\n",
      "No, thanks!\n"
     ]
    }
   ],
   "source": [
    "class Bird:\n",
    "    def __init__(self):\n",
    "        self.hungry = True\n",
    "    def eat(self):\n",
    "        if self.hungry:\n",
    "            print('Aaaah ...')\n",
    "            self.hungry = False\n",
    "        else:\n",
    "            print('No, thanks!')\n",
    "b = Bird()\n",
    "b.eat()\n",
    "b.eat()"
   ]
  },
  {
   "cell_type": "code",
   "execution_count": 35,
   "metadata": {},
   "outputs": [
    {
     "name": "stdout",
     "output_type": "stream",
     "text": [
      "Squawk!\n"
     ]
    },
    {
     "ename": "AttributeError",
     "evalue": "'SongBird' object has no attribute 'hungry'",
     "output_type": "error",
     "traceback": [
      "\u001b[1;31m---------------------------------------------------------------------------\u001b[0m",
      "\u001b[1;31mAttributeError\u001b[0m                            Traceback (most recent call last)",
      "Cell \u001b[1;32mIn[35], line 8\u001b[0m\n\u001b[0;32m      6\u001b[0m sb \u001b[38;5;241m=\u001b[39m SongBird()\n\u001b[0;32m      7\u001b[0m sb\u001b[38;5;241m.\u001b[39msing()\n\u001b[1;32m----> 8\u001b[0m sb\u001b[38;5;241m.\u001b[39meat()\n",
      "Cell \u001b[1;32mIn[34], line 5\u001b[0m, in \u001b[0;36mBird.eat\u001b[1;34m(self)\u001b[0m\n\u001b[0;32m      4\u001b[0m \u001b[38;5;28;01mdef\u001b[39;00m \u001b[38;5;21meat\u001b[39m(\u001b[38;5;28mself\u001b[39m):\n\u001b[1;32m----> 5\u001b[0m     \u001b[38;5;28;01mif\u001b[39;00m \u001b[38;5;28mself\u001b[39m\u001b[38;5;241m.\u001b[39mhungry:\n\u001b[0;32m      6\u001b[0m         \u001b[38;5;28mprint\u001b[39m(\u001b[38;5;124m'\u001b[39m\u001b[38;5;124mAaaah ...\u001b[39m\u001b[38;5;124m'\u001b[39m)\n\u001b[0;32m      7\u001b[0m         \u001b[38;5;28mself\u001b[39m\u001b[38;5;241m.\u001b[39mhungry \u001b[38;5;241m=\u001b[39m \u001b[38;5;28;01mFalse\u001b[39;00m\n",
      "\u001b[1;31mAttributeError\u001b[0m: 'SongBird' object has no attribute 'hungry'"
     ]
    }
   ],
   "source": [
    "class SongBird(Bird):\n",
    "    def __init__(self):\n",
    "        self.sound = 'Squawk!'\n",
    "    def sing(self):\n",
    "        print(self.sound)\n",
    "sb = SongBird()\n",
    "sb.sing()\n",
    "sb.eat()"
   ]
  },
  {
   "cell_type": "markdown",
   "metadata": {},
   "source": [
    "异常清楚地指出了问题出在什么地方：SongBird没有属性hungry。为何会这样呢？因为在SongBird中重写了构造函数，但新的构造函数没有包含任何初始化属性hungry的代码。要消除这种错误，SongBird的构造函数必须调用其超类（Bird）的构造函数，以确保基本的初始化得以执行。  \n",
    "为此，有两种方法：调用未关联的超类构造函数，以及使用函数super。接下来的两节将介绍这两种方法。"
   ]
  },
  {
   "cell_type": "markdown",
   "metadata": {},
   "source": [
    "### 调用未关联的超类构造函数\n",
    "在较新的Python版本中，显然应使用函数super（这将在下一节讨论）。然而，很多既有代码使用的都是本节介绍的方法，因此你必须对其有所了解。另外，这种方法也极具启迪意义，淋漓尽致地说明了关联方法和未关联方法之间的差别。"
   ]
  },
  {
   "cell_type": "code",
   "execution_count": null,
   "metadata": {},
   "outputs": [
    {
     "name": "stdout",
     "output_type": "stream",
     "text": [
      "Squawk!\n",
      "Aaaah ...\n",
      "No, thanks!\n"
     ]
    }
   ],
   "source": [
    "class SongBird(Bird):\n",
    "    def __init__(self):\n",
    "        Bird.__init__(self)      # Call the parent constructor\n",
    "        self.sound = 'Squawk!'\n",
    "    def sing(self):\n",
    "        print(self.sound)\n",
    "sb = SongBird()\n",
    "sb.sing()\n",
    "sb.eat()\n",
    "sb.eat()"
   ]
  },
  {
   "cell_type": "markdown",
   "metadata": {},
   "source": [
    "- 这样做为何管用呢？对实例调用方法时，方法的参数self将自动关联到实例（称为关联的方法），这样的示例你见过多个。  \n",
    "- 然而，如果你通过类调用方法（如Bird.__init__），就没有实例与其相关联。在这种情况下，你可随便设置参数self。这样的方法称为未关联的。这就对本节的标题做出了解释。\n",
    "- 通过将这个未关联方法的self参数设置为当前实例，将使用超类的构造函数来初始化SongBird对象。这意味着将设置其属性hungry。"
   ]
  },
  {
   "cell_type": "markdown",
   "metadata": {},
   "source": [
    "### 使用函数 super\n",
    ">- 如果你使用的不是旧版Python，就应使用函数super。这个函数只适用于新式类，而你无论如何都应使用新式类。  \n",
    ">- 调用这个函数时，将当前类和当前实例作为参数。对其返回的对象调用方法时，调用的将是超类（而不是当前类）的方法。因此，在SongBird的构造函数中，可不使用Bird，而是使用super(SongBird, self)。另外，可像通常那样（也就是像调用关联的方法那样）调用方法__init__。在Python 3中调用函数super时，可不提供任何参数（通常也应该这样做），而它将像变魔术一样完成任务。"
   ]
  },
  {
   "cell_type": "code",
   "execution_count": null,
   "metadata": {},
   "outputs": [
    {
     "name": "stdout",
     "output_type": "stream",
     "text": [
      "Aaaah ...\n",
      "No, thanks!\n",
      "Squawk!\n"
     ]
    }
   ],
   "source": [
    "class Bird:\n",
    "    def __init__(self):\n",
    "        self.hungry = True\n",
    "    def eat(self):\n",
    "        if self.hungry:\n",
    "            print('Aaaah ...')\n",
    "            self.hungry = False\n",
    "        else:\n",
    "            print('No, thanks!')\n",
    "class SongBird(Bird):\n",
    "    def __init__(self):\n",
    "        super().__init__()\n",
    "        self.sound = 'Squawk!'\n",
    "    def sing(self):\n",
    "        print(self.sound)\n",
    "        \n",
    "sb = SongBird()\n",
    "sb.eat()\n",
    "sb.eat()\n",
    "sb.sing()"
   ]
  },
  {
   "cell_type": "markdown",
   "metadata": {},
   "source": [
    "- 实际上，函数super很聪明，因此即便有多个超类，也只需调用函数super一次（条件是所有超类的构造函数也使用函数super）。另外，对于使用旧式类时处理起来很棘手的问题（如两个超类从同一个类派生而来），在使用新式类和函数super时将自动得到处理。你无需知道函数super的内部工作原理，但必须知道的是，使用函数super比调用超类的未关联构造函数（或其他方法）要好得多。\n",
    "- 函数super返回的到底是什么呢？通常，你无需关心这个问题，只管假定它返回你所需的超类即可。实际上，它返回的是一个super对象，这个对象将负责为你执行方法解析。当你访问它的属性时，它将在所有的超类（以及超类的超类，等等）中查找，直到找到指定的属性或引发AttributeError异常。"
   ]
  },
  {
   "cell_type": "markdown",
   "metadata": {},
   "source": [
    "## 元素访问\n",
    "本节将介绍一组很有用的魔法方法，让你能够创建行为类似于序列或映射的对象。我们先来解释一下什么是\"协议\":\n",
    ">在Python中，协议通常指的是规范行为的规则，有点类似于第7章提及的接口。协议指定应实现哪些方法以及这些方法应做什么。在Python中，多态仅仅基于对象的行为（而不基于祖先，如属于哪个类或其超类等），因此这个概念很重要：其他的语言可能要求对象\n",
    "属于特定的类或实现了特定的接口，而Python通常只要求对象遵循特定的协议。因此，要成为序列，只需遵循序列协议即可。\n",
    "\n",
    "### 基本的序列和映射协议\n",
    "序列和映射基本上是元素（item）的集合，要实现它们的基本行为（协议），不可变对象需要实现2个方法，而可变对象需要实现4个。\n",
    "\n",
    "- `__len__(self)`：这个方法应返回集合包含的项数，对序列来说为元素个数，对映射来说为键-值对数。如果`__len__`返回零（且没有实现覆盖这种行为的`__nonzero__`），对象在布尔上下文中将被视为假（就像空的列表、元组、字符串和字典一样）。\n",
    "- `__getitem__(self, key)`：这个方法应返回与指定键相关联的值。对序列来说，键应该是0~n-1的整数（也可以是负数，这将在后面说明），其中n为序列的长度。对映射来说，键可以是任何类型。\n",
    "- `__setitem__(self, key, value)`：这个方法应以与键相关联的方式存储值，以便以后能够使用`__getitem__`来获取。当然，仅当对象可变时才需要实现这个方法。\n",
    "- `__delitem__(self, key)`：这个方法在对对象的组成部分使用`__del__`语句时被调用，应删除与key相关联的值。同样，仅当对象可变（且允许其项被删除）时，才需要实现这个方法。对于这些方法，还有一些额外的要求。\n",
    "- 对于序列，如果键为负整数，应从末尾往前数。换而言之，`x[-n]`应与`x[len(x)-n]`等效。\n",
    "- 如果键的类型不合适（如对序列使用字符串键），可能引发`TypeError`异常。\n",
    "- 对于序列，如果索引的类型是正确的，但不在允许的范围内，应引发`IndexError`异常。\n",
    "要了解更复杂的接口和使用的抽象基类（Sequence），请参阅有关模块collections的文档。"
   ]
  },
  {
   "cell_type": "code",
   "execution_count": null,
   "metadata": {},
   "outputs": [],
   "source": [
    "def check_index(key):\n",
    "    \"\"\"\n",
    "    指定的键是否是可接受的索引？\n",
    "    键必须是非负整数，才是可接受的。如果不是整数，\n",
    "    将引发TypeError异常；如果是负数，将引发Index\n",
    "    Error异常（因为这个序列的长度是无穷的）\n",
    "    \"\"\"\n",
    "    if not isinstance(key, int): raise TypeError\n",
    "    if key < 0: raise IndexError\n",
    "class ArithmeticSequence:\n",
    "    def __init__(self, start=0, step=1):\n",
    "        \"\"\"\n",
    "        初始化这个算术序列\n",
    "        start -序列中的第一个值\n",
    "        step -两个相邻值的差\n",
    "        changed -一个字典，包含用户修改后的值\n",
    "        \"\"\"\n",
    "        self.start = start      # 存储起始值\n",
    "        self.step = step        # 存储步长值\n",
    "        self.changed = {}       # 没有任何元素被修改\n",
    "    def __getitem__(self, key):\n",
    "        \"\"\"\n",
    "        从算术序列中获取一个元素\n",
    "        \"\"\"\n",
    "        check_index(key)\n",
    "        try: return self.changed[key]               # 修改过？\n",
    "        except KeyError:                            # 如果没有修改过，\n",
    "            return self.start + key * self.step     # 就计算元素的值\n",
    "    def __setitem__(self, key, value):\n",
    "        \"\"\"\n",
    "        修改算术序列中的元素\n",
    "        \"\"\"\n",
    "        check_index(key)\n",
    "        self.changed[key] = value                   # 存储修改后的值"
   ]
  },
  {
   "cell_type": "markdown",
   "metadata": {},
   "source": [
    "这些代码实现的是一个算术序列，其中任何两个相邻数字的差都相同。第一个值是由构造函数的参数start（默认为0）指定的，而相邻值之间的差是由参数step（默认为1）指定的。你允许用户修改某些元素，这是通过将不符合规则的值保存在字典changed中实现的。如果元素未被修改，就使用公式self.start + key * self.step来计算它的值。"
   ]
  },
  {
   "cell_type": "code",
   "execution_count": null,
   "metadata": {},
   "outputs": [
    {
     "name": "stdout",
     "output_type": "stream",
     "text": [
      "9\n",
      "-2\n"
     ]
    },
    {
     "ename": "TypeError",
     "evalue": "object of type 'ArithmeticSequence' has no len()",
     "output_type": "error",
     "traceback": [
      "\u001b[1;31m---------------------------------------------------------------------------\u001b[0m",
      "\u001b[1;31mTypeError\u001b[0m                                 Traceback (most recent call last)",
      "Cell \u001b[1;32mIn[13], line 5\u001b[0m\n\u001b[0;32m      3\u001b[0m s[\u001b[38;5;241m4\u001b[39m] \u001b[38;5;241m=\u001b[39m \u001b[38;5;241m-\u001b[39m\u001b[38;5;241m2\u001b[39m\n\u001b[0;32m      4\u001b[0m \u001b[38;5;28mprint\u001b[39m(s[\u001b[38;5;241m4\u001b[39m])\n\u001b[1;32m----> 5\u001b[0m \u001b[38;5;28mlen\u001b[39m(s)\n",
      "\u001b[1;31mTypeError\u001b[0m: object of type 'ArithmeticSequence' has no len()"
     ]
    }
   ],
   "source": [
    "s = ArithmeticSequence(1, 2)\n",
    "print(s[4])\n",
    "s[4] = -2\n",
    "print(s[4])\n",
    "len(s)              # 无穷项, 我们没有给它len方法"
   ]
  },
  {
   "cell_type": "code",
   "execution_count": null,
   "metadata": {},
   "outputs": [
    {
     "ename": "IndexError",
     "evalue": "",
     "output_type": "error",
     "traceback": [
      "\u001b[1;31m---------------------------------------------------------------------------\u001b[0m",
      "\u001b[1;31mIndexError\u001b[0m                                Traceback (most recent call last)",
      "Cell \u001b[1;32mIn[9], line 1\u001b[0m\n\u001b[1;32m----> 1\u001b[0m s[\u001b[38;5;241m-\u001b[39m\u001b[38;5;241m2\u001b[39m]\n",
      "Cell \u001b[1;32mIn[4], line 25\u001b[0m, in \u001b[0;36mArithmeticSequence.__getitem__\u001b[1;34m(self, key)\u001b[0m\n\u001b[0;32m     21\u001b[0m \u001b[38;5;28;01mdef\u001b[39;00m \u001b[38;5;21m__getitem__\u001b[39m(\u001b[38;5;28mself\u001b[39m, key):\n\u001b[0;32m     22\u001b[0m \u001b[38;5;250m    \u001b[39m\u001b[38;5;124;03m\"\"\"\u001b[39;00m\n\u001b[0;32m     23\u001b[0m \u001b[38;5;124;03m    从算术序列中获取一个元素\u001b[39;00m\n\u001b[0;32m     24\u001b[0m \u001b[38;5;124;03m    \"\"\"\u001b[39;00m\n\u001b[1;32m---> 25\u001b[0m     check_index(key)\n\u001b[0;32m     26\u001b[0m     \u001b[38;5;28;01mtry\u001b[39;00m: \u001b[38;5;28;01mreturn\u001b[39;00m \u001b[38;5;28mself\u001b[39m\u001b[38;5;241m.\u001b[39mchanged[key]               \u001b[38;5;66;03m# 修改过？\u001b[39;00m\n\u001b[0;32m     27\u001b[0m     \u001b[38;5;28;01mexcept\u001b[39;00m \u001b[38;5;167;01mKeyError\u001b[39;00m:                            \u001b[38;5;66;03m# 如果没有修改过，\u001b[39;00m\n",
      "Cell \u001b[1;32mIn[4], line 9\u001b[0m, in \u001b[0;36mcheck_index\u001b[1;34m(key)\u001b[0m\n\u001b[0;32m      2\u001b[0m \u001b[38;5;250m\u001b[39m\u001b[38;5;124;03m\"\"\"\u001b[39;00m\n\u001b[0;32m      3\u001b[0m \u001b[38;5;124;03m指定的键是否是可接受的索引？\u001b[39;00m\n\u001b[0;32m      4\u001b[0m \u001b[38;5;124;03m键必须是非负整数，才是可接受的。如果不是整数，\u001b[39;00m\n\u001b[0;32m      5\u001b[0m \u001b[38;5;124;03m将引发TypeError异常；如果是负数，将引发Index\u001b[39;00m\n\u001b[0;32m      6\u001b[0m \u001b[38;5;124;03mError异常（因为这个序列的长度是无穷的）\u001b[39;00m\n\u001b[0;32m      7\u001b[0m \u001b[38;5;124;03m\"\"\"\u001b[39;00m\n\u001b[0;32m      8\u001b[0m \u001b[38;5;28;01mif\u001b[39;00m \u001b[38;5;129;01mnot\u001b[39;00m \u001b[38;5;28misinstance\u001b[39m(key, \u001b[38;5;28mint\u001b[39m): \u001b[38;5;28;01mraise\u001b[39;00m \u001b[38;5;167;01mTypeError\u001b[39;00m\n\u001b[1;32m----> 9\u001b[0m \u001b[38;5;28;01mif\u001b[39;00m key \u001b[38;5;241m<\u001b[39m \u001b[38;5;241m0\u001b[39m: \u001b[38;5;28;01mraise\u001b[39;00m \u001b[38;5;167;01mIndexError\u001b[39;00m\n",
      "\u001b[1;31mIndexError\u001b[0m: "
     ]
    }
   ],
   "source": [
    "s[-2]       # 索引检查是由我为此编写的辅助函数check_index负责的。"
   ]
  },
  {
   "cell_type": "code",
   "execution_count": null,
   "metadata": {},
   "outputs": [
    {
     "ename": "AttributeError",
     "evalue": "__delitem__",
     "output_type": "error",
     "traceback": [
      "\u001b[1;31m---------------------------------------------------------------------------\u001b[0m",
      "\u001b[1;31mAttributeError\u001b[0m                            Traceback (most recent call last)",
      "Cell \u001b[1;32mIn[11], line 1\u001b[0m\n\u001b[1;32m----> 1\u001b[0m \u001b[38;5;28;01mdel\u001b[39;00m s[\u001b[38;5;241m4\u001b[39m]\n",
      "\u001b[1;31mAttributeError\u001b[0m: __delitem__"
     ]
    }
   ],
   "source": [
    "del s[4]            # 也没有del方法"
   ]
  },
  {
   "cell_type": "markdown",
   "metadata": {},
   "source": [
    "### 从 list、dict 和 str 派生\n",
    "- 基本的序列/映射协议指定的4个方法能够让你走很远，但序列还有很多其他有用的魔法方法和普通方法，其中包括将在9.6节介绍的方法__iter__。要实现所有这些方法，不仅工作量大，而且难度不小。如果只想定制某种操作的行为，就没有理由去重新实现其他所有方法。这就是程序员的懒惰（也是常识）。\n",
    "- 那么该如何做呢？“咒语”就是继承。在能够继承的情况下为何去重新实现呢？在标准库中，模块collections提供了抽象和具体的基类，但你也可以继承内置类型。因此，如果要实现一种行为类似于内置列表的序列类型，可直接继承list。"
   ]
  },
  {
   "cell_type": "code",
   "execution_count": null,
   "metadata": {},
   "outputs": [],
   "source": [
    "# 一个带访问计数器的列表 #\n",
    "class CounterList(list):\n",
    "    def __init__(self, *args):\n",
    "        super().__init__(*args)\n",
    "        self.counter = 0\n",
    "    def __getitem__(self, index):\n",
    "        self.counter += 1\n",
    "        return super(CounterList, self).__getitem__(index)"
   ]
  },
  {
   "cell_type": "markdown",
   "metadata": {},
   "source": [
    "CounterList类深深地依赖于其超类（list）的行为。CounterList没有重写的方法（如append、extend、index等）都可直接使用。在两个被重写的方法中，使用super来调用超类的相应方法，并添加了必要的行为：初始化属性counter（在__init__中）和更新属性counter（在__getitem__中）。\n",
    "- 注意 重写__getitem__并不能保证一定会捕捉用户的访问操作，因为还有其他访问列表内容的方式，如通过方法pop。"
   ]
  },
  {
   "cell_type": "code",
   "execution_count": null,
   "metadata": {},
   "outputs": [
    {
     "name": "stdout",
     "output_type": "stream",
     "text": [
      "[0, 1, 2, 3, 4, 5, 6, 7, 8, 9]\n",
      "[9, 8, 7, 6, 5, 4, 3, 2, 1, 0]\n",
      "[8, 7]\n",
      "1\n",
      "1\n",
      "[9, 6, 5, 4, 3, 2, 1, 0]\n"
     ]
    }
   ],
   "source": [
    "cl = CounterList(range(10))\n",
    "print(cl)\n",
    "cl.reverse()\n",
    "print(cl)\n",
    "print(cl[1:3])\n",
    "print(cl.counter)\n",
    "del cl[1:3]\n",
    "print(cl.counter)\n",
    "print(cl)"
   ]
  },
  {
   "cell_type": "code",
   "execution_count": null,
   "metadata": {},
   "outputs": [
    {
     "name": "stdout",
     "output_type": "stream",
     "text": [
      "[0, 1, 2, 3, 4, 5, 6, 7, 8, 9]\n",
      "range(0, 10) <class 'range'>\n"
     ]
    }
   ],
   "source": [
    "a = list(range(10))\n",
    "print(a)\n",
    "print(range(10),type(range(10)))"
   ]
  },
  {
   "cell_type": "markdown",
   "metadata": {},
   "source": [
    "## 其他魔法方法\n",
    "特殊（魔法）名称的用途很多，前面展示的只是冰山一角。魔法方法大多是为非常高级的用\n",
    "途准备的，因此这里不详细介绍。然而，如果你感兴趣，可以模拟数字，让对象像函数一样被调\n",
    "用，影响对象的比较方式，等等。要更详细地了解有哪些魔法方法，可参阅“Python Reference\n",
    "Manual”的Special method names一节。\n",
    "## 特性\n",
    "第7章提到了存取方法，它们是名称类似于getHeight和setHeight的方法，用于获取或设置属\n",
    "性（这些属性可能是私有的，详情请参阅7.2.4节）。如果访问给定属性时必须采取特定的措施，\n",
    "那么像这样封装状态变量（属性）很重要。  \n",
    "\n",
    "\n",
    "那么如何解决这个问题呢？给所有的属性都提供存取方法吗？这当然并非不可能，但如果有\n",
    "大量简单的属性，这样做就不现实（而且有点傻），因为将需要编写大量这样的存取方法，除了\n",
    "获取或设置属性外什么都不做。这将引入复制并粘贴（重复代码）的坏味，显然很糟糕（虽然在\n",
    "有些语言中，这样的问题很常见）。所幸Python能够替你隐藏存取方法，让所有的属性看起来都\n",
    "一样。通过存取方法定义的属性通常称为特性（property）。\n",
    "\n",
    "\n",
    "在Python中，实际上有两种创建特定的机制，我将重点介绍较新的那种——函数property，\n",
    "它只能用于新式类。随后，我将简单说明如何使用魔法方法来实现特性。"
   ]
  },
  {
   "cell_type": "code",
   "execution_count": 37,
   "metadata": {},
   "outputs": [
    {
     "data": {
      "text/plain": [
       "(10, 5)"
      ]
     },
     "execution_count": 37,
     "metadata": {},
     "output_type": "execute_result"
    }
   ],
   "source": [
    "class Rectangle:\n",
    "    def __init__(self):\n",
    "        self.width = 0\n",
    "        self.height = 0\n",
    "    def set_size(self, size):\n",
    "        self.width, self.height = size\n",
    "    def get_size(self):\n",
    "        return self.width, self.height\n",
    "r = Rectangle()\n",
    "r.width = 10\n",
    "r.height = 5\n",
    "r.get_size()"
   ]
  },
  {
   "cell_type": "code",
   "execution_count": 38,
   "metadata": {},
   "outputs": [
    {
     "data": {
      "text/plain": [
       "20"
      ]
     },
     "execution_count": 38,
     "metadata": {},
     "output_type": "execute_result"
    }
   ],
   "source": [
    "r.set_size((20, 10))\n",
    "r.width"
   ]
  },
  {
   "cell_type": "code",
   "execution_count": 39,
   "metadata": {},
   "outputs": [],
   "source": [
    "class Rectangle:\n",
    "    def __init__(self):\n",
    "        self.width = 0\n",
    "        self.height = 0\n",
    "    def set_size(self, size):\n",
    "        self.width, self.height = size\n",
    "    def get_size(self):\n",
    "        return self.width, self.height\n",
    "    size = property(get_size, set_size)  # 创建属性"
   ]
  },
  {
   "cell_type": "markdown",
   "metadata": {},
   "source": [
    "在这个新版的Rectangle中，通过调用函数property并将存取方法作为参数（**获取方法在前，设置方法在后**）创建了一个特性，然后将名称size关联到这个特性。这样，你就能以同样的方式对待width、height和size，而无需关心它们是如何实现的。"
   ]
  },
  {
   "cell_type": "code",
   "execution_count": null,
   "metadata": {},
   "outputs": [
    {
     "data": {
      "text/plain": [
       "(10, 5)"
      ]
     },
     "execution_count": 40,
     "metadata": {},
     "output_type": "execute_result"
    }
   ],
   "source": [
    "r = Rectangle()\n",
    "r.width = 10\n",
    "r.height = 5\n",
    "r.size"
   ]
  },
  {
   "cell_type": "code",
   "execution_count": 41,
   "metadata": {},
   "outputs": [
    {
     "data": {
      "text/plain": [
       "20"
      ]
     },
     "execution_count": 41,
     "metadata": {},
     "output_type": "execute_result"
    }
   ],
   "source": [
    "r.size = (20, 10)\n",
    "r.width"
   ]
  },
  {
   "cell_type": "markdown",
   "metadata": {},
   "source": [
    "- 实际上，调用函数property时，还可不指定参数、指定一个参数、指定三个参数或指定四\n",
    "个参数。如果没有指定任何参数，创建的特性将既不可读也不可写。如果只指定一个参数（获\n",
    "取方法），创建的特性将是只读的。第三个参数是可选的，指定用于删除属性的方法（这个方\n",
    "法不接受任何参数）。第四个参数也是可选的，指定一个文档字符串。这些参数分别名为fget、\n",
    "fset、fdel和doc。如果你要创建一个只可写且带文档字符串的特性，可使用它们作为关键字参\n",
    "数来实现。\n",
    "-本节虽然很短（旨在说明函数property很简单），却非常重要。这里要说明的是，对于新式\n",
    "类，应使用特性而不是存取方法。"
   ]
  }
 ],
 "metadata": {
  "kernelspec": {
   "display_name": "ai_python_course",
   "language": "python",
   "name": "python3"
  },
  "language_info": {
   "codemirror_mode": {
    "name": "ipython",
    "version": 3
   },
   "file_extension": ".py",
   "mimetype": "text/x-python",
   "name": "python",
   "nbconvert_exporter": "python",
   "pygments_lexer": "ipython3",
   "version": "3.12.3"
  }
 },
 "nbformat": 4,
 "nbformat_minor": 2
}
