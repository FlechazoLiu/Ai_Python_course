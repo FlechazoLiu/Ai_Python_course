{
 "cells": [
  {
   "metadata": {},
   "cell_type": "code",
   "outputs": [],
   "execution_count": null,
   "source": "",
   "id": "cdfc47903760b2b2"
  },
  {
   "metadata": {},
   "cell_type": "markdown",
   "source": [
    "# 类\n",
    "创建自定义对象(尤其是对象类型或**类**)是一个Python核心概念.正是这个概念是的Python被视为一种面向对象的语言.\n",
    "\n",
    "## 对象魔法\n",
    "\n",
    "对象大致意味着**一系列数据(属性)**以及一套**访问和操作这些数据的方法**.使用对象有以下几个优点:\n",
    "1. 多态:可对不同类型的对象执行相同的操作\n",
    "2. 封装:对外部隐藏有关对象**工作原理**的细节\n",
    "3. 继承:可基于通用类创建出专用类\n",
    "\n",
    "### 多态\n",
    "这大致意味着即便你不知道变量指向的是哪种对象,也能够对其执行操作,且操作的行为将随对象所属的类型(类)而异.\n",
    "### 方法\n",
    "与对象属性相关联的函数称为方法.\n",
    "内置运算符的**重载**和大量的函数都使用了多态."
   ],
   "id": "fba5ecef073dde12"
  },
  {
   "metadata": {
    "ExecuteTime": {
     "end_time": "2025-03-16T11:04:39.857980Z",
     "start_time": "2025-03-16T11:04:39.852586Z"
    }
   },
   "cell_type": "code",
   "source": [
    "print(1 + 2)\n",
    "print(\"ice\"+\"berg\")"
   ],
   "id": "c6d27f063ad333bc",
   "outputs": [
    {
     "name": "stdout",
     "output_type": "stream",
     "text": [
      "3\n",
      "iceberg\n"
     ]
    }
   ],
   "execution_count": 1
  },
  {
   "metadata": {
    "ExecuteTime": {
     "end_time": "2025-03-16T11:06:29.743908Z",
     "start_time": "2025-03-16T11:06:29.741036Z"
    }
   },
   "cell_type": "code",
   "source": [
    "def length_message(x):\n",
    "    print(\"The length of\",repr(x),\"is\",len(x))          # repr()是多态的集大成者之一,可用于任何对象.\n",
    "\n",
    "length_message(\"Ice\")\n",
    "length_message([1,2,3,4,5])"
   ],
   "id": "49eb4ab7dfac5dec",
   "outputs": [
    {
     "name": "stdout",
     "output_type": "stream",
     "text": [
      "The length of 'Ice' is 3\n",
      "The length of [1, 2, 3, 4, 5] is 5\n"
     ]
    }
   ],
   "execution_count": 4
  },
  {
   "metadata": {},
   "cell_type": "markdown",
   "source": [
    "这里讨论的多态形式是Python编程方式的核心,有时称为鸭子类型.详细信息请参阅[这个网站](http://en.wikipwdia.org/wiki/Duck_typing).\n",
    "### 封装\n",
    "基本上,你希望对象是抽象的:当调用方法时,无须操心其他的事情,如避免干扰全局变量.\n",
    "属性是归属于对象的变量,就像方法一样.实际上,方法差不多就是与函数相关联的属性.\n",
    "每个对象有自己的状态,对象的状态由其属性描述.对象的方法可能修改这些属性,因此对象将一系列函数(方法)组合起来,并赋予它们访问一些变量(属性)的权限,而属性可用于在两次函数调用之间储存值.\n",
    "\n",
    "## 类\n",
    "**类**,就是**类型**,类是一**种**对象.每个**对象**都属于特定的类,是该类的一个**实例**\n",
    "一个类是另一个类的子集时,前者为后者的**子类**,后者为前者的**超类**.\n",
    "\n",
    "- 注意:在Python中,约定使用单数并将首字母大写作为类的名称,如Bird和Lark\n",
    "\n",
    "\n",
    "有鉴于此,要定义子类,只需定义多出来的方法(还可能重写一些既有的方法)\n",
    "- 在Python 3中,已不再区分**类**和**类型**了.\n",
    "\n",
    "### 创建自定义类\n"
   ],
   "id": "3363a8832339995e"
  },
  {
   "metadata": {
    "ExecuteTime": {
     "end_time": "2025-03-16T11:31:40.010823Z",
     "start_time": "2025-03-16T11:31:40.007294Z"
    }
   },
   "cell_type": "code",
   "source": [
    "class Person:           # class创建独立的命名空间,Person是类的名称\n",
    "    def set_name(self,name):       # self会作为第一个参数自动传递给函数(方法),参数self指向对象本身,事实上,将所有的self换为a不会有任何问题!\n",
    "        self.name = name\n",
    "    def get_name(self):\n",
    "        return self.name\n",
    "    def greet(self):\n",
    "        print(\"Hello, my name is \" + self.name)\n",
    "\n",
    "foo = Person()\n",
    "bar = Person()\n",
    "foo.set_name(\"John\")\n",
    "bar.set_name(\"Alice\")\n",
    "foo.greet()\n",
    "bar.greet()\n",
    "Person.greet(foo)           # foo是Person的一个实例,这样写多态性更低."
   ],
   "id": "6031579f17249fa0",
   "outputs": [
    {
     "name": "stdout",
     "output_type": "stream",
     "text": [
      "Hello, my name is John\n",
      "Hello, my name is Alice\n",
      "Hello, my name is John\n"
     ]
    }
   ],
   "execution_count": 15
  },
  {
   "metadata": {
    "ExecuteTime": {
     "end_time": "2025-03-16T11:37:45.457335Z",
     "start_time": "2025-03-16T11:37:45.453969Z"
    }
   },
   "cell_type": "code",
   "source": [
    "print(foo.name)\n",
    "bar.name = \"Bob\"\n",
    "bar.greet()"
   ],
   "id": "95b0df97ebfacb1a",
   "outputs": [
    {
     "name": "stdout",
     "output_type": "stream",
     "text": [
      "John\n",
      "Hello, my name is Bob\n"
     ]
    }
   ],
   "execution_count": 17
  },
  {
   "metadata": {},
   "cell_type": "markdown",
   "source": [
    "### 属性,函数和方法\n",
    "实际上,方法和函数的区别表现在前一节提到的参数self上.\n",
    "方法(**关联**的方法)将其第一个参数关联到所属的实例,因此无须提供这个参数.无疑可以将属性关联到一个普通函数,但这样就没有特殊的self参数了."
   ],
   "id": "637284c5019112f"
  },
  {
   "metadata": {
    "ExecuteTime": {
     "end_time": "2025-03-16T11:46:49.967175Z",
     "start_time": "2025-03-16T11:46:49.962533Z"
    }
   },
   "cell_type": "code",
   "source": [
    "class Class:\n",
    "    def method(self):\n",
    "        print(\"I have a self!\")\n",
    "def function():\n",
    "    print(\"I don't have a self!\")\n",
    "\n",
    "instance = Class()\n",
    "instance.method()       # 此时 method 是一个绑定方法（Bound Method），自动传递 self 参数。\n",
    "instance.method = function          # Python允许直接修改实例的方法属性，此时 method 变为一个普通函数（Unbound Function）\n",
    "instance.method()       # 重绑定仅影响当前实例，不破坏类的原始定义。\n",
    "instance2 = Class()\n",
    "instance2.method()"
   ],
   "id": "196142d8585e1a40",
   "outputs": [
    {
     "name": "stdout",
     "output_type": "stream",
     "text": [
      "I have a self!\n",
      "I don't have a self!\n",
      "I have a self!\n"
     ]
    }
   ],
   "execution_count": 20
  },
  {
   "metadata": {
    "ExecuteTime": {
     "end_time": "2025-03-16T11:50:20.086645Z",
     "start_time": "2025-03-16T11:50:20.083349Z"
    }
   },
   "cell_type": "code",
   "source": [
    "class Bird:\n",
    "    song = 'Squaawk!'\n",
    "    def sing(self):\n",
    "        print(self.song)\n",
    "bird = Bird()\n",
    "bird.sing()\n",
    "birdsong = bird.sing        # 可以让另一个变量指向同一个方法\n",
    "birdsong()                  # 看起来很像函数调用,实际上是一个绑定方法,能够访问self参数"
   ],
   "id": "4f32a2cade7dd42f",
   "outputs": [
    {
     "name": "stdout",
     "output_type": "stream",
     "text": [
      "Squaawk!\n",
      "Squaawk!\n"
     ]
    }
   ],
   "execution_count": 24
  },
  {
   "metadata": {
    "ExecuteTime": {
     "end_time": "2025-03-16T11:53:29.855451Z",
     "start_time": "2025-03-16T11:53:29.852288Z"
    }
   },
   "cell_type": "code",
   "source": [
    "class MyClass:\n",
    "    def my_method(self):\n",
    "        print(\"self 的类型:\", type(self))  # 输出: <class '__main__.MyClass'>\n",
    "        print(\"self 的地址:\", hex(id(self)))  # 实例内存地址\n",
    "        print(\"self 的属性:\", self.__dict__)  # 查看实例所有属性\n",
    "a = MyClass()\n",
    "a.my_method()"
   ],
   "id": "9811291e990560ce",
   "outputs": [
    {
     "name": "stdout",
     "output_type": "stream",
     "text": [
      "self 的类型: <class '__main__.MyClass'>\n",
      "self 的地址: 0x269f7e5d910\n",
      "self 的属性: {}\n"
     ]
    }
   ],
   "execution_count": 28
  },
  {
   "metadata": {
    "ExecuteTime": {
     "end_time": "2025-03-16T11:56:21.632265Z",
     "start_time": "2025-03-16T11:56:21.620916Z"
    }
   },
   "cell_type": "code",
   "source": [
    "class SecretiveClass:\n",
    "    def __inaccessible(self):\n",
    "        print(\"Bet you can't see me!\")\n",
    "    def accessible(self):\n",
    "        print(\"The secret message is:\")\n",
    "        self.__inaccessible()\n",
    "s = SecretiveClass()\n",
    "s.__inaccessible()"
   ],
   "id": "30b61ccb2b983a09",
   "outputs": [
    {
     "ename": "AttributeError",
     "evalue": "'SecretiveClass' object has no attribute '__inaccessible'",
     "output_type": "error",
     "traceback": [
      "\u001B[1;31m---------------------------------------------------------------------------\u001B[0m",
      "\u001B[1;31mAttributeError\u001B[0m                            Traceback (most recent call last)",
      "Cell \u001B[1;32mIn[29], line 8\u001B[0m\n\u001B[0;32m      6\u001B[0m         \u001B[38;5;28mself\u001B[39m\u001B[38;5;241m.\u001B[39m__inaccessible()\n\u001B[0;32m      7\u001B[0m s \u001B[38;5;241m=\u001B[39m SecretiveClass()\n\u001B[1;32m----> 8\u001B[0m s\u001B[38;5;241m.\u001B[39m__inaccessible()\n",
      "\u001B[1;31mAttributeError\u001B[0m: 'SecretiveClass' object has no attribute '__inaccessible'"
     ]
    }
   ],
   "execution_count": 29
  },
  {
   "metadata": {
    "ExecuteTime": {
     "end_time": "2025-03-16T11:56:36.988809Z",
     "start_time": "2025-03-16T11:56:36.984420Z"
    }
   },
   "cell_type": "code",
   "source": "s.accessible()",
   "id": "dfebbe578759eed4",
   "outputs": [
    {
     "name": "stdout",
     "output_type": "stream",
     "text": [
      "The secret message is:\n",
      "Bet you can't see me!\n"
     ]
    }
   ],
   "execution_count": 30
  },
  {
   "metadata": {},
   "cell_type": "code",
   "outputs": [],
   "execution_count": null,
   "source": "",
   "id": "6fa5506ac4a7f00b"
  }
 ],
 "metadata": {
  "kernelspec": {
   "display_name": "Python 3",
   "language": "python",
   "name": "python3"
  },
  "language_info": {
   "codemirror_mode": {
    "name": "ipython",
    "version": 2
   },
   "file_extension": ".py",
   "mimetype": "text/x-python",
   "name": "python",
   "nbconvert_exporter": "python",
   "pygments_lexer": "ipython2",
   "version": "2.7.6"
  }
 },
 "nbformat": 4,
 "nbformat_minor": 5
}
