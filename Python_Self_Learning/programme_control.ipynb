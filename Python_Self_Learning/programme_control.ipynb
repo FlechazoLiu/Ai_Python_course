{
 "cells": [
  {
   "metadata": {},
   "cell_type": "markdown",
   "source": "# 条件,循环及其他语句",
   "id": "b620a83374dd0877"
  },
  {
   "metadata": {},
   "cell_type": "markdown",
   "source": "## 再谈 print 和 import",
   "id": "9c781bf9cda7291"
  },
  {
   "metadata": {
    "ExecuteTime": {
     "end_time": "2025-03-13T08:54:19.842767Z",
     "start_time": "2025-03-13T08:54:19.836230Z"
    }
   },
   "cell_type": "code",
   "source": "print('Age:',42)            # 打印多个表达式,用逗号隔开,注意到打印出来的参数之间自动插入了一个空格!!!",
   "id": "ae153637f4e8e12a",
   "outputs": [
    {
     "name": "stdout",
     "output_type": "stream",
     "text": [
      "Age 42\n"
     ]
    }
   ],
   "execution_count": 1
  },
  {
   "metadata": {
    "ExecuteTime": {
     "end_time": "2025-03-13T08:57:38.763093Z",
     "start_time": "2025-03-13T08:57:38.759633Z"
    }
   },
   "cell_type": "code",
   "source": [
    "name = 'Gumby'\n",
    "salutation = 'Mr.'\n",
    "greeting = 'Hello,'\n",
    "print(greeting,salutation,name)"
   ],
   "id": "3abe75d0268e9f7f",
   "outputs": [
    {
     "name": "stdout",
     "output_type": "stream",
     "text": [
      "Hello, Mr. Gumby\n"
     ]
    }
   ],
   "execution_count": 2
  },
  {
   "metadata": {
    "ExecuteTime": {
     "end_time": "2025-03-13T08:58:16.857861Z",
     "start_time": "2025-03-13T08:58:16.854984Z"
    }
   },
   "cell_type": "code",
   "source": [
    "greeting = 'Hello'\n",
    "print(greeting,',',salutation,name)    # 这在逗号前加了一个空格,不好"
   ],
   "id": "ebc0f0d62f8e81a5",
   "outputs": [
    {
     "name": "stdout",
     "output_type": "stream",
     "text": [
      "Hello , Mr. Gumby\n"
     ]
    }
   ],
   "execution_count": 3
  },
  {
   "metadata": {
    "ExecuteTime": {
     "end_time": "2025-03-13T08:59:24.210351Z",
     "start_time": "2025-03-13T08:59:24.207433Z"
    }
   },
   "cell_type": "code",
   "source": "print(greeting + ',',salutation,name)       # 可行的解决方案",
   "id": "2406e3f099fdae7d",
   "outputs": [
    {
     "name": "stdout",
     "output_type": "stream",
     "text": [
      "Hello, Mr. Gumby\n"
     ]
    }
   ],
   "execution_count": 5
  },
  {
   "metadata": {
    "ExecuteTime": {
     "end_time": "2025-03-13T09:01:51.609699Z",
     "start_time": "2025-03-13T09:01:51.606023Z"
    }
   },
   "cell_type": "code",
   "source": [
    "print('I',\"wish\",'to','register','a','complaint',sep='_',end='[over]')\n",
    "# 自定义分隔符,自定义结束字符串(以替换默认的换行符)"
   ],
   "id": "f15b7f95567b834",
   "outputs": [
    {
     "name": "stdout",
     "output_type": "stream",
     "text": [
      "I_wish_to_register_a_complaint[over]"
     ]
    }
   ],
   "execution_count": 7
  },
  {
   "metadata": {
    "ExecuteTime": {
     "end_time": "2025-03-13T09:03:05.526363Z",
     "start_time": "2025-03-13T09:03:05.522937Z"
    }
   },
   "cell_type": "code",
   "source": [
    "print('Hello ')\n",
    "print('world!')"
   ],
   "id": "4d84cb3c50e40b84",
   "outputs": [
    {
     "name": "stdout",
     "output_type": "stream",
     "text": [
      "Hello \n",
      "world!\n"
     ]
    }
   ],
   "execution_count": 8
  },
  {
   "metadata": {
    "ExecuteTime": {
     "end_time": "2025-03-13T09:03:29.968996Z",
     "start_time": "2025-03-13T09:03:29.966508Z"
    }
   },
   "cell_type": "code",
   "source": [
    "print('Hello ',end = '')\n",
    "print('world!')"
   ],
   "id": "5fd7b84af8c2b665",
   "outputs": [
    {
     "name": "stdout",
     "output_type": "stream",
     "text": [
      "Hello world!\n"
     ]
    }
   ],
   "execution_count": 9
  },
  {
   "metadata": {},
   "cell_type": "markdown",
   "source": [
    "---\n",
    "我们再来看 import"
   ],
   "id": "1badc5541a585455"
  },
  {
   "metadata": {
    "ExecuteTime": {
     "end_time": "2025-03-13T09:07:16.603776Z",
     "start_time": "2025-03-13T09:07:16.598551Z"
    }
   },
   "cell_type": "code",
   "source": [
    "import math\n",
    "import cmath\n",
    "from math import pi\n",
    "from math import sqrt,exp2,log2\n",
    "from math import *          # 导入模块中的一切\n",
    "math.sqrt(5)\n",
    "cmath.sqrt(-5)"
   ],
   "id": "11c1a11b9ee1ab0f",
   "outputs": [
    {
     "data": {
      "text/plain": [
       "2.23606797749979j"
      ]
     },
     "execution_count": 11,
     "metadata": {},
     "output_type": "execute_result"
    }
   ],
   "execution_count": 11
  },
  {
   "metadata": {
    "ExecuteTime": {
     "end_time": "2025-03-13T09:07:52.217854Z",
     "start_time": "2025-03-13T09:07:52.213965Z"
    }
   },
   "cell_type": "code",
   "source": [
    "import math as m            # 在语句末尾添加as子句并指定别名\n",
    "m.sqrt(5)"
   ],
   "id": "457af0b3f4731a8e",
   "outputs": [
    {
     "data": {
      "text/plain": [
       "2.23606797749979"
      ]
     },
     "execution_count": 13,
     "metadata": {},
     "output_type": "execute_result"
    }
   ],
   "execution_count": 13
  },
  {
   "metadata": {
    "ExecuteTime": {
     "end_time": "2025-03-13T09:09:15.436546Z",
     "start_time": "2025-03-13T09:09:15.432420Z"
    }
   },
   "cell_type": "code",
   "source": [
    "from math import sqrt as gen            # 对模块中某一特定函数指定别名\n",
    "gen(5)"
   ],
   "id": "2866c5e6b24780cd",
   "outputs": [
    {
     "data": {
      "text/plain": [
       "2.23606797749979"
      ]
     },
     "execution_count": 14,
     "metadata": {},
     "output_type": "execute_result"
    }
   ],
   "execution_count": 14
  },
  {
   "metadata": {},
   "cell_type": "markdown",
   "source": "## 赋值魔法",
   "id": "54a4e0b9504dc6ce"
  },
  {
   "metadata": {
    "ExecuteTime": {
     "end_time": "2025-03-13T09:11:40.955430Z",
     "start_time": "2025-03-13T09:11:40.952342Z"
    }
   },
   "cell_type": "code",
   "source": [
    "x,y,z = 1,2,3           # 并行赋值\n",
    "print(x,y,z)"
   ],
   "id": "13805ee3893a73b4",
   "outputs": [
    {
     "name": "stdout",
     "output_type": "stream",
     "text": [
      "1 2 3\n"
     ]
    }
   ],
   "execution_count": 16
  },
  {
   "metadata": {
    "ExecuteTime": {
     "end_time": "2025-03-13T09:13:12.075945Z",
     "start_time": "2025-03-13T09:13:12.072646Z"
    }
   },
   "cell_type": "code",
   "source": [
    "x,y,z = 1,2,3\n",
    "x,y,z = z,x,y          # 可交换多个变量的值\n",
    "print(x,y,z)"
   ],
   "id": "b98b4b2506175868",
   "outputs": [
    {
     "name": "stdout",
     "output_type": "stream",
     "text": [
      "3 1 2\n"
     ]
    }
   ],
   "execution_count": 18
  },
  {
   "metadata": {
    "ExecuteTime": {
     "end_time": "2025-03-13T09:13:56.901532Z",
     "start_time": "2025-03-13T09:13:56.899020Z"
    }
   },
   "cell_type": "code",
   "source": [
    "values = (1,2,3)\n",
    "x,y,z = values          # 序列解包(可迭代对象解包),这在使用返回元组函数的时非常便捷\n",
    "print(x,y,z)            # 注意解包时左右两侧元素数量应相等"
   ],
   "id": "7eab63988b30b64a",
   "outputs": [
    {
     "name": "stdout",
     "output_type": "stream",
     "text": [
      "1 2 3\n"
     ]
    }
   ],
   "execution_count": 19
  },
  {
   "metadata": {
    "ExecuteTime": {
     "end_time": "2025-03-13T09:17:19.850490Z",
     "start_time": "2025-03-13T09:17:19.846402Z"
    }
   },
   "cell_type": "code",
   "source": [
    "a,b,*rest = 1,2,3,4         # 可使用星号运算符(*)来收集多余的值,这样无需确保值和变量的个数相同\n",
    "rest"
   ],
   "id": "8fd4925940799c93",
   "outputs": [
    {
     "data": {
      "text/plain": [
       "[3, 4]"
      ]
     },
     "execution_count": 20,
     "metadata": {},
     "output_type": "execute_result"
    }
   ],
   "execution_count": 20
  },
  {
   "metadata": {
    "ExecuteTime": {
     "end_time": "2025-03-13T09:20:18.842658Z",
     "start_time": "2025-03-13T09:20:18.839004Z"
    }
   },
   "cell_type": "code",
   "source": [
    "name = 'Albus Percival Wulfric Brain Dumbledore'\n",
    "first,*middle,last = name.split()           # 还可将带星号的变量放在其他位置,无论如何,带星号变量始终是一个列表.\n",
    "middle"
   ],
   "id": "dc8118b61228021e",
   "outputs": [
    {
     "data": {
      "text/plain": [
       "['Percival', 'Wulfric', 'Brain']"
      ]
     },
     "execution_count": 23,
     "metadata": {},
     "output_type": "execute_result"
    }
   ],
   "execution_count": 23
  },
  {
   "metadata": {
    "ExecuteTime": {
     "end_time": "2025-03-13T09:22:12.707447Z",
     "start_time": "2025-03-13T09:22:12.703243Z"
    }
   },
   "cell_type": "code",
   "source": "x = y = 5           # 链式赋值",
   "id": "ae0d4c14ae6ac365",
   "outputs": [
    {
     "data": {
      "text/plain": [
       "True"
      ]
     },
     "execution_count": 25,
     "metadata": {},
     "output_type": "execute_result"
    }
   ],
   "execution_count": 25
  },
  {
   "metadata": {
    "ExecuteTime": {
     "end_time": "2025-03-13T09:23:39.560973Z",
     "start_time": "2025-03-13T09:23:39.557446Z"
    }
   },
   "cell_type": "code",
   "source": [
    "p = 5               # 与链式赋值等效\n",
    "q = p"
   ],
   "id": "cf0454abfda8e8a0",
   "outputs": [],
   "execution_count": 28
  },
  {
   "metadata": {},
   "cell_type": "code",
   "outputs": [],
   "execution_count": null,
   "source": [
    "x = 5               # 这两条语句在某些情况下可能与上述不同,我们将在下文的运算符\"is\"处看到.\n",
    "y = 5"
   ],
   "id": "73c79e0882d0f1ee"
  },
  {
   "metadata": {
    "ExecuteTime": {
     "end_time": "2025-03-13T09:27:12.056110Z",
     "start_time": "2025-03-13T09:27:12.053170Z"
    }
   },
   "cell_type": "code",
   "source": [
    "word = 'wao'\n",
    "ch = 'ao'\n",
    "for i in range(1,10):\n",
    "    word += ch          # 增强赋值,适用于所有标准运算符\n",
    "print(word)"
   ],
   "id": "d73bc33795312f0d",
   "outputs": [
    {
     "name": "stdout",
     "output_type": "stream",
     "text": [
      "waoaoaoaoaoaoaoaoaoao\n"
     ]
    }
   ],
   "execution_count": 30
  },
  {
   "metadata": {},
   "cell_type": "markdown",
   "source": "## 代码块",
   "id": "2a8045ed9374b1ca"
  },
  {
   "metadata": {},
   "cell_type": "code",
   "outputs": [],
   "execution_count": null,
   "source": "",
   "id": "1e7f3e575005bc50"
  }
 ],
 "metadata": {
  "kernelspec": {
   "display_name": "Python 3",
   "language": "python",
   "name": "python3"
  },
  "language_info": {
   "codemirror_mode": {
    "name": "ipython",
    "version": 2
   },
   "file_extension": ".py",
   "mimetype": "text/x-python",
   "name": "python",
   "nbconvert_exporter": "python",
   "pygments_lexer": "ipython2",
   "version": "2.7.6"
  }
 },
 "nbformat": 4,
 "nbformat_minor": 5
}
