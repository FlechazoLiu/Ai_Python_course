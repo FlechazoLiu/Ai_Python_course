{
 "cells": [
  {
   "metadata": {},
   "cell_type": "markdown",
   "source": "# 条件,循环及其他语句",
   "id": "b620a83374dd0877"
  },
  {
   "metadata": {},
   "cell_type": "markdown",
   "source": "## 再谈 print 和 import",
   "id": "9c781bf9cda7291"
  },
  {
   "metadata": {
    "ExecuteTime": {
     "end_time": "2025-03-13T08:54:19.842767Z",
     "start_time": "2025-03-13T08:54:19.836230Z"
    }
   },
   "cell_type": "code",
   "source": "print('Age:',42)            # 打印多个表达式,用逗号隔开,注意到打印出来的参数之间自动插入了一个空格!!!",
   "id": "ae153637f4e8e12a",
   "outputs": [
    {
     "name": "stdout",
     "output_type": "stream",
     "text": [
      "Age 42\n"
     ]
    }
   ],
   "execution_count": 1
  },
  {
   "metadata": {
    "ExecuteTime": {
     "end_time": "2025-03-13T11:16:02.949632Z",
     "start_time": "2025-03-13T11:16:02.943185Z"
    }
   },
   "cell_type": "code",
   "source": [
    "name = 'Gumby'\n",
    "salutation = 'Mr.'\n",
    "greeting = 'Hello,'\n",
    "print(greeting,salutation,name)"
   ],
   "id": "3abe75d0268e9f7f",
   "outputs": [
    {
     "name": "stdout",
     "output_type": "stream",
     "text": [
      "Hello, Mr. Gumby\n"
     ]
    }
   ],
   "execution_count": 1
  },
  {
   "metadata": {
    "ExecuteTime": {
     "end_time": "2025-03-13T08:58:16.857861Z",
     "start_time": "2025-03-13T08:58:16.854984Z"
    }
   },
   "cell_type": "code",
   "source": [
    "greeting = 'Hello'\n",
    "print(greeting,',',salutation,name)    # 这在逗号前加了一个空格,不好"
   ],
   "id": "ebc0f0d62f8e81a5",
   "outputs": [
    {
     "name": "stdout",
     "output_type": "stream",
     "text": [
      "Hello , Mr. Gumby\n"
     ]
    }
   ],
   "execution_count": 3
  },
  {
   "metadata": {
    "ExecuteTime": {
     "end_time": "2025-03-13T08:59:24.210351Z",
     "start_time": "2025-03-13T08:59:24.207433Z"
    }
   },
   "cell_type": "code",
   "source": "print(greeting + ',',salutation,name)       # 可行的解决方案",
   "id": "2406e3f099fdae7d",
   "outputs": [
    {
     "name": "stdout",
     "output_type": "stream",
     "text": [
      "Hello, Mr. Gumby\n"
     ]
    }
   ],
   "execution_count": 5
  },
  {
   "metadata": {
    "ExecuteTime": {
     "end_time": "2025-03-13T09:01:51.609699Z",
     "start_time": "2025-03-13T09:01:51.606023Z"
    }
   },
   "cell_type": "code",
   "source": [
    "print('I',\"wish\",'to','register','a','complaint',sep='_',end='[over]')\n",
    "# 自定义分隔符,自定义结束字符串(以替换默认的换行符)"
   ],
   "id": "f15b7f95567b834",
   "outputs": [
    {
     "name": "stdout",
     "output_type": "stream",
     "text": [
      "I_wish_to_register_a_complaint[over]"
     ]
    }
   ],
   "execution_count": 7
  },
  {
   "metadata": {
    "ExecuteTime": {
     "end_time": "2025-03-13T09:03:05.526363Z",
     "start_time": "2025-03-13T09:03:05.522937Z"
    }
   },
   "cell_type": "code",
   "source": [
    "print('Hello ')\n",
    "print('world!')"
   ],
   "id": "4d84cb3c50e40b84",
   "outputs": [
    {
     "name": "stdout",
     "output_type": "stream",
     "text": [
      "Hello \n",
      "world!\n"
     ]
    }
   ],
   "execution_count": 8
  },
  {
   "metadata": {
    "ExecuteTime": {
     "end_time": "2025-03-13T09:03:29.968996Z",
     "start_time": "2025-03-13T09:03:29.966508Z"
    }
   },
   "cell_type": "code",
   "source": [
    "print('Hello ',end = '')\n",
    "print('world!')"
   ],
   "id": "5fd7b84af8c2b665",
   "outputs": [
    {
     "name": "stdout",
     "output_type": "stream",
     "text": [
      "Hello world!\n"
     ]
    }
   ],
   "execution_count": 9
  },
  {
   "metadata": {},
   "cell_type": "markdown",
   "source": [
    "---\n",
    "我们再来看 import"
   ],
   "id": "1badc5541a585455"
  },
  {
   "metadata": {
    "ExecuteTime": {
     "end_time": "2025-03-13T09:07:16.603776Z",
     "start_time": "2025-03-13T09:07:16.598551Z"
    }
   },
   "cell_type": "code",
   "source": [
    "import math\n",
    "import cmath\n",
    "from math import pi\n",
    "from math import sqrt,exp2,log2\n",
    "from math import *          # 导入模块中的一切\n",
    "math.sqrt(5)\n",
    "cmath.sqrt(-5)"
   ],
   "id": "11c1a11b9ee1ab0f",
   "outputs": [
    {
     "data": {
      "text/plain": [
       "2.23606797749979j"
      ]
     },
     "execution_count": 11,
     "metadata": {},
     "output_type": "execute_result"
    }
   ],
   "execution_count": 11
  },
  {
   "metadata": {
    "ExecuteTime": {
     "end_time": "2025-03-13T09:07:52.217854Z",
     "start_time": "2025-03-13T09:07:52.213965Z"
    }
   },
   "cell_type": "code",
   "source": [
    "import math as m            # 在语句末尾添加as子句并指定别名\n",
    "m.sqrt(5)"
   ],
   "id": "457af0b3f4731a8e",
   "outputs": [
    {
     "data": {
      "text/plain": [
       "2.23606797749979"
      ]
     },
     "execution_count": 13,
     "metadata": {},
     "output_type": "execute_result"
    }
   ],
   "execution_count": 13
  },
  {
   "metadata": {
    "ExecuteTime": {
     "end_time": "2025-03-13T09:09:15.436546Z",
     "start_time": "2025-03-13T09:09:15.432420Z"
    }
   },
   "cell_type": "code",
   "source": [
    "from math import sqrt as gen            # 对模块中某一特定函数指定别名\n",
    "gen(5)"
   ],
   "id": "2866c5e6b24780cd",
   "outputs": [
    {
     "data": {
      "text/plain": [
       "2.23606797749979"
      ]
     },
     "execution_count": 14,
     "metadata": {},
     "output_type": "execute_result"
    }
   ],
   "execution_count": 14
  },
  {
   "metadata": {},
   "cell_type": "markdown",
   "source": "## 赋值魔法",
   "id": "54a4e0b9504dc6ce"
  },
  {
   "metadata": {
    "ExecuteTime": {
     "end_time": "2025-03-13T09:11:40.955430Z",
     "start_time": "2025-03-13T09:11:40.952342Z"
    }
   },
   "cell_type": "code",
   "source": [
    "x,y,z = 1,2,3           # 并行赋值\n",
    "print(x,y,z)"
   ],
   "id": "13805ee3893a73b4",
   "outputs": [
    {
     "name": "stdout",
     "output_type": "stream",
     "text": [
      "1 2 3\n"
     ]
    }
   ],
   "execution_count": 16
  },
  {
   "metadata": {
    "ExecuteTime": {
     "end_time": "2025-03-13T09:13:12.075945Z",
     "start_time": "2025-03-13T09:13:12.072646Z"
    }
   },
   "cell_type": "code",
   "source": [
    "x,y,z = 1,2,3\n",
    "x,y,z = z,x,y          # 可交换多个变量的值\n",
    "print(x,y,z)"
   ],
   "id": "b98b4b2506175868",
   "outputs": [
    {
     "name": "stdout",
     "output_type": "stream",
     "text": [
      "3 1 2\n"
     ]
    }
   ],
   "execution_count": 18
  },
  {
   "metadata": {
    "ExecuteTime": {
     "end_time": "2025-03-13T09:13:56.901532Z",
     "start_time": "2025-03-13T09:13:56.899020Z"
    }
   },
   "cell_type": "code",
   "source": [
    "values = (1,2,3)\n",
    "x,y,z = values          # 序列解包(可迭代对象解包),这在使用返回元组函数的时非常便捷\n",
    "print(x,y,z)            # 注意解包时左右两侧元素数量应相等"
   ],
   "id": "7eab63988b30b64a",
   "outputs": [
    {
     "name": "stdout",
     "output_type": "stream",
     "text": [
      "1 2 3\n"
     ]
    }
   ],
   "execution_count": 19
  },
  {
   "metadata": {
    "ExecuteTime": {
     "end_time": "2025-03-13T09:17:19.850490Z",
     "start_time": "2025-03-13T09:17:19.846402Z"
    }
   },
   "cell_type": "code",
   "source": [
    "a,b,*rest = 1,2,3,4         # 可使用星号运算符(*)来收集多余的值,这样无需确保值和变量的个数相同\n",
    "rest"
   ],
   "id": "8fd4925940799c93",
   "outputs": [
    {
     "data": {
      "text/plain": [
       "[3, 4]"
      ]
     },
     "execution_count": 20,
     "metadata": {},
     "output_type": "execute_result"
    }
   ],
   "execution_count": 20
  },
  {
   "metadata": {
    "ExecuteTime": {
     "end_time": "2025-03-13T09:20:18.842658Z",
     "start_time": "2025-03-13T09:20:18.839004Z"
    }
   },
   "cell_type": "code",
   "source": [
    "name = 'Albus Percival Wulfric Brain Dumbledore'\n",
    "first,*middle,last = name.split()           # 还可将带星号的变量放在其他位置,无论如何,带星号变量始终是一个列表.\n",
    "middle"
   ],
   "id": "dc8118b61228021e",
   "outputs": [
    {
     "data": {
      "text/plain": [
       "['Percival', 'Wulfric', 'Brain']"
      ]
     },
     "execution_count": 23,
     "metadata": {},
     "output_type": "execute_result"
    }
   ],
   "execution_count": 23
  },
  {
   "metadata": {
    "ExecuteTime": {
     "end_time": "2025-03-13T09:22:12.707447Z",
     "start_time": "2025-03-13T09:22:12.703243Z"
    }
   },
   "cell_type": "code",
   "source": "x = y = 5           # 链式赋值",
   "id": "ae0d4c14ae6ac365",
   "outputs": [
    {
     "data": {
      "text/plain": [
       "True"
      ]
     },
     "execution_count": 25,
     "metadata": {},
     "output_type": "execute_result"
    }
   ],
   "execution_count": 25
  },
  {
   "metadata": {
    "ExecuteTime": {
     "end_time": "2025-03-13T09:23:39.560973Z",
     "start_time": "2025-03-13T09:23:39.557446Z"
    }
   },
   "cell_type": "code",
   "source": [
    "p = 5               # 与链式赋值等效\n",
    "q = p"
   ],
   "id": "cf0454abfda8e8a0",
   "outputs": [],
   "execution_count": 28
  },
  {
   "metadata": {},
   "cell_type": "code",
   "outputs": [],
   "execution_count": null,
   "source": [
    "x = 5               # 这两条语句在某些情况下可能与上述不同,我们将在下文的运算符\"is\"处看到.\n",
    "y = 5"
   ],
   "id": "73c79e0882d0f1ee"
  },
  {
   "metadata": {
    "ExecuteTime": {
     "end_time": "2025-03-13T09:27:12.056110Z",
     "start_time": "2025-03-13T09:27:12.053170Z"
    }
   },
   "cell_type": "code",
   "source": [
    "word = 'wao'\n",
    "ch = 'ao'\n",
    "for i in range(1,10):\n",
    "    word += ch          # 增强赋值,适用于所有标准运算符\n",
    "print(word)"
   ],
   "id": "d73bc33795312f0d",
   "outputs": [
    {
     "name": "stdout",
     "output_type": "stream",
     "text": [
      "waoaoaoaoaoaoaoaoaoao\n"
     ]
    }
   ],
   "execution_count": 30
  },
  {
   "metadata": {},
   "cell_type": "markdown",
   "source": "## 代码块",
   "id": "2a8045ed9374b1ca"
  },
  {
   "metadata": {},
   "cell_type": "markdown",
   "source": [
    "   - 代码块其实并不是一种语句，但要理解接下来两节的内容，你必须熟悉代码块。\n",
    "   - 代码块是一组语句，可在满足条件时执行（if语句），可执行多次（循环），等等。代码块是通过缩进代码（即在前面加空格）来创建的。\n",
    "   - **注意**：\n",
    "     - 也可使用制表符来缩进代码块。Python将制表符解释为移到下一个制表位（相邻制表位相距8个空格），但标准（也是更佳的）做法是只使用空格（而不使用制表符）来缩进，且每级缩进4个空格。\n",
    "     - 在同一个代码块中，各行代码的缩进量必须相同。下面的伪代码（并非真正的Python代码）演示了如何缩进：\n",
    "       ```\n",
    "       this is a line\n",
    "       this is another line:\n",
    "           this is another block\n",
    "           continuing the same block\n",
    "       the last line of this block\n",
    "       phew, there we escaped the inner block\n",
    "       ```\n",
    "   - 在很多语言中，都使用一个特殊的单词或字符（如`begin`或`{`）来标识代码块的起始位置，并使用另一个特殊的单词或字符（如`end`或`}`）来标识结束位置。在Python中，使用冒号（`:`）指出代码块的开始，并通过缩进来定义代码块的结束。\n",
    "   - **补充说明**：\n",
    "     - 许多编程编辑器和IDE支持自动缩进功能，可帮助用户正确缩进代码块。\n",
    "     - 下面将具体介绍代码块的实际用途（例如条件判断和循环结构）。"
   ],
   "id": "e7a9c14931049e3b"
  },
  {
   "metadata": {
    "ExecuteTime": {
     "end_time": "2025-03-13T11:21:45.318927Z",
     "start_time": "2025-03-13T11:21:45.315699Z"
    }
   },
   "cell_type": "code",
   "source": [
    "# 用作布尔表达式时, False,None,(),{},[],\"\"均为假,即数值0的任何数,任何空序列,空映射都被视为假,而其他各种值被视为真,包括True.\n",
    "True == 1"
   ],
   "id": "1eddee0e7b5de139",
   "outputs": [
    {
     "data": {
      "text/plain": [
       "True"
      ]
     },
     "execution_count": 4,
     "metadata": {},
     "output_type": "execute_result"
    }
   ],
   "execution_count": 4
  },
  {
   "metadata": {
    "ExecuteTime": {
     "end_time": "2025-03-13T11:21:50.184238Z",
     "start_time": "2025-03-13T11:21:50.180336Z"
    }
   },
   "cell_type": "code",
   "source": "False == 0",
   "id": "20bede6f8dd49ae1",
   "outputs": [
    {
     "data": {
      "text/plain": [
       "True"
      ]
     },
     "execution_count": 5,
     "metadata": {},
     "output_type": "execute_result"
    }
   ],
   "execution_count": 5
  },
  {
   "metadata": {
    "ExecuteTime": {
     "end_time": "2025-03-13T11:23:05.972139Z",
     "start_time": "2025-03-13T11:23:05.969130Z"
    }
   },
   "cell_type": "code",
   "source": "True + False + 42           # 事实上,True和False只是1和0的别称.",
   "id": "a52f91bdba5f3d0a",
   "outputs": [
    {
     "data": {
      "text/plain": [
       "43"
      ]
     },
     "execution_count": 7,
     "metadata": {},
     "output_type": "execute_result"
    }
   ],
   "execution_count": 7
  },
  {
   "metadata": {
    "ExecuteTime": {
     "end_time": "2025-03-13T11:23:26.380534Z",
     "start_time": "2025-03-13T11:23:26.377066Z"
    }
   },
   "cell_type": "code",
   "source": "bool('I think, before I am.')       # 转换为bool值",
   "id": "f1384063780c2f8c",
   "outputs": [
    {
     "data": {
      "text/plain": [
       "True"
      ]
     },
     "execution_count": 8,
     "metadata": {},
     "output_type": "execute_result"
    }
   ],
   "execution_count": 8
  },
  {
   "metadata": {
    "ExecuteTime": {
     "end_time": "2025-03-13T11:23:39.541138Z",
     "start_time": "2025-03-13T11:23:39.537621Z"
    }
   },
   "cell_type": "code",
   "source": "bool('')",
   "id": "e6452bf0e198812e",
   "outputs": [
    {
     "data": {
      "text/plain": [
       "False"
      ]
     },
     "execution_count": 9,
     "metadata": {},
     "output_type": "execute_result"
    }
   ],
   "execution_count": 9
  },
  {
   "metadata": {
    "ExecuteTime": {
     "end_time": "2025-03-13T11:28:25.339572Z",
     "start_time": "2025-03-13T11:28:21.633030Z"
    }
   },
   "cell_type": "code",
   "source": [
    "# if else 语句        (请类比C语言,本教程略过)\n",
    "num = eval(input('Enter a number: '))\n",
    "if num < 10:\n",
    "    print(\"This number is less than 10\")\n",
    "elif num < 100:\n",
    "    print(\"This number is less than 100 and no less than 10\")\n",
    "else:\n",
    "    print(\"This number is what I need\")"
   ],
   "id": "a8147f00c6b7d46",
   "outputs": [
    {
     "name": "stdout",
     "output_type": "stream",
     "text": [
      "This number is what I need\n"
     ]
    }
   ],
   "execution_count": 12
  },
  {
   "metadata": {
    "ExecuteTime": {
     "end_time": "2025-03-13T11:28:28.308941Z",
     "start_time": "2025-03-13T11:28:28.306094Z"
    }
   },
   "cell_type": "code",
   "source": "print(\"I love you\") if num == 520 else print(\"try 520\")         # 条件表达式--C语言中的三目运算符",
   "id": "156d3fed625142d3",
   "outputs": [
    {
     "name": "stdout",
     "output_type": "stream",
     "text": [
      "I love you\n"
     ]
    }
   ],
   "execution_count": 13
  },
  {
   "metadata": {
    "ExecuteTime": {
     "end_time": "2025-03-13T11:33:48.947433Z",
     "start_time": "2025-03-13T11:33:48.943906Z"
    }
   },
   "cell_type": "code",
   "source": [
    "'''比较运算符\n",
    "x < y\n",
    "x > y\n",
    "x == y          # 相等运算符\n",
    "x <= y\n",
    "x >= y\n",
    "x != y\n",
    "x is y          # 相同运算符\n",
    "x is not y\n",
    "x in y\n",
    "x not in y\n",
    "'''\n",
    "1 < 2 < 5           # 支持链式比较"
   ],
   "id": "9a93814a8d95ea9e",
   "outputs": [
    {
     "data": {
      "text/plain": [
       "True"
      ]
     },
     "execution_count": 18,
     "metadata": {},
     "output_type": "execute_result"
    }
   ],
   "execution_count": 18
  },
  {
   "metadata": {
    "ExecuteTime": {
     "end_time": "2025-03-13T11:37:23.684024Z",
     "start_time": "2025-03-13T11:37:23.680173Z"
    }
   },
   "cell_type": "code",
   "source": [
    "# 着重说一下相同运算符和相等运算符\n",
    "x = y = [1,2,3,4,5]\n",
    "z = [1,2,3,4,5]\n",
    "print(x == y)\n",
    "print(x == z)           # 相等指\"两者值相等\"\n",
    "print(x is y)\n",
    "print(x is z)           # 相同指\"两者是同一个对象\""
   ],
   "id": "2b46845f25ab0972",
   "outputs": [
    {
     "name": "stdout",
     "output_type": "stream",
     "text": [
      "True\n",
      "True\n",
      "True\n",
      "False\n"
     ]
    }
   ],
   "execution_count": 21
  },
  {
   "metadata": {
    "ExecuteTime": {
     "end_time": "2025-03-13T11:39:03.774520Z",
     "start_time": "2025-03-13T11:39:03.770986Z"
    }
   },
   "cell_type": "code",
   "source": [
    "x = [1,2,3]\n",
    "y = [2,4]\n",
    "print(x is not y)\n",
    "del x[2]\n",
    "y[1] = 1\n",
    "y.reverse()\n",
    "print(x == y)\n",
    "print(x is y)           # 这两个列表相等但不相同!!!"
   ],
   "id": "76a0f81595ac5191",
   "outputs": [
    {
     "name": "stdout",
     "output_type": "stream",
     "text": [
      "True\n",
      "True\n",
      "False\n"
     ]
    }
   ],
   "execution_count": 23
  },
  {
   "metadata": {},
   "cell_type": "markdown",
   "source": [
    "\n",
    "\n",
    "### 警告：\n",
    "**“不要将is用于数和字符串等不可变的基本值。鉴于Python在内部处理这些对象的方式，这样做的结果是不可预测的。”**\n",
    "\n",
    "---\n",
    "\n",
    "### 原因解释：\n",
    "Python对**不可变基本值**（如整数、字符串）的存储存在**对象重用机制**（称为“驻留”或“缓存”）。例如：\n",
    "- 小整数（如`-5`到`256`）会被Python缓存，所有相同的值引用同一对象。\n",
    "- 字符串（尤其是短字符串或符合标识符规则的字符串）也可能被缓存。\n",
    "\n",
    "这会导致以下现象：\n",
    "```python\n",
    "a = 256\n",
    "b = 256\n",
    "print(a is b)  # True（小整数被缓存，a和b是同一对象）\n",
    "\n",
    "c = 257\n",
    "d = 257\n",
    "print(c is d)  # False（大整数未被缓存，c和d是不同对象）\n",
    "```\n",
    "\n",
    "因此：\n",
    "1. **不可预测性**：使用`is`比较不可变值的结果取决于Python的内部优化，而非值的逻辑相等性。\n",
    "2. **语义错误**：`is`用于检查对象身份（内存地址是否相同），而非值是否相等。\n",
    "3. **正确做法**：比较数值或字符串内容时，应始终使用`==`。\n",
    "\n",
    "**总结**：`is`仅用于检查对象是否完全相同（如列表、自定义对象等可变类型），对不可变基本值应避免使用。"
   ],
   "id": "a06a1da8d70f5527"
  },
  {
   "metadata": {
    "ExecuteTime": {
     "end_time": "2025-03-13T11:43:59.889774Z",
     "start_time": "2025-03-13T11:43:59.886565Z"
    }
   },
   "cell_type": "code",
   "source": [
    "# 成员运算符 in\n",
    "name = 'Alice'\n",
    "'c' in name"
   ],
   "id": "d20f40a11fe7f4c6",
   "outputs": [
    {
     "data": {
      "text/plain": [
       "True"
      ]
     },
     "execution_count": 24,
     "metadata": {},
     "output_type": "execute_result"
    }
   ],
   "execution_count": 24
  },
  {
   "metadata": {},
   "cell_type": "markdown",
   "source": [
    "布尔运算符 and , or , not\n",
    "完全符合我们理解的逻辑运算,且符合语言习惯!\n",
    "\n",
    "## 断言\n",
    "#### 1. **作用**\n",
    "- **验证条件**：当程序运行到`assert`时，会强制检查某个条件是否成立。\n",
    "- **触发崩溃**：若条件不满足（`False`），立即抛出`AssertionError`并终止程序。\n",
    "\n",
    "#### 2. **为什么要用**\n",
    "- **快速定位错误**：在关键位置设置断言，可尽早暴露潜在逻辑错误或非法状态。\n",
    "- **代码自检**：帮助开发者明确代码执行的前提条件，提升代码可维护性。\n",
    "- **调试辅助**：通过断言信息快速定位问题，避免错误传递到后续流程。\n",
    "\n",
    "#### 3. **使用场景**\n",
    "- **参数校验**：验证函数参数的合法性（如检查数值范围）。\n",
    "  ```python\n",
    "  def calculate_discount(age):\n",
    "      assert 0 < age < 120, \"年龄必须为合理值\"\n",
    "      # ...\n",
    "  ```\n",
    "- **不可逆操作前验证**：在关键操作（如文件删除、数据库写入）前检查条件。\n",
    "- **调试阶段**：在开发过程中验证中间结果的正确性。\n",
    "- **维护代码假设**：明确代码逻辑依赖的条件（如“此处列表不应为空”）。\n",
    "\n",
    "#### 4. **语法形式**\n",
    "- 基础语法：`assert condition`\n",
    "- 带错误描述：`assert condition, \"错误提示信息\"`\n",
    "  ```python\n",
    "  assert x > 0, \"x必须为正数\"\n",
    "  ```\n",
    "\n",
    "#### 5. **与`if`语句的区别**\n",
    "| 特性                | `assert`                          | `if` + `raise`                  |\n",
    "|---------------------|-----------------------------------|----------------------------------|\n",
    "| **目的**            | 调试和开发阶段的不可恢复错误       | 生产环境的可控错误处理           |\n",
    "| **是否可禁用**      | 可通过`-O`优化选项全局关闭         | 始终生效                         |\n",
    "| **适用场景**        | 必须满足的核心逻辑条件             | 可预期的异常情况（如用户输入错误）|\n",
    "\n",
    "#### 6. **注意事项**\n",
    "- **不要滥用**：仅用于验证程序逻辑的“不可能发生”的错误，而非常规错误处理。\n",
    "- **性能影响**：频繁执行的代码中避免使用过多断言（生产环境可关闭）。\n",
    "- **替代方案**：生产环境建议用`try/except`或`if/raise`替代`assert`。\n",
    "\n",
    "---\n"
   ],
   "id": "b133e399443ccb15"
  },
  {
   "metadata": {
    "ExecuteTime": {
     "end_time": "2025-03-13T11:52:53.021657Z",
     "start_time": "2025-03-13T11:52:49.812742Z"
    }
   },
   "cell_type": "code",
   "source": [
    "# 验证年龄合法性\n",
    "age = eval(input('Enter your age: '))\n",
    "assert 0 < age < 100, \"年龄必须为合理值\"  # 触发 AssertionError: 年龄必须为合理值"
   ],
   "id": "923748c4c32f12e3",
   "outputs": [
    {
     "ename": "AssertionError",
     "evalue": "年龄必须为合理值",
     "output_type": "error",
     "traceback": [
      "\u001B[1;31m---------------------------------------------------------------------------\u001B[0m",
      "\u001B[1;31mAssertionError\u001B[0m                            Traceback (most recent call last)",
      "Cell \u001B[1;32mIn[28], line 3\u001B[0m\n\u001B[0;32m      1\u001B[0m \u001B[38;5;66;03m# 验证年龄合法性\u001B[39;00m\n\u001B[0;32m      2\u001B[0m age \u001B[38;5;241m=\u001B[39m \u001B[38;5;28meval\u001B[39m(\u001B[38;5;28minput\u001B[39m(\u001B[38;5;124m'\u001B[39m\u001B[38;5;124mEnter your age: \u001B[39m\u001B[38;5;124m'\u001B[39m))\n\u001B[1;32m----> 3\u001B[0m \u001B[38;5;28;01massert\u001B[39;00m \u001B[38;5;241m0\u001B[39m \u001B[38;5;241m<\u001B[39m age \u001B[38;5;241m<\u001B[39m \u001B[38;5;241m100\u001B[39m, \u001B[38;5;124m\"\u001B[39m\u001B[38;5;124m年龄必须为合理值\u001B[39m\u001B[38;5;124m\"\u001B[39m\n",
      "\u001B[1;31mAssertionError\u001B[0m: 年龄必须为合理值"
     ]
    }
   ],
   "execution_count": 28
  },
  {
   "metadata": {
    "ExecuteTime": {
     "end_time": "2025-03-13T11:55:04.597414Z",
     "start_time": "2025-03-13T11:55:01.459914Z"
    }
   },
   "cell_type": "code",
   "source": [
    "num = int(input('Enter a number: '))\n",
    "while num > 100:\n",
    "    print(num , \"haha\")\n",
    "    num -= 1\n",
    "print(\"done\")"
   ],
   "id": "513d3714828489a2",
   "outputs": [
    {
     "name": "stdout",
     "output_type": "stream",
     "text": [
      "110 haha\n",
      "109 haha\n",
      "108 haha\n",
      "107 haha\n",
      "106 haha\n",
      "105 haha\n",
      "104 haha\n",
      "103 haha\n",
      "102 haha\n",
      "101 haha\n",
      "done\n"
     ]
    }
   ],
   "execution_count": 32
  },
  {
   "metadata": {},
   "cell_type": "markdown",
   "source": [
    "## for循环\n",
    "\n",
    "#### 一、基本功能\n",
    "**用于遍历可迭代对象**（如列表、元组、字符串等序列），逐个处理其中的元素。\n",
    "\n",
    "#### 二、核心语法\n",
    "```python\n",
    "for 变量 in 可迭代对象:\n",
    "    循环体代码\n",
    "```\n",
    "\n",
    "#### 三、关键特性\n",
    "1. **自动迭代**\n",
    "   无需手动维护计数器，自动遍历可迭代对象的每个元素。\n",
    "\n",
    "2. **可迭代对象**\n",
    "   当前可理解为包含多个元素的序列（如列表、字符串等），第9章将深入解释迭代器概念。\n",
    "\n",
    "---\n",
    "\n",
    "#### 四、代码示例\n",
    "##### 示例1：遍历列表元素\n",
    "```python\n",
    "words = ['this', 'is', 'an', 'ex', 'parrot']\n",
    "for word in words:\n",
    "    print(word)  # 依次输出每个单词\n",
    "```\n",
    "\n",
    "##### 示例2：遍历数字范围\n",
    "```python\n",
    "numbers = [0, 1, 2, 3, 4, 5, 6, 7, 8, 9]\n",
    "for number in numbers:\n",
    "    print(number)  # 输出0~9\n",
    "```\n",
    "\n",
    "#### 五、`range()`函数\n",
    "##### 1. 功能说明\n",
    "生成整数序列，常用于控制循环次数或生成数字范围。\n",
    "- **语法**：`range(start, stop)` 或 `range(stop)`\n",
    "- **特性**：包含起始值`start`，不包含结束值`stop`\n",
    "\n",
    "##### 2. 使用示例\n",
    "```python\n",
    "# 生成0~9（等同于range(0,10)）\n",
    "range(10) → [0, 1, 2, 3, 4, 5, 6, 7, 8, 9]\n",
    "\n",
    "# 生成1~100的序列\n",
    "for number in range(1, 101):\n",
    "    print(number)  # 输出1~100\n",
    "```\n",
    "\n",
    "##### 3. 行为对比\n",
    "| 代码                   | 等效列表          | 说明                     |\n",
    "|-----------------------|------------------|--------------------------|\n",
    "| `range(0,10)`         | `[0,1,...,9]`    | 明确指定起始和结束位置     |\n",
    "| `range(10)`           | `[0,1,...,9]`    | 默认起始位置为0           |\n",
    "| `range(1,101)`        | `[1,2,...,100]`  | 生成1~100的连续整数        |\n",
    "\n"
   ],
   "id": "540e374d8b7d6b74"
  },
  {
   "metadata": {},
   "cell_type": "markdown",
   "source": "## 迭代字典",
   "id": "b765cf5b75dad173"
  },
  {
   "metadata": {
    "ExecuteTime": {
     "end_time": "2025-03-13T12:02:21.838782Z",
     "start_time": "2025-03-13T12:02:21.834920Z"
    }
   },
   "cell_type": "code",
   "source": [
    "d = {'x':1,'y':2,'z':3}\n",
    "for a in d:             # 在遍历什么?\n",
    "    print(a, d[a])"
   ],
   "id": "368ba75e2223a86",
   "outputs": [
    {
     "name": "stdout",
     "output_type": "stream",
     "text": [
      "x 1\n",
      "y 2\n",
      "z 3\n"
     ]
    }
   ],
   "execution_count": 34
  },
  {
   "metadata": {
    "ExecuteTime": {
     "end_time": "2025-03-13T12:03:36.939301Z",
     "start_time": "2025-03-13T12:03:36.936369Z"
    }
   },
   "cell_type": "code",
   "source": [
    "for key,value in d.items():         # for循环还支持解包!\n",
    "    print(key, value)"
   ],
   "id": "722838bd3682795e",
   "outputs": [
    {
     "name": "stdout",
     "output_type": "stream",
     "text": [
      "x 1\n",
      "y 2\n",
      "z 3\n"
     ]
    }
   ],
   "execution_count": 35
  },
  {
   "metadata": {},
   "cell_type": "markdown",
   "source": [
    "\n",
    "#### 注意：\n",
    "**字典元素的排列顺序是不确定的。换而言之，迭代字典的键或值时，一定会处理所有的键或值，但不知道处理的顺序。如果顺序很重要，可将键或值存储在一个列表中并对列表排序，再进行迭代。要让映射记住其元素的插入顺序，可使用模块collections中的OrderedDict类。**\n"
   ],
   "id": "6318f9210cd1d138"
  },
  {
   "metadata": {},
   "cell_type": "markdown",
   "source": "### 并行迭代",
   "id": "d6a00a44ea79c26b"
  },
  {
   "metadata": {
    "ExecuteTime": {
     "end_time": "2025-03-13T12:10:03.913749Z",
     "start_time": "2025-03-13T12:10:03.910342Z"
    }
   },
   "cell_type": "code",
   "source": [
    "names = ['Alice', 'Bob', 'Charlie']\n",
    "ages = [44,55,66]\n",
    "for i in range(len(ages)):\n",
    "    print(names[i],ages[i])"
   ],
   "id": "1fbc6084b10ec93c",
   "outputs": [
    {
     "name": "stdout",
     "output_type": "stream",
     "text": [
      "Alice 44\n",
      "Bob 55\n",
      "Charlie 66\n"
     ]
    }
   ],
   "execution_count": 39
  },
  {
   "metadata": {
    "ExecuteTime": {
     "end_time": "2025-03-13T12:09:51.023909Z",
     "start_time": "2025-03-13T12:09:51.021206Z"
    }
   },
   "cell_type": "code",
   "source": "for name,age in zip(names,ages): print(name,age)",
   "id": "308885cf810c2d51",
   "outputs": [
    {
     "name": "stdout",
     "output_type": "stream",
     "text": [
      "Alice 44\n",
      "Bob 55\n",
      "Charlie 66\n"
     ]
    }
   ],
   "execution_count": 38
  },
  {
   "metadata": {},
   "cell_type": "markdown",
   "source": "zip函数可用于缝合任意数量的序列. 需要指出的是,当序列长度不同时,函数zip将在最短的序列用完后停止缝合.",
   "id": "e6b1652d11d82c3e"
  },
  {
   "metadata": {
    "ExecuteTime": {
     "end_time": "2025-03-13T12:14:15.328114Z",
     "start_time": "2025-03-13T12:14:15.324237Z"
    }
   },
   "cell_type": "code",
   "source": [
    "addresses = ['China','USA','UK','India']\n",
    "for name,age,address in zip(names,ages,addresses): print(name,age,address)\n",
    "list(zip(names,ages,addresses))"
   ],
   "id": "79433a7e34661e03",
   "outputs": [
    {
     "name": "stdout",
     "output_type": "stream",
     "text": [
      "Alice 44 China\n",
      "Bob 55 USA\n",
      "Charlie 66 UK\n"
     ]
    },
    {
     "data": {
      "text/plain": [
       "[('Alice', 44, 'China'), ('Bob', 55, 'USA'), ('Charlie', 66, 'UK')]"
      ]
     },
     "execution_count": 44,
     "metadata": {},
     "output_type": "execute_result"
    }
   ],
   "execution_count": 44
  },
  {
   "metadata": {},
   "cell_type": "markdown",
   "source": [
    "### 迭代时获取索引\n",
    "- 设想你现在要设计一个程序,能够对一个字符串列表进行检查,并将所有含\"Fuck\"(不考虑大小写)的项替代为\"[omitted]\"\n",
    "- 经过一番思考,你会发现找到每次字母的索引非常重要."
   ],
   "id": "6d38f2f25b088ab9"
  },
  {
   "metadata": {
    "ExecuteTime": {
     "end_time": "2025-03-13T12:39:03.654787Z",
     "start_time": "2025-03-13T12:39:03.650766Z"
    }
   },
   "cell_type": "code",
   "source": [
    "w =  [\n",
    "    \"Hello\",\"world\",          # 无敏感词\n",
    "    \"FUCK\", \"fucK\", \"FuCk\",\"[omitted]\"*3,       # 全大写/混合大小写\n",
    "    \"fuckinghell\", \"  fuck  \", \"[omitted]\"*2,    # 包含子串及空格\n",
    "    \"FUNCRACK\", \"\", \"FUNCRACK\", \"\",              # 相似词和空字符串\n",
    "]\n",
    "for string in w:\n",
    "    if 'fuck' in string.lower():\n",
    "        string = \"[omitted]\"      # 只改变了string,而string只是被赋的值.\n",
    "w"
   ],
   "id": "32f71ecc449080d3",
   "outputs": [
    {
     "data": {
      "text/plain": [
       "['Hello',\n",
       " 'world',\n",
       " 'Hello',\n",
       " 'world',\n",
       " 'FUCK',\n",
       " 'fucK',\n",
       " 'FuCk',\n",
       " '[omitted][omitted][omitted]',\n",
       " 'fuckinghell',\n",
       " '  fuck  ',\n",
       " '[omitted][omitted]',\n",
       " 'FUNCRACK',\n",
       " '',\n",
       " 'FUNCRACK',\n",
       " '']"
      ]
     },
     "execution_count": 52,
     "metadata": {},
     "output_type": "execute_result"
    }
   ],
   "execution_count": 52
  },
  {
   "metadata": {
    "ExecuteTime": {
     "end_time": "2025-03-13T12:40:05.470546Z",
     "start_time": "2025-03-13T12:40:05.465371Z"
    }
   },
   "cell_type": "code",
   "source": [
    "w =  [\n",
    "    \"Hello\",\"world\",          # 无敏感词\n",
    "    \"FUCK\", \"fucK\", \"FuCk\",\"[omitted]\"*3,       # 全大写/混合大小写\n",
    "    \"fuckinghell\", \"  fuck  \", \"[omitted]\"*2,    # 包含子串及空格\n",
    "    \"FUNCRACK\", \"\", \"FUNCRACK\", \"\",              # 相似词和空字符串\n",
    "]\n",
    "for string in w:\n",
    "    if 'fuck' in string.lower():\n",
    "        index = w.index(string)\n",
    "        w[index] = \"[omitted]\"\n",
    "w"
   ],
   "id": "9e9d9afbd33b7be3",
   "outputs": [
    {
     "data": {
      "text/plain": [
       "['Hello',\n",
       " 'world',\n",
       " '[omitted]',\n",
       " '[omitted]',\n",
       " '[omitted]',\n",
       " '[omitted][omitted][omitted]',\n",
       " '[omitted]',\n",
       " '[omitted]',\n",
       " '[omitted][omitted]',\n",
       " 'FUNCRACK',\n",
       " '',\n",
       " 'FUNCRACK',\n",
       " '']"
      ]
     },
     "execution_count": 53,
     "metadata": {},
     "output_type": "execute_result"
    }
   ],
   "execution_count": 53
  },
  {
   "metadata": {
    "ExecuteTime": {
     "end_time": "2025-03-13T12:42:52.844529Z",
     "start_time": "2025-03-13T12:42:52.840121Z"
    }
   },
   "cell_type": "code",
   "source": [
    "w =  [\n",
    "    \"Hello\",\"world\",          # 无敏感词\n",
    "    \"FUCK\", \"fucK\", \"FuCk\",\"[omitted]\"*3,       # 全大写/混合大小写\n",
    "    \"fuckinghell\", \"  fuck  \", \"[omitted]\"*2,    # 包含子串及空格\n",
    "    \"FUNCRACK\", \"\", \"FUNCRACK\", \"\",              # 相似词和空字符串\n",
    "]\n",
    "index = 0\n",
    "for string in w:\n",
    "    if 'fuck' in string.lower():\n",
    "        w[index] = \"[omitted]\"\n",
    "    index = index + 1\n",
    "w"
   ],
   "id": "c7a294e3df48a5fc",
   "outputs": [
    {
     "data": {
      "text/plain": [
       "['Hello',\n",
       " 'world',\n",
       " '[omitted]',\n",
       " '[omitted]',\n",
       " '[omitted]',\n",
       " '[omitted][omitted][omitted]',\n",
       " '[omitted]',\n",
       " '[omitted]',\n",
       " '[omitted][omitted]',\n",
       " 'FUNCRACK',\n",
       " '',\n",
       " 'FUNCRACK',\n",
       " '']"
      ]
     },
     "execution_count": 57,
     "metadata": {},
     "output_type": "execute_result"
    }
   ],
   "execution_count": 57
  },
  {
   "metadata": {
    "ExecuteTime": {
     "end_time": "2025-03-13T12:43:07.082649Z",
     "start_time": "2025-03-13T12:43:07.077912Z"
    }
   },
   "cell_type": "code",
   "source": [
    "w =  [\n",
    "    \"Hello\",\"world\",          # 无敏感词\n",
    "    \"FUCK\", \"fucK\", \"FuCk\",\"[omitted]\"*3,       # 全大写/混合大小写\n",
    "    \"fuckinghell\", \"  fuck  \", \"[omitted]\"*2,    # 包含子串及空格\n",
    "    \"FUNCRACK\", \"\", \"FUNCRACK\", \"\",              # 相似词和空字符串\n",
    "]\n",
    "for index,string in enumerate(w):           # enumerate()函数让你能够迭代\"索引-值\"对\n",
    "    if 'fuck' in string.lower():\n",
    "        w[index] = \"[omitted]\"\n",
    "w"
   ],
   "id": "1032450aa7c45b9c",
   "outputs": [
    {
     "data": {
      "text/plain": [
       "['Hello',\n",
       " 'world',\n",
       " '[omitted]',\n",
       " '[omitted]',\n",
       " '[omitted]',\n",
       " '[omitted][omitted][omitted]',\n",
       " '[omitted]',\n",
       " '[omitted]',\n",
       " '[omitted][omitted]',\n",
       " 'FUNCRACK',\n",
       " '',\n",
       " 'FUNCRACK',\n",
       " '']"
      ]
     },
     "execution_count": 58,
     "metadata": {},
     "output_type": "execute_result"
    }
   ],
   "execution_count": 58
  },
  {
   "metadata": {},
   "cell_type": "markdown",
   "source": [
    "### 反向迭代和排序后迭代\n",
    "函数sorted和reversed可用于任何可迭代对象,且不就地修改对象,而是返回反转后的或排序后的版本.\n",
    "1. **`reversed()` 函数**\n",
    "   - **功能**：对序列进行反向迭代，返回一个可迭代对象。\n",
    "   - **与列表方法区别**：不修改原对象，而是生成新迭代器。\n",
    "   - **示例**：\n",
    "     ```python\n",
    "     # 反向迭代字符串\n",
    "     reversed_str = reversed('Hello, world!')\n",
    "     print(list(reversed_str))  # 输出：['!', 'd', 'l', ..., 'H']\n",
    "     print(''.join(reversed('Hello, world!')))  # 输出：'!dlrow ,olleH'\n",
    "     ```\n",
    "2. **`sorted()` 函数**\n",
    "   - **功能**：返回排序后的新列表（原对象不变），支持任意可迭代对象。\n",
    "   - **特性**：\n",
    "     - 接受 `key` 参数自定义排序规则（如不区分大小写）。\n",
    "     - 示例：\n",
    "       ```python\n",
    "       sorted_nums = sorted([4, 3, 6, 8, 3])  # 输出：[3, 3, 4, 6, 8]\n",
    "       sorted_chars = sorted('Hello, world!', key=str.lower)  # 按字母表排序\n",
    "       ```\n",
    "3. **使用技巧**\n",
    "   - **转换为列表**：`reversed()` 返回的是迭代器，需用 `list()` 转换后进行索引/切片。\n",
    "   - **排序优化**：\n",
    "     ```python\n",
    "     # 按字母表排序（忽略大小写）\n",
    "     sorted(\"aBc\", key=str.lower)  # 输出：['a', 'B', 'c']\n",
    "     ```"
   ],
   "id": "dcab51beba68d6ad"
  },
  {
   "metadata": {
    "ExecuteTime": {
     "end_time": "2025-03-13T12:47:54.591083Z",
     "start_time": "2025-03-13T12:47:54.587445Z"
    }
   },
   "cell_type": "code",
   "source": "reversed(\"hello world!\")",
   "id": "7a01ddaa1780a277",
   "outputs": [
    {
     "data": {
      "text/plain": [
       "<reversed at 0x2ccdc60ebf0>"
      ]
     },
     "execution_count": 59,
     "metadata": {},
     "output_type": "execute_result"
    }
   ],
   "execution_count": 59
  },
  {
   "metadata": {},
   "cell_type": "markdown",
   "source": [
    "## 跳出循环\n",
    "break,continue\n",
    "while True / break\n",
    "\n",
    "#### 一、`continue`语句\n",
    "1. **核心作用**\n",
    "   跳过当前迭代的剩余代码，直接进入下一次循环迭代。\n",
    "\n",
    "2. **示例与注意事项**\n",
    "   ```python\n",
    "   # 跳过满足条件的迭代\n",
    "   for x in seq:\n",
    "       if condition1: continue\n",
    "       if condition2: continue\n",
    "       # 仅当所有条件都不满足时执行后续操作\n",
    "       do_something()\n",
    "   ```\n",
    "   - **替代方案**：用 `if` 整合条件判断更清晰\n",
    "     ```python\n",
    "     for x in seq:\n",
    "         if not (condition1 or condition2):\n",
    "             do_something()\n",
    "     ```\n",
    "   - **使用场景**：循环体复杂且存在多个跳过条件时。\n",
    "\n",
    "---\n",
    "\n",
    "#### 二、`while True/break` 惯用法\n",
    "1. **目的**\n",
    "   避免使用哑值初始化循环变量，通过无限循环+条件判断实现灵活控制。\n",
    "\n",
    "2. **代码对比**\n",
    "   - **原始方案（含哑值）**：\n",
    "     ```python\n",
    "     word = 'dummy'  # 哑值初始化\n",
    "     while word:\n",
    "         word = input('Enter a word: ')\n",
    "         print('Word was:', word)\n",
    "     ```\n",
    "   - **优化方案**：\n",
    "     ```python\n",
    "     while True:\n",
    "         word = input('Enter a word: ')\n",
    "         if not word: break  # 输入为空时终止\n",
    "         print('Word was:', word)\n",
    "     ```\n",
    "   - **优势**：消除重复代码，逻辑更简洁。\n",
    "\n",
    "---\n",
    "\n",
    "#### 三、循环中的`else`子句\n",
    "1. **功能**\n",
    "   当循环**未触发`break`**而正常结束时执行`else`块。\n",
    "\n",
    "2. **示例：寻找平方数**\n",
    "   ```python\n",
    "   from math import sqrt\n",
    "   for n in range(99, 81, -1):  # 检查99到82的整数\n",
    "       root = sqrt(n)\n",
    "       if root == int(root):\n",
    "           print(n)\n",
    "           break\n",
    "   else:\n",
    "       print(\"未找到符合条件的数\")  # 输出：未找到（因81不在范围内）\n",
    "   ```\n",
    "\n",
    "3. **适用场景**\n",
    "   - 验证循环是否完整执行\n",
    "   - 替代标志变量（如`broke_out`）简化代码\n",
    "\n",
    "---\n",
    "\n",
    "## 列表推导\n",
    "1. **基本语法**\n",
    "   ```python\n",
    "   # 生成0~9的平方列表\n",
    "   squares = [x*x for x in range(10)]  # [0,1,4,9,...,81]\n",
    "   ```\n",
    "\n",
    "2. **条件过滤**\n",
    "   ```python\n",
    "   # 仅保留能被3整除的平方数\n",
    "   filtered = [x*x for x in range(10) if x%3 == 0]  # [0,9,36,81]\n",
    "   ```\n",
    "\n",
    "3. **多重循环**\n",
    "   ```python\n",
    "   # 生成坐标对 (0,0), (0,1), ..., (2,2)\n",
    "   pairs = [(x,y) for x in range(3) for y in range(3)]\n",
    "   ```\n",
    "\n",
    "4. **优化示例：高效配对**\n",
    "   - **问题**：将首字母相同的男孩和女孩配对\n",
    "   - **低效方案**：\n",
    "     ```python\n",
    "     girls = ['alice', 'bernice', 'clarice']\n",
    "     boys = ['chris', 'arnold', 'bob']\n",
    "     pairs = [b+'+'+g for b in boys for g in girls if b[0]==g[0]]\n",
    "     ```\n",
    "   - **高效方案**（Alex Martelli）：\n",
    "     ```python\n",
    "     letter_girls = {}\n",
    "     for girl in girls:\n",
    "         letter_girls.setdefault(girl[0], []).append(girl)\n",
    "     pairs = [b+'+'+g for b in boys for g in letter_girls.get(b[0], [])]\n",
    "     ```\n",
    "   - **优势**：通过字典预处理将时间复杂度从O(n²)降至O(n)。\n",
    "\n",
    "---\n",
    "\n",
    "### 关键总结\n",
    "| 功能                | 语法/方法                      | 典型应用场景               |\n",
    "|---------------------|--------------------------------|--------------------------|\n",
    "| 跳过当前迭代         | `continue`                     | 多条件过滤                |\n",
    "| 终止循环             | `break`                        | 满足条件后立即退出         |\n",
    "| 循环后处理           | `else`子句                     | 验证循环完整性             |\n",
    "| 动态输入控制         | `while True/break`             | 用户交互输入              |\n",
    "| 快速生成列表         | 列表推导                       | 数据转换与过滤            |\n",
    "| 高效配对             | 字典预处理+列表推导            | 减少嵌套循环的开销         |\n",
    "\n",
    "使用圆括号代替方括号不能实现元组推导,而是创建生成器. 然而,可以使用花括号来执行字典推导."
   ],
   "id": "c1efe399a495cfea"
  },
  {
   "metadata": {
    "ExecuteTime": {
     "end_time": "2025-03-13T13:15:37.246184Z",
     "start_time": "2025-03-13T13:15:37.241475Z"
    }
   },
   "cell_type": "code",
   "source": [
    "squares = {i:\"{} squared is {}\".format(i,i**2) for i in range(1,11)}\n",
    "squares[9]"
   ],
   "id": "84b824f1d87ca569",
   "outputs": [
    {
     "data": {
      "text/plain": [
       "'9 squared is 81'"
      ]
     },
     "execution_count": 60,
     "metadata": {},
     "output_type": "execute_result"
    }
   ],
   "execution_count": 60
  },
  {
   "metadata": {},
   "cell_type": "markdown",
   "source": [
    "## pass,del 和 exec\n",
    "pass什么都不做,常用作占位符,因为代码块不能为空\n",
    "对于你不再使用的对象,Python通常会将其删除(因为没有任何变量或数据结构成员指向它)\n",
    "1. **垃圾回收机制**\n",
    "   Python通过**引用计数**自动回收未被引用的对象内存。当对象的所有引用被移除时，解释器自动销毁该对象。\n",
    "\n",
    "2. **`del`语句的作用**\n",
    "   - 删除变量名与对象的绑定关系。\n",
    "   - 减少对象的引用计数（若对象引用计数归零，则触发垃圾回收）。\n",
    "\n",
    "---\n",
    "\n",
    "#### 二、代码示例与解析\n",
    "\n",
    "##### 示例1：字典的引用与回收\n",
    "```python\n",
    "scoundrel = {'age': 42, 'name': 'Robin'}  # 创建字典对象，引用计数=1\n",
    "robin = scoundrel                         # 引用计数=2\n",
    "\n",
    "scoundrel = None                          # 引用计数=1（通过robin仍可访问）\n",
    "robin = None                              # 引用计数=0 → 对象被回收\n",
    "```\n",
    "\n",
    "##### 示例2：列表的引用与`del`操作\n",
    "```python\n",
    "x = [\"Hello\", \"world\"]  # 创建列表对象，引用计数=1\n",
    "y = x                    # 引用计数=2\n",
    "\n",
    "del x                    # 删除变量x，引用计数=1（y仍持有引用）\n",
    "print(y)                 # 输出：['Hello', 'world']\n",
    "y[1] = \"Python\"          # 修改列表内容（通过y操作）\n",
    "del y                    # 引用计数=0 → 对象被回收\n",
    "```\n",
    "\n",
    "---\n",
    "\n",
    "#### 三、关键结论\n",
    "| 操作               | 影响                               |\n",
    "|--------------------|----------------------------------|\n",
    "| 变量赋值`None`      | 解除变量与对象的绑定，减少引用计数，但对象可能仍被其他引用保留。 |\n",
    "| `del 变量`          | 直接删除变量名，若对象无其他引用则立即回收，否则仅减少引用计数。 |\n",
    "| 垃圾回收触发条件    | **对象引用计数归零时自动触发，无需手动干预。**        |\n",
    "\n",
    "---\n",
    "\n",
    "#### 四、注意事项\n",
    "- **`del`不直接删除对象**：仅删除变量名，对象是否销毁取决于引用计数。\n",
    "- **可变对象共享风险**：多个变量引用同一可变对象（如列表、字典）时，修改会相互影响。\n",
    "- **手动回收限制**：无法强制立即回收内存，需依赖Python的自动垃圾回收机制。\n"
   ],
   "id": "d54bb4f4791f2965"
  },
  {
   "metadata": {},
   "cell_type": "markdown",
   "source": [
    "## `exec`与`eval`\n",
    "---\n",
    "#### 一、核心函数对比\n",
    "| 函数        | 功能                            | 返回值   | 典型应用场景           |\n",
    "|------------|--------------------------------|---------|----------------------|\n",
    "| `exec()`   | 执行字符串中的**Python语句**     | `None`  | 动态执行代码块、赋值操作 |\n",
    "| `eval()`   | 计算字符串中的**Python表达式**   | 表达式结果 | 动态计算数学/逻辑表达式 |\n",
    "\n",
    "---\n",
    "\n",
    "#### 二、安全使用方式\n",
    "##### 1. 使用命名空间隔离变量\n",
    "通过字典传递命名空间，避免污染当前作用域的变量：\n",
    "```python\n",
    "scope = {}  # 隔离的命名空间\n",
    "\n",
    "# exec示例：安全执行赋值\n",
    "exec('x = 2 + 3', scope)\n",
    "print(scope['x'])  # 输出5，全局作用域的x不受影响\n",
    "\n",
    "# eval示例：安全计算表达式\n",
    "scope = {'y': 10}\n",
    "result = eval('y * 2', scope)  # 输出20\n",
    "```\n",
    "\n",
    "##### 2. 自动包含的内置对象\n",
    "命名空间字典会默认包含`__builtins__`（所有内置函数）：\n",
    "```python\n",
    "exec('sqrt = 1', scope)\n",
    "# scope内容：{'sqrt': 1, '__builtins__': {...}}\n",
    "print(sqrt(4))  # 输出2.0（全局sqrt未受影响）\n",
    "```\n",
    "\n",
    "---\n",
    "\n",
    "#### 三、危险操作与安全警告\n",
    "##### ❗ 高风险操作示例\n",
    "```python\n",
    "from math import sqrt\n",
    "\n",
    "# 污染全局命名空间\n",
    "exec(\"sqrt = 1\")  # 覆盖sqrt函数\n",
    "sqrt(4)  # 报错：TypeError（sqrt现在是整数1）\n",
    "\n",
    "# 执行用户输入\n",
    "user_code = input(\"Enter code: \")  # 用户输入：'os.system(\"rm -rf /\")'\n",
    "exec(user_code)  # 可能执行恶意命令\n",
    "```\n",
    "\n",
    "##### ⚠️ 安全准则\n",
    "1. **禁止执行不可信代码**：任何用户输入直接传递给`exec/eval`等同于系统漏洞。\n",
    "2. **沙箱环境不完善**：Python没有原生安全沙箱机制，需依赖外部方案（如Jython+Java沙箱）。\n",
    "3. **替代方案**：优先使用AST解析或限制功能的解释器。\n",
    "\n",
    "---\n",
    "\n",
    "#### 四、作用域控制技巧\n",
    "1. **预定义变量**：\n",
    "   ```python\n",
    "   scope = {'a': 2, 'b': 3}\n",
    "   print(eval('a * b', scope))  # 输出6\n",
    "   ```\n",
    "2. **多次复用命名空间**：\n",
    "   ```python\n",
    "   exec('c = a + b', scope)\n",
    "   print(eval('c * 2', scope))  # 输出10\n",
    "   ```\n",
    "\n",
    "---\n",
    "\n",
    "#### 五、函数特性总结\n",
    "| 特性                | `exec`                     | `eval`                     |\n",
    "|---------------------|----------------------------|----------------------------|\n",
    "| 输入类型            | 代码语句（含换行符）         | 单行表达式                  |\n",
    "| 典型返回值          | `None`                     | 表达式计算结果              |\n",
    "| 变量修改能力        | 可修改命名空间中的变量       | 通常不修改（除非调用函数）   |\n",
    "| 安全隔离必要性      | 必须使用隔离命名空间         | 必须使用隔离命名空间         |\n",
    "```\n",
    "\n",
    "> **关键提示**：在Python中执行动态代码始终存在安全风险，生产环境中应严格避免直接使用`exec`和`eval`处理用户输入。"
   ],
   "id": "d451b848c3df2070"
  },
  {
   "metadata": {
    "ExecuteTime": {
     "end_time": "2025-03-13T13:29:38.546893Z",
     "start_time": "2025-03-13T13:29:38.543856Z"
    }
   },
   "cell_type": "code",
   "source": [
    "scope = {}  # 隔离的命名空间\n",
    "\n",
    "# exec示例：安全执行赋值\n",
    "exec('x = 2 + 3', scope)\n",
    "print(scope['x'])  # 输出5，全局作用域的x不受影响\n",
    "\n",
    "# eval示例：安全计算表达式\n",
    "scope = {'y': 10}\n",
    "result = eval('y * 2', scope)  # 输出20"
   ],
   "id": "755590e2a057d307",
   "outputs": [
    {
     "name": "stdout",
     "output_type": "stream",
     "text": [
      "5\n"
     ]
    }
   ],
   "execution_count": 61
  },
  {
   "metadata": {
    "ExecuteTime": {
     "end_time": "2025-03-13T13:30:25.321457Z",
     "start_time": "2025-03-13T13:30:25.317960Z"
    }
   },
   "cell_type": "code",
   "source": "exec(\"print('Screw you!')\")",
   "id": "8037a617d55cb77f",
   "outputs": [
    {
     "name": "stdout",
     "output_type": "stream",
     "text": [
      "Screw you!\n"
     ]
    }
   ],
   "execution_count": 62
  },
  {
   "metadata": {
    "ExecuteTime": {
     "end_time": "2025-03-13T13:31:23.352356Z",
     "start_time": "2025-03-13T13:31:10.837242Z"
    }
   },
   "cell_type": "code",
   "source": "eval(input(\"Enter an arithmetic expression: \"))",
   "id": "5f54b39c5b4d38c",
   "outputs": [
    {
     "data": {
      "text/plain": [
       "1267650600228229401496703205376"
      ]
     },
     "execution_count": 63,
     "metadata": {},
     "output_type": "execute_result"
    }
   ],
   "execution_count": 63
  },
  {
   "metadata": {},
   "cell_type": "code",
   "outputs": [],
   "execution_count": null,
   "source": "",
   "id": "83c88b10a05a0d93"
  }
 ],
 "metadata": {
  "kernelspec": {
   "display_name": "Python 3",
   "language": "python",
   "name": "python3"
  },
  "language_info": {
   "codemirror_mode": {
    "name": "ipython",
    "version": 2
   },
   "file_extension": ".py",
   "mimetype": "text/x-python",
   "name": "python",
   "nbconvert_exporter": "python",
   "pygments_lexer": "ipython2",
   "version": "2.7.6"
  }
 },
 "nbformat": 4,
 "nbformat_minor": 5
}
