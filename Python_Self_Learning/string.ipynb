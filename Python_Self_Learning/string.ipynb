{
 "cells": [
  {
   "metadata": {},
   "cell_type": "code",
   "outputs": [],
   "execution_count": null,
   "source": "",
   "id": "74ff1351a3579f89"
  },
  {
   "metadata": {},
   "cell_type": "markdown",
   "source": [
    "# 使用字符串\n",
    "字符串是一种特殊的序列.本章主要介绍如何使用字符串来设置其他值的格式,以及相关的字符串方法."
   ],
   "id": "bde81e8e84be97d0"
  },
  {
   "metadata": {},
   "cell_type": "markdown",
   "source": [
    "- 所有的标准序列操作均可作用于字符串,但需要注意字符串是**不可更改的**,这意味着所有的赋值操作都是非法的.\n",
    "## 设置字符串的格式"
   ],
   "id": "4d6ae711a8d78ecc"
  },
  {
   "metadata": {
    "ExecuteTime": {
     "end_time": "2025-03-10T10:42:08.421669Z",
     "start_time": "2025-03-10T10:42:08.418549Z"
    }
   },
   "cell_type": "code",
   "source": [
    "format_ = \"Hello, %s. %s enough for ya?\"\n",
    "values = ('world','Hot')\n",
    "print(format_ % values)             # '%' 为字符串格式设置运算符"
   ],
   "id": "9922791862f47f9b",
   "outputs": [
    {
     "name": "stdout",
     "output_type": "stream",
     "text": [
      "Hello, world. Hot enough for ya?\n"
     ]
    }
   ],
   "execution_count": 10
  },
  {
   "metadata": {},
   "cell_type": "markdown",
   "source": [
    "- 在 % 左边指定一个字符串(格式字符串), 并在右边指定要设置其格式的值.\n",
    "- 指定值时,可使用单个值,元组或者是字典.\n",
    "- %s 称为转换说明符,s 意味着将值视为字符串进行格式设置. %.3f 将值的格式转换成包含3位小数的浮点数. (很像C语言,哈!)\n",
    "\n",
    "下面介绍format方法:"
   ],
   "id": "a8fc42d5ca56f4ea"
  },
  {
   "metadata": {
    "ExecuteTime": {
     "end_time": "2025-03-10T10:49:21.924770Z",
     "start_time": "2025-03-10T10:49:21.920648Z"
    }
   },
   "cell_type": "code",
   "source": "'{}, {} and {}'.format('world', 'Hot', 'ya?')",
   "id": "b4ead2c8f63a3cc0",
   "outputs": [
    {
     "data": {
      "text/plain": [
       "'world, Hot and ya?'"
      ]
     },
     "execution_count": 11,
     "metadata": {},
     "output_type": "execute_result"
    }
   ],
   "execution_count": 11
  },
  {
   "metadata": {
    "ExecuteTime": {
     "end_time": "2025-03-10T10:53:48.163923Z",
     "start_time": "2025-03-10T10:53:48.160693Z"
    }
   },
   "cell_type": "code",
   "source": "\"{2}, {1} and {0}. I wanna say {1} again, and {1} again!\".format('world', 'Hot', 'ya?')     # 从0开始编号,可重复使用",
   "id": "cc399bc74b5e0e31",
   "outputs": [
    {
     "data": {
      "text/plain": [
       "'ya?, Hot and world. I wanna say Hot again, and Hot again!'"
      ]
     },
     "execution_count": 18,
     "metadata": {},
     "output_type": "execute_result"
    }
   ],
   "execution_count": 18
  },
  {
   "metadata": {
    "ExecuteTime": {
     "end_time": "2025-03-10T10:59:22.967613Z",
     "start_time": "2025-03-10T10:59:22.964338Z"
    }
   },
   "cell_type": "code",
   "source": [
    "from math import pi\n",
    "\"{name} is approximately {value:.2f}\".format(name=\"Π\", value=pi)"
   ],
   "id": "29eb4440c0790b2d",
   "outputs": [
    {
     "data": {
      "text/plain": [
       "'Π is approximately 3.14'"
      ]
     },
     "execution_count": 20,
     "metadata": {},
     "output_type": "execute_result"
    }
   ],
   "execution_count": 20
  },
  {
   "metadata": {},
   "cell_type": "markdown",
   "source": [
    "更详细的教程将在后续修订时补充,至此建议读者跳过本节内容,继续学习进度.\n",
    "## 字符串方法"
   ],
   "id": "dafc3e5f32e9757b"
  },
  {
   "metadata": {
    "ExecuteTime": {
     "end_time": "2025-03-10T11:03:04.756388Z",
     "start_time": "2025-03-10T11:03:04.752378Z"
    }
   },
   "cell_type": "code",
   "source": "\"Hello world!\".center(50, \"-\")          # (填充后的字符串长度[,填充字符(默认空格)])",
   "id": "901e93bd62878212",
   "outputs": [
    {
     "data": {
      "text/plain": [
       "'-------------------Hello world!-------------------'"
      ]
     },
     "execution_count": 22,
     "metadata": {},
     "output_type": "execute_result"
    }
   ],
   "execution_count": 22
  },
  {
   "metadata": {
    "ExecuteTime": {
     "end_time": "2025-03-10T11:05:12.751111Z",
     "start_time": "2025-03-10T11:05:12.746529Z"
    }
   },
   "cell_type": "code",
   "source": [
    "title = 'This is a long string. Another long string. Another long string.'\n",
    "title.find('string')                # 查找子串,返回第一个子串的第一个字符的索引,若没找到则返回-1"
   ],
   "id": "cf7b44adcdd153ba",
   "outputs": [
    {
     "data": {
      "text/plain": [
       "15"
      ]
     },
     "execution_count": 23,
     "metadata": {},
     "output_type": "execute_result"
    }
   ],
   "execution_count": 23
  },
  {
   "metadata": {
    "ExecuteTime": {
     "end_time": "2025-03-10T11:07:56.941273Z",
     "start_time": "2025-03-10T11:07:56.937197Z"
    }
   },
   "cell_type": "code",
   "source": "title.find('string',17,45)             # 可指定查找起点与终点,依旧左闭右开,这是python的惯常的做法",
   "id": "614bc1ba6df8d036",
   "outputs": [
    {
     "data": {
      "text/plain": [
       "36"
      ]
     },
     "execution_count": 28,
     "metadata": {},
     "output_type": "execute_result"
    }
   ],
   "execution_count": 28
  },
  {
   "metadata": {
    "ExecuteTime": {
     "end_time": "2025-03-10T11:14:45.000191Z",
     "start_time": "2025-03-10T11:14:44.996048Z"
    }
   },
   "cell_type": "code",
   "source": [
    "seq = ['1','2','3','4','5']\n",
    "sep = \"+\"\n",
    "a = sep.join(seq)       # 合并序列的元素(必须是都是字符串!!!),注意谁在前,谁在括号里.需注意这不是就地修改!!\n",
    "a"
   ],
   "id": "6b91e2af302356eb",
   "outputs": [
    {
     "data": {
      "text/plain": [
       "'1+2+3+4+5'"
      ]
     },
     "execution_count": 34,
     "metadata": {},
     "output_type": "execute_result"
    }
   ],
   "execution_count": 34
  },
  {
   "metadata": {
    "ExecuteTime": {
     "end_time": "2025-03-10T11:15:07.176378Z",
     "start_time": "2025-03-10T11:15:07.172994Z"
    }
   },
   "cell_type": "code",
   "source": [
    "b = a.split(sep)        # 将字符串拆分为序列,与join的作用相反\n",
    "b"
   ],
   "id": "676e845f69c9c642",
   "outputs": [
    {
     "data": {
      "text/plain": [
       "['1', '2', '3', '4', '5']"
      ]
     },
     "execution_count": 38,
     "metadata": {},
     "output_type": "execute_result"
    }
   ],
   "execution_count": 38
  },
  {
   "metadata": {},
   "cell_type": "markdown",
   "source": "- 注意: 如果没有指定分隔符,将默认在单个或多个连续的空白字符串处进行拆分.",
   "id": "2cde837260449d9f"
  },
  {
   "metadata": {
    "ExecuteTime": {
     "end_time": "2025-03-10T11:20:54.443015Z",
     "start_time": "2025-03-10T11:20:54.438835Z"
    }
   },
   "cell_type": "code",
   "source": [
    "c  = 'How to learn is VERY IMPORTANT!'\n",
    "d = c.lower()           # 也不会修改c本身!!\n",
    "d"
   ],
   "id": "181670079b42ff25",
   "outputs": [
    {
     "data": {
      "text/plain": [
       "'how to learn is very important!'"
      ]
     },
     "execution_count": 42,
     "metadata": {},
     "output_type": "execute_result"
    }
   ],
   "execution_count": 42
  },
  {
   "metadata": {
    "ExecuteTime": {
     "end_time": "2025-03-10T11:21:39.802214Z",
     "start_time": "2025-03-10T11:21:39.799240Z"
    }
   },
   "cell_type": "code",
   "source": "d.upper()",
   "id": "df60f9c0aa9b77ff",
   "outputs": [
    {
     "data": {
      "text/plain": [
       "'HOW TO LEARN IS VERY IMPORTANT!'"
      ]
     },
     "execution_count": 44,
     "metadata": {},
     "output_type": "execute_result"
    }
   ],
   "execution_count": 44
  },
  {
   "metadata": {
    "ExecuteTime": {
     "end_time": "2025-03-10T11:22:18.207950Z",
     "start_time": "2025-03-10T11:22:18.204174Z"
    }
   },
   "cell_type": "code",
   "source": "c.replace('is','ezz')           # 还是不会改变c!!",
   "id": "667f89abf22b4d24",
   "outputs": [
    {
     "data": {
      "text/plain": [
       "'How to learn is VERY IMPORTANT!'"
      ]
     },
     "execution_count": 47,
     "metadata": {},
     "output_type": "execute_result"
    }
   ],
   "execution_count": 47
  },
  {
   "metadata": {
    "ExecuteTime": {
     "end_time": "2025-03-10T11:25:00.544346Z",
     "start_time": "2025-03-10T11:25:00.540993Z"
    }
   },
   "cell_type": "code",
   "source": [
    "f = '     internal space is kept        '\n",
    "f.strip()               # 返回删除前后空白的结果,不改变f"
   ],
   "id": "c389833bfcaa95b4",
   "outputs": [
    {
     "data": {
      "text/plain": [
       "'internal space is kept'"
      ]
     },
     "execution_count": 49,
     "metadata": {},
     "output_type": "execute_result"
    }
   ],
   "execution_count": 49
  },
  {
   "metadata": {
    "ExecuteTime": {
     "end_time": "2025-03-10T11:27:03.803907Z",
     "start_time": "2025-03-10T11:27:03.800894Z"
    }
   },
   "cell_type": "code",
   "source": [
    "g =\"*****     internal ! space * is kept    ****  !!  \"\n",
    "g.strip(' !*')                  # 可指定删除那些字符"
   ],
   "id": "f30cf277e98b30d",
   "outputs": [
    {
     "data": {
      "text/plain": [
       "'internal ! space * is kept'"
      ]
     },
     "execution_count": 52,
     "metadata": {},
     "output_type": "execute_result"
    }
   ],
   "execution_count": 52
  },
  {
   "metadata": {},
   "cell_type": "markdown",
   "source": "判断字符串是否满足特定的条件的一些方法:",
   "id": "4060ff06aa935579"
  },
  {
   "metadata": {
    "ExecuteTime": {
     "end_time": "2025-03-10T11:29:47.455110Z",
     "start_time": "2025-03-10T11:29:47.452077Z"
    }
   },
   "cell_type": "code",
   "source": "'12345'.isalnum()",
   "id": "ef58dd399b4cf481",
   "outputs": [
    {
     "data": {
      "text/plain": [
       "True"
      ]
     },
     "execution_count": 53,
     "metadata": {},
     "output_type": "execute_result"
    }
   ],
   "execution_count": 53
  },
  {
   "metadata": {
    "ExecuteTime": {
     "end_time": "2025-03-10T11:45:24.936943Z",
     "start_time": "2025-03-10T11:45:24.933640Z"
    }
   },
   "cell_type": "code",
   "source": "'cndkjcnds'.isalpha()",
   "id": "737a2b5cde21e6df",
   "outputs": [
    {
     "data": {
      "text/plain": [
       "True"
      ]
     },
     "execution_count": 55,
     "metadata": {},
     "output_type": "execute_result"
    }
   ],
   "execution_count": 55
  },
  {
   "metadata": {},
   "cell_type": "markdown",
   "source": "(省略...)",
   "id": "9bef200854eb0045"
  }
 ],
 "metadata": {
  "kernelspec": {
   "display_name": "Python 3",
   "language": "python",
   "name": "python3"
  },
  "language_info": {
   "codemirror_mode": {
    "name": "ipython",
    "version": 2
   },
   "file_extension": ".py",
   "mimetype": "text/x-python",
   "name": "python",
   "nbconvert_exporter": "python",
   "pygments_lexer": "ipython2",
   "version": "2.7.6"
  }
 },
 "nbformat": 4,
 "nbformat_minor": 5
}
