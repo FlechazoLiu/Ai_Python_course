{
 "cells": [
  {
   "metadata": {},
   "cell_type": "markdown",
   "source": "Starting a turtle environment",
   "id": "dbe75a0ea8c3e7d"
  },
  {
   "metadata": {},
   "cell_type": "markdown",
   "source": "In a Python shell, import all the objects of the turtle module:",
   "id": "2ff2473ad2bab7f7"
  },
  {
   "metadata": {
    "ExecuteTime": {
     "end_time": "2025-02-24T15:37:22.259614Z",
     "start_time": "2025-02-24T15:37:18.688185Z"
    }
   },
   "cell_type": "code",
   "source": "",
   "id": "6b9065f8fe54ee0b",
   "outputs": [],
   "execution_count": 1
  }
 ],
 "metadata": {
  "kernelspec": {
   "display_name": "Python 3",
   "language": "python",
   "name": "python3"
  },
  "language_info": {
   "codemirror_mode": {
    "name": "ipython",
    "version": 2
   },
   "file_extension": ".py",
   "mimetype": "text/x-python",
   "name": "python",
   "nbconvert_exporter": "python",
   "pygments_lexer": "ipython2",
   "version": "2.7.6"
  }
 },
 "nbformat": 4,
 "nbformat_minor": 5
}
